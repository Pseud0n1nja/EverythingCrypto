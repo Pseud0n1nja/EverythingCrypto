{
 "cells": [
  {
   "cell_type": "code",
   "execution_count": 13,
   "metadata": {},
   "outputs": [],
   "source": [
    "import numpy as np"
   ]
  },
  {
   "cell_type": "code",
   "execution_count": 203,
   "metadata": {},
   "outputs": [],
   "source": [
    "def isqrt(n):\n",
    "    x = n\n",
    "    y = (x + 1) // 2\n",
    "    while y < x:\n",
    "        x = y\n",
    "        y = (x + n // x) // 2\n",
    "    return x"
   ]
  },
  {
   "cell_type": "markdown",
   "metadata": {},
   "source": [
    "# Prerequisites"
   ]
  },
  {
   "cell_type": "markdown",
   "metadata": {},
   "source": [
    "- Probability theory (for the main idea)\n",
    "- Hashes (an application)"
   ]
  },
  {
   "cell_type": "markdown",
   "metadata": {},
   "source": [
    "# Theory"
   ]
  },
  {
   "cell_type": "markdown",
   "metadata": {},
   "source": [
    "## Birthday paradox"
   ]
  },
  {
   "cell_type": "markdown",
   "metadata": {},
   "source": [
    "- https://www.youtube.com/watch?v=ofTb57aZHZs"
   ]
  },
  {
   "cell_type": "markdown",
   "metadata": {},
   "source": [
    "### Birthday version"
   ]
  },
  {
   "cell_type": "markdown",
   "metadata": {},
   "source": [
    "**Question 1**\n",
    "- What is the probability that 1 person has the same birthday as you?\n",
    "\n",
    "*Solution*\n",
    "- Let $A$ be the event that someone has the same birthday as you and $\\bar{A}$ be the complementary event \n",
    "    - Mutually exclusive => $Pr(A) = 1 - Pr(\\bar{A})$ \n",
    "    \n",
    "- Let $E_i$ be the events that person $i$ does not have your birthday\n",
    "\n",
    "Then \n",
    "- $Pr(A) = 1 - Pr(\\bar{A}) = 1 - \\prod_{i=1}^n Pr(E_i) = 1 - \\left( \\dfrac {364} {365}\\right)^n$"
   ]
  },
  {
   "cell_type": "markdown",
   "metadata": {},
   "source": [
    "**Question 2**\n",
    "- What is the probability that 2 out of $n$ people in a room share the same birthday?\n",
    "- **Suppose the birthdays are distributed independently and uniformly**\n",
    "\n",
    "*Solution*\n",
    "- Let $A$ be the event that 2 people have the same birthday, let $\\bar{A}$ be the complementary event (no 2 people have the same birthday)\n",
    "    \n",
    "    \n",
    "- Event 1 = Person 1 is born => $Pr(E_1) = \\dfrac {365} {365}$\n",
    "- Event 2 = Person 2 is born on a different day than Person 1 => $Pr(E_2) = \\dfrac {364} {365}$  \n",
    "$\\vdots$\n",
    "- Event n = Person n is born on a different day than Person $1,...,n-1$ => $Pr(E_n) = \\dfrac {365-(n-1)} {365}$  \n",
    "\n",
    "$Pr(\\bar{A}) = Pr(E_1) \\cdot Pr(E_2) \\cdot \\dots \\cdot Pr(E_n) = \\dfrac {365} {365} \\cdot \\dfrac {364} {365} \\cdot \\dots \\cdot \\dfrac {365-(n-1)} {365} = \\left( \\dfrac {1} {365} \\right) ^{n} \\cdot \\dfrac {365!} {(365-n)!} = \\prod_{i=1}^{n-1} \\left(1 - \\dfrac i {365}\\right)$ \n",
    "\n",
    "\n",
    "    "
   ]
  },
  {
   "cell_type": "markdown",
   "metadata": {},
   "source": [
    "### General case"
   ]
  },
  {
   "cell_type": "markdown",
   "metadata": {},
   "source": [
    "**Question 1**\n",
    "- Instead of $365$ days we have $d$ => $\\boxed{1 - \\left( \\dfrac {d-1} {d}\\right)^n}$\n",
    "\n",
    "**Question 2**\n",
    "- Instead of $365$ days we have $d$ => $\\boxed{1 - \\prod_{i=1}^{n-1} \\left(1 - \\dfrac i {d}\\right)}$"
   ]
  },
  {
   "cell_type": "markdown",
   "metadata": {},
   "source": [
    "#### Code"
   ]
  },
  {
   "cell_type": "code",
   "execution_count": 3,
   "metadata": {},
   "outputs": [],
   "source": [
    "def my_birthday(n, d):\n",
    "    return 1 - pow((d-1)/d , n)\n",
    "\n",
    "\n",
    "def same_birthday(n, d):\n",
    "    p = 1\n",
    "    for i in range(1, n): #1 -> n-1\n",
    "        p*=(1-i/d)\n",
    "    return 1 - p"
   ]
  },
  {
   "cell_type": "code",
   "execution_count": 11,
   "metadata": {},
   "outputs": [
    {
     "data": {
      "text/plain": [
       "(0.5072972343239854, 0.7533475278503207, 0.9999996927510721)"
      ]
     },
     "execution_count": 11,
     "metadata": {},
     "output_type": "execute_result"
    }
   ],
   "source": [
    "same_birthday(23, 365), same_birthday(32, 365), same_birthday(100, 365)"
   ]
  },
  {
   "cell_type": "code",
   "execution_count": 26,
   "metadata": {},
   "outputs": [
    {
     "data": {
      "text/plain": [
       "(0.06115058190745448, 0.08404821326682732, 0.23993292618409912)"
      ]
     },
     "execution_count": 26,
     "metadata": {},
     "output_type": "execute_result"
    }
   ],
   "source": [
    "my_birthday(23, 365), my_birthday(32, 365), my_birthday(100, 365)"
   ]
  },
  {
   "cell_type": "markdown",
   "metadata": {},
   "source": [
    "### Approximations"
   ]
  },
  {
   "cell_type": "markdown",
   "metadata": {},
   "source": [
    "From the taylor approximation we know $e^x = 1 + x + \\dfrac {x^2} {2!} + \\dots => e_x\\approx 1 + x$ for $x << 1$\n",
    "\n",
    "Apply for each event => $x = -a/d => e^{\\frac {-a} d} \\approx 1- \\dfrac a d => Pr(A) = 1 - \\prod_{i=1}^{n-1}e^{-i/d} = 1-e^{-\\frac {n(n-1)} {2d}} \\approx 1-\\boxed{e^{-\\frac {n^2} {2d}}}$\n",
    "\n",
    "If we want to solve for $n$ knowing $Pr(A)$ we take the log => $\\boxed{n \\approx \\sqrt{2d \\ln \\left(\\dfrac 1 {1-Pr(A)}\\right)}}$\n"
   ]
  },
  {
   "cell_type": "markdown",
   "metadata": {},
   "source": [
    "#### Code"
   ]
  },
  {
   "cell_type": "code",
   "execution_count": 35,
   "metadata": {},
   "outputs": [],
   "source": [
    "def approx_same_birthday(n, d):\n",
    "    return 1 - pow(np.e, -pow(n, 2) / (2*d))\n",
    "\n",
    "def n_given_prob(p, d):\n",
    "    return np.sqrt(2 * d * np.log(1 / (1-p)))"
   ]
  },
  {
   "cell_type": "code",
   "execution_count": 29,
   "metadata": {},
   "outputs": [
    {
     "data": {
      "text/plain": [
       "(0.5155095380615168, 0.7540777195328239, 0.9999988760149834)"
      ]
     },
     "execution_count": 29,
     "metadata": {},
     "output_type": "execute_result"
    }
   ],
   "source": [
    "approx_same_birthday(23, 365), approx_same_birthday(32, 365), approx_same_birthday(100, 365)"
   ]
  },
  {
   "cell_type": "code",
   "execution_count": 43,
   "metadata": {},
   "outputs": [
    {
     "data": {
      "text/plain": [
       "(22.49438689559598, 31.811867025019456, 100.42570740250191)"
      ]
     },
     "execution_count": 43,
     "metadata": {},
     "output_type": "execute_result"
    }
   ],
   "source": [
    "n_given_prob(.5, 365), n_given_prob(.75, 365), n_given_prob(.999999, 365)"
   ]
  },
  {
   "cell_type": "markdown",
   "metadata": {},
   "source": [
    "### Balls version"
   ]
  },
  {
   "cell_type": "markdown",
   "metadata": {},
   "source": [
    "**Collision Theorem**:\n",
    "An urn contains $N$ balls, of which $n$ are red and $N-n$ are blue.  \n",
    "Bob samples with replacement until he has $m$ balls\n",
    "\n",
    "* The probability that Bob selects at least one red ball:  $Pr(\\text{at least one red})=1−\\left(1−\\cfrac n N\\right)^m$\n",
    "\n",
    "* A lower bound for the probability $Pr(\\text{at least one red})≥1−e^{−mn/N}$\n",
    "\n",
    "If $N$ is large and if $m$ and $n$ are not too much larger than $\\sqrt N$ (Ex: $m, n <10\\sqrt N$), the lower bound is almost an equality"
   ]
  },
  {
   "cell_type": "markdown",
   "metadata": {},
   "source": [
    "**Proof**\n",
    "\n",
    "For the first point\n",
    "- Let $A$ be the event that Bob selects 1 red ball in $m$ attempts and $\\bar{A}$ the complementary event - all $m$ choices are blue\n",
    "- Let $E_i$ be the event that the i'th ball is blue\n",
    "- $Pr(A) = 1-Pr(\\bar{A}) = 1-\\prod_{i=1}^m Pr(E_i) = 1-\\prod_{i=1}^m \\left(\\dfrac {N-n} N\\right) = 1-\\left(\\dfrac {N-n} N\\right)^m$\n",
    "\n",
    "For the second point\n",
    "- $e^{-x} \\geq 1-x \\ \\ \\forall x \\in \\mathbb{R}$\n",
    "- Set $x = n/N => 1-\\left(\\dfrac {N-n} N\\right)^m \\geq 1 - (e^{-n/N})^m = 1 - e^{-mn/N}$"
   ]
  },
  {
   "cell_type": "markdown",
   "metadata": {},
   "source": [
    "#### Code"
   ]
  },
  {
   "cell_type": "code",
   "execution_count": 44,
   "metadata": {},
   "outputs": [],
   "source": [
    "def pr_at_least_one_red(n, m, N):\n",
    "    return 1 - pow((1 - n/N), m)\n",
    "\n",
    "\n",
    "def approx_pr_at_least_one_red(n, m, N):\n",
    "    return 1 - pow(np.e, (-m*n/N))"
   ]
  },
  {
   "cell_type": "markdown",
   "metadata": {},
   "source": [
    "A deck of cards is shuffled and eight cards are dealt face up.Bob then takes a second deck of cards and chooses eight cards at random,replacing each chosen card before making the next choice. What is Bob’s probability of matching one of the cards from the first deck?"
   ]
  },
  {
   "cell_type": "code",
   "execution_count": 45,
   "metadata": {},
   "outputs": [
    {
     "name": "stdout",
     "output_type": "stream",
     "text": [
      "0.7372185753440565\n",
      "0.7079321763085858\n"
     ]
    }
   ],
   "source": [
    "N = 52\n",
    "n = 8\n",
    "m = 8\n",
    "print(pr_at_least_one_red(n,m,N))\n",
    "print(approx_pr_at_least_one_red(n, m, N))"
   ]
  },
  {
   "cell_type": "code",
   "execution_count": 46,
   "metadata": {},
   "outputs": [
    {
     "name": "stdout",
     "output_type": "stream",
     "text": [
      "0.6562602681709593\n",
      "0.6176957271079193\n"
     ]
    }
   ],
   "source": [
    "n = 10; m = 5\n",
    "print(pr_at_least_one_red(n,m,N))\n",
    "print(approx_pr_at_least_one_red(n, m, N))"
   ]
  },
  {
   "cell_type": "code",
   "execution_count": 47,
   "metadata": {},
   "outputs": [
    {
     "name": "stdout",
     "output_type": "stream",
     "text": [
      "0.9999568287525893\n",
      "0.9999546000702375\n"
     ]
    }
   ],
   "source": [
    "N = 100000\n",
    "n = 1000\n",
    "m = 1000\n",
    "print(pr_at_least_one_red(n,m,N))\n",
    "print(approx_pr_at_least_one_red(n, m, N))"
   ]
  },
  {
   "cell_type": "markdown",
   "metadata": {},
   "source": [
    "## Application to hashes"
   ]
  },
  {
   "cell_type": "markdown",
   "metadata": {},
   "source": [
    "### Collision "
   ]
  },
  {
   "cell_type": "markdown",
   "metadata": {},
   "source": [
    "- Let $H:\\mathcal{M} \\longrightarrow \\mathcal{T}$ be a hash function with $|\\mathcal{M}| >> |T|$\n",
    "- Let's denote $N = |\\mathcal{T}|$\n",
    "\n",
    "**Algorithm**\n",
    "1. Choose $s \\approx \\sqrt{N}$ random distinct messages in $\\mathcal{M}$\n",
    "2. Compute $t_i = H(m_i)$  for $1\\leq i \\leq \\sqrt{N}$\n",
    "3. Look for $(t_i = t_j)$ -> If not found go to step 1\n",
    "\n"
   ]
  },
  {
   "cell_type": "markdown",
   "metadata": {},
   "source": [
    "**How well would this work**\n",
    "\n",
    "We chose $\\sqrt N$ => The probability of finding a collision is $1/2$ => We would need to iterate this algorithm twice\n",
    "\n",
    "Running time\n",
    "- $\\mathcal{O}(\\sqrt N)$\n",
    "\n",
    "Space\n",
    "- $\\mathcal{O}(\\sqrt N)$\n"
   ]
  },
  {
   "cell_type": "markdown",
   "metadata": {},
   "source": [
    "#### Code\n",
    "- We code a hash collision for a $10b$ hash"
   ]
  },
  {
   "cell_type": "code",
   "execution_count": 79,
   "metadata": {},
   "outputs": [],
   "source": [
    "import hashlib\n",
    "from Crypto.Random.random import getrandbits\n",
    "import random\n",
    "from Crypto.Util.number import long_to_bytes, bytes_to_long"
   ]
  },
  {
   "cell_type": "code",
   "execution_count": 64,
   "metadata": {},
   "outputs": [
    {
     "data": {
      "text/plain": [
       "237"
      ]
     },
     "execution_count": 64,
     "metadata": {},
     "output_type": "execute_result"
    }
   ],
   "source": [
    "getrandbits(11)"
   ]
  },
  {
   "cell_type": "code",
   "execution_count": 94,
   "metadata": {},
   "outputs": [],
   "source": [
    "m = getrandbits(11)\n",
    "t = hashlib.sha256(long_to_bytes(m))"
   ]
  },
  {
   "cell_type": "code",
   "execution_count": 96,
   "metadata": {},
   "outputs": [
    {
     "data": {
      "text/plain": [
       "'3b41866c51e110255bbafb481606997d10ece8adee1d82f231d9300313400e2f'"
      ]
     },
     "execution_count": 96,
     "metadata": {},
     "output_type": "execute_result"
    }
   ],
   "source": [
    "t.hexdigest()"
   ]
  },
  {
   "cell_type": "code",
   "execution_count": 76,
   "metadata": {},
   "outputs": [
    {
     "data": {
      "text/plain": [
       "'11001010111'"
      ]
     },
     "execution_count": 76,
     "metadata": {},
     "output_type": "execute_result"
    }
   ],
   "source": [
    "bin(bytes_to_long(t.digest()))[2:2 + 11]"
   ]
  },
  {
   "cell_type": "code",
   "execution_count": 104,
   "metadata": {},
   "outputs": [
    {
     "data": {
      "text/plain": [
       "1896"
      ]
     },
     "execution_count": 104,
     "metadata": {},
     "output_type": "execute_result"
    }
   ],
   "source": [
    "int(bin(int(t.hexdigest(), 16))[2:2+11], 2)"
   ]
  },
  {
   "cell_type": "code",
   "execution_count": 218,
   "metadata": {},
   "outputs": [],
   "source": [
    "def small_hash(m, hash_bits):\n",
    "    t = hashlib.sha256(long_to_bytes(m)).hexdigest() #the hash in bytes\n",
    "    t = bin(int(t,16))[2:2+hash_bits]\n",
    "    t = int(t, 2)\n",
    "    return t\n",
    "\n",
    "def small_hash_colision(M_dim, hash_bits):\n",
    "    \n",
    "    N = 1<<hash_bits\n",
    "    print('Hash size: ', N)\n",
    "    num_samples = 1 * isqrt(N)\n",
    "    num_samples += num_samples//5 + 1 #num_samples = 1.2 * isqrt(N) + 1\n",
    "    print(f'Making a list of {num_samples} hashes')\n",
    "    print(f'Probability of finding a collision is {same_birthday(num_samples, N)}')\n",
    "    m_list = []\n",
    "    t_list = []\n",
    "    for i in range(num_samples):\n",
    "        m = random.randint(0, M_dim-1)\n",
    "        t = small_hash(m, hash_bits)\n",
    "        if m not in m_list:\n",
    "            t_list.append(t)\n",
    "            m_list.append(m)\n",
    "    \n",
    "    for i in range(len(t_list)):\n",
    "        for j in range(i+1, len(t_list)):\n",
    "            if t_list[i] == t_list[j]:\n",
    "                print('Collision found!')\n",
    "                return m_list[i], m_list[j], t_list[i]\n",
    "    else:\n",
    "        print('Collision not found :(')\n",
    "        return -1, -1, -1"
   ]
  },
  {
   "cell_type": "code",
   "execution_count": 228,
   "metadata": {},
   "outputs": [
    {
     "name": "stdout",
     "output_type": "stream",
     "text": [
      "Hash size:  1048576\n",
      "Making a list of 1229 hashes\n",
      "Probability of finding a collision is 0.5132134608547976\n",
      "Collision found!\n",
      "7617474679 5623537578 597823\n",
      "True\n"
     ]
    }
   ],
   "source": [
    "bit_range = 20\n",
    "M_dim = 10000 * pow(2, bit_range)\n",
    "m1, m2, t = small_hash_colision(M_dim, bit_range)\n",
    "print(m1, m2, t)\n",
    "print(small_hash(m1, bit_range) == small_hash(m2, bit_range))"
   ]
  },
  {
   "cell_type": "markdown",
   "metadata": {},
   "source": [
    "# Resources"
   ]
  },
  {
   "cell_type": "markdown",
   "metadata": {},
   "source": [
    "- https://en.wikipedia.org/wiki/Birthday_problem\n",
    "- https://en.wikipedia.org/wiki/Birthday_attack"
   ]
  },
  {
   "cell_type": "code",
   "execution_count": null,
   "metadata": {},
   "outputs": [],
   "source": []
  }
 ],
 "metadata": {
  "kernelspec": {
   "display_name": "Python 3",
   "language": "python",
   "name": "python3"
  },
  "language_info": {
   "codemirror_mode": {
    "name": "ipython",
    "version": 3
   },
   "file_extension": ".py",
   "mimetype": "text/x-python",
   "name": "python",
   "nbconvert_exporter": "python",
   "pygments_lexer": "ipython3",
   "version": "3.7.7"
  }
 },
 "nbformat": 4,
 "nbformat_minor": 4
}
