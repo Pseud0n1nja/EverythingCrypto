{
 "cells": [
  {
   "cell_type": "code",
   "execution_count": 34,
   "metadata": {
    "ExecuteTime": {
     "end_time": "2020-09-11T07:35:15.504637Z",
     "start_time": "2020-09-11T07:35:15.499633Z"
    }
   },
   "outputs": [],
   "source": [
    "from Crypto.Util.number import sieve_base, inverse, GCD\n",
    "import random\n",
    "from Crypto.Cipher import AES\n",
    "from Crypto.Util.Padding import pad, unpad\n",
    "import hashlib\n",
    "## Helper functions\n",
    "\n",
    "def generate_private_key(p):\n",
    "    secret_key = random.randint(1, p-1)\n",
    "    return secret_key\n",
    "    \n",
    "def generate_public_key(g, secret_key, p):\n",
    "    return pow(g, secret_key, p)"
   ]
  },
  {
   "cell_type": "markdown",
   "metadata": {},
   "source": [
    "# Prerequisites"
   ]
  },
  {
   "cell_type": "markdown",
   "metadata": {
    "ExecuteTime": {
     "end_time": "2020-09-11T06:36:10.111665Z",
     "start_time": "2020-09-11T06:36:10.107648Z"
    }
   },
   "source": [
    "- DLP and its vulnerabilities\n",
    "- DH basics\n",
    "- Group theory"
   ]
  },
  {
   "cell_type": "markdown",
   "metadata": {},
   "source": [
    "# Theory + Attacks"
   ]
  },
  {
   "cell_type": "markdown",
   "metadata": {},
   "source": [
    "- https://en.wikipedia.org/wiki/Man-in-the-middle_attack\n",
    "- https://stackoverflow.com/questions/10471009/how-does-the-man-in-the-middle-attack-work-in-diffie-hellman\n",
    "- Computerphile https://www.youtube.com/watch?v=vsXMMT2CqqE&t=276s&ab_channel=Computerphile\n",
    "\n",
    "Basic Diffie Hellman key exchange can be broken if Eve is in the middle of the conversation and mingles with parameters \n",
    "We will present some ways this can happen"
   ]
  },
  {
   "cell_type": "markdown",
   "metadata": {},
   "source": [
    "# Attacks"
   ]
  },
  {
   "cell_type": "code",
   "execution_count": 12,
   "metadata": {
    "ExecuteTime": {
     "end_time": "2020-09-11T06:47:53.652705Z",
     "start_time": "2020-09-11T06:47:53.648692Z"
    }
   },
   "outputs": [
    {
     "data": {
      "text/plain": [
       "1536"
      ]
     },
     "execution_count": 12,
     "metadata": {},
     "output_type": "execute_result"
    }
   ],
   "source": [
    "g = 2\n",
    "#Good small-sized p\n",
    "p = 0xffffffffffffffffc90fdaa22168c234c4c6628b80dc1cd129024e088a67cc74020bbea63b139b22514a08798e3404ddef9519b3cd3a431b302b0a6df25f14374fe1356d6d51c245e485b576625e7ec6f44c42e9a637ed6b0bff5cb6f406b7edee386bfb5a899fa5ae9f24117c4b1fe649286651ece45b3dc2007cb8a163bf0598da48361c55d39a69163fa8fd24cf5f83655d23dca3ad961c62f356208552bb9ed529077096966d670c354e4abc9804f1746c08ca237327ffffffffffffffff\n",
    "p.bit_length()"
   ]
  },
  {
   "cell_type": "markdown",
   "metadata": {},
   "source": [
    "## If you can intercepted Alice and can send parameters to Bob"
   ]
  },
  {
   "cell_type": "markdown",
   "metadata": {},
   "source": [
    "You know $A, p, g$  \n",
    "Send to Bob:\n",
    "- p = p\n",
    "- g = A\n",
    "- A = A\n",
    "\n",
    "Bob will compute \n",
    "- $B = A^b = g^{ab}$ as his public key that you will know\n",
    "- $A^b = g^{ab}$ as the secret key\n",
    "\n",
    "Therefore you'll know $B$ as the secret_key and send it back to Alice\n",
    "\n",
    "**Note** This method works to decrypt past messages too if Bob uses a *static* key (doesn't change it)"
   ]
  },
  {
   "cell_type": "code",
   "execution_count": 32,
   "metadata": {
    "ExecuteTime": {
     "end_time": "2020-09-11T07:02:29.014935Z",
     "start_time": "2020-09-11T07:02:28.967903Z"
    }
   },
   "outputs": [],
   "source": [
    "a = generate_private_key(p) # you don't know this\n",
    "A = generate_public_key(g, a, p) # you know this\n",
    "\n",
    "#Send p = p, g = A, A = A\n",
    "b = generate_private_key(p) # you don't know this\n",
    "B = generate_public_key(A, b, p) # you know this\n",
    "\n",
    "#secret\n",
    "shared_secret = pow(A, b, p)"
   ]
  },
  {
   "cell_type": "code",
   "execution_count": 33,
   "metadata": {
    "ExecuteTime": {
     "end_time": "2020-09-11T07:02:29.530544Z",
     "start_time": "2020-09-11T07:02:29.527533Z"
    }
   },
   "outputs": [
    {
     "data": {
      "text/plain": [
       "True"
      ]
     },
     "execution_count": 33,
     "metadata": {},
     "output_type": "execute_result"
    }
   ],
   "source": [
    "shared_secret == B"
   ]
  },
  {
   "cell_type": "markdown",
   "metadata": {},
   "source": [
    "## You can only change the prime $p$"
   ]
  },
  {
   "cell_type": "markdown",
   "metadata": {},
   "source": [
    "- Suppose Alice and Bob exchanged parameters once already $(p, g)$. You can send $(p', g')$\n",
    "\n",
    "If Bob verifies $g = g'$ and you are allowed only to change the prime $p$ then you can setup a group weak to Pohlig-Hellman DLP\n",
    "- if $p$ is strong => $p = 2q+1$ with $q$ prime => $p-1$ is divisible only by $2$ and some big prime\n",
    "- make your $p' = 2 \\cdot \\Pi_{k=1}^{n} P_i^{e_i} + 1$ for some $n$ you chose and some small primes $P_i$ of your choice. This group is vulnerable to Pohlig-Hellman since $p'-1$ is smooth. The order of 2 must be the same order as in $p-1$ to ensure the solutions are the same\n",
    "- If Bob uses this group to compute $g^b = B \\ mod \\ p' $ Then you can efficiently solve the DLP and find his $b$\n",
    "\n",
    "**Note** This method works to decrypt past messages too if Bob uses a *static* key (doesn't change it)"
   ]
  },
  {
   "cell_type": "markdown",
   "metadata": {},
   "source": [
    "# Downgrading"
   ]
  },
  {
   "cell_type": "markdown",
   "metadata": {},
   "source": [
    "*Idea*: \n",
    "- Before exchanging messages Bob and Alice need to exchange the security protocol (bitsize / type of encryption)\n",
    "- Eve can mingle with these negotiations and downgrade the encryption\n",
    "\n",
    "Logjam attack: \n",
    "- https://www.youtube.com/watch?v=Qi8ynAB2dpM&ab_channel=DevanSingh\n",
    "- https://en.wikipedia.org/wiki/Logjam_(computer_security)\n",
    "- https://cryptologie.net/article/270/the-logjam-attack/\n",
    "        "
   ]
  },
  {
   "cell_type": "code",
   "execution_count": null,
   "metadata": {},
   "outputs": [],
   "source": []
  }
 ],
 "metadata": {
  "kernelspec": {
   "display_name": "Python 3",
   "language": "python",
   "name": "python3"
  },
  "language_info": {
   "codemirror_mode": {
    "name": "ipython",
    "version": 3
   },
   "file_extension": ".py",
   "mimetype": "text/x-python",
   "name": "python",
   "nbconvert_exporter": "python",
   "pygments_lexer": "ipython3",
   "version": "3.8.5"
  },
  "toc": {
   "base_numbering": 1,
   "nav_menu": {},
   "number_sections": true,
   "sideBar": true,
   "skip_h1_title": false,
   "title_cell": "Table of Contents",
   "title_sidebar": "Contents",
   "toc_cell": false,
   "toc_position": {},
   "toc_section_display": true,
   "toc_window_display": false
  }
 },
 "nbformat": 4,
 "nbformat_minor": 4
}
