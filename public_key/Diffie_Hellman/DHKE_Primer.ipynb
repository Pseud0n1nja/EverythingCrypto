{
 "cells": [
  {
   "cell_type": "code",
   "execution_count": 8,
   "metadata": {
    "ExecuteTime": {
     "end_time": "2020-09-09T06:42:56.150349Z",
     "start_time": "2020-09-09T06:42:56.148348Z"
    }
   },
   "outputs": [],
   "source": [
    "from Crypto.Util.number import getPrime, inverse, bytes_to_long, long_to_bytes, GCD\n",
    "import random"
   ]
  },
  {
   "cell_type": "markdown",
   "metadata": {},
   "source": [
    "# Prerequisites"
   ]
  },
  {
   "cell_type": "markdown",
   "metadata": {},
   "source": [
    "1. Modular exponentiation\n",
    "- https://crypto.stanford.edu/pbc/notes/numbertheory/exp.html\n",
    "- https://en.wikipedia.org/wiki/Modular_exponentiation\n",
    "- https://www.geeksforgeeks.org/modular-exponentiation-power-in-modular-arithmetic/\n",
    "2. Modular multiplicative inverse\n",
    "- https://en.wikipedia.org/wiki/Modular_multiplicative_inverse\n",
    "- What is a trapdoor?\n",
    "- https://en.wikipedia.org/wiki/Trapdoor_function\n",
    "3. **Discrete logarithm problem**\n",
    "        "
   ]
  },
  {
   "cell_type": "markdown",
   "metadata": {},
   "source": [
    "# Theory"
   ]
  },
  {
   "cell_type": "markdown",
   "metadata": {},
   "source": [
    "- he diffictulty of Diffie-Hellman Key exchange is based on the difficulty of the **Discrete logarithm problem** => Check the mathematics/discrete_logarithm_problem to see its weaknesses\n",
    "- Choosing the right group is important because poorly chosen groups can be leveraged to solve the DLP\n",
    "- DH is vulnerable to man-in-the-middle attacks unless provided authentification\n",
    "- Using the same parameters (Ex: secret keys)  multiple times might lead to some vulnerabilities\n"
   ]
  },
  {
   "cell_type": "markdown",
   "metadata": {},
   "source": [
    "## Algorithm"
   ]
  },
  {
   "cell_type": "markdown",
   "metadata": {},
   "source": [
    "* Parameter creation:  \n",
    "Choose large prime $p$\n",
    "Choose $g$ with large prime order\n",
    "\n",
    "* Private computations:  \n",
    "$\\underbrace{A \\equiv g^{a}(\\bmod p)}_{\\text {Alice computes this }} \\quad \\text { and } \\quad \\underbrace{B \\equiv g^{b}(\\bmod p)}_{\\text {Bob computes this }}$\n",
    "\n",
    "* Exchange:\n",
    "Exchange A and B\n",
    "\n",
    "* Shared secret:\n",
    "Compute the number $B^{a}(\\bmod$\n",
    "$p) . \\quad$ Compute the number $A^{b}(\\bmod p)$  \n",
    "\n",
    "*Proof*  \n",
    "The shared secret value is $B^{a} \\equiv\\left(g^{b}\\right)^{a} \\equiv g^{a b} \\equiv\\left(g^{a}\\right)^{b} \\equiv A^{b}(\\bmod p)$\n"
   ]
  },
  {
   "cell_type": "markdown",
   "metadata": {},
   "source": [
    "# Code"
   ]
  },
  {
   "cell_type": "code",
   "execution_count": 11,
   "metadata": {
    "ExecuteTime": {
     "end_time": "2020-09-09T06:44:44.596949Z",
     "start_time": "2020-09-09T06:44:44.428820Z"
    }
   },
   "outputs": [
    {
     "name": "stdout",
     "output_type": "stream",
     "text": [
      "6983829715836505258653159102845425517180005183345631953545092735477838850088153260364181690372091058664973334321308519477924987198026471437169954163575973 2\n"
     ]
    }
   ],
   "source": [
    "p = getPrime(512)\n",
    "\n",
    "while True:\n",
    "    g = random.randint(p//4, p//2)\n",
    "    if(GCD(p, g)==1):\n",
    "        break\n",
    "#or\n",
    "g = 2\n",
    "print(p, g)"
   ]
  },
  {
   "cell_type": "code",
   "execution_count": 12,
   "metadata": {
    "ExecuteTime": {
     "end_time": "2020-09-09T06:44:45.744873Z",
     "start_time": "2020-09-09T06:44:45.739885Z"
    }
   },
   "outputs": [
    {
     "data": {
      "text/plain": [
       "(6983829715836505258653159102845425517180005183345631953545092735477838850088153260364181690372091058664973334321308519477924987198026471437169954163575973,\n",
       " 2)"
      ]
     },
     "execution_count": 12,
     "metadata": {},
     "output_type": "execute_result"
    }
   ],
   "source": [
    "p, g"
   ]
  },
  {
   "cell_type": "code",
   "execution_count": 16,
   "metadata": {
    "ExecuteTime": {
     "end_time": "2020-09-09T06:45:43.768790Z",
     "start_time": "2020-09-09T06:45:43.764786Z"
    }
   },
   "outputs": [
    {
     "name": "stdout",
     "output_type": "stream",
     "text": [
      "2415181613099282926046937753738486888035826909601477335062323592625469084101250914741841203908590354843268963525530551838880874031718626701832390408389520 1677863428253636031889079332482631314411680163221843120546762067863019986882126008879395742191158388450183688957792913377479416238959865392424917366050619\n"
     ]
    }
   ],
   "source": [
    "#Private computations\n",
    "a = bytes_to_long(b'very_secret_key')\n",
    "b = bytes_to_long(b'another_mega_secrey_key')\n",
    "A = pow(g, a, p)\n",
    "B = pow(g, b, p)\n",
    "print(A, B)"
   ]
  },
  {
   "cell_type": "code",
   "execution_count": 17,
   "metadata": {
    "ExecuteTime": {
     "end_time": "2020-09-09T06:45:48.840061Z",
     "start_time": "2020-09-09T06:45:48.836058Z"
    }
   },
   "outputs": [
    {
     "name": "stdout",
     "output_type": "stream",
     "text": [
      "True\n"
     ]
    }
   ],
   "source": [
    "#Secret key\n",
    "A_1 = pow(B, a, p)\n",
    "B_1 = pow(A, b, p)\n",
    "\n",
    "print(A_1 == B_1)"
   ]
  },
  {
   "cell_type": "markdown",
   "metadata": {},
   "source": [
    "# Resources\n",
    "* Computerphile video: https://www.youtube.com/watch?v=NmM9HA2MQGI&ab_channel=Computerphile\n",
    "* https://www.youtube.com/watch?v=Yjrfm_oRO0w&t=182s&ab_channel=Computerphile"
   ]
  },
  {
   "cell_type": "code",
   "execution_count": null,
   "metadata": {},
   "outputs": [],
   "source": []
  }
 ],
 "metadata": {
  "kernelspec": {
   "display_name": "Python 3",
   "language": "python",
   "name": "python3"
  },
  "language_info": {
   "codemirror_mode": {
    "name": "ipython",
    "version": 3
   },
   "file_extension": ".py",
   "mimetype": "text/x-python",
   "name": "python",
   "nbconvert_exporter": "python",
   "pygments_lexer": "ipython3",
   "version": "3.8.5"
  },
  "toc": {
   "base_numbering": 1,
   "nav_menu": {},
   "number_sections": true,
   "sideBar": true,
   "skip_h1_title": false,
   "title_cell": "Table of Contents",
   "title_sidebar": "Contents",
   "toc_cell": false,
   "toc_position": {},
   "toc_section_display": true,
   "toc_window_display": false
  }
 },
 "nbformat": 4,
 "nbformat_minor": 4
}
