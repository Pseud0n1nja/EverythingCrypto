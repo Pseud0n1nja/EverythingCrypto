{
 "cells": [
  {
   "cell_type": "markdown",
   "metadata": {},
   "source": [
    "# Prerequisites"
   ]
  },
  {
   "cell_type": "markdown",
   "metadata": {},
   "source": [
    "- RSA\n",
    "- Coppersmith attacks\n",
    "- Boneh-Durfee attacks"
   ]
  },
  {
   "cell_type": "markdown",
   "metadata": {},
   "source": [
    "# Theory"
   ]
  },
  {
   "cell_type": "markdown",
   "metadata": {},
   "source": [
    "- We'll follow this paper: http://www.cits.rub.de/imperia/md/content/may/paper/jochemszmay.pdf"
   ]
  },
  {
   "cell_type": "markdown",
   "metadata": {},
   "source": [
    "In the case of RSA:\n",
    " $$ed - 1 = k \\cdot (N-(p+q - 1)) \\text{ for some unknown } k$$ \n",
    "- We aim to find $(d, k, p+q-1)$ of the polynomial $f(x, y, z) = ex - yN + yz - 1$\n",
    "- or find $(k, p+q-1)$ of $f_e(y,z) = y(N-z) + 1 \\ mod \\ e$\n",
    "\n",
    "Coppersmith tehnique depends on the size of the root => We have bounds on roots (Ex: Boneh-Durfee for finding $d<N^{0.292}$)"
   ]
  },
  {
   "cell_type": "markdown",
   "metadata": {},
   "source": [
    "## Strategy"
   ]
  },
  {
   "cell_type": "markdown",
   "metadata": {},
   "source": [
    "**Task**:\n",
    "- Find small root $(r_1, ..., r_n)$ of a polynomial $f_N$ modulo a composite $N$ of *unknown* factorization\n",
    "**Setup**:\n",
    "- $|r_j| < R_j$ for some given R_j for j = 1, ..., n\n"
   ]
  },
  {
   "cell_type": "code",
   "execution_count": null,
   "metadata": {},
   "outputs": [],
   "source": []
  },
  {
   "cell_type": "markdown",
   "metadata": {},
   "source": [
    "# Code"
   ]
  },
  {
   "cell_type": "code",
   "execution_count": null,
   "metadata": {},
   "outputs": [],
   "source": [
    "def jochemsz-may(f, X, Y, Z, W, tau, m)"
   ]
  },
  {
   "cell_type": "markdown",
   "metadata": {},
   "source": [
    "# Resources\n",
    "- http://www.cits.rub.de/imperia/md/content/may/paper/jochemszmay.pdf"
   ]
  },
  {
   "cell_type": "code",
   "execution_count": null,
   "metadata": {},
   "outputs": [],
   "source": []
  }
 ],
 "metadata": {
  "kernelspec": {
   "display_name": "Python 3",
   "language": "python",
   "name": "python3"
  },
  "language_info": {
   "codemirror_mode": {
    "name": "ipython",
    "version": 3
   },
   "file_extension": ".py",
   "mimetype": "text/x-python",
   "name": "python",
   "nbconvert_exporter": "python",
   "pygments_lexer": "ipython3",
   "version": "3.7.3"
  }
 },
 "nbformat": 4,
 "nbformat_minor": 2
}
