{
 "cells": [
  {
   "cell_type": "code",
   "execution_count": 1,
   "metadata": {
    "ExecuteTime": {
     "end_time": "2020-08-29T06:58:37.358819Z",
     "start_time": "2020-08-29T06:58:35.069112Z"
    }
   },
   "outputs": [],
   "source": [
    "import numpy as np\n",
    "import math\n",
    "from Crypto.Util.number import getPrime, inverse, bytes_to_long, long_to_bytes, GCD\n",
    "import random"
   ]
  },
  {
   "cell_type": "code",
   "execution_count": 2,
   "metadata": {
    "ExecuteTime": {
     "end_time": "2020-08-29T06:58:37.364821Z",
     "start_time": "2020-08-29T06:58:37.360818Z"
    }
   },
   "outputs": [],
   "source": [
    "def isqrt(n):\n",
    "    x = n\n",
    "    y = (x + 1) // 2\n",
    "    while y < x:\n",
    "        x = y\n",
    "        y = (x + n // x) // 2\n",
    "    return x"
   ]
  },
  {
   "cell_type": "code",
   "execution_count": 3,
   "metadata": {
    "ExecuteTime": {
     "end_time": "2020-08-29T06:58:37.382834Z",
     "start_time": "2020-08-29T06:58:37.366822Z"
    }
   },
   "outputs": [],
   "source": [
    "def encrypt_rsa(m, e, N):\n",
    "    assert m < N\n",
    "    c = pow(m, e, N)\n",
    "    return c"
   ]
  },
  {
   "cell_type": "markdown",
   "metadata": {},
   "source": [
    "# Prerequisites"
   ]
  },
  {
   "cell_type": "markdown",
   "metadata": {
    "ExecuteTime": {
     "end_time": "2020-08-29T07:00:05.862204Z",
     "start_time": "2020-08-29T07:00:05.858200Z"
    }
   },
   "source": [
    "1. RSA + its prerequisites"
   ]
  },
  {
   "cell_type": "markdown",
   "metadata": {},
   "source": [
    "# Theory"
   ]
  },
  {
   "cell_type": "markdown",
   "metadata": {},
   "source": [
    "Let:  \n",
    "$p, q$ = secret primes  \n",
    "$N = pq $ = modulus  \n",
    "$\\varphi(N) = (p-1)(q-1)$  "
   ]
  },
  {
   "cell_type": "markdown",
   "metadata": {},
   "source": [
    "**Task** For another known encryption exponent $x$, find $m$ using a known $(e,d)$ pair:  \n",
    "$c = m^x \\ mod \\ N$ => **Find $m$**"
   ]
  },
  {
   "cell_type": "markdown",
   "metadata": {},
   "source": [
    "What do you know?\n",
    "* $(e,d)$ = known pair \n",
    "* $c$ = the ciphertext\n",
    "* $N$ = the modulus\n",
    "* $x$ = the other encryption exponent"
   ]
  },
  {
   "cell_type": "markdown",
   "metadata": {},
   "source": [
    "## Solution 1: Mathematical weakness"
   ]
  },
  {
   "cell_type": "markdown",
   "metadata": {},
   "source": [
    "Observe: $ed \\equiv 1 \\ mod \\varphi(N) => ed - 1 = k\\cdot \\varphi(N)$  \n",
    "\n",
    "Let $y = x^{-1} \\ mod \\ k\\varphi(N)$ => $xy \\equiv 1 \\ mod \\ \\varphi(N) => c^y \\equiv m^{xy} \\equiv m^1 \\equiv m \\ mod \\ N$"
   ]
  },
  {
   "cell_type": "markdown",
   "metadata": {},
   "source": [
    "## Solution 2: Factorize N from (e,d)"
   ]
  },
  {
   "cell_type": "markdown",
   "metadata": {},
   "source": [
    "Algorithm + Explanation: https://crypto.stackexchange.com/questions/62482/algorithm-to-factorize-n-given-n-e-d/62487#62487"
   ]
  },
  {
   "cell_type": "markdown",
   "metadata": {},
   "source": [
    "# Code"
   ]
  },
  {
   "cell_type": "code",
   "execution_count": 5,
   "metadata": {
    "ExecuteTime": {
     "end_time": "2020-08-29T07:16:27.347189Z",
     "start_time": "2020-08-29T07:16:27.344187Z"
    }
   },
   "outputs": [],
   "source": [
    "def sol1(c, e, d, x, N):\n",
    "    kphi = e*d -1\n",
    "    y = inverse(x, kphi)\n",
    "    m = pow(c, y, N)\n",
    "    return m"
   ]
  },
  {
   "cell_type": "code",
   "execution_count": 16,
   "metadata": {
    "ExecuteTime": {
     "end_time": "2020-08-29T07:20:09.731131Z",
     "start_time": "2020-08-29T07:20:09.724132Z"
    }
   },
   "outputs": [],
   "source": [
    "def factor_N(N, e, d):\n",
    "    #for any a => a^{ed-1} mod N = 1; Let f = ed - 1\n",
    "    f = e*d-1\n",
    "    t = f \n",
    "    #write f = 2^s * t with t odd\n",
    "    s = 0\n",
    "    while not (t & 1):\n",
    "        t = t>>1\n",
    "        s+=1\n",
    "    assert t & 1 == True\n",
    "    assert f%N == pow(2, s, N)*t % N\n",
    "    \n",
    "    i = s\n",
    "    from Crypto.Util.number import sieve_base\n",
    "    for a in sieve_base:\n",
    "        #exclude the trivial case\n",
    "        if GCD(a, N)!= 1:\n",
    "            gc = GCD(a, N)\n",
    "            p = N/gc\n",
    "            q = N/p\n",
    "            return p, q\n",
    "        \n",
    "        b = pow(a, t, N) \n",
    "        #make sure b !=1 \n",
    "        if b == 1:\n",
    "            continue\n",
    "        while i!=1:\n",
    "            c = pow(b, 2, N)\n",
    "            if c !=1:\n",
    "                b = c\n",
    "                i-=1\n",
    "            else: \n",
    "                break\n",
    "        if b==N-1:\n",
    "            continue\n",
    "        p = GCD(b-1,N)\n",
    "        q = N//p\n",
    "        #test p and q\n",
    "        if p * q == N:\n",
    "            break\n",
    "            \n",
    "    return p, q\n",
    "    "
   ]
  },
  {
   "cell_type": "code",
   "execution_count": 7,
   "metadata": {
    "ExecuteTime": {
     "end_time": "2020-08-29T07:17:43.307609Z",
     "start_time": "2020-08-29T07:17:42.676160Z"
    }
   },
   "outputs": [],
   "source": [
    "p = getPrime(1024)\n",
    "q = getPrime(1024)\n",
    "N = p*q\n",
    "phi = (p-1)*(q-1)\n",
    "e = 65537\n",
    "d = inverse(e, phi)"
   ]
  },
  {
   "cell_type": "code",
   "execution_count": 8,
   "metadata": {
    "ExecuteTime": {
     "end_time": "2020-08-29T07:18:28.450188Z",
     "start_time": "2020-08-29T07:18:28.438165Z"
    }
   },
   "outputs": [],
   "source": [
    "x = getPrime(200)"
   ]
  },
  {
   "cell_type": "code",
   "execution_count": 12,
   "metadata": {
    "ExecuteTime": {
     "end_time": "2020-08-29T07:19:07.498136Z",
     "start_time": "2020-08-29T07:19:07.493125Z"
    }
   },
   "outputs": [],
   "source": [
    "m = bytes_to_long(b'secret')\n",
    "c = encrypt_rsa(m, x, N)"
   ]
  },
  {
   "cell_type": "code",
   "execution_count": 14,
   "metadata": {
    "ExecuteTime": {
     "end_time": "2020-08-29T07:19:25.914144Z",
     "start_time": "2020-08-29T07:19:25.876117Z"
    }
   },
   "outputs": [
    {
     "data": {
      "text/plain": [
       "b'secret'"
      ]
     },
     "execution_count": 14,
     "metadata": {},
     "output_type": "execute_result"
    }
   ],
   "source": [
    "m_decr = sol1(c, e, d, x, N)\n",
    "long_to_bytes(m_decr)"
   ]
  },
  {
   "cell_type": "code",
   "execution_count": 17,
   "metadata": {
    "ExecuteTime": {
     "end_time": "2020-08-29T07:20:11.076150Z",
     "start_time": "2020-08-29T07:20:11.045143Z"
    }
   },
   "outputs": [],
   "source": [
    "pf, qf = factor_N(N, e, d)"
   ]
  },
  {
   "cell_type": "code",
   "execution_count": 22,
   "metadata": {
    "ExecuteTime": {
     "end_time": "2020-08-29T07:21:27.888104Z",
     "start_time": "2020-08-29T07:21:27.846075Z"
    }
   },
   "outputs": [
    {
     "name": "stdout",
     "output_type": "stream",
     "text": [
      "True\n",
      "b'secret'\n"
     ]
    }
   ],
   "source": [
    "print((pf, qf) == (p, q))\n",
    "d_decr = inverse(x, (pf-1)*(qf-1))\n",
    "m_decr = pow(c, d_decr, N)\n",
    "print(long_to_bytes(m_decr))\n"
   ]
  },
  {
   "cell_type": "code",
   "execution_count": null,
   "metadata": {},
   "outputs": [],
   "source": []
  }
 ],
 "metadata": {
  "kernelspec": {
   "display_name": "Python 3",
   "language": "python",
   "name": "python3"
  },
  "language_info": {
   "codemirror_mode": {
    "name": "ipython",
    "version": 3
   },
   "file_extension": ".py",
   "mimetype": "text/x-python",
   "name": "python",
   "nbconvert_exporter": "python",
   "pygments_lexer": "ipython3",
   "version": "3.8.5"
  },
  "toc": {
   "base_numbering": 1,
   "nav_menu": {},
   "number_sections": true,
   "sideBar": true,
   "skip_h1_title": false,
   "title_cell": "Table of Contents",
   "title_sidebar": "Contents",
   "toc_cell": false,
   "toc_position": {},
   "toc_section_display": true,
   "toc_window_display": false
  }
 },
 "nbformat": 4,
 "nbformat_minor": 4
}
