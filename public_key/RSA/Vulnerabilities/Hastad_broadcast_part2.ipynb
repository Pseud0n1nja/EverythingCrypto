{
 "cells": [
  {
   "cell_type": "code",
   "execution_count": 4,
   "metadata": {},
   "outputs": [],
   "source": [
    "from Crypto.Util.number import long_to_bytes, bytes_to_long, getPrime\n",
    "import random"
   ]
  },
  {
   "cell_type": "markdown",
   "metadata": {},
   "source": [
    "# Prerequisites"
   ]
  },
  {
   "cell_type": "markdown",
   "metadata": {},
   "source": [
    "- Hastad broadcast attack\n",
    "- Coppersmith's method"
   ]
  },
  {
   "cell_type": "markdown",
   "metadata": {},
   "source": [
    "# Theory"
   ]
  },
  {
   "cell_type": "markdown",
   "metadata": {},
   "source": [
    "- https://crypto.stanford.edu/~dabo/papers/RSA-survey.pdf#page=4"
   ]
  },
  {
   "cell_type": "markdown",
   "metadata": {},
   "source": [
    "# Code"
   ]
  },
  {
   "cell_type": "code",
   "execution_count": 6,
   "metadata": {},
   "outputs": [],
   "source": [
    "e = 3\n",
    "m = bytes_to_long(b'secret_message')"
   ]
  },
  {
   "cell_type": "code",
   "execution_count": 9,
   "metadata": {},
   "outputs": [],
   "source": [
    "def encrypt(m, e):\n",
    "    p = getPrime(1024)\n",
    "    q = getPrime(1024)\n",
    "    N = p*q\n",
    "    a = random.randint(2, N)\n",
    "    b = random.randint(2, N)\n",
    "    c = (a*m + b) % N\n",
    "    c = pow(c, e, N)\n",
    "    return a, b, N, c"
   ]
  },
  {
   "cell_type": "code",
   "execution_count": 11,
   "metadata": {},
   "outputs": [],
   "source": [
    "a_list = []\n",
    "b_list = []\n",
    "c_list = []\n",
    "N_list = []\n",
    "num_polys = e \n",
    "for i in range(num_polys):\n",
    "    a, b, N, c = encrypt(m, e)\n",
    "    a_list.append(a)\n",
    "    b_list.append(b)\n",
    "    c_list.append(c)\n",
    "    N_list.append(N)"
   ]
  },
  {
   "cell_type": "code",
   "execution_count": 25,
   "metadata": {},
   "outputs": [],
   "source": [
    "def hastad_broadcast_linear_padding(a_list, b_list, c_list, N_list, e, num_polys):\n",
    "    R_list = [PolynomialRing(Zmod(N_list[i]), 'x') for i in range(num_polys)]\n",
    "\n",
    "    f_list = [R_list[i]([b_list[i],a_list[i]])**e - c_list[i] for i in range(num_polys)]\n",
    "\n",
    "    # make f monic\n",
    "    for i in range(num_polys):\n",
    "        f_list[i] = f_list[i] * inverse_mod(f_list[i][e], N_list[i])\n",
    "        \n",
    "    T_list = []\n",
    "    for i in range(num_polys):\n",
    "        crt_a_list = [0] * num_polys\n",
    "        crt_a_list[i] = 1\n",
    "        ti = crt(crt_a_list, N_list)\n",
    "        T_list.append(ti)\n",
    "\n",
    "    N_prod = product(N_list)\n",
    "    R_prod.<y> = PolynomialRing(Zmod(N_prod))\n",
    "    \n",
    "    #F is a linear combination of the polynomials above\n",
    "    F = sum([T_list[i] * R_prod(f_list[i].list()) for i in range(num_polys)])\n",
    "\n",
    "    roots = F.small_roots()\n",
    "    return roots[0]"
   ]
  },
  {
   "cell_type": "code",
   "execution_count": 26,
   "metadata": {},
   "outputs": [],
   "source": [
    "root = hastad_broadcast_linear_padding(a_list, b_list, c_list, N_list, e, num_polys)"
   ]
  },
  {
   "cell_type": "code",
   "execution_count": 27,
   "metadata": {},
   "outputs": [
    {
     "data": {
      "text/plain": [
       "b'secret_message'"
      ]
     },
     "execution_count": 27,
     "metadata": {},
     "output_type": "execute_result"
    }
   ],
   "source": [
    "long_to_bytes(root)"
   ]
  },
  {
   "cell_type": "markdown",
   "metadata": {},
   "source": [
    "# Resources"
   ]
  },
  {
   "cell_type": "markdown",
   "metadata": {},
   "source": [
    "- https://en.wikipedia.org/wiki/Coppersmith%27s_attack\n",
    "- https://duksctf.github.io/2017/04/22/PCTF2017-Multicast.html\n",
    "    "
   ]
  },
  {
   "cell_type": "code",
   "execution_count": null,
   "metadata": {},
   "outputs": [],
   "source": []
  }
 ],
 "metadata": {
  "kernelspec": {
   "display_name": "SageMath 9.1",
   "language": "sage",
   "name": "sagemath"
  },
  "language_info": {
   "codemirror_mode": {
    "name": "ipython",
    "version": 3
   },
   "file_extension": ".py",
   "mimetype": "text/x-python",
   "name": "python",
   "nbconvert_exporter": "python",
   "pygments_lexer": "ipython3",
   "version": "3.7.3"
  }
 },
 "nbformat": 4,
 "nbformat_minor": 2
}
