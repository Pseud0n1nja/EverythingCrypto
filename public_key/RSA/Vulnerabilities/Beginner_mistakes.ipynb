{
 "cells": [
  {
   "cell_type": "code",
   "execution_count": 2,
   "metadata": {
    "ExecuteTime": {
     "end_time": "2020-09-04T21:06:55.515985Z",
     "start_time": "2020-09-04T21:06:54.671296Z"
    }
   },
   "outputs": [],
   "source": [
    "import numpy as np\n",
    "import math\n",
    "from Crypto.Util.number import getPrime, inverse, bytes_to_long, long_to_bytes, GCD\n",
    "import random"
   ]
  },
  {
   "cell_type": "markdown",
   "metadata": {},
   "source": [
    "# Prerequisites: "
   ]
  },
  {
   "cell_type": "markdown",
   "metadata": {},
   "source": [
    "1. RSA \n",
    "\n",
    "2. RSA Prerequisites"
   ]
  },
  {
   "cell_type": "code",
   "execution_count": 1,
   "metadata": {
    "ExecuteTime": {
     "end_time": "2020-09-04T21:06:50.614925Z",
     "start_time": "2020-09-04T21:06:50.608920Z"
    }
   },
   "outputs": [],
   "source": [
    "def create_key_rsa(p, q, e):\n",
    "    assert GCD(e, (p-1)*(q-1)) == 1\n",
    "    N = p*q\n",
    "    return N, e\n",
    "def encrypt_rsa(m, e, N):\n",
    "    assert m < N\n",
    "    c = pow(m, e, N)\n",
    "    return c\n",
    "def decrypt_rsa(c, p, q, e, N):\n",
    "    d = inverse(e, (p-1)*(q-1))\n",
    "    assert (d * e) % ((p-1)*(q-1)) == 1\n",
    "    m = pow(c, d, N)\n",
    "    return m"
   ]
  },
  {
   "cell_type": "markdown",
   "metadata": {},
   "source": [
    "# $N$ is prime"
   ]
  },
  {
   "cell_type": "markdown",
   "metadata": {},
   "source": [
    "If N is prime => $\\varphi(N) = p-1$ => $de \\equiv 1 \\ mod \\ N-1$"
   ]
  },
  {
   "cell_type": "code",
   "execution_count": 14,
   "metadata": {
    "ExecuteTime": {
     "end_time": "2020-08-28T14:40:49.908899Z",
     "start_time": "2020-08-28T14:40:48.502376Z"
    }
   },
   "outputs": [],
   "source": [
    "m = bytes_to_long(b'secret')\n",
    "N = getPrime(1024)\n",
    "e=65537"
   ]
  },
  {
   "cell_type": "code",
   "execution_count": 15,
   "metadata": {
    "ExecuteTime": {
     "end_time": "2020-08-28T14:40:49.914888Z",
     "start_time": "2020-08-28T14:40:49.910886Z"
    }
   },
   "outputs": [
    {
     "name": "stdout",
     "output_type": "stream",
     "text": [
      "12215353351590448535167310686476691358028024243197695861505238294015253293790161243769504462981163273048546128219537843351214237607897620764115410129869160009016149331981440482546004047134503134241242663603267819450699191965441684987593462148990407097818087217020032575908937458390338601878753051561686082297\n"
     ]
    }
   ],
   "source": [
    "c = encrypt_rsa(m, e, N)\n",
    "print(c)"
   ]
  },
  {
   "cell_type": "code",
   "execution_count": 18,
   "metadata": {
    "ExecuteTime": {
     "end_time": "2020-08-28T14:41:40.030382Z",
     "start_time": "2020-08-28T14:41:40.022377Z"
    }
   },
   "outputs": [],
   "source": [
    "phi = N-1\n",
    "d = inverse(e, phi)\n",
    "m_decr = pow(c, d, N)"
   ]
  },
  {
   "cell_type": "code",
   "execution_count": 19,
   "metadata": {
    "ExecuteTime": {
     "end_time": "2020-08-28T14:41:40.464398Z",
     "start_time": "2020-08-28T14:41:40.461396Z"
    }
   },
   "outputs": [
    {
     "data": {
      "text/plain": [
       "b'secret'"
      ]
     },
     "execution_count": 19,
     "metadata": {},
     "output_type": "execute_result"
    }
   ],
   "source": [
    "long_to_bytes(m_decr)"
   ]
  },
  {
   "cell_type": "markdown",
   "metadata": {
    "ExecuteTime": {
     "end_time": "2020-08-28T14:33:22.133177Z",
     "start_time": "2020-08-28T14:33:22.131176Z"
    }
   },
   "source": [
    "# $N = p^2$"
   ]
  },
  {
   "cell_type": "markdown",
   "metadata": {},
   "source": [
    "https://en.wikipedia.org/wiki/Euler%27s_totient_function#Value_for_a_prime_power_argument\n"
   ]
  },
  {
   "cell_type": "code",
   "execution_count": 20,
   "metadata": {
    "ExecuteTime": {
     "end_time": "2020-08-28T14:44:35.260355Z",
     "start_time": "2020-08-28T14:44:35.256342Z"
    }
   },
   "outputs": [],
   "source": [
    "def isqrt(n):\n",
    "    x = n\n",
    "    y = (x + 1) // 2\n",
    "    while y < x:\n",
    "        x = y\n",
    "        y = (x + n // x) // 2\n",
    "    return x"
   ]
  },
  {
   "cell_type": "code",
   "execution_count": 28,
   "metadata": {
    "ExecuteTime": {
     "end_time": "2020-08-28T14:48:00.278100Z",
     "start_time": "2020-08-28T14:48:00.060947Z"
    }
   },
   "outputs": [],
   "source": [
    "m = bytes_to_long(b'secret')\n",
    "p = getPrime(512)\n",
    "N = pow(p, 2)\n",
    "e=65537"
   ]
  },
  {
   "cell_type": "code",
   "execution_count": 29,
   "metadata": {
    "ExecuteTime": {
     "end_time": "2020-08-28T14:48:00.313126Z",
     "start_time": "2020-08-28T14:48:00.279101Z"
    }
   },
   "outputs": [
    {
     "name": "stdout",
     "output_type": "stream",
     "text": [
      "10117983930442477388064413438183081758200087804351076023439762217159905576345235118448168509127881386741736288688514884350880843473649141957312207953815824734709106805693662040473947970815145974472500061315144875786521537960093777169817876825249999418301357189926495836503278394288264990406521066249828708998\n"
     ]
    }
   ],
   "source": [
    "c = encrypt_rsa(m, e, N)\n",
    "print(c)"
   ]
  },
  {
   "cell_type": "code",
   "execution_count": 30,
   "metadata": {
    "ExecuteTime": {
     "end_time": "2020-08-28T14:48:00.399187Z",
     "start_time": "2020-08-28T14:48:00.389180Z"
    }
   },
   "outputs": [
    {
     "name": "stdout",
     "output_type": "stream",
     "text": [
      "b'secret'\n"
     ]
    }
   ],
   "source": [
    "p_decr = isqrt(N)\n",
    "phi = p*(p-1)\n",
    "d = inverse(e, phi)\n",
    "m_decr = pow(c, d, N)\n",
    "print(long_to_bytes(m_decr))"
   ]
  },
  {
   "cell_type": "markdown",
   "metadata": {},
   "source": [
    "# e = 1"
   ]
  },
  {
   "cell_type": "markdown",
   "metadata": {},
   "source": [
    "Then $c \\equiv m^e \\equiv m^1 \\equiv m \\ mod \\ N$"
   ]
  },
  {
   "cell_type": "markdown",
   "metadata": {},
   "source": [
    "# Using small N"
   ]
  },
  {
   "cell_type": "markdown",
   "metadata": {},
   "source": [
    "You can factor N => factordb library\n"
   ]
  },
  {
   "cell_type": "code",
   "execution_count": 57,
   "metadata": {
    "ExecuteTime": {
     "end_time": "2020-08-28T14:59:50.119386Z",
     "start_time": "2020-08-28T14:59:50.116394Z"
    }
   },
   "outputs": [],
   "source": [
    "from factordb.factordb import FactorDB"
   ]
  },
  {
   "cell_type": "code",
   "execution_count": 64,
   "metadata": {
    "ExecuteTime": {
     "end_time": "2020-08-28T14:59:58.758977Z",
     "start_time": "2020-08-28T14:59:58.747979Z"
    }
   },
   "outputs": [
    {
     "name": "stdout",
     "output_type": "stream",
     "text": [
      "p=  762519624440665876556479833467\n",
      "q=  1106090959122647201209128911207\n"
     ]
    }
   ],
   "source": [
    "p = getPrime(100)\n",
    "q = getPrime(100)\n",
    "N = p*q\n",
    "print('p= ', p)\n",
    "print('q= ', q)"
   ]
  },
  {
   "cell_type": "code",
   "execution_count": 76,
   "metadata": {
    "ExecuteTime": {
     "end_time": "2020-08-28T15:00:09.950382Z",
     "start_time": "2020-08-28T15:00:09.947381Z"
    }
   },
   "outputs": [
    {
     "data": {
      "text/plain": [
       "843416062747416855803616155832785095979008569880606389964669"
      ]
     },
     "execution_count": 76,
     "metadata": {},
     "output_type": "execute_result"
    }
   ],
   "source": [
    "N"
   ]
  },
  {
   "cell_type": "code",
   "execution_count": 74,
   "metadata": {
    "ExecuteTime": {
     "end_time": "2020-08-28T15:00:06.322396Z",
     "start_time": "2020-08-28T15:00:06.140384Z"
    }
   },
   "outputs": [
    {
     "data": {
      "text/plain": [
       "<Response [200]>"
      ]
     },
     "execution_count": 74,
     "metadata": {},
     "output_type": "execute_result"
    }
   ],
   "source": [
    "f = FactorDB(N)\n",
    "f.connect()"
   ]
  },
  {
   "cell_type": "code",
   "execution_count": 75,
   "metadata": {
    "ExecuteTime": {
     "end_time": "2020-08-28T15:00:06.990390Z",
     "start_time": "2020-08-28T15:00:06.987387Z"
    }
   },
   "outputs": [
    {
     "name": "stdout",
     "output_type": "stream",
     "text": [
      "[762519624440665876556479833467, 1106090959122647201209128911207]\n"
     ]
    }
   ],
   "source": [
    "print(f.get_factor_list())"
   ]
  },
  {
   "cell_type": "markdown",
   "metadata": {},
   "source": [
    "# Small e, very big N"
   ]
  },
  {
   "cell_type": "markdown",
   "metadata": {},
   "source": [
    "In this scenario we might not reach the modulus => just take the e-th root"
   ]
  },
  {
   "cell_type": "code",
   "execution_count": 93,
   "metadata": {
    "ExecuteTime": {
     "end_time": "2020-08-28T15:11:31.503628Z",
     "start_time": "2020-08-28T15:11:31.499625Z"
    }
   },
   "outputs": [],
   "source": [
    "def iroot(k, n):\n",
    "    u, s = n, n+1\n",
    "    while u < s:\n",
    "        s = u\n",
    "        t = (k-1) * s + n // pow(s, k-1)\n",
    "        u = t // k\n",
    "    return s"
   ]
  },
  {
   "cell_type": "code",
   "execution_count": 97,
   "metadata": {
    "ExecuteTime": {
     "end_time": "2020-08-28T15:12:18.351784Z",
     "start_time": "2020-08-28T15:12:18.347771Z"
    }
   },
   "outputs": [],
   "source": [
    "e = 3\n",
    "N = 17258212916191948536348548470938004244269544560039009244721959293554822498047075403658429865201816363311805874117705688359853941515579440852166618074161313773416434156467811969628473425365608002907061241714688204565170146117869742910273064909154666642642308154422770994836108669814632309362483307560217924183202838588431342622551598499747369771295105890359290073146330677383341121242366368309126850094371525078749496850520075015636716490087482193603562501577348571256210991732071282478547626856068209192987351212490642903450263288650415552403935705444809043563866466823492258216747445926536608548665086042098252335883\n",
    "m = bytes_to_long(b'secret')\n",
    "c = encrypt_rsa(m, e, N)"
   ]
  },
  {
   "cell_type": "code",
   "execution_count": 98,
   "metadata": {
    "ExecuteTime": {
     "end_time": "2020-08-28T15:12:18.502653Z",
     "start_time": "2020-08-28T15:12:18.499651Z"
    }
   },
   "outputs": [
    {
     "name": "stdout",
     "output_type": "stream",
     "text": [
      "b'secret'\n"
     ]
    }
   ],
   "source": [
    "m_decr =iroot(3, c)\n",
    "print(long_to_bytes(m_decr))"
   ]
  },
  {
   "cell_type": "markdown",
   "metadata": {},
   "source": [
    "# Multiple N's have a common prime "
   ]
  },
  {
   "cell_type": "markdown",
   "metadata": {},
   "source": [
    "- Here we have $N_1, N_2 ...$ moduli with $C_1, C_2, ... $ ciphertexts encrypted with $e_1, e_2, ...$ corresponding public exponents\n",
    "- If we find $\\gcd(N_i, N_j) != 1$ for some $i!=j$ then we found $p = \\gcd(N_i, N_j) => q_i = \\frac {N_i}  p; \\  q_j = \\frac {N_j} p => (d_i, d_j) => (m_i, m_j)$"
   ]
  },
  {
   "cell_type": "code",
   "execution_count": 5,
   "metadata": {
    "ExecuteTime": {
     "end_time": "2020-09-04T21:12:03.406786Z",
     "start_time": "2020-09-04T21:12:03.255666Z"
    }
   },
   "outputs": [],
   "source": [
    "p = getPrime(512)\n",
    "q1 = getPrime(512)\n",
    "q2 = getPrime(512)\n",
    "N1 = p*q1\n",
    "N2 = p*q2\n",
    "e1, e2 = 17,65537\n",
    "m1, m2 = bytes_to_long(b'secret'), bytes_to_long(b'verysecret')\n",
    "c1, c2 = pow(m1, e1, N1), pow(m2, e2, N2)"
   ]
  },
  {
   "cell_type": "code",
   "execution_count": 9,
   "metadata": {
    "ExecuteTime": {
     "end_time": "2020-09-04T21:13:51.109931Z",
     "start_time": "2020-09-04T21:13:51.094922Z"
    }
   },
   "outputs": [],
   "source": [
    "p_decr = GCD(N1, N2)\n",
    "q1_decr = N1 // p_decr\n",
    "q2_decr = N2 // p_decr\n",
    "d1 = inverse(e1, (p-1)*(q1_decr-1))\n",
    "d2 = inverse(e2, (p-1)*(q2_decr-1))\n",
    "m1_decr = pow(c1, d1, N1)\n",
    "m2_decr = pow(c2, d2, N2)"
   ]
  },
  {
   "cell_type": "code",
   "execution_count": 10,
   "metadata": {
    "ExecuteTime": {
     "end_time": "2020-09-04T21:13:51.635064Z",
     "start_time": "2020-09-04T21:13:51.631060Z"
    }
   },
   "outputs": [
    {
     "data": {
      "text/plain": [
       "(b'secret', b'verysecret')"
      ]
     },
     "execution_count": 10,
     "metadata": {},
     "output_type": "execute_result"
    }
   ],
   "source": [
    "long_to_bytes(m1_decr), long_to_bytes(m2_decr)"
   ]
  },
  {
   "cell_type": "code",
   "execution_count": null,
   "metadata": {},
   "outputs": [],
   "source": []
  }
 ],
 "metadata": {
  "kernelspec": {
   "display_name": "Python 3",
   "language": "python",
   "name": "python3"
  },
  "language_info": {
   "codemirror_mode": {
    "name": "ipython",
    "version": 3
   },
   "file_extension": ".py",
   "mimetype": "text/x-python",
   "name": "python",
   "nbconvert_exporter": "python",
   "pygments_lexer": "ipython3",
   "version": "3.8.5"
  },
  "toc": {
   "base_numbering": 1,
   "nav_menu": {},
   "number_sections": true,
   "sideBar": true,
   "skip_h1_title": false,
   "title_cell": "Table of Contents",
   "title_sidebar": "Contents",
   "toc_cell": false,
   "toc_position": {},
   "toc_section_display": true,
   "toc_window_display": false
  }
 },
 "nbformat": 4,
 "nbformat_minor": 4
}
