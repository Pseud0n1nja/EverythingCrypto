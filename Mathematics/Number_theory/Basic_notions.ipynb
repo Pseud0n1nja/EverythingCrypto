{
 "cells": [
  {
   "cell_type": "markdown",
   "metadata": {},
   "source": [
    "# Prerequisites"
   ]
  },
  {
   "cell_type": "markdown",
   "metadata": {},
   "source": [
    "- None. This is where you start"
   ]
  },
  {
   "cell_type": "markdown",
   "metadata": {},
   "source": [
    "# Theory"
   ]
  },
  {
   "cell_type": "markdown",
   "metadata": {},
   "source": [
    "**Target**:\n",
    "- Division\n",
    "- GCD + XGCD\n",
    "- Legendre and Jacobi Symbols"
   ]
  },
  {
   "cell_type": "markdown",
   "metadata": {},
   "source": [
    "## Setup"
   ]
  },
  {
   "cell_type": "markdown",
   "metadata": {},
   "source": [
    "Let $\\mathbb{Z} = \\{...,−3,−2,−1,0,1,2,3,...\\}$ denote the integers"
   ]
  },
  {
   "cell_type": "markdown",
   "metadata": {},
   "source": [
    "**Division**:\n",
    "- Let $a,b \\in \\mathbb{Z}$. Then $a$ divides $b$ (equivalently: $a$ is a divisor of $b$, or $a$ is a *factor* of $b$) if $\\exists$ an integer $c$ such that $b=ac$.\n",
    "- If $a$ divides $b$ => Notation: $a|b$\n",
    "\n",
    "**Proprieties**\n",
    "1. $a|a$.\n",
    "2. If $a|b$ and $b|c$, then $a|c$\n",
    "3. If $a|b$ and $a|c$, then $a|(bx+cy)\\ \\forall x,y∈\\mathbb{Z}$\n",
    "4. If $a|b$ and $b|a$, then $a=\\pm b$"
   ]
  },
  {
   "cell_type": "markdown",
   "metadata": {},
   "source": [
    "If $a$ and $b$ are integers with $b≥1$, then **ordinary long division** of $a$ by $b$ yields integers $q$ (**the quotient**) and $r$ (**the remainder**) such that \n",
    "- $a=qb+r$\n",
    "where $0≤r<b$\n",
    "\n",
    "Moreover,$q$ and $r$ are **unique**. \n",
    "\n",
    "The remainder of the division is denoted $a \\ mod \\ b$, and the quotient is denoted $a \\ div \\ b$\n",
    "\n",
    "**Remark**: Let $a,b∈\\mathbb{Z}$ with $b \\neq 0$. Then $a div b =\\lfloor a/b \\rfloor$ and $a \\ mod \\ b=a−b\\lfloor a/b\\rfloor$"
   ]
  },
  {
   "cell_type": "markdown",
   "metadata": {},
   "source": [
    "**Common divisors**\n",
    "- An integer $c$ is a common divisor of $a$ and $b$ if $c|a$ and $c|b$"
   ]
  },
  {
   "cell_type": "markdown",
   "metadata": {},
   "source": [
    "**Greatest common divisor**\n",
    "- A non-negative integer $d$ is the **greatest common divisor** (GCD) of integers $a$ and $b$,if:\n",
    "    - $d$ is a common divisor of $a$ and $b$\n",
    "    - whenever $c|a$ and $c|b$, then $c|d$.\n",
    "\n",
    "*Notation*: $\\gcd(a,b)$\n",
    "\n",
    "Equivalently, $\\gcd(a,b)$ is the **largest** positive integer that divides both $a$ and $b$, with the exception that $gcd(0,0)=0$\n",
    "\n"
   ]
  },
  {
   "cell_type": "markdown",
   "metadata": {},
   "source": [
    "**Least common multiple**\n",
    "- A non-negative integer $d$ is the **gLeast common multiple** (LCM) of integers $a$ and $b$,if:\n",
    "    - $a|d$ and $b|d$\n",
    "    - whenever $a|d$ and $b|d$, then $d|c$.\n",
    "\n",
    "*Notation*: $\\text{lcm}(a,b)$\n",
    "\n",
    "Equivalently, $\\text{lcm}(a,b)$ is the **largest** positive integer that divides both $a$ and $b$, with the exception that $gcd(0,0)=0$\n",
    "\n"
   ]
  },
  {
   "cell_type": "markdown",
   "metadata": {},
   "source": [
    "$\\DeclareMathOperator{\\lcm}{lcm}$\n",
    "$\\lcm$"
   ]
  },
  {
   "cell_type": "code",
   "execution_count": null,
   "metadata": {},
   "outputs": [],
   "source": []
  }
 ],
 "metadata": {
  "kernelspec": {
   "display_name": "Python 3",
   "language": "python",
   "name": "python3"
  },
  "language_info": {
   "codemirror_mode": {
    "name": "ipython",
    "version": 3
   },
   "file_extension": ".py",
   "mimetype": "text/x-python",
   "name": "python",
   "nbconvert_exporter": "python",
   "pygments_lexer": "ipython3",
   "version": "3.7.3"
  }
 },
 "nbformat": 4,
 "nbformat_minor": 2
}
