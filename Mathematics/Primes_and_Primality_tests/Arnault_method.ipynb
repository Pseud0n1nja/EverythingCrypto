{
 "cells": [
  {
   "cell_type": "code",
   "execution_count": 1,
   "metadata": {},
   "outputs": [],
   "source": [
    "import random\n",
    "from Crypto.Util.number import long_to_bytes, bytes_to_long, inverse, GCD"
   ]
  },
  {
   "cell_type": "markdown",
   "metadata": {},
   "source": [
    "# Prerequisites"
   ]
  },
  {
   "cell_type": "markdown",
   "metadata": {},
   "source": [
    "- miller-rabin\n",
    "- modular arithmeric\n",
    "- patience to understand the algorithm"
   ]
  },
  {
   "cell_type": "code",
   "execution_count": 19,
   "metadata": {},
   "outputs": [],
   "source": [
    "def miller_rabin_test_fixed(n, a_list):\n",
    "    '''returns Composite or Probably prime'''\n",
    "    \n",
    "    #check parity\n",
    "    if not n & 1:\n",
    "        return 'Composite'\n",
    "    \n",
    "    r = 0\n",
    "    s = n-1\n",
    "    #write n-1 = 2^r*s\n",
    "    while not s & 1:\n",
    "        s = s>>1\n",
    "        r+=1\n",
    "    assert(pow(2, r)* s == n-1)\n",
    "    \n",
    "    for a in a_list:\n",
    "        x = pow(a, s, n)\n",
    "        if x == 1 or x == n-1:\n",
    "            continue #search for another witness\n",
    "        for _ in range(r):\n",
    "            x = pow(x, 2, n)\n",
    "            if x == n-1:\n",
    "                break \n",
    "        else:\n",
    "             #if it doesnt break, neither condition is satisfied =>  this executes => we found a composite\n",
    "            return \"Composite\"\n",
    "    return \"Probably prime\"\n",
    "    "
   ]
  },
  {
   "cell_type": "markdown",
   "metadata": {},
   "source": [
    "# Theory"
   ]
  },
  {
   "cell_type": "markdown",
   "metadata": {},
   "source": [
    "- https://core.ac.uk/download/pdf/81930829.pdf\n",
    "- https://www.jointmathematicsmeetings.org/mcom/1995-64-209/S0025-5718-1995-1260124-2/S0025-5718-1995-1260124-2.pdf"
   ]
  },
  {
   "cell_type": "markdown",
   "metadata": {},
   "source": [
    "Let $n = p_1p_2..p_h$\n",
    "Define: \n",
    "- $k_i  = \\cfrac {p_i - 1} {p_1 - 1}$\n",
    "- $m_i = \\cfrac {\\Pi_{j \\neq i} {p_j - 1}} {p_1 - 1} \\forall 1 \\leq i \\leq h$\n",
    "\n",
    "If $k_i, m_i \\in \\mathbb{Z} \\ \\forall 2 \\leq i \\leq h => n$ is a Carmichael number"
   ]
  },
  {
   "cell_type": "markdown",
   "metadata": {},
   "source": [
    "(The law of quadratic reciprocity) If $p$ and $q$ are distinct odd primes, we have\n",
    "$\\left(\\dfrac{q}{p}\\right)\\left(\\dfrac{p}{q}\\right)=(-1)^{\\frac{p-1}{2} \\frac{q-1}{2}}$\n",
    "\n",
    "\n",
    "Additional proprieties:\n",
    "- if $\\gcd(a, n) = 1$ and $\\left(\\dfrac a {p_i} \\right)= -1$ for all $1 \\leq i \\leq h$ then $a$ will be a Miller Rabin non-witness with respect to $n$ \n",
    "- for any prime $p$,  $\\left(\\dfrac a {p}\\right)$ can be determined from $\\left(\\dfrac p a\\right)$ and the values of $a \\bmod 4$ and $p \\bmod 4$ => for each a we can compute the set $S_a$ of possible non-residues mod $4a$ of potential primes $p$\n",
    "    $$S_a \\text{ satisfying } \\left(\\dfrac a {p}\\right) = -1 \\iff p \\bmod 4a \\in S_a$$\n",
    "    \n",
    "Starting with some $p_1$ we can determine the other $p_i$ of the form $p_i = k_i(p_1 - 1)+ 1$ for all $1 \\leq i \\leq h => $ $$k_i(p_1 - 1) + 1 \\bmod 4a \\in S_a \\ \\forall 1\\leq i \\leq h$$\n",
    "\n",
    "If the coeff $k_i$ are coprime to $a$ then the condition becomes:$$p_1 \\bmod 4a∈⋂^h_{i=1}k^{−1}_i(S_a+k_i−1)$$ where $k^{−1}_i(S_a+k_i−1)$ is the set $\\{k^{−1}_i(s+k_i−1) | s \\in S_a\\}$ => We have a set of conditions for the values of $p_1$ for each $a$\n",
    "\n",
    "So for each value of $a$ we have a few candidates in our subset from $S_a$. We select one of these candidates $z_a$ for each $a \\in A$ and using the CRT we can combine these conditions into a single one $p_1 \\bmod \\text{lcm}(4, a_1, .. a_h)$ \n",
    "\n",
    "The $k_i$ are a set of primes usually smaller than $\\max(A)$ such that $k_i^{-1}$ exists mod $4a$"
   ]
  },
  {
   "cell_type": "markdown",
   "metadata": {},
   "source": [
    "**Algorithm**:\n",
    "- Generate the set $S_a$ of residues modulo $4a$ of primes $p$ s.t $\\left(\\dfrac a {p}\\right) = -1$ for each base $a$\n",
    "- Select $k_i$ coprime to all $a$\n",
    "- Find the subsets that meet the condition \n",
    "    - $p_1 \\bmod 4a∈⋂^h_{i=1}k^{−1}_i(S_a+k_i−1)$\n",
    "- Choose 1 residue / set => $z_a$ (arbitrary but not all combinations will lead to a solution)\n",
    "- Verify additional conditions:\n",
    "    - for $h = 3 $\n",
    "        - $p_1 \\equiv k_3^{-1} \\bmod k_2$\n",
    "        - $p_1 \\equiv k_2^{-1} \\bmod k_3$\n",
    "- Use CRT with all the conditions \n",
    "    - $p_1 = z \\bmod \\text{lcm}(4, a_1, ... a_h, k_2, ... k_h)$\n",
    "- Compute $p_i = k_i(p_1 - 1) + 1$ such that all $p_i$ are prime."
   ]
  },
  {
   "cell_type": "markdown",
   "metadata": {},
   "source": [
    "# Code"
   ]
  },
  {
   "cell_type": "markdown",
   "metadata": {},
   "source": [
    "## Example in the Prime and Prejudice paper"
   ]
  },
  {
   "cell_type": "code",
   "execution_count": 5,
   "metadata": {},
   "outputs": [],
   "source": [
    "def generate_S_a(a_list, p_bound):\n",
    "    # generate residues of primes mod 4 * a with (a / p ) = -1 for each base a\n",
    "    S = {a: set() for a in a_list}\n",
    "    for a in a_list:\n",
    "        p = 3\n",
    "        while p < p_bound:\n",
    "            if legendre_symbol(a, p) == -1:\n",
    "                S[a].add(p % (4 * a))\n",
    "            p = next_prime(p)\n",
    "    return S"
   ]
  },
  {
   "cell_type": "code",
   "execution_count": 6,
   "metadata": {},
   "outputs": [],
   "source": [
    "#a_list = [2,3,5,7,11,13,17,19,23,29]\n",
    "a_list = [2, 3, 5, 7]\n",
    "S = generate_S_a(a_list, 10000)\n",
    "#S"
   ]
  },
  {
   "cell_type": "code",
   "execution_count": 8,
   "metadata": {},
   "outputs": [],
   "source": [
    "def get_k(h, a_list, prime_bound):\n",
    "    #there are different ways to generate k.\n",
    "    #We will just take random primes up to a bound that are not in the base list\n",
    "    k_list = [1]\n",
    "    for i in range(1, h):\n",
    "        while True:\n",
    "            k = random_prime(prime_bound, lbound=2)\n",
    "            if k not in a_list and k not in k_list:\n",
    "                k_list.append(k)\n",
    "                break\n",
    "    return k_list"
   ]
  },
  {
   "cell_type": "code",
   "execution_count": 63,
   "metadata": {},
   "outputs": [
    {
     "data": {
      "text/plain": [
       "[1, 13, 43]"
      ]
     },
     "execution_count": 63,
     "metadata": {},
     "output_type": "execute_result"
    }
   ],
   "source": [
    "h = 3\n",
    "k_list = get_k(h, a_list, 83)\n",
    "#k_list = [1, 41, 101]\n",
    "k_list"
   ]
  },
  {
   "cell_type": "code",
   "execution_count": 64,
   "metadata": {},
   "outputs": [],
   "source": [
    "def find_subsets_S(S, a_list,  k_list):\n",
    "    S_sub = {a: set() for a in a_list}\n",
    "    \n",
    "    for a in a_list:\n",
    "        temp_sets = []\n",
    "        \n",
    "        for k in k_list: #create set subset for each k\n",
    "            temp_set = set()\n",
    "            inv_k = inverse_mod(k, 4 * a)\n",
    "            for elem in S[a]: \n",
    "                new_el = (inv_k * (elem + k - 1)) % (4 * a)\n",
    "                temp_set.add(new_el)\n",
    "            temp_sets.append(temp_set)\n",
    "        \n",
    "        S_sub[a] = set.intersection(*temp_sets)\n",
    "    return S_sub\n",
    "        "
   ]
  },
  {
   "cell_type": "code",
   "execution_count": 65,
   "metadata": {},
   "outputs": [],
   "source": [
    "#find sets that are not empty\n",
    "while True:\n",
    "    k_list = get_k(h, a_list, 83)\n",
    "    S_sub = find_subsets_S(S, a_list, k_list)\n",
    "    for s in S_sub.values(): #check if sets are empty\n",
    "        if len(s)==0:\n",
    "            break\n",
    "    else:\n",
    "        break #exit the while True if all sets are not empty"
   ]
  },
  {
   "cell_type": "code",
   "execution_count": 66,
   "metadata": {},
   "outputs": [
    {
     "data": {
      "text/plain": [
       "{2: {5}, 3: {5, 7}, 5: {3, 13}, 7: {13, 15, 17}}"
      ]
     },
     "execution_count": 66,
     "metadata": {},
     "output_type": "execute_result"
    }
   ],
   "source": [
    "S_sub"
   ]
  },
  {
   "cell_type": "code",
   "execution_count": 67,
   "metadata": {},
   "outputs": [],
   "source": [
    "def choose_z(S_sub, a_list):\n",
    "    # Choose randomly but not all combinations will lead to a solution\n",
    "    zs = {a : random.choice(tuple(S_sub[a])) for a in a_list}\n",
    "    return zs"
   ]
  },
  {
   "cell_type": "code",
   "execution_count": 68,
   "metadata": {},
   "outputs": [
    {
     "data": {
      "text/plain": [
       "{2: 5, 3: 5, 5: 13, 7: 13}"
      ]
     },
     "execution_count": 68,
     "metadata": {},
     "output_type": "execute_result"
    }
   ],
   "source": [
    "zs = choose_z(S_sub, a_list)\n",
    "#zs = {2: 3, 3: 7, 5: 3, 7: 15, 11: 23, 13: 47, 17: 31, 19: 47, 23: 47, 29:55}\n",
    "zs"
   ]
  },
  {
   "cell_type": "code",
   "execution_count": 69,
   "metadata": {},
   "outputs": [
    {
     "name": "stdout",
     "output_type": "stream",
     "text": [
      "[1, 13, 43]\n"
     ]
    },
    {
     "data": {
      "text/plain": [
       "(33, 3)"
      ]
     },
     "execution_count": 69,
     "metadata": {},
     "output_type": "execute_result"
    }
   ],
   "source": [
    "print(k_list)\n",
    "inverse_mod(-k_list[1], k_list[2]), inverse_mod(-k_list[2], k_list[1])"
   ]
  },
  {
   "cell_type": "code",
   "execution_count": 70,
   "metadata": {},
   "outputs": [],
   "source": [
    "def create_and_solve_conditions(a_list, zs, k_list):\n",
    "    # h = 3 example\n",
    "    \n",
    "    #create crt conditions\n",
    "    #will do with the polynomial later\n",
    "    crt_a_list = [zs[a] for a in a_list] + [inverse_mod(-k_list[1], k_list[2]), inverse_mod(-k_list[2], k_list[1])]\n",
    "    crt_m_list = [4*a for a in a_list] + [k_list[2], k_list[1]]\n",
    "    \n",
    "    #solve\n",
    "    m = product(crt_m_list)\n",
    "    x = crt(crt_a_list, crt_m_list)\n",
    "    return x, m\n",
    "    "
   ]
  },
  {
   "cell_type": "code",
   "execution_count": 71,
   "metadata": {},
   "outputs": [],
   "source": [
    "x, m = create_and_solve_conditions(a_list, zs, k_list)"
   ]
  },
  {
   "cell_type": "code",
   "execution_count": 72,
   "metadata": {},
   "outputs": [
    {
     "data": {
      "text/plain": [
       "(300173, 30051840)"
      ]
     },
     "execution_count": 72,
     "metadata": {},
     "output_type": "execute_result"
    }
   ],
   "source": [
    "x, m"
   ]
  },
  {
   "cell_type": "code",
   "execution_count": 90,
   "metadata": {},
   "outputs": [],
   "source": [
    "def get_pseudoprime(x, m, k_list, starting_bitsize):\n",
    "    #search for prime p1 = k * m + x\n",
    "    if starting_bitsize >  int(m).bit_length():\n",
    "        i = 2**(starting_bitsize - int(m).bit_length())\n",
    "    else:\n",
    "        i = 1\n",
    "    \n",
    "    p1 = i * m + x\n",
    "    print(int(p1).bit_length())\n",
    "    while True:\n",
    "        if i % 1000 == 0:\n",
    "            print(i)\n",
    "        if is_prime(p1):\n",
    "            #start constructing the list\n",
    "            p_list = [p1]\n",
    "            for k in k_list[1:]:\n",
    "                p_new = k * (p1 - 1) + 1\n",
    "                if is_prime(p_new):\n",
    "                    p_list.append(p_new)\n",
    "                else: #if one of the generated numbers is not prime break out the loop. The for-else doesnt get executed\n",
    "                    break\n",
    "            else: #if we find all primes break out the while True\n",
    "                return product(p_list), p_list\n",
    "        \n",
    "        p1 += m        "
   ]
  },
  {
   "cell_type": "code",
   "execution_count": 91,
   "metadata": {},
   "outputs": [
    {
     "data": {
      "text/plain": [
       "167"
      ]
     },
     "execution_count": 91,
     "metadata": {},
     "output_type": "execute_result"
    }
   ],
   "source": [
    "int(142445387161415482404826365418175962266689133006163).bit_length()"
   ]
  },
  {
   "cell_type": "code",
   "execution_count": 95,
   "metadata": {},
   "outputs": [
    {
     "name": "stdout",
     "output_type": "stream",
     "text": [
      "167\n"
     ]
    }
   ],
   "source": [
    "p, p_list = get_pseudoprime(x, m, k_list, starting_bitsize = 167)\n"
   ]
  },
  {
   "cell_type": "code",
   "execution_count": 96,
   "metadata": {},
   "outputs": [
    {
     "data": {
      "text/plain": [
       "'Probably prime'"
      ]
     },
     "execution_count": 96,
     "metadata": {},
     "output_type": "execute_result"
    }
   ],
   "source": [
    "miller_rabin_test_fixed(p, a_list)"
   ]
  },
  {
   "cell_type": "code",
   "execution_count": 88,
   "metadata": {},
   "outputs": [
    {
     "data": {
      "text/plain": [
       "[330870413, 330870413, 4301315357, 14227427717]"
      ]
     },
     "execution_count": 88,
     "metadata": {},
     "output_type": "execute_result"
    }
   ],
   "source": [
    "p_list"
   ]
  },
  {
   "cell_type": "markdown",
   "metadata": {},
   "source": [
    "## Class time (same as above but put in a class)"
   ]
  },
  {
   "cell_type": "code",
   "execution_count": 11,
   "metadata": {},
   "outputs": [],
   "source": [
    "class ArnaultPseudoprime:\n",
    "    def __init__(self, a_list, gen_S_prime_bound = 1000, zs_iter_bound = 100, k_bound = 300):\n",
    "        self.gen_S_prime_bound = gen_S_prime_bound\n",
    "        self.zs_iter_bound = zs_iter_bound\n",
    "        self.k_bound = k_bound\n",
    "        self.a_list = a_list\n",
    "        \n",
    "        \n",
    "    def find_pseudoprime(self, p1_starting_bitsize = 1):\n",
    "        '''Main function to find pseudoprime'''\n",
    "        #find sets that are not empty\n",
    "        S = self.generate_S_a(self.a_list, self.gen_S_prime_bound)\n",
    "        h = 3\n",
    "        i = 0\n",
    "        print(\"starting searching for a good condition set\")\n",
    "        while True:\n",
    "            if i % self.zs_iter_bound == 0: #reset k after zs_iter_bound tries\n",
    "                while True:#find sets that are not empty\n",
    "                    k_list = self.get_k(h, self.a_list, self.k_bound)\n",
    "                    S_sub = self.find_subsets_S(S, self.a_list, k_list)\n",
    "                    \n",
    "                    for s in S_sub.values(): #check if sets are empty\n",
    "                        if len(s)==0: #if it's empty break and the else doesn't execute\n",
    "                            break\n",
    "                    else:\n",
    "                        #print(i)\n",
    "                        break #exit the while True if all sets are not empty\n",
    "                        \n",
    "            #try to solve congruences\n",
    "            try:\n",
    "                zs = self.choose_z(S_sub, self.a_list) #chose random zs\n",
    "                x, m = self.create_and_solve_conditions(self.a_list, zs, k_list) \n",
    "                break\n",
    "            except Exception as e:\n",
    "                i+=1\n",
    "                continue\n",
    "                \n",
    "        #get pseudoprime\n",
    "        print(\"starting searching for a pseudoprime\")\n",
    "        p, p_list = self.get_pseudoprime(x, m, k_list, starting_bitsize = p1_starting_bitsize)\n",
    "        return p, p_list\n",
    "\n",
    "        \n",
    "    def generate_S_a(self, a_list, p_bound):\n",
    "        '''generate residues of primes mod 4 * a with (a / p ) = -1 for each base a'''\n",
    "        S = {a: set() for a in a_list}\n",
    "        for a in a_list:\n",
    "            p = 3\n",
    "            while p < p_bound:\n",
    "                if legendre_symbol(a, p) == -1:\n",
    "                    S[a].add(p % (4 * a))\n",
    "                p = next_prime(p)\n",
    "        return S\n",
    "\n",
    "\n",
    "    def get_k(self, h, a_list, prime_bound):\n",
    "        '''\n",
    "        there are different ways to generate k.\n",
    "        We will just take random primes up to a bound that are not in the base list\n",
    "        '''\n",
    "        k_list = [1]\n",
    "        for i in range(1, h):\n",
    "            while True:\n",
    "                k = random_prime(prime_bound, lbound=2)\n",
    "                if k not in a_list and k not in k_list:\n",
    "                    k_list.append(k)\n",
    "                    break\n",
    "        return k_list\n",
    "\n",
    "\n",
    "\n",
    "    def find_subsets_S(self, S, a_list,  k_list):\n",
    "        S_sub = {a: set() for a in a_list}\n",
    "\n",
    "        for a in a_list:\n",
    "            temp_sets = []\n",
    "\n",
    "            for k in k_list: #create set subset for each k\n",
    "                temp_set = set()\n",
    "                inv_k = inverse_mod(k, 4 * a)\n",
    "                for elem in S[a]: \n",
    "                    new_el = (inv_k * (elem + k - 1)) % (4 * a)\n",
    "                    temp_set.add(new_el)\n",
    "                temp_sets.append(temp_set)\n",
    "\n",
    "            S_sub[a] = set.intersection(*temp_sets)\n",
    "        return S_sub\n",
    "        \n",
    "\n",
    "    def choose_z(self, S_sub, a_list):\n",
    "        '''Choose randomly but not all combinations will lead to a solution'''\n",
    "        zs = {a : random.choice(tuple(S_sub[a])) for a in a_list}\n",
    "        return zs\n",
    "\n",
    "    \n",
    "    def create_and_solve_conditions(self, a_list, zs, k_list):\n",
    "        '''\n",
    "        h = 3 example\n",
    "        create crt conditions\n",
    "        will do with the polynomial later\n",
    "        '''\n",
    "        crt_a_list = [zs[a] for a in a_list] + [inverse_mod(-k_list[1], k_list[2]), inverse_mod(-k_list[2], k_list[1])]\n",
    "        crt_m_list = [4*a for a in a_list] + [k_list[2], k_list[1]]\n",
    "\n",
    "        #solve\n",
    "        m = product(crt_m_list)\n",
    "        x = crt(crt_a_list, crt_m_list)\n",
    "        return x, m\n",
    "\n",
    "    def get_pseudoprime(self, x, m, k_list, starting_bitsize):\n",
    "        '''search for prime p1 = k * m + x'''\n",
    "        if starting_bitsize >  int(m).bit_length():\n",
    "            i = 2**(starting_bitsize - int(m).bit_length())\n",
    "        else:\n",
    "            i = 1\n",
    "\n",
    "        p1 = i * m + x\n",
    "        print(int(p1).bit_length())\n",
    "        while True:\n",
    "            if i % 1000 == 0:\n",
    "                print(i)\n",
    "            if is_prime(p1):\n",
    "                #start constructing the list\n",
    "                p_list = [p1]\n",
    "                for k in k_list[1:]:\n",
    "                    p_new = k * (p1 - 1) + 1\n",
    "                    if is_prime(p_new):\n",
    "                        p_list.append(p_new)\n",
    "                    else: #if one of the generated numbers is not prime break out the loop. The for-else doesnt get executed\n",
    "                        break\n",
    "                else: #if we find all primes break out the while True\n",
    "                    return product(p_list), p_list\n",
    "        \n",
    "            p1 += m        "
   ]
  },
  {
   "cell_type": "code",
   "execution_count": 12,
   "metadata": {},
   "outputs": [],
   "source": [
    "a_list =[2, 3, 5, 7, 11, 13, 17, 19, 23, 29, 31, 37, 41, 43, 47, 53, 59, 61]\n",
    "arn = ArnaultPseudoprime(a_list, gen_S_prime_bound = 1000, zs_iter_bound = 100, k_bound = 300)"
   ]
  },
  {
   "cell_type": "code",
   "execution_count": 17,
   "metadata": {},
   "outputs": [
    {
     "name": "stdout",
     "output_type": "stream",
     "text": [
      "starting searching for a good condition set\n",
      "starting searching for a pseudoprime\n",
      "200\n"
     ]
    }
   ],
   "source": [
    "p, p_list = arn.find_pseudoprime(p1_starting_bitsize=200)"
   ]
  },
  {
   "cell_type": "code",
   "execution_count": 20,
   "metadata": {},
   "outputs": [
    {
     "data": {
      "text/plain": [
       "'Probably prime'"
      ]
     },
     "execution_count": 20,
     "metadata": {},
     "output_type": "execute_result"
    }
   ],
   "source": [
    "miller_rabin_test_fixed(p, a_list)"
   ]
  },
  {
   "cell_type": "code",
   "execution_count": null,
   "metadata": {},
   "outputs": [],
   "source": []
  }
 ],
 "metadata": {
  "kernelspec": {
   "display_name": "SageMath 9.2",
   "language": "sage",
   "name": "sagemath"
  },
  "language_info": {
   "codemirror_mode": {
    "name": "ipython",
    "version": 3
   },
   "file_extension": ".py",
   "mimetype": "text/x-python",
   "name": "python",
   "nbconvert_exporter": "python",
   "pygments_lexer": "ipython3",
   "version": "3.7.7"
  }
 },
 "nbformat": 4,
 "nbformat_minor": 2
}
