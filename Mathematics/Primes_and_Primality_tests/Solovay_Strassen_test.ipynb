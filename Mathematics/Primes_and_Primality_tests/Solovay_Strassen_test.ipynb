{
 "cells": [
  {
   "cell_type": "code",
   "execution_count": 2,
   "metadata": {},
   "outputs": [],
   "source": [
    "from Crypto.Util.number import GCD, getPrime, isPrime\n",
    "import random"
   ]
  },
  {
   "cell_type": "markdown",
   "metadata": {},
   "source": [
    "# Prerequisites"
   ]
  },
  {
   "cell_type": "markdown",
   "metadata": {},
   "source": [
    "- Fermat's test\n",
    "- Number theory basics\n",
    "- Jacobi and Legendre symbols"
   ]
  },
  {
   "cell_type": "code",
   "execution_count": 4,
   "metadata": {},
   "outputs": [],
   "source": [
    "def jacobi_symbol(a, n):\n",
    "    if a ==0:\n",
    "        return 0\n",
    "    if a ==1:\n",
    "        return 1\n",
    "    #write a = 2^e *s where a1 is odd\n",
    "    e =0\n",
    "    a1 = a\n",
    "    while a1 & 1==0: #while a1 is even\n",
    "        a1>>=1\n",
    "        e+=1\n",
    "        \n",
    "    #if e is even set s = 1\n",
    "    if e & 1 == 0:\n",
    "        s = 1\n",
    "    elif n % 8 == 7 or n % 8 == 1:\n",
    "        s = 1\n",
    "    elif n % 8 == 3 or n % 8 == 5:\n",
    "        s = -1\n",
    "    \n",
    "    if n % 4 == 3 and a1 % 4 == 3:\n",
    "        s = -s\n",
    "        \n",
    "    n1 = n % a1\n",
    "    if a1 ==1:\n",
    "        return s\n",
    "    else:\n",
    "        return s * jacobi_symbol(n1, a1)"
   ]
  },
  {
   "cell_type": "markdown",
   "metadata": {},
   "source": [
    "# Theory"
   ]
  },
  {
   "cell_type": "markdown",
   "metadata": {},
   "source": [
    "Although superseted by the Miller-Rabin test, this test solves the flaw that Fermat's test has\n",
    "\n",
    "**Euler criterion**\n",
    "\n",
    "Let $p$ be an odd prime \n",
    "- $a^{(p-1)/2} \\equiv \\left( \\dfrac a p \\right) \\bmod p \\ \\forall a\\in \\mathbb{Z} $ which satisfy $\\gcd(a, p) = 1$\n",
    "\n",
    "**Idea**: We want to test euler criterion for a composite $n$\n",
    "\n",
    "Let $n$ be an odd composite integer and let $a$ be an integer, $1≤a≤n−1$\n",
    "- If either $\\gcd(a,n)>1$ or $a^{(n−1)/2} \\not ≡\\left(\\dfrac a n\\right) \\bmod n => a$ is called an **Euler witness** (to compositeness) for $n$.\n",
    "-  Otherwise, i.e., if $\\gcd(a,n)=1$ and $a^{(n−1)/2}≡\\left(\\dfrac a n\\right) \\bmod n$ => $n$is said to be an  **Euler pseudoprime** to the base $a$**.\n",
    "    - That is, $n$ acts like a prime in that it satisfies Euler’s criterion for the particular base $a$\n",
    "    \n",
    "The integer $a$ is called an Euler liar (to primality) for $n$\n"
   ]
  },
  {
   "cell_type": "markdown",
   "metadata": {},
   "source": [
    "# Code"
   ]
  },
  {
   "cell_type": "code",
   "execution_count": 16,
   "metadata": {},
   "outputs": [],
   "source": [
    "def solovay_strassen_test(n, k):\n",
    "    for i in range(k):\n",
    "        a = random.randint(2, n-2)\n",
    "        r = pow(a, (n-1)//2, n)\n",
    "        if GCD(a, n)!=1: #Remark this should return COMPOSITE (since you found a divisor !=1) \n",
    "             return 'Composite'\n",
    "        if r!=1 and r!=n-1: #the only values a jacobi / legendre values can take\n",
    "            return 'Composite'\n",
    "        jac = jacobi_symbol(a, n) % n\n",
    "        if r != jac:\n",
    "            return 'Composite'\n",
    "    return 'Probably prime'\n",
    "        "
   ]
  },
  {
   "cell_type": "code",
   "execution_count": 17,
   "metadata": {},
   "outputs": [
    {
     "name": "stdout",
     "output_type": "stream",
     "text": [
      "Composite\n",
      "Probably prime\n",
      "Composite\n"
     ]
    }
   ],
   "source": [
    "print(solovay_strassen_test(2403, 12))\n",
    "p = getPrime(512)\n",
    "print(solovay_strassen_test(p, 100))\n",
    "print(solovay_strassen_test(561, 100))"
   ]
  },
  {
   "cell_type": "markdown",
   "metadata": {},
   "source": [
    "# Resources"
   ]
  },
  {
   "cell_type": "markdown",
   "metadata": {},
   "source": [
    "- https://en.wikipedia.org/wiki/Solovay%E2%80%93Strassen_primality_test"
   ]
  },
  {
   "cell_type": "code",
   "execution_count": null,
   "metadata": {},
   "outputs": [],
   "source": []
  }
 ],
 "metadata": {
  "kernelspec": {
   "display_name": "Python 3",
   "language": "python",
   "name": "python3"
  },
  "language_info": {
   "codemirror_mode": {
    "name": "ipython",
    "version": 3
   },
   "file_extension": ".py",
   "mimetype": "text/x-python",
   "name": "python",
   "nbconvert_exporter": "python",
   "pygments_lexer": "ipython3",
   "version": "3.7.3"
  }
 },
 "nbformat": 4,
 "nbformat_minor": 2
}
