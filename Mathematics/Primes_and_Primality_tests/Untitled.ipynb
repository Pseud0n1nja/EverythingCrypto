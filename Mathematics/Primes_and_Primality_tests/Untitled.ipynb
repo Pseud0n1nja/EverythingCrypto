{
 "cells": [
  {
   "cell_type": "code",
   "execution_count": 1,
   "metadata": {},
   "outputs": [],
   "source": [
    "from Crypto.Util.number import sieve_base, GCD, isPrime, long_to_bytes, bytes_to_long, inverse, getPrime\n",
    "import random"
   ]
  },
  {
   "cell_type": "code",
   "execution_count": 2,
   "metadata": {},
   "outputs": [],
   "source": [
    "def miller_rabin_test_fixed(n, a_list):\n",
    "    '''returns Composite or Probably prime'''\n",
    "    \n",
    "    #check parity\n",
    "    if not n & int(1):\n",
    "        return 'Composite'\n",
    "    \n",
    "    r = 0\n",
    "    s = n-1\n",
    "    #write n-1 = 2^r*s\n",
    "    while not s & int(1):\n",
    "        s = s>>1\n",
    "        r+=1\n",
    "    assert(pow(2, r)* s == n-1)\n",
    "    \n",
    "    for a in a_list:\n",
    "        x = pow(a, s, n)\n",
    "        if x == 1 or x == n-1:\n",
    "            continue #search for another witness\n",
    "        for _ in range(r):\n",
    "            x = pow(x, 2, n)\n",
    "            if x == n-1:\n",
    "                break \n",
    "        else:\n",
    "             #if it doesnt break, neither condition is satisfied =>  this executes => we found a composite\n",
    "            return \"Composite\"\n",
    "    return \"Probably prime\"\n",
    "    "
   ]
  },
  {
   "cell_type": "markdown",
   "metadata": {},
   "source": [
    "## Fixed bases -> Bleichenbacher"
   ]
  },
  {
   "cell_type": "markdown",
   "metadata": {},
   "source": [
    "https://www.semanticscholar.org/paper/Breaking-a-Cryptographic-Protocol-with-Pseudoprimes-Bleichenbacher/e9f1f083adc1786466d344db5b3d85f4c268b429?p2df"
   ]
  },
  {
   "cell_type": "markdown",
   "metadata": {},
   "source": [
    "**(Korselt's Criterion)**: A composite integer $n$ is a Carmichael number if and only if the following two conditions are satisfied:\n",
    "- $n$ is square-free, i.e., $n$ is not divisible by the square of any prime; \n",
    "- $p−1$ divides $n−1$ for every prime divisor $p$ of $n$"
   ]
  },
  {
   "cell_type": "markdown",
   "metadata": {},
   "source": [
    "Erdos's idea to construct pseudoprimes\n",
    "- Choose $M \\in \\mathbb{Z}$ that has many divisors\n",
    "- Let $R$ be the set of primes $r$ such that $r−1$ is a divisor of $M$. \n",
    "- If a subset $T⊂R$ can be found such that\n",
    "$$ C = \\underset {r\\in T}{\\prod} r \\equiv 1 \\bmod M \\ \\ \\ (1)$$\n",
    "Then C is a Carmichael number because C satisfies the Korselt's criterion \n",
    "\n",
    "**Note**: One can hope to find such sets $$ if $R$ contains more than about $\\log_2(M)$ primes\n",
    "\n",
    "\n",
    "Additionally, a Carmichael number $C$ is a strong pseudoprime for a base $a$ if the order of $a$ modulo $r$ is divisible by the same power of 2 for all primes factors $r$ of $C$.  \n",
    "If all prime factors $r$ are congruent 3 modulo 4 then this condition is satisfied when $a$ is a quadratic residue modulo either all prime factors $r$ or none at all, because in that case the order of $a$ modulor is either even or odd for all $r$"
   ]
  },
  {
   "cell_type": "markdown",
   "metadata": {},
   "source": [
    "**Algorithm**\n",
    "- Choose $M \\in \\mathbb{Z}$\n",
    "- Find a set $R$ of primes s.t $\\forall $a$ \\in $A$ \\ \\exists c_i \\in \\{-1,1\\} \\text{ with } \\left(\\dfrac {a_i} r\\right) = c_i \\ \\forall r \\in R$\n",
    "- Find a subset $T \\subset R$ that can satisfy equation (1)"
   ]
  },
  {
   "cell_type": "code",
   "execution_count": 3,
   "metadata": {},
   "outputs": [],
   "source": [
    "def generate_M(a_list, prime_idx_bound, random_bound):\n",
    "    M = 1\n",
    "    for a in a_list:\n",
    "        M *= pow(a, random.randint(1, 3))\n",
    "    p = a_list[-1]\n",
    "    for i in range(random_bound):\n",
    "        p = next_prime(p)\n",
    "        t = random.choice([0, 1])\n",
    "        if t == 0:\n",
    "            i-=1\n",
    "            continue\n",
    "        \n",
    "        M*= p\n",
    "        \n",
    "    return M"
   ]
  },
  {
   "cell_type": "code",
   "execution_count": 4,
   "metadata": {},
   "outputs": [],
   "source": [
    "def find_set_R(a_list, M, r_low, r_high):\n",
    "    r_list = []\n",
    "    for r in divisors(M):\n",
    "        r+=1\n",
    "        if r < r_low:\n",
    "            continue\n",
    "        if r > r_high:\n",
    "            break\n",
    "        if isPrime(r):\n",
    "            for a in a_list:\n",
    "                if legendre_symbol(a, r) not in [-1, 1]:\n",
    "                    break\n",
    "            else: #if it (bi / r) is -1 or 1 for all bases \n",
    "                r_list.append(r)\n",
    "    return r_list"
   ]
  },
  {
   "cell_type": "code",
   "execution_count": 33,
   "metadata": {},
   "outputs": [],
   "source": [
    "def find_subsets_T(R, M):\n",
    "    #we use a meet in the middle approach\n",
    "    R1 = R[:len(R)//4]\n",
    "    R2 = R[len(R)//4:]\n",
    "    \n",
    "    #precompute table for the first subset\n",
    "    print(\"computing table - searching through %s subsets\" % len(Subsets(R1)))\n",
    "    #table = {}\n",
    "    table  = []\n",
    "    table2 = []\n",
    "    for T1 in Subsets(R1):\n",
    "        if len(T1) > 1:\n",
    "            #print(T1)\n",
    "            #products are unique since they are made from primes\n",
    "            #table[inverse_mod(product(T1), M)] = T1\n",
    "            t = product(T1)\n",
    "            table.append(inverse_mod(t, M))\n",
    "            table2.append(t)\n",
    "    \n",
    "    print(\"table computed, length %s\" % len(table))\n",
    "    print(\"Starting search through the table\")\n",
    "    for T2 in Subsets(R2):\n",
    "        if len(T2) > 1:\n",
    "            t = product(T2) % M\n",
    "#             T1 = table.get(pr, 0)\n",
    "#             if T1 != 0:\n",
    "#                 T = list(set(T1 + T2))\n",
    "#                 C = product(T)\n",
    "#                 return C\n",
    "            if t in table:\n",
    "                idx = table.index(t)\n",
    "                C = table2[idx] * t\n",
    "                return C\n",
    "    return -1\n",
    "            \n",
    "    \n",
    "            \n",
    "    "
   ]
  },
  {
   "cell_type": "code",
   "execution_count": 20,
   "metadata": {},
   "outputs": [],
   "source": [
    "a_list = [2,3,5]\n",
    "a_list = [int(a) for a in a_list]"
   ]
  },
  {
   "cell_type": "code",
   "execution_count": 44,
   "metadata": {},
   "outputs": [
    {
     "data": {
      "text/plain": [
       "346500"
      ]
     },
     "execution_count": 44,
     "metadata": {},
     "output_type": "execute_result"
    }
   ],
   "source": [
    "M = generate_M(a_list, 20, 2)\n",
    "M"
   ]
  },
  {
   "cell_type": "code",
   "execution_count": 45,
   "metadata": {},
   "outputs": [],
   "source": [
    "#M = 2*5^3*7^2*11^2*13*17*19*23*29*31*37*41*61"
   ]
  },
  {
   "cell_type": "code",
   "execution_count": 46,
   "metadata": {},
   "outputs": [
    {
     "data": {
      "text/plain": [
       "2^2 * 3^2 * 5^3 * 7 * 11"
      ]
     },
     "execution_count": 46,
     "metadata": {},
     "output_type": "execute_result"
    }
   ],
   "source": [
    "factor(M)"
   ]
  },
  {
   "cell_type": "code",
   "execution_count": 47,
   "metadata": {},
   "outputs": [],
   "source": [
    "r_list = find_set_R(a_list, M, 256, 2^60)"
   ]
  },
  {
   "cell_type": "code",
   "execution_count": 48,
   "metadata": {},
   "outputs": [
    {
     "name": "stdout",
     "output_type": "stream",
     "text": [
      "computing table - searching through 64 subsets\n",
      "table computed, length 57\n",
      "Starting search through the table\n"
     ]
    }
   ],
   "source": [
    "C= find_subsets_T(r_list, M)"
   ]
  },
  {
   "cell_type": "code",
   "execution_count": 49,
   "metadata": {},
   "outputs": [
    {
     "data": {
      "text/plain": [
       "331 * 397 * 421 * 463 * 631 * 661 * 14851"
      ]
     },
     "execution_count": 49,
     "metadata": {},
     "output_type": "execute_result"
    }
   ],
   "source": [
    "factor(C)"
   ]
  },
  {
   "cell_type": "code",
   "execution_count": 50,
   "metadata": {},
   "outputs": [
    {
     "data": {
      "text/plain": [
       "'Composite'"
      ]
     },
     "execution_count": 50,
     "metadata": {},
     "output_type": "execute_result"
    }
   ],
   "source": [
    "miller_rabin_test_fixed(C, a_list)"
   ]
  },
  {
   "cell_type": "code",
   "execution_count": 52,
   "metadata": {},
   "outputs": [],
   "source": [
    "from sage.crypto.util import carmichael_lambda"
   ]
  },
  {
   "cell_type": "code",
   "execution_count": 53,
   "metadata": {},
   "outputs": [
    {
     "data": {
      "text/plain": [
       "207900"
      ]
     },
     "execution_count": 53,
     "metadata": {},
     "output_type": "execute_result"
    }
   ],
   "source": [
    "carmichael_lambda(C)"
   ]
  },
  {
   "cell_type": "code",
   "execution_count": null,
   "metadata": {},
   "outputs": [],
   "source": []
  }
 ],
 "metadata": {
  "kernelspec": {
   "display_name": "SageMath 9.1",
   "language": "sage",
   "name": "sagemath"
  },
  "language_info": {
   "codemirror_mode": {
    "name": "ipython",
    "version": 3
   },
   "file_extension": ".py",
   "mimetype": "text/x-python",
   "name": "python",
   "nbconvert_exporter": "python",
   "pygments_lexer": "ipython3",
   "version": "3.7.3"
  }
 },
 "nbformat": 4,
 "nbformat_minor": 2
}
