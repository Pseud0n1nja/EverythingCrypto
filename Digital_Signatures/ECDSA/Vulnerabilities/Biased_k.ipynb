{
 "cells": [
  {
   "cell_type": "markdown",
   "metadata": {},
   "source": [
    "# Prerequisites"
   ]
  },
  {
   "cell_type": "markdown",
   "metadata": {},
   "source": [
    "- ecdsa\n",
    "- LLL\n",
    "- **hidden number problem**\n",
    "    - https://kel.bz/post/hnp/"
   ]
  },
  {
   "cell_type": "markdown",
   "metadata": {},
   "source": [
    "# Theory"
   ]
  },
  {
   "cell_type": "markdown",
   "metadata": {},
   "source": [
    "- https://www.youtube.com/watch?v=6ssTlSSIJQE&t\n",
    "- https://eprint.iacr.org/2019/023.pdf"
   ]
  },
  {
   "cell_type": "markdown",
   "metadata": {},
   "source": [
    "## Setup"
   ]
  },
  {
   "cell_type": "markdown",
   "metadata": {},
   "source": [
    "Let\n",
    "- $m$ be a message with its hash $h$\n",
    "- $q$ be the order of the generator point $G$\n",
    "- $P = d*G$ where $d$ is the secret key\n",
    "- $(s, r)$ be a signature with  $r = x(k*G)$ and $s \\equiv k^{-1}(h + rd) \\ mod \\ q$"
   ]
  },
  {
   "cell_type": "markdown",
   "metadata": {},
   "source": [
    "Conside multiple message-signature pairs => we can make the system of equations\n",
    "\n",
    "$\\begin{align}\n",
    "k_1 - s_1^{-1}r_1d - s_1^{-1}h_1 \\equiv 0 \\ mod \\ q \\\\ \n",
    "k_2 - s_2^{-1}r_2d - s_2^{-1}h_1 \\equiv 0 \\ mod \\ q \\\\ \n",
    "\\vdots \\\\\n",
    "k_m - s_m^{-1}r_md - s_m^{-1}h_1 \\equiv 0 \\ mod \\ q \\\\ \n",
    "\\end{align}$\n",
    "\n",
    "with unknows $k_1, ... k_m, d$\n",
    "\n",
    "**Task**\n",
    "- If $k_i$ are small enough we can attack this system with lattice techniques to find $d$\n",
    "\n",
    "*Intuition*:\n",
    "There is likely that the system has 1 solution and the LLL can find it\n"
   ]
  },
  {
   "cell_type": "markdown",
   "metadata": {},
   "source": [
    "## The lattice basis"
   ]
  },
  {
   "cell_type": "markdown",
   "metadata": {},
   "source": [
    "- https://static.aminer.org/pdf/PDF/000/119/803/hardness_of_computing_the_most_significant_bits_of_secret_keys.pdf"
   ]
  },
  {
   "cell_type": "markdown",
   "metadata": {},
   "source": [
    "Let \n",
    "\n",
    "$\\begin{align}\n",
    "k_1 - t_1d - a_1 \\equiv 0 \\ mod \\ q \\\\ \n",
    "k_2 - t_2d - a_2 \\equiv 0 \\ mod \\ q \\\\ \n",
    "\\vdots \\\\\n",
    "k_m - t_md - a_m \\equiv 0 \\ mod \\ q \\\\ \n",
    "\\end{align}$\n",
    "\n",
    "be a system of equations with unknows $k_1, ... k_m, d$"
   ]
  },
  {
   "cell_type": "markdown",
   "metadata": {},
   "source": [
    "Let the matrix be:\n",
    "\n",
    "$M = \\begin{bmatrix}\n",
    "q & \\\\\n",
    "& q &\\\\\n",
    "&  & \\ddots \\\\\n",
    "&  & & q  \\\\\n",
    "t_1 & t_2 & \\dots & t_m\n",
    "\\end{bmatrix}\n",
    "$\n",
    "\n",
    "Solve CVP with $v_t = (a_1, ... a_m)$. Then $v_k = (k_1, ..., k_m)$ will be the distance\n",
    "\n",
    "*Intuition*: Since the nonces are small => $v_k$ will be small (the shortest distance)"
   ]
  },
  {
   "cell_type": "markdown",
   "metadata": {},
   "source": [
    "We like SVP better than CVP => Let's make a new lattice basis:\n",
    "$M = \\begin{bmatrix}\n",
    "q & \\\\\n",
    "& q &\\\\\n",
    "&  & \\ddots \\\\\n",
    "&  & & q  \\\\\n",
    "t_1 & t_2 & \\dots & t_m & B / q \\\\\n",
    "a_1 & a_2 & \\dots & a_m & &B \n",
    "\\end{bmatrix}\n",
    "$\n",
    "\n",
    "where\n",
    "- $|k_i| < B$; $B$ = some bound\n",
    "- $v_b = (k_1, ... k_m, Bd/ q, B)$ is a short vector that we search for\n",
    "\n",
    "**Remark**:\n",
    "- The scaling factors are not that easy to pick sometimes"
   ]
  },
  {
   "cell_type": "markdown",
   "metadata": {},
   "source": [
    "How does this work?\n",
    "- $\\dim L = m+2$\n",
    "- $\\det L = B^2q^{m-1}$\n",
    "- Ignoring approx LLL will find $|v| \\leq (\\det L )^{1/\\dim L}$\n",
    "- We are searching for a vector with length $v_k \\leq B\\sqrt{m + 2}$ => we expect to find $v_k$ when $\\log B \\leq \\lfloor \\log q(m-1)/m - (\\log m) / 2 \\rfloor$"
   ]
  },
  {
   "cell_type": "markdown",
   "metadata": {},
   "source": [
    "More signatures => The bigger nonce $k$ can be to find him\n",
    "\n",
    "| msg-sign pair | k bits | \n",
    "| ---| --- | \n",
    "| 2 | 128 |\n",
    "| 3 | 170 |\n",
    "| 4 | 190 |\n",
    "| 20 | 242 |\n",
    "| 40 | 248 |"
   ]
  },
  {
   "cell_type": "markdown",
   "metadata": {},
   "source": [
    "if $k_1$ and $k_2$ have the same MSB but different from 0 we can make a third signature with $k_1 -k_2 = 0$"
   ]
  },
  {
   "cell_type": "markdown",
   "metadata": {},
   "source": [
    "# Code"
   ]
  },
  {
   "cell_type": "code",
   "execution_count": 1,
   "metadata": {},
   "outputs": [],
   "source": [
    "from hashlib import sha1, sha256\n",
    "from Crypto.Util.number import bytes_to_long, long_to_bytes, inverse\n",
    "from ecdsa import ellipticcurve\n",
    "from ecdsa.ecdsa import curve_256, generator_256, Public_key, Private_key\n",
    "from random import randint"
   ]
  },
  {
   "cell_type": "code",
   "execution_count": 119,
   "metadata": {},
   "outputs": [],
   "source": [
    "G = generator_256\n",
    "q = int(G.order())\n",
    "p = int(curve_256.p())"
   ]
  },
  {
   "cell_type": "code",
   "execution_count": 178,
   "metadata": {},
   "outputs": [],
   "source": [
    "def short_biased_k(r_list, s_list, h_list, q, p, B):\n",
    "    #construct the system of equations\n",
    "    t_list = [inverse(s, q) * r % q for (s,r) in zip(s_list, r_list)]\n",
    "    a_list = [inverse(s, q) * h % q for (s,h) in zip(s_list, h_list)]\n",
    "    \n",
    "    #construct the lattice\n",
    "    m = len(a_list)\n",
    "    M = matrix(QQ, m+2, m+2)\n",
    "    for ii in range(m):\n",
    "        M[ii, ii] = q\n",
    "        M[-2, ii] = t_list[ii]\n",
    "        M[-1, ii] = a_list[ii]\n",
    "    M[-2, -2] = QQ(B) / QQ(q)\n",
    "    M[-1, -1] = QQ(B)\n",
    "    \n",
    "    #LLL\n",
    "    M_lll = M.LLL()\n",
    "    \n",
    "    #get the shortest vector\n",
    "    for v in M_lll:\n",
    "        if v[-1] == B:\n",
    "            v_short = v\n",
    "            break\n",
    "    k0 = v_short[0]\n",
    "    \n",
    "    #find d\n",
    "    d = inverse(r_list[0], q) * (k0*s_list[0] - h_list[0]) % q \n",
    "    \n",
    "    #other way to find d\n",
    "    for row in M_lll:\n",
    "        d2 = ((QQ(row[-2]) * q) / B) % q\n",
    "        print('d2', d2)\n",
    "        if d2 == d:\n",
    "            break\n",
    "            \n",
    "    return d\n",
    "    \n",
    "    "
   ]
  },
  {
   "cell_type": "code",
   "execution_count": 179,
   "metadata": {},
   "outputs": [
    {
     "name": "stdout",
     "output_type": "stream",
     "text": [
      "78233569010206382543609974545243090672494102024359526755479401759932800590088\n"
     ]
    }
   ],
   "source": [
    "d = randint(1,q-1)\n",
    "pubkey = Public_key(G, d*G)\n",
    "privkey = Private_key(pubkey, d)\n",
    "print(d)"
   ]
  },
  {
   "cell_type": "code",
   "execution_count": 180,
   "metadata": {},
   "outputs": [],
   "source": [
    "m_list = [b'secret_message', b'really_secret', b'impossible_to_decrypt']\n",
    "r_list = []\n",
    "s_list = []\n",
    "h_list = []\n",
    "k_list = [] #we'll check later\n",
    "for msg in m_list:\n",
    "    h = bytes_to_long(sha256(msg).digest())\n",
    "    h_list.append(h)\n",
    "    k = randint(1, 2^160)\n",
    "    k_list.append(k)\n",
    "    sig = privkey.sign(h, k)\n",
    "    r_list.append(int(sig.r))\n",
    "    s_list.append(int(sig.s))\n",
    "m = len(m_list)"
   ]
  },
  {
   "cell_type": "code",
   "execution_count": 181,
   "metadata": {},
   "outputs": [
    {
     "name": "stdout",
     "output_type": "stream",
     "text": [
      "169.874185416082\n"
     ]
    }
   ],
   "source": [
    "print((log(q, 2)*(m - 1) / m - log(m, 2) / 2).n()) #we need a b with less than 170b"
   ]
  },
  {
   "cell_type": "code",
   "execution_count": 182,
   "metadata": {},
   "outputs": [
    {
     "data": {
      "text/plain": [
       "158.855181110234"
      ]
     },
     "execution_count": 182,
     "metadata": {},
     "output_type": "execute_result"
    }
   ],
   "source": [
    "B = randint(1, 2^160)\n",
    "log(B, 2).n()"
   ]
  },
  {
   "cell_type": "code",
   "execution_count": 183,
   "metadata": {},
   "outputs": [
    {
     "data": {
      "text/plain": [
       "([159394761249490339290214015144489941551365124936,\n",
       "  674096406549759023274294788360403657125296846309,\n",
       "  1142303868707292817892744927113545949784629174848],\n",
       " 660958939502395930023228522171855983642744757342)"
      ]
     },
     "execution_count": 183,
     "metadata": {},
     "output_type": "execute_result"
    }
   ],
   "source": [
    "k_list, B"
   ]
  },
  {
   "cell_type": "code",
   "execution_count": 184,
   "metadata": {},
   "outputs": [
    {
     "name": "stdout",
     "output_type": "stream",
     "text": [
      "d2 0\n",
      "d2 78233569010206382543609974545243090672494102024359526755479401759932800590088\n"
     ]
    }
   ],
   "source": [
    "d_decr = short_biased_k(r_list, s_list, h_list, q, p,B)"
   ]
  },
  {
   "cell_type": "code",
   "execution_count": 185,
   "metadata": {},
   "outputs": [
    {
     "data": {
      "text/plain": [
       "78233569010206382543609974545243090672494102024359526755479401759932800590088"
      ]
     },
     "execution_count": 185,
     "metadata": {},
     "output_type": "execute_result"
    }
   ],
   "source": [
    "d_decr"
   ]
  },
  {
   "cell_type": "code",
   "execution_count": 186,
   "metadata": {},
   "outputs": [
    {
     "data": {
      "text/plain": [
       "True"
      ]
     },
     "execution_count": 186,
     "metadata": {},
     "output_type": "execute_result"
    }
   ],
   "source": [
    "d == d_decr"
   ]
  },
  {
   "cell_type": "markdown",
   "metadata": {},
   "source": [
    "# Resources"
   ]
  },
  {
   "cell_type": "markdown",
   "metadata": {},
   "source": [
    "- https://www.youtube.com/watch?v=6ssTlSSIJQE&t\n",
    "- https://crypto.stackexchange.com/questions/44644/how-does-the-biased-k-attack-on-ecdsa-work\n",
    "- https://www.youtube.com/watch?v=Prq6AHJz6SY&t"
   ]
  },
  {
   "cell_type": "code",
   "execution_count": null,
   "metadata": {},
   "outputs": [],
   "source": []
  }
 ],
 "metadata": {
  "kernelspec": {
   "display_name": "SageMath 9.1",
   "language": "sage",
   "name": "sagemath"
  },
  "language_info": {
   "codemirror_mode": {
    "name": "ipython",
    "version": 3
   },
   "file_extension": ".py",
   "mimetype": "text/x-python",
   "name": "python",
   "nbconvert_exporter": "python",
   "pygments_lexer": "ipython3",
   "version": "3.7.3"
  }
 },
 "nbformat": 4,
 "nbformat_minor": 2
}
