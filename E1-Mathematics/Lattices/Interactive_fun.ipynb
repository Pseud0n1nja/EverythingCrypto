{
 "cells": [
  {
   "cell_type": "code",
   "execution_count": 1,
   "metadata": {},
   "outputs": [],
   "source": [
    "from sage.modules.free_module_integer import IntegerLattice"
   ]
  },
  {
   "cell_type": "code",
   "execution_count": 2,
   "metadata": {},
   "outputs": [],
   "source": [
    "M = matrix([[-1, 2], [-2, 3]])\n",
    "L = IntegerLattice(M, lll_reduce=False)"
   ]
  },
  {
   "cell_type": "code",
   "execution_count": 3,
   "metadata": {},
   "outputs": [
    {
     "data": {
      "text/plain": [
       "(-1, 0)"
      ]
     },
     "execution_count": 3,
     "metadata": {},
     "output_type": "execute_result"
    }
   ],
   "source": [
    "L.shortest_vector()"
   ]
  },
  {
   "cell_type": "code",
   "execution_count": 5,
   "metadata": {},
   "outputs": [],
   "source": [
    "#IntegerLattice?"
   ]
  },
  {
   "cell_type": "code",
   "execution_count": 6,
   "metadata": {},
   "outputs": [
    {
     "data": {
      "text/plain": [
       "(0, -1)"
      ]
     },
     "execution_count": 6,
     "metadata": {},
     "output_type": "execute_result"
    }
   ],
   "source": [
    "B = M.LLL()\n",
    "B[0]"
   ]
  },
  {
   "cell_type": "code",
   "execution_count": 7,
   "metadata": {},
   "outputs": [],
   "source": [
    "M = matrix([[-1, 2], [-2, 3]])\n",
    "L = IntegerLattice(M, lll_reduce=False)"
   ]
  },
  {
   "cell_type": "code",
   "execution_count": 8,
   "metadata": {},
   "outputs": [
    {
     "data": {
      "text/plain": [
       "(2.00000000000000, 2.00000000000000)"
      ]
     },
     "execution_count": 8,
     "metadata": {},
     "output_type": "execute_result"
    }
   ],
   "source": [
    "w = vector([1.8, 1.5])\n",
    "L.closest_vector(w)"
   ]
  },
  {
   "cell_type": "code",
   "execution_count": 9,
   "metadata": {},
   "outputs": [],
   "source": [
    "M_ = M.LLL()"
   ]
  },
  {
   "cell_type": "code",
   "execution_count": 10,
   "metadata": {},
   "outputs": [
    {
     "data": {
      "text/plain": [
       "[ 0 -1]\n",
       "[-1  0]"
      ]
     },
     "execution_count": 10,
     "metadata": {},
     "output_type": "execute_result"
    }
   ],
   "source": [
    "M_"
   ]
  },
  {
   "cell_type": "markdown",
   "metadata": {},
   "source": [
    "# Integral lattice"
   ]
  },
  {
   "cell_type": "markdown",
   "metadata": {},
   "source": [
    "# Plot stuff"
   ]
  },
  {
   "cell_type": "code",
   "execution_count": 11,
   "metadata": {},
   "outputs": [],
   "source": [
    "M = matrix([[11, -7],\n",
    "           [5, 1/2]])"
   ]
  },
  {
   "cell_type": "code",
   "execution_count": 13,
   "metadata": {},
   "outputs": [
    {
     "data": {
      "application/vnd.jupyter.widget-view+json": {
       "model_id": "fd45b1290c0d42a2a099c8d223dec303",
       "version_major": 2,
       "version_minor": 0
      },
      "text/plain": [
       "Interactive function <function draw_lattice at 0x7fb08af2da20> with 9 widgets\n",
       "  v1x: EvalText(value='1', descr…"
      ]
     },
     "metadata": {},
     "output_type": "display_data"
    }
   ],
   "source": [
    "@interact\n",
    "def draw_lattice(v1x = input_box(label = \"v1 x =\", default = 1),\n",
    "                 v1y = input_box(label = \"v1 y =\", default = 0),\n",
    "                 v2x = input_box(label = \"v2 x =\", default = 0),\n",
    "                 v2y = input_box(label = \"v2 y =\", default = 1),\n",
    "                 box = 5, search = 10,\n",
    "                 plot_LLL = True,\n",
    "                 plot_circle = True,\n",
    "                 plot_fundamental_domain = True):\n",
    "\n",
    "    v1 = vector((v1x, v1y))\n",
    "    v2 = vector((v2x, v2y))\n",
    "    vecs = []\n",
    "    # Generate vectors\n",
    "    for i in range(-search,search):\n",
    "        for j in range(-search,search):\n",
    "            vecs.append(i*v1 + j*v2)\n",
    "    # Plot stuff\n",
    "    G = Graphics()\n",
    "    for p1 in vecs:\n",
    "        x1, y1 = p1\n",
    "        if x1 > -box and x1 < box and y1 > -box and y1 < box:\n",
    "            G += point(p1, color = 'green', size = 30)\n",
    "            G += line([p1, p1 + v2], linestyle = '--', alpha = .20)\n",
    "            G += line([p1, p1 + v1], linestyle = '--', alpha = .20)\n",
    "    G+= arrow((0, 0), v1, color = 'red', arrowsize = 2)\n",
    "    G+= arrow((0, 0), v2, color = 'red', arrowsize = 2)\n",
    "    G+= text('v1', v1 + .2 * v1, color = 'red')\n",
    "    G+= text('v2', v2 + .2 * v2, color = 'red')\n",
    "    \n",
    "    # LLL\n",
    "    if plot_LLL:\n",
    "        v1_, v2_ = matrix([v1, v2]).LLL()\n",
    "        G+= arrow((0, 0), v1_, color = 'purple', arrowsize = 2)\n",
    "        G+= arrow((0, 0), v2_, color = 'purple', arrowsize = 2)\n",
    "        if plot_circle:\n",
    "            G += circle(center = (0, 0), radius = norm(v1_) if norm(v1_) > norm(v2_) else norm(v2_), alpha = .5, color = 'purple')\n",
    "    # Fundamental mesh\n",
    "    if plot_fundamental_domain:\n",
    "        F = polygon([[0, 0], v1, v1 + v2, v2], color='red', alpha = .1)\n",
    "        G += F\n",
    "    G.show(axes = False, figsize = (7, 7))\n",
    "\n"
   ]
  },
  {
   "cell_type": "code",
   "execution_count": 14,
   "metadata": {},
   "outputs": [
    {
     "data": {
      "application/vnd.jupyter.widget-view+json": {
       "model_id": "05b68b83ee1f40cc90a346c9f817bd6a",
       "version_major": 2,
       "version_minor": 0
      },
      "text/plain": [
       "Interactive function <function draw_cvp at 0x7fb08acd68c0> with 8 widgets\n",
       "  v1x: EvalText(value='1', descripti…"
      ]
     },
     "metadata": {},
     "output_type": "display_data"
    }
   ],
   "source": [
    "@interact\n",
    "def draw_cvp(v1x = input_box(label = \"v1 x =\", default = 1),\n",
    "                 v1y = input_box(label = \"v1 y =\", default = 0),\n",
    "                 v2x = input_box(label = \"v2 x =\", default = 0),\n",
    "                 v2y = input_box(label = \"v2 y =\", default = 1),\n",
    "                 wx = input_box(label = \"w x =\", default = 1.8),\n",
    "                 wy = input_box(label = \"w y =\", default = 1.7),\n",
    "                 box = 5, search = 10,):\n",
    "\n",
    "    v1 = vector((v1x, v1y))\n",
    "    v2 = vector((v2x, v2y))\n",
    "    vecs = []\n",
    "    # Generate vectors\n",
    "    for i in range(-search,search):\n",
    "        for j in range(-search,search):\n",
    "            vecs.append(i*v1 + j*v2)\n",
    "    # Plot stuff\n",
    "    G = Graphics()\n",
    "    for p1 in vecs:\n",
    "        x1, y1 = p1\n",
    "        if x1 > -box and x1 < box and y1 > -box and y1 < box:\n",
    "            G += point(p1, color = 'green', size = 30)\n",
    "            G += line([p1, p1 + v2], linestyle = '--', alpha = .20)\n",
    "            G += line([p1, p1 + v1], linestyle = '--', alpha = .20)\n",
    "    G+= arrow((0, 0), v1, color = 'red', arrowsize = 2)\n",
    "    G+= arrow((0, 0), v2, color = 'red', arrowsize = 2)\n",
    "    G+= text('v1', v1 + .2 * v1, color = 'red')\n",
    "    G+= text('v2', v2 + .2 * v2, color = 'red')         \n",
    "    \n",
    "    # Cvp\n",
    "    L = IntegerLattice(matrix([v1, v2]))\n",
    "    w = vector((wx, wy))\n",
    "    t = L.closest_vector(w)\n",
    "    G += point(w, color = 'purple', size = 30)\n",
    "    G+= text('w', w + .2 * v1, color = 'purple')         \n",
    "\n",
    "    G += point(t, color = 'red', size = 30)\n",
    "    G+= text('t', t + .2 * v1, color = 'red')         \n",
    "    G+= circle(center = w, radius=norm(t - w), color = 'purple', alpha = .5)\n",
    "    G.show(axes = False, figsize = (5, 5))\n",
    "\n"
   ]
  },
  {
   "cell_type": "code",
   "execution_count": 15,
   "metadata": {},
   "outputs": [],
   "source": [
    "M = matrix(Zmod(7), [[2,0], [0,2]])\n",
    "M_ = M.inverse()"
   ]
  },
  {
   "cell_type": "code",
   "execution_count": 16,
   "metadata": {},
   "outputs": [
    {
     "data": {
      "text/plain": [
       "[4 0]\n",
       "[0 4]"
      ]
     },
     "execution_count": 16,
     "metadata": {},
     "output_type": "execute_result"
    }
   ],
   "source": [
    "M.inverse()"
   ]
  },
  {
   "cell_type": "code",
   "execution_count": 17,
   "metadata": {},
   "outputs": [
    {
     "data": {
      "application/vnd.jupyter.widget-view+json": {
       "model_id": "1edd29365fb243959fa13108eae68de4",
       "version_major": 2,
       "version_minor": 0
      },
      "text/plain": [
       "Interactive function <function draw_dual at 0x7fb08acd64d0> with 10 widgets\n",
       "  v1x: EvalText(value='1', descrip…"
      ]
     },
     "metadata": {},
     "output_type": "display_data"
    }
   ],
   "source": [
    "@interact\n",
    "def draw_dual(v1x = input_box(label = \"v1 x =\", default = 1),\n",
    "                 v1y = input_box(label = \"v1 y =\", default = 0),\n",
    "                 v2x = input_box(label = \"v2 x =\", default = 0),\n",
    "                 v2y = input_box(label = \"v2 y =\", default = 1),\n",
    "                 box = 3, search = 6,\n",
    "                 plot_lattice_points = True,\n",
    "                 plot_lattice_lines = True,\n",
    "                 plot_dual_points = True,\n",
    "                 plot_dual_lines = True):\n",
    "\n",
    "    v1 = vector((v1x, v1y))\n",
    "    v2 = vector((v2x, v2y))\n",
    "    vecs = []\n",
    "    v1_, v2_ = matrix([v1,v2]).inverse().T\n",
    "    vecs_ = []\n",
    "    # Generate vectors\n",
    "    for i in range(-search,search):\n",
    "        for j in range(-search,search):\n",
    "            vecs.append(i*v1 + j*v2)\n",
    "    for i in range(-search,search):\n",
    "        for j in range(-search,search):\n",
    "            vecs_.append(i*v1_ + j*v2_)\n",
    "    # Plot stuff\n",
    "    G = Graphics()\n",
    "    for p1 in vecs:\n",
    "        x1, y1 = p1\n",
    "        if x1 > -box and x1 < box and y1 > -box and y1 < box:\n",
    "            if plot_lattice_points:\n",
    "                G += point(p1, color = 'green', size = 70)\n",
    "            if plot_lattice_lines:\n",
    "                G += line([p1, p1 + v2], linestyle = '--', alpha = .20, color = 'green')\n",
    "                G += line([p1, p1 + v1], linestyle = '--', alpha = .20, color = 'green')\n",
    "    if plot_lattice_lines:\n",
    "        G+= arrow((0, 0), v1, color = 'green', arrowsize = 2)\n",
    "        G+= arrow((0, 0), v2, color = 'green', arrowsize = 2)\n",
    "        G+= text('v1', v1 + .2 * v1, color = 'green')\n",
    "        G+= text('v2', v2 + .2 * v2, color = 'green')\n",
    "    \n",
    "    # Dual\n",
    "    for p1 in vecs_:\n",
    "        x1, y1 = p1\n",
    "        if x1 > -box and x1 < box and y1 > -box and y1 < box:\n",
    "            if plot_dual_points:\n",
    "                G += point(p1, color = 'red', size = 25)\n",
    "            if plot_dual_lines:\n",
    "                G += line([p1, p1 + v2_], linestyle = '--', alpha = .20, color = 'red')\n",
    "                G += line([p1, p1 + v1_], linestyle = '--', alpha = .20, color = 'red')\n",
    "    if plot_dual_lines:\n",
    "        G+= arrow((0, 0), v1_, color = 'red', arrowsize = 2)\n",
    "        G+= arrow((0, 0), v2_, color = 'red', arrowsize = 2)\n",
    "        G+= text('v1\\'', v1_ + .2 * v1, color = 'red')\n",
    "        G+= text('v2\\'', v2_ + .2 * v2, color = 'red')\n",
    "    \n",
    "    G.show(axes = False, figsize = (7, 7))\n",
    "\n"
   ]
  },
  {
   "cell_type": "code",
   "execution_count": 18,
   "metadata": {},
   "outputs": [
    {
     "data": {
      "text/plain": [
       "(6, 1)"
      ]
     },
     "execution_count": 18,
     "metadata": {},
     "output_type": "execute_result"
    }
   ],
   "source": [
    "vector([-1, 1]).change_ring(Zmod(7))"
   ]
  },
  {
   "cell_type": "code",
   "execution_count": 21,
   "metadata": {},
   "outputs": [],
   "source": [
    "#line2d?"
   ]
  },
  {
   "cell_type": "code",
   "execution_count": 22,
   "metadata": {},
   "outputs": [
    {
     "data": {
      "application/vnd.jupyter.widget-view+json": {
       "model_id": "e5af3a2162d94133b285ce71dee038b5",
       "version_major": 2,
       "version_minor": 0
      },
      "text/plain": [
       "Interactive function <function draw_qary at 0x7fb08b1091b0> with 11 widgets\n",
       "  v1x: EvalText(value='1', descrip…"
      ]
     },
     "metadata": {},
     "output_type": "display_data"
    }
   ],
   "source": [
    "# I'm not sure this does what is supposed to do\n",
    "\n",
    "from sage.modules.free_module_integer import IntegerLattice\n",
    "@interact\n",
    "def draw_qary(v1x = input_box(label = \"v1 x =\", default = 1),\n",
    "                 v1y = input_box(label = \"v1 y =\", default = 0),\n",
    "                 v2x = input_box(label = \"v2 x =\", default = 0),\n",
    "                 v2y = input_box(label = \"v2 y =\", default = 1),\n",
    "                 q = input_box(label = \"q =\", default = 5),\n",
    "                 box = 7, search = 6,\n",
    "                 plot_lattice_points = True,\n",
    "                 plot_lattice_lines = True,\n",
    "                 plot_qary_points = True,\n",
    "                 plot_qary_lines = True):\n",
    "\n",
    "    v1 = vector((v1x, v1y))\n",
    "    v2 = vector((v2x, v2y))\n",
    "    L = IntegerLattice(matrix([v1, v2]))\n",
    "    vecs = []\n",
    "    v1_ = v1.change_ring(Zmod(q))\n",
    "    v2_ = v2.change_ring(Zmod(q))\n",
    "    vecs_ = []\n",
    "    # Generate vectors\n",
    "    for i in range(-search,search):\n",
    "        for j in range(-search,search):\n",
    "            v = i*v1 + j*v2\n",
    "            vecs.append(v)\n",
    "            v = v.change_ring(Zmod(q)).change_ring(ZZ)\n",
    "            if v not in vecs_:\n",
    "                vecs_.append(v)\n",
    "                \n",
    "    # Lattice\n",
    "    G = Graphics()\n",
    "    for p1 in vecs:\n",
    "        x1, y1 = p1\n",
    "        if x1 > -box and x1 < box and y1 > -box and y1 < box:\n",
    "            if plot_lattice_points:\n",
    "                G += point(p1, color = 'green', size = 70)\n",
    "            if plot_lattice_lines:\n",
    "                G += line([p1, p1 + v2], linestyle = '--', alpha = .20, color = 'green')\n",
    "                G += line([p1, p1 + v1], linestyle = '--', alpha = .20, color = 'green')\n",
    "    if plot_lattice_lines:\n",
    "        G+= arrow((0, 0), v1, color = 'green', arrowsize = 2)\n",
    "        G+= arrow((0, 0), v2, color = 'green', arrowsize = 2)\n",
    "        G+= text('v1', v1 + .2 * v1, color = 'green')\n",
    "        G+= text('v2', v2 + .2 * v2, color = 'green')\n",
    "    \n",
    "    # qary\n",
    "    for p1 in vecs_:\n",
    "        p1 = p1\n",
    "        x1, y1 = p1\n",
    "        if x1 > -box and x1 < box and y1 > -box and y1 < box:\n",
    "            if plot_qary_points:\n",
    "                G += point(p1, color = 'red', size = 25)\n",
    "            if plot_qary_lines:\n",
    "                G += line([p1, p1 + v2_], linestyle = '--', alpha = .20, color = 'red')\n",
    "                G += line([p1, p1 + v1_], linestyle = '--', alpha = .20, color = 'red')\n",
    "    if plot_qary_lines:\n",
    "        G+= arrow((0, 0), v1_, color = 'purple', arrowsize = 2)\n",
    "        G+= arrow((0, 0), v2_, color = 'purple', arrowsize = 2)\n",
    "        G+= text('v1\\'', v1_.change_ring(ZZ) + .2 * v1, color = 'purple')\n",
    "        G+= text('v2\\'', v2_.change_ring(ZZ) + .2 * v2, color = 'purple')\n",
    "    \n",
    "    G.show(axes = False, figsize = (10, 10))"
   ]
  },
  {
   "cell_type": "code",
   "execution_count": 27,
   "metadata": {},
   "outputs": [
    {
     "data": {
      "text/plain": [
       "(1, 0)"
      ]
     },
     "execution_count": 27,
     "metadata": {},
     "output_type": "execute_result"
    }
   ],
   "source": [
    "v1, v2 = matrix([[2, 0], [0, 2]]) \n",
    "q = 5\n",
    "v1_, v2_ = v1.change_ring(Zmod(q)), v2.change_ring(Zmod(q))\n",
    "\n",
    "v1_ * 3"
   ]
  },
  {
   "cell_type": "code",
   "execution_count": 28,
   "metadata": {},
   "outputs": [],
   "source": [
    "#lift?"
   ]
  },
  {
   "cell_type": "code",
   "execution_count": 29,
   "metadata": {},
   "outputs": [
    {
     "data": {
      "text/plain": [
       "(1, 0)"
      ]
     },
     "execution_count": 29,
     "metadata": {},
     "output_type": "execute_result"
    }
   ],
   "source": [
    "(v1_ * 3).lift()"
   ]
  },
  {
   "cell_type": "code",
   "execution_count": 30,
   "metadata": {},
   "outputs": [
    {
     "data": {
      "text/plain": [
       "[14641     0     0     0     0     0     0     0     0     0]\n",
       "[  431     1     0     0     0     0     0     0     0     0]\n",
       "[-4792     0     1     0     0     0     0     0     0     0]\n",
       "[ 1015     0     0     1     0     0     0     0     0     0]\n",
       "[-3086     0     0     0     1     0     0     0     0     0]\n",
       "[-5378     0     0     0     0     1     0     0     0     0]\n",
       "[ 4769     0     0     0     0     0     1     0     0     0]\n",
       "[-1159     0     0     0     0     0     0     1     0     0]\n",
       "[ 3082     0     0     0     0     0     0     0     1     0]\n",
       "[-4580     0     0     0     0     0     0     0     0     1]"
      ]
     },
     "execution_count": 30,
     "metadata": {},
     "output_type": "execute_result"
    }
   ],
   "source": [
    "A = sage.crypto.gen_lattice(type='random', n=1, m=10, q=11^4, seed=42)\n",
    "A"
   ]
  },
  {
   "cell_type": "code",
   "execution_count": 31,
   "metadata": {},
   "outputs": [],
   "source": [
    "m = 5 # lattice dimension\n",
    "\n",
    "B = sage.crypto.gen_lattice(m=m, q=11, seed=42)\n",
    "B_dual = sage.crypto.gen_lattice(m = m,  q=11, seed=42, dual=True)"
   ]
  },
  {
   "cell_type": "code",
   "execution_count": 32,
   "metadata": {},
   "outputs": [],
   "source": [
    "m = 10 # lattice dimension\n",
    "\n",
    "B = sage.crypto.gen_lattice(m=m, q=11, seed=42)\n",
    "B_dual = sage.crypto.gen_lattice(m = m,  q=11, seed=42, dual=True)\n",
    "\n",
    "l1 = IntegerLattice(B).shortest_vector().norm().n() \n",
    "l1d = IntegerLattice(B_dual).shortest_vector().norm().n() / 11\n",
    "\n",
    "B_dual_lll = B_dual.LLL()\n",
    "lnd = 0\n",
    "for v in B_dual_lll:\n",
    "    lv = v.norm()\n",
    "    if lv > lnd:\n",
    "        lnd = lv\n",
    "lnd = lnd.n() / 11"
   ]
  },
  {
   "cell_type": "code",
   "execution_count": 33,
   "metadata": {},
   "outputs": [
    {
     "data": {
      "text/plain": [
       "(True, True)"
      ]
     },
     "execution_count": 33,
     "metadata": {},
     "output_type": "execute_result"
    }
   ],
   "source": [
    "l1 * lnd > 1, l1 * l1d < m"
   ]
  },
  {
   "cell_type": "code",
   "execution_count": 34,
   "metadata": {},
   "outputs": [
    {
     "data": {
      "text/plain": [
       "True"
      ]
     },
     "execution_count": 34,
     "metadata": {},
     "output_type": "execute_result"
    }
   ],
   "source": [
    "l1 = IntegerLattice(B).shortest_vector().norm().n() \n",
    "l1d = IntegerLattice(B_dual).shortest_vector().norm().n() / 11\n",
    "l1 * l1d < m"
   ]
  },
  {
   "cell_type": "code",
   "execution_count": 35,
   "metadata": {},
   "outputs": [
    {
     "name": "stdout",
     "output_type": "stream",
     "text": [
      "[11  0  0  0  0  0  0  0  0  0]\n",
      "[ 0 11  0  0  0  0  0  0  0  0]\n",
      "[ 0  0 11  0  0  0  0  0  0  0]\n",
      "[ 0  0  0 11  0  0  0  0  0  0]\n",
      "[ 2  4  3  5  1  0  0  0  0  0]\n",
      "[ 1 -5 -4  2  0  1  0  0  0  0]\n",
      "[-4  3 -1  1  0  0  1  0  0  0]\n",
      "[-2 -3 -4 -1  0  0  0  1  0  0]\n",
      "[-5 -5  3  3  0  0  0  0  1  0]\n",
      "[-4 -3  2 -5  0  0  0  0  0  1]\n"
     ]
    }
   ],
   "source": [
    "print(B)"
   ]
  },
  {
   "cell_type": "code",
   "execution_count": 36,
   "metadata": {},
   "outputs": [
    {
     "name": "stdout",
     "output_type": "stream",
     "text": [
      "[ 0  0  0  0  0  0  0  0  0 11]\n",
      "[ 0  0  0  0  0  0  0  0 11  0]\n",
      "[ 0  0  0  0  0  0  0 11  0  0]\n",
      "[ 0  0  0  0  0  0 11  0  0  0]\n",
      "[ 0  0  0  0  0 11  0  0  0  0]\n",
      "[ 0  0  0  0 11  0  0  0  0  0]\n",
      "[ 0  0  0  1 -5 -2 -1  1 -3  5]\n",
      "[ 0  0  1  0 -3  4  1  4 -3 -2]\n",
      "[ 0  1  0  0 -4  5 -3  3  5  3]\n",
      "[ 1  0  0  0 -2 -1  4  2  5  4]\n"
     ]
    }
   ],
   "source": [
    "print(B_dual)"
   ]
  },
  {
   "cell_type": "code",
   "execution_count": 37,
   "metadata": {},
   "outputs": [],
   "source": [
    "#?sage.crypto.gen_lattice"
   ]
  },
  {
   "cell_type": "code",
   "execution_count": 38,
   "metadata": {},
   "outputs": [],
   "source": [
    "B_dual_ = (B.inverse().T * 11).change_ring(ZZ)"
   ]
  },
  {
   "cell_type": "code",
   "execution_count": 39,
   "metadata": {},
   "outputs": [
    {
     "data": {
      "text/plain": [
       "[ 1  0  0  0 -2 -1  4  2  5  4]\n",
       "[ 0  1  0  0 -4  5 -3  3  5  3]\n",
       "[ 0  0  1  0 -3  4  1  4 -3 -2]\n",
       "[ 0  0  0  1 -5 -2 -1  1 -3  5]\n",
       "[ 0  0  0  0 11  0  0  0  0  0]\n",
       "[ 0  0  0  0  0 11  0  0  0  0]\n",
       "[ 0  0  0  0  0  0 11  0  0  0]\n",
       "[ 0  0  0  0  0  0  0 11  0  0]\n",
       "[ 0  0  0  0  0  0  0  0 11  0]\n",
       "[ 0  0  0  0  0  0  0  0  0 11]"
      ]
     },
     "execution_count": 39,
     "metadata": {},
     "output_type": "execute_result"
    }
   ],
   "source": [
    "B_dual_"
   ]
  },
  {
   "cell_type": "code",
   "execution_count": 40,
   "metadata": {},
   "outputs": [
    {
     "data": {
      "text/plain": [
       "True"
      ]
     },
     "execution_count": 40,
     "metadata": {},
     "output_type": "execute_result"
    }
   ],
   "source": [
    "B_dual_.hermite_form() == B_dual.hermite_form()"
   ]
  },
  {
   "cell_type": "markdown",
   "metadata": {},
   "source": [
    "# Ajtai"
   ]
  },
  {
   "cell_type": "code",
   "execution_count": 41,
   "metadata": {},
   "outputs": [],
   "source": [
    "from Crypto.Util.number import long_to_bytes, bytes_to_long\n",
    "\n",
    "n, m, q = 20, 40, 1009\n",
    "set_random_seed(1337)\n",
    "A = random_matrix(Zmod(q),n, m)"
   ]
  },
  {
   "cell_type": "code",
   "execution_count": 42,
   "metadata": {},
   "outputs": [
    {
     "data": {
      "text/plain": [
       "Full MatrixSpace of 20 by 40 dense matrices over Ring of integers modulo 1009"
      ]
     },
     "execution_count": 42,
     "metadata": {},
     "output_type": "execute_result"
    }
   ],
   "source": [
    "A.parent()"
   ]
  },
  {
   "cell_type": "code",
   "execution_count": 43,
   "metadata": {},
   "outputs": [
    {
     "data": {
      "text/plain": [
       "Full MatrixSpace of 20 by 40 dense matrices over Integer Ring"
      ]
     },
     "execution_count": 43,
     "metadata": {},
     "output_type": "execute_result"
    }
   ],
   "source": [
    "A.lift().parent()"
   ]
  },
  {
   "cell_type": "code",
   "execution_count": 44,
   "metadata": {},
   "outputs": [
    {
     "name": "stdout",
     "output_type": "stream",
     "text": [
      "40\n"
     ]
    }
   ],
   "source": [
    "msg = b'msg'\n",
    "x = vector(Zmod(q), [int(i) for i in bin(bytes_to_long(msg))[2:].zfill(m)]) # pad message\n",
    "print(len(x))"
   ]
  },
  {
   "cell_type": "code",
   "execution_count": 45,
   "metadata": {},
   "outputs": [
    {
     "data": {
      "text/plain": [
       "(0, 0, 0, 0, 0, 0, 0, 0, 0, 0, 0, 0, 0, 0, 0, 0, 0, 1, 1, 0, 1, 1, 0, 1, 0, 1, 1, 1, 0, 0, 1, 1, 0, 1, 1, 0, 0, 1, 1, 1)"
      ]
     },
     "execution_count": 45,
     "metadata": {},
     "output_type": "execute_result"
    }
   ],
   "source": [
    "x"
   ]
  },
  {
   "cell_type": "code",
   "execution_count": 46,
   "metadata": {},
   "outputs": [
    {
     "data": {
      "text/plain": [
       "Vector space of dimension 40 over Ring of integers modulo 1009"
      ]
     },
     "execution_count": 46,
     "metadata": {},
     "output_type": "execute_result"
    }
   ],
   "source": [
    "x.parent()"
   ]
  },
  {
   "cell_type": "code",
   "execution_count": 47,
   "metadata": {},
   "outputs": [
    {
     "name": "stdout",
     "output_type": "stream",
     "text": [
      "20\n"
     ]
    }
   ],
   "source": [
    "print(len(A * x))"
   ]
  },
  {
   "cell_type": "code",
   "execution_count": null,
   "metadata": {},
   "outputs": [],
   "source": []
  }
 ],
 "metadata": {
  "kernelspec": {
   "display_name": "Python 3 (ipykernel)",
   "language": "python",
   "name": "python3"
  },
  "language_info": {
   "codemirror_mode": {
    "name": "ipython",
    "version": 3
   },
   "file_extension": ".py",
   "mimetype": "text/x-python",
   "name": "python",
   "nbconvert_exporter": "python",
   "pygments_lexer": "ipython3",
   "version": "3.9.7"
  }
 },
 "nbformat": 4,
 "nbformat_minor": 4
}
