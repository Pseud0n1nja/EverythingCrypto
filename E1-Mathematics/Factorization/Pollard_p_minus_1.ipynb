{
 "cells": [
  {
   "cell_type": "code",
   "execution_count": 4,
   "metadata": {
    "ExecuteTime": {
     "end_time": "2020-09-15T21:07:11.296155Z",
     "start_time": "2020-09-15T21:07:11.290152Z"
    }
   },
   "outputs": [],
   "source": [
    "from Crypto.Util.number import GCD as gcd\n",
    "from Crypto.Util.number import sieve_base"
   ]
  },
  {
   "cell_type": "markdown",
   "metadata": {},
   "source": [
    "# Prerequisites\n"
   ]
  },
  {
   "cell_type": "markdown",
   "metadata": {},
   "source": [
    "- modular arithmetic\n",
    "- divisibility\n",
    "- gcd"
   ]
  },
  {
   "cell_type": "markdown",
   "metadata": {},
   "source": [
    "# Theory "
   ]
  },
  {
   "cell_type": "markdown",
   "metadata": {},
   "source": [
    "Let $N = pq$ be the number we want to factor with $p,q$ prime. Then if $p-1$ is divisible by small primes we can efficiently factor $N$\n",
    "\n",
    "The essential observation is that, by working in the multiplicative group modulo a composite number $N$, we are also working in the multiplicative groups modulo all of $N$'s factors. \n",
    "\n",
    "- https://en.wikipedia.org/wiki/Pollard%27s_p_%E2%88%92_1_algorithm\n",
    "\n",
    "From Fermat's little theorem:\n",
    "$a^{p-1} \\equiv 1 \\bmod  p$ then $p$ divides $\\gcd(a^{p-1}-1, N)$\n",
    "\n",
    "*Idea*:\n",
    "- Since we don't know $p$ we choose some $k$ = product of powers of small primes and compute $\\gcd(a^{k-1}-1, N)$\n",
    "- If $p-1 | k$ then $p | a^k-1 => \\gcd(a^{k-1}-1, N) \\geq p >1$ \n",
    "    - $\\gcd(a^{k-1}-1, N) = 1$ we choose a larger $k$\n",
    "    - $\\gcd(a^{k-1}-1, N) = N$ we choose another $a$\n",
    "    - $\\gcd(a^{k-1}-1, N) \\neq N$ we found a factor on N\n",
    "    \n"
   ]
  },
  {
   "cell_type": "markdown",
   "metadata": {
    "ExecuteTime": {
     "end_time": "2020-09-15T21:17:24.915397Z",
     "start_time": "2020-09-15T21:17:24.911395Z"
    }
   },
   "source": [
    "# Code"
   ]
  },
  {
   "cell_type": "code",
   "execution_count": 8,
   "metadata": {
    "ExecuteTime": {
     "end_time": "2020-09-15T21:23:29.227713Z",
     "start_time": "2020-09-15T21:23:29.223710Z"
    }
   },
   "outputs": [],
   "source": [
    "def pollard_factorization(n: int, bound: int, a: int = 2):\n",
    "    \"\"\"Pollard p-1 factorization\n",
    "\n",
    "    Parameters\n",
    "    ----------\n",
    "    n : int\n",
    "        Integer to be factored\n",
    "\n",
    "    bound : int\n",
    "        Upper bound for the search\n",
    "\n",
    "    a : int, default = 2\n",
    "        starting value\n",
    "        \n",
    "    Returns\n",
    "    -------\n",
    "    int or None\n",
    "        a factor of n or None if none was found\n",
    "    \"\"\"\n",
    "    # you can choose a to be other values\n",
    "    for j in range(2, bound):\n",
    "        a = pow(a, j, n)  # a^(n+1)! = a^(n! * (n+1))\n",
    "        d = gcd(a - 1, n)\n",
    "        if 1 < d and d < n:\n",
    "            return d\n",
    "    return None"
   ]
  },
  {
   "cell_type": "code",
   "execution_count": 9,
   "metadata": {
    "ExecuteTime": {
     "end_time": "2020-09-15T21:23:29.587798Z",
     "start_time": "2020-09-15T21:23:29.583780Z"
    }
   },
   "outputs": [
    {
     "data": {
      "text/plain": [
       "3823"
      ]
     },
     "execution_count": 9,
     "metadata": {},
     "output_type": "execute_result"
    }
   ],
   "source": [
    "n = 13927189\n",
    "pollard_factorization(n, 15)"
   ]
  },
  {
   "cell_type": "code",
   "execution_count": 10,
   "metadata": {
    "ExecuteTime": {
     "end_time": "2020-09-15T21:23:30.850694Z",
     "start_time": "2020-09-15T21:23:30.846691Z"
    }
   },
   "outputs": [
    {
     "data": {
      "text/plain": [
       "350437"
      ]
     },
     "execution_count": 10,
     "metadata": {},
     "output_type": "execute_result"
    }
   ],
   "source": [
    "n = 168441398857\n",
    "pollard_factorization(n, 55)"
   ]
  },
  {
   "cell_type": "code",
   "execution_count": null,
   "metadata": {},
   "outputs": [],
   "source": []
  }
 ],
 "metadata": {
  "kernelspec": {
   "display_name": "Python 3 (ipykernel)",
   "language": "python",
   "name": "python3"
  },
  "language_info": {
   "codemirror_mode": {
    "name": "ipython",
    "version": 3
   },
   "file_extension": ".py",
   "mimetype": "text/x-python",
   "name": "python",
   "nbconvert_exporter": "python",
   "pygments_lexer": "ipython3",
   "version": "3.10.4"
  },
  "toc": {
   "base_numbering": 1,
   "nav_menu": {},
   "number_sections": true,
   "sideBar": true,
   "skip_h1_title": false,
   "title_cell": "Table of Contents",
   "title_sidebar": "Contents",
   "toc_cell": false,
   "toc_position": {},
   "toc_section_display": true,
   "toc_window_display": false
  }
 },
 "nbformat": 4,
 "nbformat_minor": 4
}
