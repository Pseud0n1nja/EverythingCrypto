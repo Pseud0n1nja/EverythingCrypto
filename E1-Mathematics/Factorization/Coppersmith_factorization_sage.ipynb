{
 "cells": [
  {
   "cell_type": "markdown",
   "metadata": {},
   "source": [
    "# Prerequisites"
   ]
  },
  {
   "cell_type": "markdown",
   "metadata": {},
   "source": [
    "- RSA\n",
    "- Coppersmith attacks"
   ]
  },
  {
   "cell_type": "markdown",
   "metadata": {},
   "source": [
    "# Theory"
   ]
  },
  {
   "cell_type": "markdown",
   "metadata": {},
   "source": [
    "Explanation https://youtu.be/RgbrpmJ49r4?t=2321"
   ]
  },
  {
   "cell_type": "markdown",
   "metadata": {},
   "source": [
    "**Theorem** Howgrave-Graham  \n",
    "Given a polynomial $f$ of degree $d$ and integer $N$, we can find in polynomial time roots $r$ modulo divisors $B$ of $N$ satisfying\n",
    "$$f(r) \\equiv 0 \\ \\bmod \\ B$$ \n",
    "for $|B| > N^\\beta$ when $|r| < N^{\\beta^2 / d}$\n",
    "\n",
    "Same idea as Coppersmith but we find a vector in a lattice less than $N^\\beta < B$"
   ]
  },
  {
   "cell_type": "markdown",
   "metadata": {},
   "source": [
    "**Theorem**:\n",
    "    \n",
    "Given half of the MSB / LSB bits of a factor $p$, we can factor and RSA modulus $N = pq$ in polynomial time\n",
    "\n",
    "**Proof**:\n",
    "\n",
    "Let $f(x) = x + a$ where $a$ are the MSB of $p$, and $r$ are the LSB of $p$, so $a+r = p$\n",
    "- $f(x) \\equiv 0 \\ \\bmod \\ p > N^{1/2}$\n",
    "- Apply Howgrave-Graham for $d = 1$ and $\\beta = 1/2 \\Rightarrow |r| < N^{\\beta^2/d} = N^{1/4}$\n"
   ]
  },
  {
   "cell_type": "markdown",
   "metadata": {},
   "source": [
    "We chose the polynomial basis:\n",
    "$(x+a)^2, x+a, N$ which corresponds to the lattice\n",
    "$$\\begin{bmatrix}\n",
    "R^2 & 2Ra & a^2 \\\\\n",
    "0 &R &a \\\\\n",
    "0 &0 &N\n",
    "\\end{bmatrix}\n",
    "$$\n",
    "with $\\dim L = 3$ and  $\\det L = R^3N$\n",
    "\n",
    "From LLL => $|v| \\approx \\det L^{1/\\dim L}$\n",
    "\n",
    "The algorithm will find the root $r$ when $|g(r)| \\leq |v| \\approx \\det L^{1/\\dim L} <p $"
   ]
  },
  {
   "cell_type": "markdown",
   "metadata": {},
   "source": [
    "# Code"
   ]
  },
  {
   "cell_type": "markdown",
   "metadata": {},
   "source": [
    "## Toy implementation"
   ]
  },
  {
   "cell_type": "code",
   "execution_count": 1,
   "metadata": {},
   "outputs": [],
   "source": [
    "p = random_prime(2^512)\n",
    "q = random_prime(2^512)\n",
    "N = p*q"
   ]
  },
  {
   "cell_type": "code",
   "execution_count": 2,
   "metadata": {},
   "outputs": [
    {
     "data": {
      "text/plain": [
       "'0x2a208254dd7c2af458778606170548404b20e58ce4d42b62ab2c0bb67f1ccf2b744f23390be31df630c437fd0ef8bd921e2ae7335cd32d045f68353b44df10ad'"
      ]
     },
     "execution_count": 2,
     "metadata": {},
     "output_type": "execute_result"
    }
   ],
   "source": [
    "#Delete 86 bits\n",
    "a = p - (p % 1 << 86)\n",
    "hex(a)"
   ]
  },
  {
   "cell_type": "code",
   "execution_count": 11,
   "metadata": {},
   "outputs": [
    {
     "data": {
      "text/plain": [
       "77371252455336267181195264"
      ]
     },
     "execution_count": 11,
     "metadata": {},
     "output_type": "execute_result"
    }
   ],
   "source": [
    "#Define the bound\n",
    "R = 1 << 86 # 2 ^86\n",
    "\n",
    "# The lattice matrix\n",
    "M = matrix([\n",
    "    [R^2, 2*R*a, a^2],\n",
    "    [0, R, a],\n",
    "    [0, 0, N]\n",
    "])\n",
    "R"
   ]
  },
  {
   "cell_type": "code",
   "execution_count": 6,
   "metadata": {},
   "outputs": [],
   "source": [
    "# Get the desired basis using LLL\n",
    "B = M.LLL()"
   ]
  },
  {
   "cell_type": "code",
   "execution_count": 13,
   "metadata": {},
   "outputs": [
    {
     "data": {
      "text/plain": [
       "-8983730112388468109345376900391223531774066957943554773713090848*x^2 + 416676948233725003993842292518121702864928552409734588110426667971366659548725479397154847*x"
      ]
     },
     "execution_count": 13,
     "metadata": {},
     "output_type": "execute_result"
    }
   ],
   "source": [
    "# Form the polynomial using the first vector B[0]\n",
    "Q = sum([B[0][i]* x^(2-i) / R^(2-i) for i in range(3)])\n",
    "Q"
   ]
  },
  {
   "cell_type": "code",
   "execution_count": 8,
   "metadata": {},
   "outputs": [
    {
     "data": {
      "text/plain": [
       "True"
      ]
     },
     "execution_count": 8,
     "metadata": {},
     "output_type": "execute_result"
    }
   ],
   "source": [
    "a + Q.roots(ring = ZZ)[0][0] == p"
   ]
  },
  {
   "cell_type": "markdown",
   "metadata": {},
   "source": [
    "## Sage implementation"
   ]
  },
  {
   "cell_type": "markdown",
   "metadata": {},
   "source": [
    "Sage has a function small_roots that applies coppersmith's theorem\n",
    "\n",
    "Source for code: https://github.com/ashutosh1206/Crypton/tree/master/RSA-encryption/Attack-Coppersmith"
   ]
  },
  {
   "cell_type": "code",
   "execution_count": 21,
   "metadata": {},
   "outputs": [
    {
     "data": {
      "text/plain": [
       "'0xe76e46985dbab1c8f95d60f046c93eb6816a7f759f7b20bb351c9d3cc2448a553cee99dd7457fac0b079f1a61e26aee79e3342e61ff6a7fb7c43dacb5b229d67'"
      ]
     },
     "execution_count": 21,
     "metadata": {},
     "output_type": "execute_result"
    }
   ],
   "source": [
    "p = random_prime(2^512)\n",
    "q = random_prime(2^512)\n",
    "N = p*q\n",
    "#Delete 86 bits\n",
    "a = p - (p% 1<<86)\n",
    "hex(a)"
   ]
  },
  {
   "cell_type": "code",
   "execution_count": 22,
   "metadata": {},
   "outputs": [],
   "source": [
    "f = x + a"
   ]
  },
  {
   "cell_type": "code",
   "execution_count": 23,
   "metadata": {},
   "outputs": [],
   "source": [
    "def factorization_n(f, N):\n",
    "    P.<x> = PolynomialRing(Zmod(N))\n",
    "    f = P(f)\n",
    "    beta = .5\n",
    "    dd = f.degree() # Degree of the polynomial (e for the above polynomial)\n",
    "    epsilon = beta/7 #\n",
    "    R = ceil(N**((beta**2/dd) - epsilon)) #The bound\n",
    "    r = f.small_roots(R, beta, epsilon)\n",
    "    return r"
   ]
  },
  {
   "cell_type": "code",
   "execution_count": 24,
   "metadata": {},
   "outputs": [],
   "source": [
    "r = factorization_n(f, N)"
   ]
  },
  {
   "cell_type": "code",
   "execution_count": 25,
   "metadata": {},
   "outputs": [
    {
     "data": {
      "text/plain": [
       "True"
      ]
     },
     "execution_count": 25,
     "metadata": {},
     "output_type": "execute_result"
    }
   ],
   "source": [
    "a + r[0] == p"
   ]
  },
  {
   "cell_type": "markdown",
   "metadata": {},
   "source": [
    "# Resources:"
   ]
  },
  {
   "cell_type": "markdown",
   "metadata": {},
   "source": [
    "- [Coppersmith paper](https://cr.yp.to/bib/2001/coppersmith.pdf)\n",
    "- LLL for RSA - A survey: https://citeseerx.ist.psu.edu/viewdoc/download?doi=10.1.1.86.9408&rep=rep1&type=pdf"
   ]
  },
  {
   "cell_type": "code",
   "execution_count": null,
   "metadata": {},
   "outputs": [],
   "source": []
  }
 ],
 "metadata": {
  "kernelspec": {
   "display_name": "SageMath 9.5",
   "language": "sage",
   "name": "sagemath"
  },
  "language_info": {
   "codemirror_mode": {
    "name": "ipython",
    "version": 3
   },
   "file_extension": ".py",
   "mimetype": "text/x-python",
   "name": "python",
   "nbconvert_exporter": "python",
   "pygments_lexer": "ipython3",
   "version": "3.10.4"
  }
 },
 "nbformat": 4,
 "nbformat_minor": 4
}
