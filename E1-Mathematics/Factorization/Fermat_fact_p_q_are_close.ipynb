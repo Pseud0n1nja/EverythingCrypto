{
 "cells": [
  {
   "cell_type": "code",
   "execution_count": 1,
   "metadata": {
    "ExecuteTime": {
     "end_time": "2020-08-30T07:32:04.694706Z",
     "start_time": "2020-08-30T07:32:04.688702Z"
    }
   },
   "outputs": [],
   "source": [
    "import numpy as np\n",
    "import math\n",
    "from Crypto.Util.number import getPrime, inverse, bytes_to_long, long_to_bytes, isPrime, GCD\n",
    "import random\n",
    "\n",
    "#helper functions\n",
    "\n",
    "def isqrt(n):\n",
    "    x = n\n",
    "    y = (x + 1) // 2\n",
    "    while y < x:\n",
    "        x = y\n",
    "        y = (x + n // x) // 2\n",
    "    return x\n",
    "\n",
    "    \n",
    "def is_square(apositiveint):\n",
    "    x = apositiveint // 2\n",
    "    seen = set([x])\n",
    "    while x * x != apositiveint:\n",
    "        x = (x + (apositiveint // x)) // 2\n",
    "        if x in seen: return False\n",
    "        seen.add(x)\n",
    "    return True"
   ]
  },
  {
   "cell_type": "markdown",
   "metadata": {},
   "source": [
    "# Prerequisites"
   ]
  },
  {
   "cell_type": "markdown",
   "metadata": {},
   "source": [
    "* $a^2 - b^2 = (a+b)(a-b)$"
   ]
  },
  {
   "cell_type": "markdown",
   "metadata": {
    "ExecuteTime": {
     "end_time": "2020-08-30T06:53:12.064452Z",
     "start_time": "2020-08-30T06:53:12.061450Z"
    }
   },
   "source": [
    "# Theory"
   ]
  },
  {
   "cell_type": "markdown",
   "metadata": {},
   "source": [
    "[Video Explanation](https://www.youtube.com/watch?v=tUUE41Gc5Q8&list=PLKXdxQAT3tCssgaWOy5vKXAR4WTPpRVYK&index=70)"
   ]
  },
  {
   "cell_type": "markdown",
   "metadata": {},
   "source": [
    "Let $N$ be the number to be factored\n",
    "\n",
    "[Every odd number is a difference of two squares](https://math.stackexchange.com/questions/263101/prove-every-odd-integer-is-the-difference-of-two-squares)\n",
    "\n",
    "$N = a^2 - b^2 = (a+b)(a-b) \\\\\n",
    "\\text{Let} \\\\\n",
    "a = p+q \\\\\n",
    "b = p-q \\\\\n",
    "a + b = 2p\\\\\n",
    "a - b = 2q\\\\\n",
    "\\text{Then} \\ N = pq = \\left( \\dfrac {p + q} 2 \\right) ^2 -  \\left( \\dfrac {p - q} 2 \\right) ^2 \n",
    "$\n"
   ]
  },
  {
   "cell_type": "markdown",
   "metadata": {
    "ExecuteTime": {
     "end_time": "2020-08-30T07:18:28.478808Z",
     "start_time": "2020-08-30T07:18:28.474802Z"
    }
   },
   "source": [
    "**Task**:\n",
    "\n",
    "Find $b^2$ such that $N+b^2 = a^2$"
   ]
  },
  {
   "cell_type": "markdown",
   "metadata": {},
   "source": [
    "## Solution 1:  Try all"
   ]
  },
  {
   "cell_type": "markdown",
   "metadata": {},
   "source": [
    "1. Try all $k = 1, 2, ....$ until we find a $N + k^2 = \\text{square}$  \n",
    "\n",
    "or\n",
    "\n",
    "2. Let $k$ be the smallest positive integer s.t $k^2 > n$ =>  $k = \\lceil \\sqrt(n) \\rceil$  \n",
    "* if $k^2-n = h^2$ then $n = (k+h)(k-h)$\n",
    "* else increment k"
   ]
  },
  {
   "cell_type": "markdown",
   "metadata": {},
   "source": [
    "**Efficiency trick**: $(k+1)^2 = k^2 + 2squaresk + 1$ => we can find the next square recursively"
   ]
  },
  {
   "cell_type": "markdown",
   "metadata": {},
   "source": [
    "# Code"
   ]
  },
  {
   "cell_type": "code",
   "execution_count": 2,
   "metadata": {
    "ExecuteTime": {
     "end_time": "2020-08-30T07:44:52.672764Z",
     "start_time": "2020-08-30T07:44:52.668762Z"
    }
   },
   "outputs": [],
   "source": [
    "# 2nd try all\n",
    "\n",
    "def fermat_fact(N):\n",
    "    a = isqrt(N) + 1\n",
    "    b2 = pow(a, 2) - N\n",
    "    while not is_square(b2):\n",
    "        b2 = b2 + 2*a + 1\n",
    "        a = a+1\n",
    "    return a - isqrt(b2), a+ isqrt(b2) #the factors of N"
   ]
  },
  {
   "cell_type": "code",
   "execution_count": 3,
   "metadata": {
    "ExecuteTime": {
     "end_time": "2020-08-30T07:42:23.966274Z",
     "start_time": "2020-08-30T07:42:23.962256Z"
    }
   },
   "outputs": [],
   "source": [
    "n = 383347712330877040452238619329524841763392526146840572232926924642094891453979246383798913394114305368360426867021623649667024217266529000859703542590316063318592391925062014229671423777796679798747131250552455356061834719512365575593221216339005132464338847195248627639623487124025890693416305788160905762011825079336880567461033322240015771102929696350161937950387427696385850443727777996483584464610046380722736790790188061964311222153985614287276995741553706506834906746892708903948496564047090014307484054609862129530262108669567834726352078060081889712109412073731026030466300060341737504223822014714056413752165841749368159510588178604096191956750941078391415634472219765129561622344109769892244712668402761549412177892054051266761597330660545704317210567759828757156904778495608968785747998059857467440128156068391746919684258227682866083662345263659558066864109212457286114506228470930775092735385388316268663664139056183180238043386636254075940621543717531670995823417070666005930452836389812129462051771646048498397195157405386923446893886593048680984896989809135802276892911038588008701926729269812453226891776546037663583893625479252643042517196958990266376741676514631089466493864064316127648074609662749196545969926051"
   ]
  },
  {
   "cell_type": "code",
   "execution_count": 4,
   "metadata": {
    "ExecuteTime": {
     "end_time": "2020-08-30T07:42:33.436997Z",
     "start_time": "2020-08-30T07:42:33.410978Z"
    }
   },
   "outputs": [],
   "source": [
    "p, q = fermat_fact(n)"
   ]
  },
  {
   "cell_type": "code",
   "execution_count": 5,
   "metadata": {
    "ExecuteTime": {
     "end_time": "2020-08-30T07:42:38.838559Z",
     "start_time": "2020-08-30T07:42:38.834542Z"
    }
   },
   "outputs": [
    {
     "data": {
      "text/plain": [
       "True"
      ]
     },
     "execution_count": 5,
     "metadata": {},
     "output_type": "execute_result"
    }
   ],
   "source": [
    "p*q == n"
   ]
  },
  {
   "cell_type": "markdown",
   "metadata": {},
   "source": [
    "# Resources"
   ]
  },
  {
   "cell_type": "markdown",
   "metadata": {},
   "source": [
    "* https://en.wikipedia.org/wiki/Fermat%27s_factorization_method#Basic_method\n",
    "* https://www.nku.edu/~christensen/Mathematical%20attack%20on%20RSA.pdf\n",
    "* https://mathworld.wolfram.com/FermatsFactorizationMethod.html\n",
    "* https://www.geeksforgeeks.org/fermats-factorization-method/"
   ]
  },
  {
   "cell_type": "code",
   "execution_count": null,
   "metadata": {},
   "outputs": [],
   "source": []
  }
 ],
 "metadata": {
  "kernelspec": {
   "display_name": "Python 3 (ipykernel)",
   "language": "python",
   "name": "python3"
  },
  "language_info": {
   "codemirror_mode": {
    "name": "ipython",
    "version": 3
   },
   "file_extension": ".py",
   "mimetype": "text/x-python",
   "name": "python",
   "nbconvert_exporter": "python",
   "pygments_lexer": "ipython3",
   "version": "3.10.4"
  },
  "toc": {
   "base_numbering": 1,
   "nav_menu": {},
   "number_sections": true,
   "sideBar": true,
   "skip_h1_title": false,
   "title_cell": "Table of Contents",
   "title_sidebar": "Contents",
   "toc_cell": false,
   "toc_position": {},
   "toc_section_display": true,
   "toc_window_display": false
  }
 },
 "nbformat": 4,
 "nbformat_minor": 4
}
