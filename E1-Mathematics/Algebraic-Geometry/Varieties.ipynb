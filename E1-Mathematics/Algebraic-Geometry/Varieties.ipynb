{
 "cells": [
  {
   "cell_type": "markdown",
   "metadata": {},
   "source": [
    "# Prerequisites\n",
    "- Strong Abstract algebra\n"
   ]
  },
  {
   "cell_type": "markdown",
   "metadata": {},
   "source": [
    "## Recap"
   ]
  },
  {
   "cell_type": "markdown",
   "metadata": {},
   "source": [
    "### Groups\n",
    "**Definition**\n",
    "Let $G$ be a set with the $\\cdot$ operation. Then $(G, \\cdot)$ is a group $\\iff$\n",
    "1. $a, b \\in G \\Rightarrow ab \\in G$ - **closure**\n",
    "2. $a, b, c \\in G \\Rightarrow (ab)c = a(bc)$ - **Assiociativity**\n",
    "3. $\\exists \\ e \\in G \\ s.t \\ ae = ea = e, \\ \\forall \\ a \\in G$ - **Identity**\n",
    "4. $\\forall \\ a \\in G \\ \\exists a' \\in G \\ s.t. \\ aa' = a'a = e$ - **Inverses**\n",
    "\n",
    "Abelian groups: $\\forall \\ a, b, \\in G \\Rightarrow ab = ba $ "
   ]
  },
  {
   "cell_type": "markdown",
   "metadata": {},
   "source": [
    "### Rings\n",
    "\n",
    "$(R, +, \\cdot)$ where\n",
    "- $(R, +)$ is a group\n",
    "- Multiplicative identity:  $1a = a1 = a$\n",
    "- $a(bc) = (ab)c$\n",
    "- $a(b + c) = ab + ac$ and $(b+c)a = ba + ca$\n",
    "\n",
    "**Properties**\n",
    "- $a0 = 0a = 0$\n",
    "- $a(-b) = (-a)b = -(ab)$\n",
    "- $(-a)(-b) = ab$\n",
    "\n",
    "**Characteristic of a ring $R$**\n",
    "> least positive integer $n$ s.t. $nx = 0 \\ \\forall x \\in R$\n",
    "> Notation: $char R$\n"
   ]
  },
  {
   "cell_type": "code",
   "execution_count": 2,
   "metadata": {},
   "outputs": [
    {
     "data": {
      "text/plain": [
       "(Ring of integers modulo 11, Integer Ring)"
      ]
     },
     "execution_count": 2,
     "metadata": {},
     "output_type": "execute_result"
    }
   ],
   "source": [
    "Zmod(11), ZZ"
   ]
  },
  {
   "cell_type": "code",
   "execution_count": 3,
   "metadata": {},
   "outputs": [
    {
     "data": {
      "text/plain": [
       "11"
      ]
     },
     "execution_count": 3,
     "metadata": {},
     "output_type": "execute_result"
    }
   ],
   "source": [
    "Zmod(11).characteristic()"
   ]
  },
  {
   "cell_type": "code",
   "execution_count": 4,
   "metadata": {},
   "outputs": [
    {
     "data": {
      "text/plain": [
       "Univariate Polynomial Ring in x over Integer Ring"
      ]
     },
     "execution_count": 4,
     "metadata": {},
     "output_type": "execute_result"
    }
   ],
   "source": [
    "R.<x> = ZZ[]\n",
    "R"
   ]
  },
  {
   "cell_type": "code",
   "execution_count": 5,
   "metadata": {},
   "outputs": [
    {
     "data": {
      "text/plain": [
       "Univariate Polynomial Ring in x over Integer Ring"
      ]
     },
     "execution_count": 5,
     "metadata": {},
     "output_type": "execute_result"
    }
   ],
   "source": [
    "PolynomialRing(ZZ, 'x')"
   ]
  },
  {
   "cell_type": "markdown",
   "metadata": {},
   "source": [
    "### Ideals\n",
    "\n",
    "For a ring $R$, a subset $I$ is a left ideal of $R$ if it's an **additive subgroup** of $R$ that satisfies:\n",
    "1. $(I, +)$ is a subgroups of $(R, +)$\n",
    "2. $\\forall \\ r \\in R$ and $\\forall \\ a \\in I \\Rightarrow ra \\in I$\n",
    "\n",
    "**Ideal tests**\n",
    "A nonempty subset $I$ of a ring $R$ is an ideal of $R$ if\n",
    "1. $a - b \\in I$ whenever $a, b \\in I$\n",
    "2. $ra$ and $ar \\in I$ whenever $a \\in I$ and $r \\in R$\n",
    "\n",
    "Example:\n",
    "- $\\forall n \\in \\mathbb{N}$ the set $n\\mathbb{Z}$ is an ideal of $\\mathbb Z$"
   ]
  },
  {
   "cell_type": "code",
   "execution_count": 6,
   "metadata": {},
   "outputs": [
    {
     "data": {
      "text/plain": [
       "(Principal ideal (2) of Integer Ring, Principal ideal (3) of Integer Ring)"
      ]
     },
     "execution_count": 6,
     "metadata": {},
     "output_type": "execute_result"
    }
   ],
   "source": [
    "#Examples\n",
    "I = ZZ.ideal(2)\n",
    "I, 3 * ZZ"
   ]
  },
  {
   "cell_type": "code",
   "execution_count": 7,
   "metadata": {},
   "outputs": [
    {
     "data": {
      "text/plain": [
       "14"
      ]
     },
     "execution_count": 7,
     "metadata": {},
     "output_type": "execute_result"
    }
   ],
   "source": [
    "I.random_element()"
   ]
  },
  {
   "cell_type": "markdown",
   "metadata": {},
   "source": [
    "### Fields\n",
    "$(K, +, \\cdot)$ is a field $\\iff$\n",
    "1. $(K, +)$ = abelian group\n",
    "2. $(K^*, \\cdot)$ = abelian group\n",
    "3. $a(b+c) = ab + ac \\ \\forall a, b, c \\in K$\n",
    "\n",
    "Ex: $\\mathbb{Q}$, $\\mathbb{F}_2$"
   ]
  },
  {
   "cell_type": "code",
   "execution_count": 9,
   "metadata": {},
   "outputs": [
    {
     "data": {
      "text/plain": [
       "(Rational Field, Finite Field of size 2)"
      ]
     },
     "execution_count": 9,
     "metadata": {},
     "output_type": "execute_result"
    }
   ],
   "source": [
    "QQ, GF(2)"
   ]
  },
  {
   "cell_type": "markdown",
   "metadata": {},
   "source": [
    "**Extension fields**\n",
    "> A field $L$ is an extension field of a field $K$ if $K \\subseteq L$ and the operations of $K$ are those of $L$ restricted to $K$.\n",
    "\n",
    "**Example**\n",
    "- For the field $\\mathbb{Q}$ the smallest extension field that contains $\\sqrt 2$ is $\\mathbb{Q (\\sqrt 2)} = \\{a+b\\sqrt 2 : a,b \\in \\mathbb{Q}\\}$\n",
    "\t- $\\mathbb Q \\sqrt 2$ has the roots of $f(x) = x^2 - 2 \\Rightarrow \\mathbb Q \\sqrt 2$ is called **splitting field** of $x^2 - 2$"
   ]
  },
  {
   "cell_type": "code",
   "execution_count": 10,
   "metadata": {},
   "outputs": [
    {
     "data": {
      "text/plain": [
       "Field in z4 with defining polynomial x^2 + (4*z2 + 3)*x + z2 over its base"
      ]
     },
     "execution_count": 10,
     "metadata": {},
     "output_type": "execute_result"
    }
   ],
   "source": [
    "GF(5^4).over(GF(5^2))"
   ]
  },
  {
   "cell_type": "code",
   "execution_count": 9,
   "metadata": {},
   "outputs": [
    {
     "name": "stdout",
     "output_type": "stream",
     "text": [
      "Number Field in sqrt2 with defining polynomial x^2 - 2 with sqrt2 = 1.414213562373095?\n",
      "-2*sqrt2 - 2\n"
     ]
    }
   ],
   "source": [
    "## Q(sqrt(2))\n",
    "K = QQ[sqrt(2)]\n",
    "print(K)\n",
    "print(K.random_element())"
   ]
  },
  {
   "cell_type": "code",
   "execution_count": 10,
   "metadata": {},
   "outputs": [
    {
     "name": "stdout",
     "output_type": "stream",
     "text": [
      "Number Field in a with defining polynomial x^2 - 2\n",
      "x^2 - 2\n",
      "0\n"
     ]
    }
   ],
   "source": [
    "K.<a> = NumberField(x^2 - 2)\n",
    "p = K.polynomial()\n",
    "print(K)\n",
    "print(p)\n",
    "print(p(a))"
   ]
  },
  {
   "cell_type": "code",
   "execution_count": 11,
   "metadata": {},
   "outputs": [
    {
     "data": {
      "text/plain": [
       "Number Field in a with defining polynomial x^2 - 2"
      ]
     },
     "execution_count": 11,
     "metadata": {},
     "output_type": "execute_result"
    }
   ],
   "source": [
    "# splitting fields\n",
    "R.<x> = PolynomialRing(QQ)\n",
    "p = x^2 - 2\n",
    "\n",
    "p.splitting_field('a')"
   ]
  },
  {
   "cell_type": "code",
   "execution_count": 20,
   "metadata": {},
   "outputs": [],
   "source": [
    "# Any 2 splitting fields are isomorphic (not unique)\n",
    "p1 = (x^2 - 2)\n",
    "p2 = (x^2 + 1)\n",
    "\n",
    "K1 = p.splitting_field(names = 'a')\n",
    "K2 = p.splitting_field(names = 'b')\n",
    "\n",
    "K1.is_isomorphic(K2)"
   ]
  },
  {
   "cell_type": "markdown",
   "metadata": {},
   "source": [
    "## Algebraic extensions\n",
    "\n",
    "- https://en.wikipedia.org/wiki/Algebraic_element\n",
    "- https://en.wikipedia.org/wiki/Algebraic_extension\n",
    "\n",
    "Let $L$ be an extension field of a field $K$ \n",
    "\n",
    "**Algebraic element**  \n",
    "Let $a \\in L$.\n",
    "> We call $a$ **algebraic**  over $K$ if $a$ is the zero of some nonzero polynomial in $K[x]$ $$\\exists g(x) \\in K, g(x) \\neq 0 \\ s.t. \\ g(a) = 0$$  \n",
    "> If $a$ is not algebraic over $K$, it is called **transcendental** over $K$.\n",
    "\n",
    "Ex: For $\\mathbb{Q}$\n",
    "- $\\sqrt[5] 2$ is algebraic because it's a root of $x^5 - 2$\n",
    "- $\\pi, e \\in \\mathbb R$ are trancedentai\n",
    "\n",
    "**Theorem**\n",
    "> If $a$ is algebraic over $K$ then $a$ is in an extension of $K$"
   ]
  },
  {
   "attachments": {
    "4617c0ad-f961-49e4-a9c0-11088c784e02.png": {
     "image/png": "[encoded data removed]"
    }
   },
   "cell_type": "markdown",
   "metadata": {},
   "source": [
    "**Algebraic extension**\n",
    "> An extension $L$ of $K$ is called an **algebraic extension** of $K$ if every element of $L$ is algebraic  over $K$.\n",
    "> Notation: $L/K$  \n",
    "> If $L$ is not an algebraic extension of $K$, it is called a **transcendental extension** of $K$.\n",
    "\n",
    "An extension of $K$ of the form $K(a)$ is called a simple extension of $K$.\n",
    "\n",
    "Ex: $\\sqrt 2$ is algebraic over $\\mathbb Q$ since is the root of $x^2 - 2$\n",
    "\n",
    "**Remark**\n",
    "- If $L$ is a finite extension of $K$, then $L$ is an algebraic extension of $K$.\n",
    "- if $F/L$ and $L/K$ then $F/K$\n",
    "\n",
    "![image.png](attachment:4617c0ad-f961-49e4-a9c0-11088c784e02.png)"
   ]
  },
  {
   "cell_type": "markdown",
   "metadata": {},
   "source": [
    "**Algebraic closure**\n",
    "\n",
    "- https://www.youtube.com/watch?v=lS9AHyACGm8&list=PL8yHsr3EFj53Zxu3iRGMYL_89GDMvdkgt&index=4\n",
    "\n",
    "An algebraic closure $\\bar K$ of a field $K$ is an algebraic extension of $K$ that is algebraically closed (every non-constant polynomial in $K[x]$ has a root in $K$). - https://en.wikipedia.org/wiki/Algebraic_closure\n",
    "\n",
    "Construction:\n",
    "1. List all polys in $K[x]: p_1, p_2, ...$\n",
    "2. $K = K_0 \\underbrace{\\subset}_{\\text{extended to}} \\underbrace{K_1}_{\\text{splitting field of $p_1$}} \\subset K_2 \\subset ... \\Rightarrow \\bar K$ = union of all the fields\n",
    "\n",
    "Ex: for $\\mathbb R$ the algebraic closure is $\\mathbb{C}$"
   ]
  },
  {
   "cell_type": "code",
   "execution_count": 4,
   "metadata": {},
   "outputs": [
    {
     "data": {
      "text/plain": [
       "True"
      ]
     },
     "execution_count": 4,
     "metadata": {},
     "output_type": "execute_result"
    }
   ],
   "source": [
    "CC == RR.algebraic_closure()"
   ]
  },
  {
   "cell_type": "code",
   "execution_count": 23,
   "metadata": {},
   "outputs": [
    {
     "data": {
      "text/plain": [
       "Algebraic Field"
      ]
     },
     "execution_count": 23,
     "metadata": {},
     "output_type": "execute_result"
    }
   ],
   "source": [
    "K = NumberField(x^2 - 2, names = 'a')\n",
    "K.algebraic_closure()"
   ]
  },
  {
   "cell_type": "markdown",
   "metadata": {},
   "source": [
    "# Theory"
   ]
  },
  {
   "cell_type": "markdown",
   "metadata": {},
   "source": [
    "For this notebook we consider the following\n",
    "- $K$ = perfect field (every algebraic extension is separable)"
   ]
  },
  {
   "cell_type": "markdown",
   "metadata": {},
   "source": [
    "# Resources"
   ]
  },
  {
   "cell_type": "code",
   "execution_count": null,
   "metadata": {},
   "outputs": [],
   "source": []
  }
 ],
 "metadata": {
  "kernelspec": {
   "display_name": "SageMath 9.2",
   "language": "sage",
   "name": "sagemath"
  },
  "language_info": {
   "codemirror_mode": {
    "name": "ipython",
    "version": 3
   },
   "file_extension": ".py",
   "mimetype": "text/x-python",
   "name": "python",
   "nbconvert_exporter": "python",
   "pygments_lexer": "ipython3",
   "version": "3.7.7"
  }
 },
 "nbformat": 4,
 "nbformat_minor": 4
}
