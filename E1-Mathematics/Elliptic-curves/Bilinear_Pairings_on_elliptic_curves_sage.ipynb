{
 "cells": [
  {
   "cell_type": "markdown",
   "metadata": {},
   "source": [
    "# Prerequisites"
   ]
  },
  {
   "cell_type": "markdown",
   "metadata": {},
   "source": [
    "- Elliptic curves\n",
    "- Elliptic curves 2\n",
    "- Group theory\n",
    "- Morphisms"
   ]
  },
  {
   "cell_type": "markdown",
   "metadata": {},
   "source": [
    "# Theory"
   ]
  },
  {
   "cell_type": "markdown",
   "metadata": {},
   "source": [
    "## Torsion points"
   ]
  },
  {
   "cell_type": "markdown",
   "metadata": {},
   "source": [
    "https://crypto.stanford.edu/pbc/notes/elliptic/torsion.html"
   ]
  },
  {
   "cell_type": "markdown",
   "metadata": {},
   "source": [
    "Let $E$ be an elliptic curve defined over a field $K$. Let $m$ be a positive integer. We are interested in the group $$E[m]= \\{P\\in E \\ |\\ mP=\\mathcal{O}\\}$$\n",
    "- A point satisfying $mP = \\mathcal{O}$ is called a point of order $m$\n",
    "- If we want the coordinate of $P$ to lie in a particular field $K$ we write $P \\in E(K)[m]$"
   ]
  },
  {
   "cell_type": "markdown",
   "metadata": {},
   "source": [
    "**Theorem**\n",
    "\n",
    "Let $E$ be an elliptic curve over a field $K$ and let $n$ be a positive integer. If the characteristic of $K$ **does not divide** $n$, or is $0$, then \n",
    "- $E(K)[m] \\simeq \\mathbb{Z}/m\\mathbb{Z} \\times \\mathbb{Z}/m\\mathbb{Z}$ \n",
    "\n",
    "If the characteristic of $K$ is $p>0$ and $p|m$ ,write $m=p^r m′$ with $p$ not dividing  $m′$. Then\n",
    "- $E(K)[m] \\simeq \\mathbb{Z}/m'\\mathbb{Z} \\times \\mathbb{Z}/m'\\mathbb{Z}$ or $\\mathbb{Z}/m\\mathbb{Z} \\times \\mathbb{Z}/m'\\mathbb{Z}$\n",
    "\n",
    "**Remark**:\n",
    "- An elliptic curve $E$ in characteristic $p$ is called **ordinary** if $E[p] \\simeq \\mathbb{Z}/p\\mathbb{Z}$\n",
    "- If $E[p] \\simeq \\{\\mathcal{O}\\}$ the elliptic curve is called **supersingular**\n",
    "- If $E[p] \\neq {\\mathcal{O}}$ then $E[p^k]\\simeq \\mathbb{Z}/p^k\\mathbb{Z} \\ \\forall k>0$.\n",
    "- If $m$ is coprime to $q$ then $|E[m]|=m^2$"
   ]
  },
  {
   "cell_type": "markdown",
   "metadata": {},
   "source": [
    "**Mordell-Weil theorem**\n",
    "> Let $K$ be a number field. Then $E(K)$ is finitely generated"
   ]
  },
  {
   "cell_type": "markdown",
   "metadata": {},
   "source": [
    "## Bilinear pairings"
   ]
  },
  {
   "cell_type": "markdown",
   "metadata": {},
   "source": [
    "You have probably seen examples of bilinear pairings in a linear algebra class.\n",
    "\n",
    "*For example*: \n",
    "1. the dot product is a bilinear pairing on the vector space $\\mathbb{R}^n \\to \\beta(v,w)=v·w=v_1w_1+v_2w_2+\\dots+v_nw_n$  \n",
    "    - It is a *pairing* in the sense that it takes a pair of vectors and returns a number\n",
    "    - It is bilinear in the sense that it is a *linear transformation* in each of its variables.\n",
    "    \n",
    "    In other words, for any vectors $v_1,v_2,w_1,w_2$ and any real numbers $a_1,a_2,b_1,b_2 => $\n",
    "    $$\\beta(a_1v_1+a_2v_2,\\ w)=a_1 \\beta(v_1,w)+a_2 \\beta(v_2,w)$$\n",
    "    $$\\beta(v\\ ,b_1w_1+b_2w_2)=b_1 \\beta(v,w_1)+b_2 \\beta(v,w_2)$$\n",
    "\n",
    "2. The determinant map on $\\mathbb{R}^2$.  Let $v=(v_1,v_2) $ and $w=(w_1,w_2)$, then \n",
    "    $$\\delta(v,w)=\\det \\begin{bmatrix} v_1 & v_2 \\\\ w_1 &w_2 \\end{bmatrix} =v_1w_2−v_2w_1$$\n",
    "    - The determinant map has the further property that it is alternating, which means that if we switch the vectors, the value changes sign: $\\delta(v,w)=-\\delta(w,v) \\Rightarrow \\delta(v,v) = 0 \\ \\forall v$\n",
    "    \n",
    "**Note**\n",
    "- We follow with bilinear pairings on elliptic curves -> input two points on an elliptic curve and give as output a number\n",
    "- However, the bilinearity condition is slightly different, because the output value is a nonzero element of a **finite field**, so the sum on the right-hand side of  is replaced by a product."
   ]
  },
  {
   "cell_type": "markdown",
   "metadata": {},
   "source": [
    "- [Dan Boneh's talk](https://www.youtube.com/watch?v=8WDOpzxpnTE&t)\n",
    "\n",
    "Let $m$ be a positive integer not divisible by the characteristic of $K$. We can choose a basis $\\{P_1,P_2\\}$ for $E(K)[m] \\simeq \\mathbb{Z}/m \\mathbb Z \\times \\mathbb{Z}/m \\mathbb Z$. \n",
    "=> every point $P=E(K)[m]$ can be written as a **linear combination**:\n",
    "- $P=aP_1+bP_2$ with $a, b$ uniquely determined mod $m$"
   ]
  },
  {
   "cell_type": "markdown",
   "metadata": {},
   "source": [
    "Let $\\alpha:E(K)\\to E(K)$ be a homomorphism.Then $\\alpha$ maps $E[n]$ into $E[n]$. Therefore, there are $a, b, c, d \\in \\mathbb Z_n$ such that $\\alpha(\\beta1)=a\\beta 1+c\\beta 2,\\alpha(\\beta 2)=b\\beta 1+d\\beta 2$.\n",
    "\n",
    "Therefore each homomorphismα:$E(K)\\to E(K)$ is represented by a $2\\times2$ matrix $\\alpha n=(abcd)$.\n",
    "\n",
    "Composition of homomorphisms corresponds to multiplication of the corresponding matrices."
   ]
  },
  {
   "cell_type": "markdown",
   "metadata": {},
   "source": [
    "## Divisors"
   ]
  },
  {
   "cell_type": "markdown",
   "metadata": {},
   "source": [
    "Divisors are a device for keeping track of poles and zeroes. For example, suppose a function $g$ has a zero at a point $P$ of order $3$, and a pole at another point $Q $ of order $2$, and a pole at $O$ of order $1$. (Note the number of zeroes and poles are equal, as they must be) Then using divisors, we can say all this concisely as follows:\n",
    "$$\\text{div} g=⟨g⟩=3⟨P⟩-2⟨Q⟩-⟨O⟩$$"
   ]
  },
  {
   "cell_type": "markdown",
   "metadata": {},
   "source": [
    "If $E$ is an elliptic curve, $E:Y^2=X^3+AX+B$ , and if $f(X,Y)$  is a nonzero rational function of two variables, we may view $f$ as defining a function on $E$ by writing points as $P=(x, y)$ and setting $f(P)=f(x, y)$. Then just as for rational functions of one variable, there are points of $E$ where the numerator of $f$ vanishes and there are points of $E$ where the denominator of $f$ vanishes, so $f$ has zeros and poles on $E$ => We can define a divisor\n",
    "$$\\text{div} f =\\sum_{P\\in E} n_P[P] = D$$\n",
    "\n",
    "The coordinates of the zeros and poles of $f$ may require moving to a larger field => If $E$ is defined over $\\mathbb{F}_p$, then the poles and zeros of $f$ have coordinates in $\\mathbb{F}_{p^k}$ for some $k$ , but the value of $k$ will, in general, depend on the function $f$.\n",
    "\n",
    "The **degree** of a divisor is the sum of its coefficients => $\\deg(D) = \\sum_{P\\in E}n_P$"
   ]
  },
  {
   "cell_type": "markdown",
   "metadata": {},
   "source": [
    "## Weil pairing"
   ]
  },
  {
   "cell_type": "markdown",
   "metadata": {},
   "source": [
    "https://en.wikipedia.org/wiki/Weil_pairing"
   ]
  },
  {
   "cell_type": "markdown",
   "metadata": {},
   "source": [
    "The Weil pairing, which is denoted by $e_m$, takes as input a pair of points $P,Q \\in E[m]$ and gives as output an $m$-th root of unity $e_m(P,Q)$\n",
    "\n",
    "Let $\\mu_m=\\{x \\in K|x_m=1\\}$ = the group of $n$th roots of unity. Since the characteristic of $K$ does not divide $m$, the equation $x^m= 1$ has no multiple roots => has $m$ roots in $K \\Rightarrow \\mu_n$ is a cyclic group of order $n$"
   ]
  },
  {
   "cell_type": "markdown",
   "metadata": {},
   "source": [
    "**Theorem**\n",
    "Let $E$ be an elliptic curve defined over a field $K$ and let $m$ be a positive integer.Assume that the characteristic of $K$ does not divide $m$. Then there is a pairing\n",
    "- $e_m:E(K)[n]\\times E(K)[n]\\to \\mu_n$ => **The Weil pairing**\n",
    "\n",
    "Proprieties\n",
    "1. Bilinearity:\n",
    "    - $e_m(P_1+P_2,Q)=e_m(P_1,Q) \\cdot e_m(P_2,Q)$\n",
    "    - $e_m(P,Q_1+Q_2)=e_m(P,Q_1)\\cdot e_m(P,Q_2)$\n",
    "2. Nondegenerate in each variable\n",
    "    - if $e_m(P,Q)=1$ for all $Q\\in E[m]$ => then $P=\\mathcal{O}$.\n",
    "3. Is alternating so\n",
    "    - $e_m(P,P)=1 \\ \\forall P\\in E[m]$\n",
    "    - $e_m(P,Q)=e_m(Q, P)^{-1} \\ \\forall P,Q,\\in E[m]$"
   ]
  },
  {
   "cell_type": "markdown",
   "metadata": {},
   "source": [
    "## Tate pairing"
   ]
  },
  {
   "cell_type": "markdown",
   "metadata": {},
   "source": [
    "https://en.wikipedia.org/wiki/Tate_pairing"
   ]
  },
  {
   "cell_type": "markdown",
   "metadata": {},
   "source": [
    "The Weil pairing is a nondegenerate bilinear form on elliptic curves defined over **any** field. For elliptic curves over finite fields there is another pairing,called the **Tate pairing** (or sometimes the Tate–Lichtenbaum pairing), that is often used in cryptography because it is computationally somewhat more efficient than the Weil pairing"
   ]
  },
  {
   "cell_type": "markdown",
   "metadata": {},
   "source": [
    "Let \n",
    "- $E$ be an elliptic curve over $\\mathbb{F}_q$. \n",
    "- $m$ be an integer such that $m|q-1$. \n",
    "- Denote by $E(\\mathbb{F}q)[n]$ the elements of $E(\\mathbb{F}_q)$ of order dividing $m$\n",
    "- Let $\\mu_n=\\{x\\in \\mathbb{F}_q|x^n=1\\}$.\n",
    "- Let $P\\in E(\\mathbb{F}_q)[n]$ and $Q\\in E(\\mathbb{F}_q)$ and choose $R\\in E(\\mathbb{F}_q)$ satisfying $mR=Q$. \n",
    "- Denote by $e_m$ the $n$th Weil pairing \n",
    "- Denote by $\\phi=\\phi_q$ the $q$th power Frobenius endomorphism. \n",
    "\n",
    "Define\n",
    "$$\\tau_n(P, Q)=e_n(P, \\ R-\\phi(R))$$\n",
    "\n",
    "Then\n",
    "$$\\tau_n:E(\\mathbb{F}_q)[n]\\times E(\\mathbb{F}_q)/m E(\\mathbb{F}_q) \\to \\mu_n$$\n",
    "is a **well-defined nondegenerate bilinear pairing**\n",
    "\n"
   ]
  },
  {
   "cell_type": "markdown",
   "metadata": {},
   "source": [
    "## Embedding degree"
   ]
  },
  {
   "cell_type": "markdown",
   "metadata": {},
   "source": [
    "https://crypto.stackexchange.com/questions/37302/elliptic-curve-and-embedding-degree"
   ]
  },
  {
   "cell_type": "markdown",
   "metadata": {},
   "source": [
    "Let $E$ be an elliptic curve over $\\mathbb{F}_p$ and let $m \\geq 1$ be an integer with $p$ not dividing $m$. The **embedding degree** of $E$ with respect to $m$ is the **smallest** value of $k$ such that\n",
    "- $E(\\mathbb{F}_{p^k})[m] \\simeq \\mathbb{Z}/m\\mathbb{Z} \\times \\mathbb{Z}/m\\mathbb{Z}$."
   ]
  },
  {
   "cell_type": "markdown",
   "metadata": {},
   "source": [
    "The significance of the embedding degree $k$ is that the Weil pairing embeds the ECDLP on the elliptic curve $E(\\mathbb{F}_p)$ into the DLP in the field $\\mathbb{F}_{p^k}$"
   ]
  },
  {
   "cell_type": "markdown",
   "metadata": {},
   "source": [
    "# Code"
   ]
  },
  {
   "cell_type": "markdown",
   "metadata": {},
   "source": [
    "## Weil pairing"
   ]
  },
  {
   "cell_type": "code",
   "execution_count": 2,
   "metadata": {},
   "outputs": [
    {
     "data": {
      "text/plain": [
       "650"
      ]
     },
     "execution_count": 2,
     "metadata": {},
     "output_type": "execute_result"
    }
   ],
   "source": [
    "p = 631\n",
    "F = GF(631)\n",
    "E = EllipticCurve(F, [30, 34])\n",
    "E.order()"
   ]
  },
  {
   "cell_type": "code",
   "execution_count": 3,
   "metadata": {},
   "outputs": [
    {
     "data": {
      "text/plain": [
       "(5, 5)"
      ]
     },
     "execution_count": 3,
     "metadata": {},
     "output_type": "execute_result"
    }
   ],
   "source": [
    "P = E(36, 60)\n",
    "Q = E(121, 387)\n",
    "m = P.order()\n",
    "P.order(), Q.order()"
   ]
  },
  {
   "cell_type": "code",
   "execution_count": 4,
   "metadata": {},
   "outputs": [
    {
     "data": {
      "text/plain": [
       "(242, 1)"
      ]
     },
     "execution_count": 4,
     "metadata": {},
     "output_type": "execute_result"
    }
   ],
   "source": [
    "P.weil_pairing(Q, m), P.weil_pairing(Q, m)^m #check that is indeed a root of unity"
   ]
  },
  {
   "cell_type": "code",
   "execution_count": 5,
   "metadata": {},
   "outputs": [
    {
     "data": {
      "text/plain": [
       "1"
      ]
     },
     "execution_count": 5,
     "metadata": {},
     "output_type": "execute_result"
    }
   ],
   "source": [
    "#Alternating\n",
    "P.weil_pairing(P,m)"
   ]
  },
  {
   "cell_type": "code",
   "execution_count": 6,
   "metadata": {},
   "outputs": [],
   "source": [
    "#Bilinearity\n",
    "P1 = E(36, 60)\n",
    "Q1 = E(121, 387)\n",
    "P2=E(617,5)\n",
    "Q2=E(121,244)"
   ]
  },
  {
   "cell_type": "code",
   "execution_count": 7,
   "metadata": {},
   "outputs": [
    {
     "data": {
      "text/plain": [
       "(5, 5)"
      ]
     },
     "execution_count": 7,
     "metadata": {},
     "output_type": "execute_result"
    }
   ],
   "source": [
    "P2.order(), Q2.order()"
   ]
  },
  {
   "cell_type": "code",
   "execution_count": 8,
   "metadata": {},
   "outputs": [
    {
     "name": "stdout",
     "output_type": "stream",
     "text": [
      "True\n",
      "True\n"
     ]
    }
   ],
   "source": [
    "print((P1+P2).weil_pairing(Q1, m) == P1.weil_pairing(Q1, m) * P2.weil_pairing(Q1,m))\n",
    "print((P1).weil_pairing(Q1+Q2, m) == P1.weil_pairing(Q1, m) * P1.weil_pairing(Q2,m))"
   ]
  },
  {
   "cell_type": "markdown",
   "metadata": {},
   "source": [
    "## Tate pairing"
   ]
  },
  {
   "cell_type": "code",
   "execution_count": 9,
   "metadata": {},
   "outputs": [],
   "source": [
    "p = 101"
   ]
  },
  {
   "cell_type": "code",
   "execution_count": 10,
   "metadata": {},
   "outputs": [
    {
     "data": {
      "text/plain": [
       "102"
      ]
     },
     "execution_count": 10,
     "metadata": {},
     "output_type": "execute_result"
    }
   ],
   "source": [
    "F = GF(p)\n",
    "E = EllipticCurve(F, [0, 1])\n",
    "E_order = E.order()\n",
    "E_order"
   ]
  },
  {
   "cell_type": "code",
   "execution_count": 11,
   "metadata": {},
   "outputs": [
    {
     "data": {
      "text/plain": [
       "2 * 3 * 17"
      ]
     },
     "execution_count": 11,
     "metadata": {},
     "output_type": "execute_result"
    }
   ],
   "source": [
    "factor(E_order)"
   ]
  },
  {
   "cell_type": "code",
   "execution_count": 12,
   "metadata": {},
   "outputs": [],
   "source": [
    "P = 6 * E.an_element()\n",
    "m = P.order()"
   ]
  },
  {
   "cell_type": "code",
   "execution_count": 13,
   "metadata": {},
   "outputs": [
    {
     "data": {
      "text/plain": [
       "17"
      ]
     },
     "execution_count": 13,
     "metadata": {},
     "output_type": "execute_result"
    }
   ],
   "source": [
    "m"
   ]
  },
  {
   "cell_type": "code",
   "execution_count": 14,
   "metadata": {},
   "outputs": [
    {
     "data": {
      "text/plain": [
       "2"
      ]
     },
     "execution_count": 14,
     "metadata": {},
     "output_type": "execute_result"
    }
   ],
   "source": [
    "k = GF(m)(p).multiplicative_order()\n",
    "k"
   ]
  },
  {
   "cell_type": "code",
   "execution_count": 15,
   "metadata": {},
   "outputs": [
    {
     "data": {
      "text/plain": [
       "2"
      ]
     },
     "execution_count": 15,
     "metadata": {},
     "output_type": "execute_result"
    }
   ],
   "source": [
    "#or search it like this within a bound\n",
    "k = 1\n",
    "i = 1\n",
    "while True:\n",
    "    i+=1\n",
    "    if (p^i - 1) % m == 0:\n",
    "        k = i\n",
    "        break\n",
    "k"
   ]
  },
  {
   "cell_type": "code",
   "execution_count": 16,
   "metadata": {},
   "outputs": [
    {
     "data": {
      "text/plain": [
       "1"
      ]
     },
     "execution_count": 16,
     "metadata": {},
     "output_type": "execute_result"
    }
   ],
   "source": [
    "P.tate_pairing(P, m, k)"
   ]
  },
  {
   "cell_type": "code",
   "execution_count": 17,
   "metadata": {},
   "outputs": [
    {
     "data": {
      "text/plain": [
       "6"
      ]
     },
     "execution_count": 17,
     "metadata": {},
     "output_type": "execute_result"
    }
   ],
   "source": [
    "Q = 17 * E.an_element()\n",
    "Q.order()"
   ]
  },
  {
   "cell_type": "code",
   "execution_count": 18,
   "metadata": {},
   "outputs": [
    {
     "data": {
      "text/plain": [
       "1"
      ]
     },
     "execution_count": 18,
     "metadata": {},
     "output_type": "execute_result"
    }
   ],
   "source": [
    "P.tate_pairing(Q, m, k)"
   ]
  },
  {
   "cell_type": "markdown",
   "metadata": {},
   "source": [
    "# Resources"
   ]
  },
  {
   "cell_type": "markdown",
   "metadata": {},
   "source": [
    "- Introduction to mathemathical cryptography - Silverman -> P336\n",
    "- Arithmetic of elliptic curves - Silverman -> P92\n",
    "- Elliptic curves number theory and cryptography 2nd edition -> Chapter 3 Torion points\n",
    "- https://www.youtube.com/watch?v=8WDOpzxpnTE&t\n",
    "- https://en.wikipedia.org/wiki/Pairing-based_cryptography\n",
    "- https://en.wikipedia.org/wiki/Weil_pairing"
   ]
  },
  {
   "cell_type": "code",
   "execution_count": null,
   "metadata": {},
   "outputs": [],
   "source": []
  }
 ],
 "metadata": {
  "kernelspec": {
   "display_name": "SageMath 9.5",
   "language": "sage",
   "name": "sagemath"
  },
  "language_info": {
   "codemirror_mode": {
    "name": "ipython",
    "version": 3
   },
   "file_extension": ".py",
   "mimetype": "text/x-python",
   "name": "python",
   "nbconvert_exporter": "python",
   "pygments_lexer": "ipython3",
   "version": "3.10.4"
  }
 },
 "nbformat": 4,
 "nbformat_minor": 4
}
