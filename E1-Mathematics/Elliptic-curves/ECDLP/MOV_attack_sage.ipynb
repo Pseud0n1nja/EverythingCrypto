{
 "cells": [
  {
   "cell_type": "markdown",
   "metadata": {},
   "source": [
    "# Prerequisites"
   ]
  },
  {
   "cell_type": "markdown",
   "metadata": {},
   "source": [
    "- ECDLP\n",
    "- Elliptic curves\n",
    "- Pairings"
   ]
  },
  {
   "cell_type": "markdown",
   "metadata": {},
   "source": [
    "# Theory"
   ]
  },
  {
   "cell_type": "markdown",
   "metadata": {},
   "source": [
    "**Task**: Reduce the ECDLP to an easier problem (Ex: an easier group)\n",
    "\n",
    "*Idea*: Use the Weil/Tate pairing to convert a discrete log problem in $E(\\mathbb{F}_p)$ to one in $\\mathbb{F}^\\times_{p^k}$\n",
    "\n",
    "Since discrete log problems in finite fields can be attacked by index calculus (or other) methods, they can be solved faster than elliptic curve discrete log problems, as long as the field $\\mathbb{F}_{p^k}$ is not much larger than $\\mathbb{F}_p$"
   ]
  },
  {
   "cell_type": "markdown",
   "metadata": {},
   "source": [
    "Recall that for an elliptic curve $E$ defined over $\\mathbb{F}_p$ \n",
    "- we let $E[m]$ denote the set of points of order dividing $m$ with coordinates in the algebraic closure. \n",
    "- If $\\gcd(p, m)=1$ and $S, T\\in E[m]$, then the Weil pairing $e_m(S, T)$ is an $m$th root of unity and can be computed fairly quickly.  \n",
    "- The pairing is bilinear, and if $\\{S, T\\}$ is a basis for $E[m]$, then $e_m(S, T)$ is a primitive $m$th root of unity.\n",
    "- For any $S => e_m(S, S) = 1$.\n",
    "\n",
    "There exists $n$ such that $Q=nP \\iff mQ=\\mathcal{O}$ and the Weil paring $e_m(P, Q)=1$."
   ]
  },
  {
   "cell_type": "markdown",
   "metadata": {},
   "source": [
    "- Let $E$ be an elliptic curve over $\\mathbb{F}_p$. \n",
    "- Let $P, Q\\in E(\\mathbb{F}_p)$. \n",
    "- Let $m$ be the order of $P$. \n",
    "- Assume that $\\gcd(m, p)=1$\n",
    "\n",
    "We want to find $n$ such that $Q=nP$\n",
    "\n",
    "**Lemma**: $\\exists  \\ n \\ $ such that $ Q = nP \\iff mQ = \\mathcal{O} $ and $e_m(P,Q) = 1$"
   ]
  },
  {
   "cell_type": "markdown",
   "metadata": {},
   "source": [
    "## The MOV attack\n",
    "\n",
    "- https://crypto.stanford.edu/pbc/notes/elliptic/movattack.html\n",
    "- https://crypto.stackexchange.com/questions/1871/how-does-the-mov-attack-work"
   ]
  },
  {
   "cell_type": "markdown",
   "metadata": {},
   "source": [
    "Choose embedding degree $k$ such that $E[m] \\subset E(\\mathbb{F}_{p^k})$\n",
    "\n",
    "1. Compute the number of points $N = |E(\\mathbb{F}_{p^k})|$\n",
    "2. Choose a random point $T \\in E(\\mathbb{F}_{p^k}), \\ T \\not \\in E(\\mathbb{F}_p)$\n",
    "3. Compute the order $t$ of $T$\n",
    "4. let $d = \\gcd(t, m)$, let $T' = (\\frac t d)T => T'$ has order $d$ which divides $m => T \\in E[m]$\n",
    "    - We can use $N//m$ instead of $d$ but takes more computation\n",
    "5. Compute \n",
    "    - $\\alpha = e_m(P, T')$ \n",
    "    - $\\beta = e_m(Q, T')$\n",
    "6. Solve $\\alpha = \\beta^n$ in $\\mathbb{F}_{p^k}$ => $n$ mod $d$\n",
    "7. If there are more $n$'s, crt the results"
   ]
  },
  {
   "cell_type": "markdown",
   "metadata": {},
   "source": [
    "# Code"
   ]
  },
  {
   "cell_type": "code",
   "execution_count": 1,
   "metadata": {},
   "outputs": [],
   "source": [
    "p = 1331169830894825846283645180581\n",
    "a = -35\n",
    "b = 98\n",
    "E = EllipticCurve(GF(p), [a,b])\n",
    "G = E(479691812266187139164535778017, 568535594075310466177352868412)\n",
    "A = E(1110072782478160369250829345256, 800079550745409318906383650948)"
   ]
  },
  {
   "cell_type": "code",
   "execution_count": 2,
   "metadata": {},
   "outputs": [],
   "source": [
    "log_p = log(p, 2).n(digits = 10) #a range to search\n",
    "G_order = G.order()\n",
    "k = 1\n",
    "for i in range(1, int(log_p)):\n",
    "    if pow(p, i, G_order) == 1:\n",
    "        k = i\n",
    "        break\n",
    "               "
   ]
  },
  {
   "cell_type": "code",
   "execution_count": 3,
   "metadata": {},
   "outputs": [
    {
     "data": {
      "text/plain": [
       "2"
      ]
     },
     "execution_count": 3,
     "metadata": {},
     "output_type": "execute_result"
    }
   ],
   "source": [
    "k"
   ]
  },
  {
   "cell_type": "code",
   "execution_count": 7,
   "metadata": {},
   "outputs": [],
   "source": [
    "def MOV(E, P, Q, k, p):\n",
    "    \"\"\"\n",
    "    Parameters:\n",
    "    -----------\n",
    "    \n",
    "    E: EllipticCurve\n",
    "        The elliptic curve \n",
    "    P: Point\n",
    "        a point of order l\n",
    "    Q: Point\n",
    "        Point such that Q = nP\n",
    "    k: int\n",
    "        embedding degree\n",
    "    p: int\n",
    "        prime order\n",
    "        \n",
    "    Returns: \n",
    "    --------\n",
    "    int: \n",
    "        n such that Q = nP\n",
    "    \n",
    "    \"\"\"\n",
    "    #Step 1 compute the number of points in E(F_{p^k}) => N\n",
    "    \n",
    "    \n",
    "    E_k = E.base_extend(GF(p^k))\n",
    "    N = E_k.order()\n",
    "    m = P.order()\n",
    "    PK = E_k(P)\n",
    "    QK = E_k(Q)\n",
    "    \n",
    "    while True:\n",
    "        #Step 2 Select  a random point T which is on E_k but not on E\n",
    "        T = E_k.random_point()        \n",
    "        try:\n",
    "            E(*T.xy())\n",
    "            continue\n",
    "        except:\n",
    "            pass\n",
    "        \n",
    "        #Step 3 Compute T_prime = (T_order / gcd(T_order, m)) * T;  if T = 0 select another T. Otherwise T_prime has order m\n",
    "        t = T.order()\n",
    "        d = gcd(m, t)\n",
    "        T_prime = (t//d) * T #=>  point of order m\n",
    "        #print(N//m, t//d)\n",
    "        if T_prime.is_zero():\n",
    "            continue\n",
    "            \n",
    "        #Step 4 Compute the Weil pairing values. P, Q, and T_prime all have order m\n",
    "        alpha = PK.weil_pairing(T_prime, m)\n",
    "        if alpha == 1:\n",
    "            continue\n",
    "        beta = QK.weil_pairing(T_prime, m)\n",
    "        \n",
    "        #Step 5 Solve dlp for beta = alpha ^ n in F*_{p^k}\n",
    "        n = beta.log(alpha)\n",
    "        break\n",
    "    return n"
   ]
  },
  {
   "cell_type": "code",
   "execution_count": 5,
   "metadata": {},
   "outputs": [],
   "source": [
    "n = MOV(E, G, A, k, p)"
   ]
  },
  {
   "cell_type": "code",
   "execution_count": 6,
   "metadata": {},
   "outputs": [
    {
     "data": {
      "text/plain": [
       "True"
      ]
     },
     "execution_count": 6,
     "metadata": {},
     "output_type": "execute_result"
    }
   ],
   "source": [
    "n*G == A"
   ]
  },
  {
   "cell_type": "code",
   "execution_count": 8,
   "metadata": {},
   "outputs": [],
   "source": [
    "def MOV2(E, P, Q, k, p):\n",
    "    \"\"\"\n",
    "    Parameters:\n",
    "    -----------\n",
    "    \n",
    "    E: EllipticCurve\n",
    "        The elliptic curve \n",
    "    P: Point\n",
    "        a point of order l\n",
    "    Q: Point\n",
    "        Point such that Q = nP\n",
    "    k: int\n",
    "        embedding degree\n",
    "    p: int\n",
    "        prime order\n",
    "        \n",
    "    Returns: \n",
    "    --------\n",
    "    int: \n",
    "        n such that Q = nP\n",
    "    \n",
    "    \"\"\"\n",
    "    #Step 1 compute the number of points in E(F_{p^k}) => N\n",
    "    \n",
    "    m = P.order()\n",
    "    E_k = E.base_extend(GF(p**k))\n",
    "    QK = E_k(Q)\n",
    "    PK  = E_k(P)\n",
    "    \n",
    "    n_list = []\n",
    "    d_list = []\n",
    "    least_common_multiple = 1\n",
    "    \n",
    "    while least_common_multiple !=m:\n",
    "        T = E_k.random_point()\n",
    "        t = T.order()\n",
    "        d = gcd(t, m)\n",
    "        if d in d_list:\n",
    "            continue\n",
    "        T_prime = t//d * T #T_prime has order d | m => T_prime is in E[m]\n",
    "        \n",
    "        alpha = PK.weil_pairing(T_prime, m)\n",
    "        beta = QK.weil_pairing(T_prime, m) # => both are roots in \\mu_d in F_{p^k}\n",
    "        \n",
    "        n = beta.log(alpha)  #this gives n mod d\n",
    "        n_list.append(n)\n",
    "        d_list.append(d)\n",
    "        least_common_multiple = lcm(least_common_multiple, d)\n",
    "    print(n_list)\n",
    "    return n_list[-1]\n",
    "    #return n_list[0] if len(n_list) == 1 else crt(n_list, d_list)\n",
    "    "
   ]
  },
  {
   "cell_type": "code",
   "execution_count": 9,
   "metadata": {},
   "outputs": [
    {
     "name": "stdout",
     "output_type": "stream",
     "text": [
      "[29618469991922269]\n"
     ]
    }
   ],
   "source": [
    "n_fin = MOV2(E, G, A, k, p)"
   ]
  },
  {
   "cell_type": "code",
   "execution_count": 11,
   "metadata": {},
   "outputs": [
    {
     "data": {
      "text/plain": [
       "True"
      ]
     },
     "execution_count": 11,
     "metadata": {},
     "output_type": "execute_result"
    },
    {
     "name": "stdout",
     "output_type": "stream",
     "text": [
      "Exiting Sage (CPU time 4m40.27s, Wall time 9m40.99s)."
     ]
    }
   ],
   "source": [
    "n_fin * G==A"
   ]
  },
  {
   "cell_type": "code",
   "execution_count": null,
   "metadata": {},
   "outputs": [],
   "source": [
    "# Problem curve - Why?"
   ]
  },
  {
   "cell_type": "code",
   "execution_count": 253,
   "metadata": {},
   "outputs": [],
   "source": [
    "curve = EllipticCurve(GF(22216045306240170001), [15703735179364572855, 10469156786243048570])\n",
    "gen = curve.gen(1)\n",
    "n = int(gen.order())\n",
    "l = randint(1, n - 1)"
   ]
  },
  {
   "cell_type": "markdown",
   "metadata": {},
   "source": [
    "# Resources"
   ]
  },
  {
   "cell_type": "code",
   "execution_count": null,
   "metadata": {},
   "outputs": [],
   "source": []
  }
 ],
 "metadata": {
  "kernelspec": {
   "display_name": "SageMath 9.5",
   "language": "sage",
   "name": "sagemath"
  },
  "language_info": {
   "codemirror_mode": {
    "name": "ipython",
    "version": 3
   },
   "file_extension": ".py",
   "mimetype": "text/x-python",
   "name": "python",
   "nbconvert_exporter": "python",
   "pygments_lexer": "ipython3",
   "version": "3.10.4"
  }
 },
 "nbformat": 4,
 "nbformat_minor": 4
}
