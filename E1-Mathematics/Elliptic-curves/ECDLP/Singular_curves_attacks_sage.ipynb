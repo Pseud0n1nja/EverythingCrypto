{
 "cells": [
  {
   "cell_type": "markdown",
   "metadata": {},
   "source": [
    "# Prerequisites"
   ]
  },
  {
   "cell_type": "markdown",
   "metadata": {},
   "source": [
    "- Group theory\n",
    "- ECDLP\n",
    "- Elliptic curves over finite fields\n",
    "- Singular curves (general intuition)"
   ]
  },
  {
   "cell_type": "code",
   "execution_count": 2,
   "metadata": {},
   "outputs": [],
   "source": [
    "\n",
    "from collections import namedtuple\n",
    "from Crypto.Util.number import inverse, bytes_to_long, long_to_bytes, getPrime\n",
    "\n",
    "# Create a simple Point class to represent the affine points.\n",
    "Point = namedtuple(\"Point\", \"x y\")\n",
    "Curve_custom = namedtuple(\"Curve\", \"a, b, c, p\")\n",
    "# The point at infinity (origin for the group law).\n",
    "O = 'Origin'\n",
    "\n",
    "\n",
    "def check_point(P, C):\n",
    "    if P == O:\n",
    "        return True\n",
    "    else:\n",
    "        return (P.y**2 - (P.x**3 + C.a * P.x **2 + C.b*P.x + C.c)) % C.p == 0 and 0 <= int(P.x) < C.p and 0 <= int(P.y) < C.p\n",
    "\n",
    "\n",
    "def point_inverse(P, C):\n",
    "    if P == O:\n",
    "        return P\n",
    "    return Point(P.x, -P.y % C.p)\n",
    "\n",
    "\n",
    "def point_addition(P, Q, C):\n",
    "    if P == O:\n",
    "        return Q\n",
    "    elif Q == O:\n",
    "        return P\n",
    "    elif Q == point_inverse(P, C):\n",
    "        return O\n",
    "    else:\n",
    "        if P == Q:\n",
    "            lam = (3*P.x**2 + C.a*2*P.x + C.b) * inverse(int((2*P.y)), C.p)\n",
    "            lam %= C.p\n",
    "        else:\n",
    "            lam = (Q.y - P.y) * inverse(int((Q.x - P.x)), C.p)\n",
    "            lam %= C.p\n",
    "    Rx = (lam**2 - C.a - P.x - Q.x) % C.p\n",
    "    nu = (P.y - lam * P.x) % C.p\n",
    "    Ry = -(lam*Rx + nu) % C.p\n",
    "    R = Point(Rx, Ry)\n",
    "    #assert check_point(R)\n",
    "    return R\n",
    "\n",
    "\n",
    "def double_and_add(n, P, C):\n",
    "    Q = P\n",
    "    R = O\n",
    "    while n > 0:\n",
    "        if n % 2 == 1:\n",
    "            R = point_addition(R, Q, C)\n",
    "        Q = point_addition(Q, Q, C)\n",
    "        n = n // 2\n",
    "    #assert check_point(R)\n",
    "    return R\n"
   ]
  },
  {
   "cell_type": "markdown",
   "metadata": {},
   "source": [
    "# Theory"
   ]
  },
  {
   "cell_type": "markdown",
   "metadata": {},
   "source": [
    "**Task**\n",
    "- Find a way to break ECDLP on singular curves over finite fields\n",
    "\n",
    "*Intuition*:\n",
    "- Map the curves to a finite field and break it there"
   ]
  },
  {
   "cell_type": "markdown",
   "metadata": {},
   "source": [
    "We consider our curve:\n",
    "- $C : y^2 = x^3 + ax^2 + bx + c$\n",
    "- with the discriminant $D=-4a^3c+a^2b^2+18abc-4b^3-27c^2$\n",
    "\n",
    "**Singular curve**: \n",
    "- Let $C$ be  a  cubic  curve  with  a  singular  point $S\\in C$.  Then  any  line through $S$ intersects $C$ at $S$ with multiplicity at least two. If there were a second singular point $S^\\prime \\in C$, then the line connecting $S$ and $S^\\prime$ would intersect $C$ at least twice at $S$ and at least twice at $S′$ ,so $L$ would intersect $C$ at least four times. But a line and a cubic intersect only three times counting multiplicities. Thus a cubic curve can have **at most one singular point**.\n",
    "\n",
    "If $D = 0$ then our curve is singular"
   ]
  },
  {
   "cell_type": "markdown",
   "metadata": {},
   "source": [
    "## Singular curves over finite fields"
   ]
  },
  {
   "cell_type": "markdown",
   "metadata": {},
   "source": [
    "When we are working in a finite field mod $p$ (or an extension of it) the curve is singular if $p$ divides $D$ \n",
    "- We reduce $a, b, c$ mod $p$, then $D$ which is a combination of these will also get reduced mod $p$ \n",
    "- if $D \\equiv 0 \\ mod \\ p \\Rightarrow$ the curve is singular\n",
    "\n",
    "There are 3 possible pictures for the singularity $S$ depending on whether $f$ has a double root or triple root, and if a double root, whether the tangent directions are real or complex\n",
    "\n",
    "We will consider $C$ to be a singular curve and $C_{ns}$ to be the set of nonsingular points on $C$. If $C$ is defined over some finite field $K$ (Although the graphs are over real numbers for visualisation purposes) we will let $C_{ns}(K)$ to be the set of nonsingular points of $C(K)$"
   ]
  },
  {
   "cell_type": "markdown",
   "metadata": {},
   "source": [
    "## Cusps"
   ]
  },
  {
   "attachments": {
    "image.png": {
     "image/png": "[encoded data removed]"
    }
   },
   "cell_type": "markdown",
   "metadata": {},
   "source": [
    "![image.png](attachment:image.png)"
   ]
  },
  {
   "cell_type": "markdown",
   "metadata": {},
   "source": [
    "Cusps are given by the equation $y^2 = x^3$ => we have a triple root at $x = 0 \\Rightarrow S = (0,0) = $ singular point. Since we define the sum of points based on tangents and the a line through $(0,0)$ has **at most** one intersection with the curve => no line that passes through 2 points will pass through $(0,0)$"
   ]
  },
  {
   "cell_type": "markdown",
   "metadata": {},
   "source": [
    "Consider the map\n",
    "- $C_{ns}(K) \\to (K)$\n",
    "- $(x,y) \\mapsto \\dfrac x y$\n",
    "- $\\mathcal{O} \\mapsto 0$\n",
    "\n",
    "This map is an isomorphism between $C_{ns}(K)$ and $K$ where $K$  is regarded as an aditive group $K^+$"
   ]
  },
  {
   "cell_type": "markdown",
   "metadata": {},
   "source": [
    "**Proof**\n",
    "\n",
    "Let $t = \\dfrac x y \\ \\overset{y^2=x^3}{\\Rightarrow}$\n",
    "\n",
    "$$x = \\left( \\dfrac y x \\right) ^2 = \\dfrac 1 {t^2}$$\n",
    "\n",
    "$$y = \\dfrac x t = \\dfrac 1 {t^3}$$\n",
    "\n",
    "$$t = 0 \\text{ for } (x,y) = \\mathcal{O}$$\n",
    "\n",
    "We want to express all the points in $C_{ns}(K)$ in terms of $t$\n",
    "\n",
    "*Addition*:\n",
    "$$x_3 = \\underbrace{\\left(\\cfrac {y_2 - y_1} {x_2 - x_1} \\right)^2}_{\\lambda^2} - x_1 - x_2 \\overset{x = \\frac 1 {t^2}, \\ \\ y = \\frac 1 {t^3}}{ \\Rightarrow} t^{-2}_3= \\left( \\cfrac {t^{-3}_2-t^{-3}_1} {t^{-2}_2-t^{-2}_1} \\right)^2-t^{-2}_1-t^{-2}_2 = t^{-2}_3=(t_1+t_2)^{-2}$$\n",
    "$$−y_3=\\left(\\cfrac{y_2−y_1}{x_2−x_1}\\right)(x_3−x_1)+y_1 \\Rightarrow t^{−3}_3=(t_1+t_2)^{−3}$$\n",
    "- Take the ratio => $t_3 = t_1 + t_2$\n",
    "\n",
    "*Doubling*:\n",
    "- Proof is similar, just substitute"
   ]
  },
  {
   "cell_type": "markdown",
   "metadata": {},
   "source": [
    "**Note**\n",
    "- You can transfer any equation with triple root to this form by shifting it by the root"
   ]
  },
  {
   "cell_type": "markdown",
   "metadata": {},
   "source": [
    "### Code for cusps"
   ]
  },
  {
   "cell_type": "code",
   "execution_count": 3,
   "metadata": {},
   "outputs": [
    {
     "data": {
      "text/plain": [
       "66251876883406452059243663038106533608890178389562613837369119459469695974903"
      ]
     },
     "execution_count": 3,
     "metadata": {},
     "output_type": "execute_result"
    }
   ],
   "source": [
    "p = getPrime(256)\n",
    "p"
   ]
  },
  {
   "cell_type": "code",
   "execution_count": 4,
   "metadata": {},
   "outputs": [
    {
     "name": "stdout",
     "output_type": "stream",
     "text": [
      "[(123, 3)]\n",
      "X^3 + 66251876883406452059243663038106533608890178389562613837369119459469695974534*X^2 + 45387*X + 66251876883406452059243663038106533608890178389562613837369119459469694114036\n"
     ]
    }
   ],
   "source": [
    "#Consider the equation with the trpile root r \n",
    "r = 123\n",
    "PF.<X> = PolynomialRing(GF(p))\n",
    "f =  (X - r) ^ 3\n",
    "print(f.roots())\n",
    "print(f)"
   ]
  },
  {
   "cell_type": "code",
   "execution_count": 5,
   "metadata": {},
   "outputs": [],
   "source": [
    "c, b, a = int(f[0]), int(f[1]), int(f[2])"
   ]
  },
  {
   "cell_type": "code",
   "execution_count": 6,
   "metadata": {},
   "outputs": [],
   "source": [
    "C = Curve_custom(a, b, c, p)"
   ]
  },
  {
   "cell_type": "code",
   "execution_count": 7,
   "metadata": {},
   "outputs": [
    {
     "data": {
      "text/plain": [
       "True"
      ]
     },
     "execution_count": 7,
     "metadata": {},
     "output_type": "execute_result"
    }
   ],
   "source": [
    "check_point(Point(r+1,1), C)"
   ]
  },
  {
   "cell_type": "code",
   "execution_count": 8,
   "metadata": {},
   "outputs": [
    {
     "data": {
      "text/plain": [
       "(True, True)"
      ]
     },
     "execution_count": 8,
     "metadata": {},
     "output_type": "execute_result"
    }
   ],
   "source": [
    "#Take a random point G and some message m => P\n",
    "G = double_and_add(7, Point(r+1,1), C)\n",
    "m = bytes_to_long(b'secretmessage')\n",
    "P = double_and_add(m, G, C)\n",
    "check_point(G, C), check_point(P, C)"
   ]
  },
  {
   "cell_type": "code",
   "execution_count": 9,
   "metadata": {},
   "outputs": [],
   "source": [
    "#define our isomorphism\n",
    "def isomap(A, p):\n",
    "    if (A.x, A.y) == (0,0):\n",
    "        return 0\n",
    "    else:\n",
    "        return (A.x * inverse(A.y, p)) % p"
   ]
  },
  {
   "cell_type": "code",
   "execution_count": 10,
   "metadata": {},
   "outputs": [
    {
     "data": {
      "text/plain": [
       "X^3"
      ]
     },
     "execution_count": 10,
     "metadata": {},
     "output_type": "execute_result"
    }
   ],
   "source": [
    "# Shift our curve with the r\n",
    "f_shifted = f.subs(X = X + r)\n",
    "f_shifted"
   ]
  },
  {
   "cell_type": "code",
   "execution_count": 11,
   "metadata": {},
   "outputs": [
    {
     "data": {
      "text/plain": [
       "Curve(a=0, b=0, c=0, p=66251876883406452059243663038106533608890178389562613837369119459469695974903)"
      ]
     },
     "execution_count": 11,
     "metadata": {},
     "output_type": "execute_result"
    }
   ],
   "source": [
    "C_shifted = Curve_custom(f_shifted[2], f_shifted[1], f_shifted[0], p) # a b c are 0\n",
    "C_shifted"
   ]
  },
  {
   "cell_type": "code",
   "execution_count": 12,
   "metadata": {},
   "outputs": [
    {
     "data": {
      "text/plain": [
       "(True, True)"
      ]
     },
     "execution_count": 12,
     "metadata": {},
     "output_type": "execute_result"
    }
   ],
   "source": [
    "G_shifted = Point((G.x - r) % p , G.y)\n",
    "P_shifted = Point((P.x - r) % p, P.y)\n",
    "check_point(G_shifted, C_shifted), check_point(P_shifted, C_shifted)"
   ]
  },
  {
   "cell_type": "code",
   "execution_count": 13,
   "metadata": {},
   "outputs": [],
   "source": [
    "P_map = isomap(P_shifted, p)\n",
    "G_map = isomap(G_shifted, p)"
   ]
  },
  {
   "cell_type": "code",
   "execution_count": 14,
   "metadata": {},
   "outputs": [
    {
     "name": "stdout",
     "output_type": "stream",
     "text": [
      "b'secretmessage'\n"
     ]
    }
   ],
   "source": [
    "m_decr = (P_map * inverse(G_map, p)) % p #additive inverse\n",
    "print(long_to_bytes(m_decr))"
   ]
  },
  {
   "cell_type": "markdown",
   "metadata": {},
   "source": [
    "## Nodes"
   ]
  },
  {
   "cell_type": "markdown",
   "metadata": {},
   "source": [
    "https://crypto.stackexchange.com/questions/61302/how-to-solve-this-ecdlp/61434#61434"
   ]
  },
  {
   "attachments": {
    "image.png": {
     "image/png": "[encoded data removed]"
    }
   },
   "cell_type": "markdown",
   "metadata": {},
   "source": [
    "![image.png](attachment:image.png)"
   ]
  },
  {
   "attachments": {
    "image.png": {
     "image/png": "[encoded data removed]"
    }
   },
   "cell_type": "markdown",
   "metadata": {},
   "source": [
    "![image.png](attachment:image.png)"
   ]
  },
  {
   "cell_type": "markdown",
   "metadata": {},
   "source": [
    "In this case our curve equation has a double root and one simple root. We will consider the curve $C: y^2 =x^2(x+a)$ over some field $K$ with the observation that any type of curve can be reduced to this form with a change of variables and some shifts. The point $(0,0)$ is the singularity\n",
    "\n",
    "Rewrite the equation as $\\left(\\cfrac y x \\right)^2 = a + x$. When $x$is near $0$, the right side of this equation is approximately $a$. => C is approximated by $\\left(\\cfrac y x \\right)^2 = a => \\cfrac y x = \\pm \\alpha$ where $\\alpha = \\sqrt a$ near $x =0$\n",
    "\n",
    "The 2 \"tangents\" to E at (0,0) are $y = \\alpha x$ and $y = -\\alpha x$"
   ]
  },
  {
   "cell_type": "markdown",
   "metadata": {},
   "source": [
    "Consider the map\n",
    "- $C_{ns}(K) \\longrightarrow (K)$\n",
    "- $(x,y) \\longmapsto \\cfrac {y+\\alpha x} {y - \\alpha x}$\n",
    "- $\\mathcal{O} \\longmapsto 1$\n",
    "\n",
    "Then \n",
    "1. If $\\alpha \\in K$ ($\\alpha$ is square) this map is an isomorphism between $C_{ns}(K)$ and $K$ where $K$  is regarded as a multiplicative group $K^+$\n",
    "2. If $\\alpha \\not \\in K$ then the map is an isomorphism between $C_{ns}(K) \\sim \\{u+αv|u, \\ v∈K, \\ u^2−av^2=1\\}$ <- group under multiplication"
   ]
  },
  {
   "cell_type": "markdown",
   "metadata": {},
   "source": [
    "### Code for nodes"
   ]
  },
  {
   "cell_type": "code",
   "execution_count": 15,
   "metadata": {},
   "outputs": [
    {
     "data": {
      "text/plain": [
       "13587888526382196463"
      ]
     },
     "execution_count": 15,
     "metadata": {},
     "output_type": "execute_result"
    }
   ],
   "source": [
    "p = getPrime(64)\n",
    "p"
   ]
  },
  {
   "cell_type": "code",
   "execution_count": 16,
   "metadata": {},
   "outputs": [
    {
     "name": "stdout",
     "output_type": "stream",
     "text": [
      "[(123, 1), (4, 2)]\n",
      "X^3 + 13587888526382196332*X^2 + 1000*X + 13587888526382194495\n"
     ]
    }
   ],
   "source": [
    "#Consider the equation with the trpile root r \n",
    "r0 = 4\n",
    "r1 = 123\n",
    "PF.<X> = PolynomialRing(GF(p))\n",
    "f =  (X - r0) ^ 2 * (X - r1)\n",
    "print(f.roots())\n",
    "print(f)"
   ]
  },
  {
   "cell_type": "code",
   "execution_count": 17,
   "metadata": {},
   "outputs": [
    {
     "data": {
      "text/plain": [
       "Curve(a=13587888526382196332, b=1000, c=13587888526382194495, p=13587888526382196463)"
      ]
     },
     "execution_count": 17,
     "metadata": {},
     "output_type": "execute_result"
    }
   ],
   "source": [
    "c, b, a = int(f[0]), int(f[1]), int(f[2])\n",
    "C = Curve_custom(a, b, c, p)\n",
    "C"
   ]
  },
  {
   "cell_type": "code",
   "execution_count": 18,
   "metadata": {},
   "outputs": [
    {
     "data": {
      "text/plain": [
       "True"
      ]
     },
     "execution_count": 18,
     "metadata": {},
     "output_type": "execute_result"
    }
   ],
   "source": [
    "is_square(f(r0 + 2)) # find a square"
   ]
  },
  {
   "cell_type": "code",
   "execution_count": 19,
   "metadata": {},
   "outputs": [
    {
     "data": {
      "text/plain": [
       "(True, True)"
      ]
     },
     "execution_count": 19,
     "metadata": {},
     "output_type": "execute_result"
    }
   ],
   "source": [
    "#Take a random point G and some message m => P\n",
    "G = double_and_add(7, Point(r0+2,sqrt(f(r0+2))), C)\n",
    "m = bytes_to_long(b'secret')\n",
    "P = double_and_add(m, G, C)\n",
    "check_point(G, C), check_point(P, C)"
   ]
  },
  {
   "cell_type": "code",
   "execution_count": 20,
   "metadata": {},
   "outputs": [
    {
     "data": {
      "text/plain": [
       "b'secret'"
      ]
     },
     "execution_count": 20,
     "metadata": {},
     "output_type": "execute_result"
    }
   ],
   "source": [
    "long_to_bytes(m)"
   ]
  },
  {
   "cell_type": "code",
   "execution_count": 21,
   "metadata": {},
   "outputs": [],
   "source": [
    "#define our isomorphism\n",
    "def isomap2(A, p, alpha):\n",
    "    if (A.x, A.y) == (0,0):\n",
    "        return 0\n",
    "    else:\n",
    "        return ((A.y + alpha * A.x) * inverse(int(A.y - alpha * A.x), p)) % p"
   ]
  },
  {
   "cell_type": "code",
   "execution_count": 22,
   "metadata": {},
   "outputs": [
    {
     "data": {
      "text/plain": [
       "X^3 + 13587888526382196344*X^2"
      ]
     },
     "execution_count": 22,
     "metadata": {},
     "output_type": "execute_result"
    }
   ],
   "source": [
    "# Shift our curve with the r\n",
    "f_shifted = f.subs(X = X + r0)\n",
    "f_shifted"
   ]
  },
  {
   "cell_type": "code",
   "execution_count": 23,
   "metadata": {},
   "outputs": [
    {
     "data": {
      "text/plain": [
       "Curve(a=13587888526382196344, b=0, c=0, p=13587888526382196463)"
      ]
     },
     "execution_count": 23,
     "metadata": {},
     "output_type": "execute_result"
    }
   ],
   "source": [
    "C_shifted = Curve_custom(f_shifted[2], f_shifted[1], f_shifted[0], p) # a b c are 0\n",
    "C_shifted"
   ]
  },
  {
   "cell_type": "code",
   "execution_count": 24,
   "metadata": {},
   "outputs": [
    {
     "data": {
      "text/plain": [
       "(True, True)"
      ]
     },
     "execution_count": 24,
     "metadata": {},
     "output_type": "execute_result"
    }
   ],
   "source": [
    "G_shifted = Point((G.x - r0) % p , G.y)\n",
    "P_shifted = Point((P.x - r0) % p, P.y)\n",
    "check_point(G_shifted, C_shifted), check_point(P_shifted, C_shifted)"
   ]
  },
  {
   "cell_type": "code",
   "execution_count": 25,
   "metadata": {},
   "outputs": [
    {
     "name": "stdout",
     "output_type": "stream",
     "text": [
      "True\n"
     ]
    }
   ],
   "source": [
    "print(is_square(C_shifted.a))\n",
    "alpha = sqrt(C_shifted.a)\n"
   ]
  },
  {
   "cell_type": "code",
   "execution_count": 26,
   "metadata": {},
   "outputs": [],
   "source": [
    "P_map = isomap2(P_shifted, p, alpha)\n",
    "G_map = isomap2(G_shifted, p, alpha)"
   ]
  },
  {
   "cell_type": "code",
   "execution_count": 27,
   "metadata": {},
   "outputs": [
    {
     "name": "stdout",
     "output_type": "stream",
     "text": [
      "b'secret'\n",
      "Exiting Sage (CPU time 0m27.72s, Wall time 6m25.17s).\n"
     ]
    }
   ],
   "source": [
    "m_decr = discrete_log(P_map, G_map)#multiplicative inverse\n",
    "print(long_to_bytes(m_decr))"
   ]
  },
  {
   "cell_type": "markdown",
   "metadata": {},
   "source": [
    "# Resources\n",
    "- Silverman's \n",
    "    - Rational points on elliptic curves -> P107-110\n",
    "    - The arithmetic of elliptic curves -> P55\n",
    "- Elliptic Curves Number Theory and Cryptography (2nd) LAWRENCE C. WASHINGTON ->  P59"
   ]
  },
  {
   "cell_type": "code",
   "execution_count": null,
   "metadata": {},
   "outputs": [],
   "source": []
  }
 ],
 "metadata": {
  "kernelspec": {
   "display_name": "SageMath 9.5",
   "language": "sage",
   "name": "sagemath"
  },
  "language_info": {
   "codemirror_mode": {
    "name": "ipython",
    "version": 3
   },
   "file_extension": ".py",
   "mimetype": "text/x-python",
   "name": "python",
   "nbconvert_exporter": "python",
   "pygments_lexer": "ipython3",
   "version": "3.10.4"
  }
 },
 "nbformat": 4,
 "nbformat_minor": 4
}
