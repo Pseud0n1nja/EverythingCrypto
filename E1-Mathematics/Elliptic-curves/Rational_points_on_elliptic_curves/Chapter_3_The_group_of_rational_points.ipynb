{
 "cells": [
  {
   "cell_type": "markdown",
   "metadata": {},
   "source": [
    "# 3. The group of rational points"
   ]
  },
  {
   "cell_type": "markdown",
   "metadata": {},
   "source": [
    "The group of rational points $ C(\\mathbb{Q})$ is finitely generated"
   ]
  },
  {
   "cell_type": "markdown",
   "metadata": {},
   "source": [
    "## 3.1 Heights and descent"
   ]
  },
  {
   "cell_type": "markdown",
   "metadata": {},
   "source": [
    "**Height**:\n",
    "\n",
    "The height of a rational point measures how complicated the point is from the viewpoint of number theory  \n",
    "$$H(x)=H(\\frac m n)=\\max(|m|,|n|); \\ \\ H(x) \\in \\mathbb{Z}_+$$\n",
    "\n",
    "**Propriety**: *Finiteness Property of the Height*:   The set of all rational numbers whose height is less than some fixed number is a finite set\n",
    "- If the height of $x=m/n$ is less than some fixed constant, then both $|m|$ and $|n|$ are less than that constant, so there are only finitely many possibilities for $m$ and $n$"
   ]
  },
  {
   "cell_type": "markdown",
   "metadata": {},
   "source": [
    "If $y^2=f(x)=x^3+ax^2+bx+ci$ s a non-singular cubic curve with integer coefficients $a, b, c$ , and if $P=(x, y)$ is a rational point on the curve, we define the height of $P$ to be simply the height of its $x$-coordinate\n",
    "- $H(P)=H(x)$ (By convention, we set $H(\\mathcal{O})=1$.)\n",
    "\n",
    "**Propriety**: We will see that the height behaves somewhat multiplicatively relative to the addition law on the curve. \n",
    "- Ex: we will want to compare $H(P+Q)$ to the product $H(P)H(Q)$\n",
    "\n",
    "**Small h height**:\n",
    "$h(P)=\\log H(P)$"
   ]
  },
  {
   "cell_type": "markdown",
   "metadata": {},
   "source": [
    "**Notation**: \n",
    "- For any commutative group $Γ$ ,the multiplication-by-$m$ map \n",
    "    - $Γ →Γ$, $P →\\underbrace{P+···+P}_{\\text{m-terms}}=mP$  \n",
    "is  a  homomorphism,  and  the  image  of  this  homomorphism  is  the  **subgroup** $mΓ$ of $Γ$\n",
    "- index of a group https://en.wikipedia.org/wiki/Index_of_a_subgroup\n",
    "- $\\Gamma = C(\\mathbb{Q})$ to ease notation\n",
    "\n",
    "\n",
    "**Theorem (Desecent Theorem)**\n",
    "\n",
    "Let $Γ$ be a commutative group, and suppose that there is a function $h: Γ→[0,∞)$ with the following three properties:\n",
    "1. $\\forall M \\in \\mathbb{R}$ the set $\\{P∈Γ:h(P)≤M\\}$ is finite.\n",
    "2. For every $P_0∈Γ$ there is a constant $κ_0$ so that $h(P+P_0)≤2h(P)+κ_0 \\ \\forall \\ P∈Γ $. -> height of any $P_0 + P$ is (roughly) less than twice the height of $P$\n",
    "3. There is a constant $κ$ so that $h(2P)≥4h(P)−κ \\ \\forall \\ P∈Γ$. -> when you double a point the height goes up a bit\n",
    "\n",
    "Suppose further that\n",
    "4. The subgroup $2Γ$ has finite index in $Γ$.\n",
    "\n",
    "Then $Γ$ is **finitely** generated.\n",
    "\n",
    "**Proof**: In the book\n",
    "\n",
    "*intuition for proof*: \n",
    "- https://en.wikipedia.org/wiki/Proof_by_infinite_descent\n",
    "- Start with arbitrary $P \\in C(\\mathbb{Q})$ => clever manipulations => smaller point (measured by some size = height in our case)\n",
    "\n"
   ]
  },
  {
   "cell_type": "markdown",
   "metadata": {},
   "source": [
    "**The rest of the chapter is mostly proving this theorem and some examples**"
   ]
  },
  {
   "cell_type": "markdown",
   "metadata": {},
   "source": [
    "## 3.7 Singular curves"
   ]
  },
  {
   "cell_type": "markdown",
   "metadata": {},
   "source": [
    "Let $C$ be  a  cubic  curve  with  a  singular  point $S∈C$.  Then  any  line through $S$ intersects $C$ at $S$ with multiplicity at least two. If there were a second singular point $S′∈C$, then the line connecting $S$ and $S′$ would intersect $C$ at least twice at $S$ and at least twice at $S′$ ,so $L$ would intersect $C$ at least four times. But a line and a cubic intersect only three times counting multiplicities. Thus a cubic curve can have **at most one singular point**."
   ]
  },
  {
   "cell_type": "markdown",
   "metadata": {},
   "source": [
    "We want to make the points of C into a group:\n",
    "- Let $C_{ns}=\\{P∈C:P \\text{ is not a singular point }\\}$; \n",
    "- Let $C_{ns}(\\mathbb{Q})$ denote the subset of $C_{ns}$ consisting of the points with rational coordinates\n",
    "- We can use the same geometric interpretation \n",
    "- Then one canchecks that $C_{ns}$ is an abelian group, and if $\\mathcal{O}$ is in $C_{ns}(\\mathbb{Q})$,then $C_{ns}(\\mathbb{Q})$ is asubgroup of $C_{ns}$"
   ]
  },
  {
   "cell_type": "markdown",
   "metadata": {},
   "source": [
    "There are 3 possible pictures for the singularity $S$ depending on whether $f$ has a double root or triple root, and if a double root, whether the tangent directions are real or complex"
   ]
  },
  {
   "cell_type": "markdown",
   "metadata": {},
   "source": [
    "### Cusp\n"
   ]
  },
  {
   "cell_type": "markdown",
   "metadata": {},
   "source": [
    "Let our curve be: $C'': y^2 = x^3$\n",
    "\n",
    "We take the map\n",
    "- $\\mathbb{Q} \\longrightarrow C(\\mathbb{Q})$\n",
    "- $r \\longmapsto (r^2 - 1, r^3 - 1)$\n",
    "\n",
    "And the inverse map\n",
    "- $C(\\mathbb{Q}) \\longrightarrow \\mathbb{Q}$\n",
    "- $(x,y) \\longmapsto y/x$\n",
    "\n",
    "We can use slightly different maps but we get group homomorphisms (not isomorphism)\n",
    "\n"
   ]
  },
  {
   "cell_type": "markdown",
   "metadata": {},
   "source": [
    "### Node"
   ]
  },
  {
   "cell_type": "markdown",
   "metadata": {},
   "source": [
    "Let our curve be: $C: y^2 = x^3 + x^2 = x^2(x+1)$\n",
    "\n",
    "Then the map\n",
    "- $\\phi: C_{ns}(\\mathbb{Q}) \\longrightarrow \\mathbb{Q}^*$\n",
    "- $\\phi(P) = \n",
    "\\begin{cases} \n",
    "&\\cfrac {y - x} {y + x} \\ \\text{if} \\ P = (x,y) \\\\\n",
    "&1 \\ \\text{if} \\ P = \\mathcal{O} \n",
    "\\end{cases}\n",
    "$\n",
    "\n",
    "is a group isomorphism from $C_{ns}(\\mathbb{Q})$ to $\\mathbb{Q}^*$ ( the multiplicative group of non-zero rational numbers)\n",
    "\n",
    "The inverse map\n",
    "- $ψ:\\mathbb{Q}^∗ \\longrightarrow C_{ns}(\\mathbb{Q})$\n",
    "- $ ψ(t)=\n",
    "\\begin{cases}\n",
    "&\\left( \\cfrac {4t} {(1−t)^2} , \\cfrac {4t(1 + t)} {(1−t)^3} \\right) \\ \\text{if} \\ t \\neq 1 \\\\\n",
    "& \\mathcal{O}  \\ \\text{if} \\ t=1\n",
    "\\end{cases}\n",
    "$\n"
   ]
  },
  {
   "cell_type": "markdown",
   "metadata": {},
   "source": [
    "**Observation**:\n",
    "- The  Mordell–Weil  theorem  tells  us  that  if $C$ is  a  non-singular  cubic curve,  then  the  group $C(\\mathbb{Q})$ is  finitely  generated.  On  the  other  hand,  it  is easy to see that the groups $(\\mathbb{Q}^∗,∗)$ and $(\\mathbb{Q},+)$ are not finitely generated.\n",
    "- So the singular curves don't generate finite groups => they behave differently"
   ]
  },
  {
   "cell_type": "markdown",
   "metadata": {},
   "source": [
    "**More stuff**\n",
    "\n",
    "Let $ C$ be the cubic curve given by an equation $y^2=x^3+ax^2+bx+c$. Let $S = (x_0, y_0)$ be the singular point. With a change of coordinates $x=X+x_0$ and $y=Y$ =>\n",
    "a new form $Y^2=X^3+AX^2$\n",
    "\n",
    "Let our curve be: $C: y^2 = x^3 + Ax^2 = x^2(x+A)$\n",
    "\n",
    "Then the map\n",
    "- $\\phi: C_{ns}(\\mathbb{Q}) \\longrightarrow H(\\mathbb{Q}) \\longrightarrow $some subgroup of  $K^*$ where $K^* = \\mathbb{Q}(\\sqrt A)$ <- $(u + v \\sqrt A, \\ (u,v) \\in H(\\mathbb{Q}))$ \n",
    "- $\\phi(P) = \n",
    "\\begin{cases} \n",
    "&\\cfrac {y - x \\sqrt A } {y + x \\sqrt A } \\ \\text{if} \\ P = (x,y) \\\\\n",
    "&1 \\ \\text{if} \\ P = \\mathcal{O} \n",
    "\\end{cases}\n",
    "$"
   ]
  },
  {
   "cell_type": "code",
   "execution_count": null,
   "metadata": {},
   "outputs": [],
   "source": []
  }
 ],
 "metadata": {
  "kernelspec": {
   "display_name": "SageMath 9.0",
   "language": "sage",
   "name": "sagemath"
  },
  "language_info": {
   "codemirror_mode": {
    "name": "ipython",
    "version": 3
   },
   "file_extension": ".py",
   "mimetype": "text/x-python",
   "name": "python",
   "nbconvert_exporter": "python",
   "pygments_lexer": "ipython3",
   "version": "3.7.3"
  }
 },
 "nbformat": 4,
 "nbformat_minor": 2
}
