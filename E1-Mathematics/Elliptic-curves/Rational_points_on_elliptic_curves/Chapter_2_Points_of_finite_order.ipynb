{
 "cells": [
  {
   "cell_type": "markdown",
   "metadata": {},
   "source": [
    "# 2. Points of finite order"
   ]
  },
  {
   "cell_type": "markdown",
   "metadata": {},
   "source": [
    "An element $P$ of any group is said to have order $m$ if \n",
    "$$ mP=\\underbrace{P+P+···+P}_{m \\ summands} =\\mathcal{O}$$\n",
    "but $m'P \\neq \\mathcal{O} \\ \\forall \\ 1 \\leq m'<m ; m\\in \\mathbb{Z}$\n",
    "\n",
    "If $\\exists \\ m$ => $P$ has **finite** order, otherwise **infinite**"
   ]
  },
  {
   "cell_type": "markdown",
   "metadata": {},
   "source": [
    "## 2.1 Points of order 2 and 3"
   ]
  },
  {
   "cell_type": "markdown",
   "metadata": {},
   "source": [
    "**Theorem  (Points  of  Order  Two  and  Three)**  \n",
    "\n",
    "Let $C$ be  a non-singular cubic curve\n",
    "$$C:y^2=f(x)=x^3+ax^2+bx+c $$\n",
    "\n",
    "1. A point $P=(x, y) \\neq \\mathcal{O}$ on $C$ has order 2 <=> $y=0$ \n",
    "    - $P = -P$\n",
    "2. The curve $C$ has exactly four points of order dividing two. These four points form a group that is a product of two cyclic groups of order two\n",
    "    - *The Four group* https://en.wikipedia.org/wiki/Klein_four-group\n",
    "3. A point $P=(x, y) \\neq \\mathcal{O}$ on $C$ has order 3 <=> $x$ is a root of the polynomial \n",
    "$$ψ_3(x)=3x^4+4ax^3+6bx^2+12cx+4ac−b^2$$\n",
    "    - $2P = -P => x(2P) = x(P)$ => duplication formula of the x-coord\n",
    "4. The curve $C$ has exactly nine points of order dividing three. These nine points form a group that is a product of two cyclic groups of order three."
   ]
  },
  {
   "cell_type": "markdown",
   "metadata": {},
   "source": [
    "## 2.2 Real and complex points on cubic curves"
   ]
  },
  {
   "cell_type": "markdown",
   "metadata": {},
   "source": [
    "The real points on our cubic curve $y^2=f(x)=x^3+ax^2+bx+c $ form either one or two components, depending on whether f(x) has one or three real roots\n",
    "\n",
    "- $C(\\mathbb{Q})=\\{(x, y)∈C:x, y∈\\mathbb{Q}\\}∪\\{\\mathcal{O}\\}$\n",
    "- $C(\\mathbb{R})=\\{(x, y)∈C:x, y∈\\mathbb{R}\\}∪\\{\\mathcal{O}\\}$ \n",
    "    - Continous group (moving 2 points a little moves the intersection a little)\n",
    "    - Compact one-dimensional Lie group https://en.wikipedia.org/wiki/Lie_group therefore:\n",
    "    - Isomorphic to the circle group (the group of rotations of the circle =  the multiplicative groupof complex numbers of absolute value one) https://en.wikipedia.org/wiki/Circle_group\n",
    "        - $\\mathbb {T} =\\{z\\in \\mathbb {C} :|z|=1\\}$ =>  the points of finite order in that group are the **roots of unity**\n",
    "        - for each positive integer $m$, the points of order dividing $m$ form a cyclic group of order $m$ =>  $\\{1,e^{2πi/m}, e^{4πi/m} ,...,e^{2(m−1)πi/m}\\}$\n",
    "        \n",
    "- $C(\\mathbb{C})=\\{(x, y)∈C:x, y∈\\mathbb{C}\\}∪\\{\\mathcal{O}\\}$\n",
    "\n",
    "All of these sets form groups => $\\{\\mathcal{O}\\}⊂C(\\mathbb{Q})⊂C(\\mathbb{R})⊂C(\\mathbb{C})$"
   ]
  },
  {
   "cell_type": "markdown",
   "metadata": {},
   "source": [
    "## 2.3 The discriminant"
   ]
  },
  {
   "cell_type": "markdown",
   "metadata": {},
   "source": [
    "Let us be back to the field of rational numbers\n",
    "\n",
    "$$y^2=f(x)=x^3+ax^2+bx+c$$\n",
    "We will consider our curve has integer coefficients"
   ]
  },
  {
   "cell_type": "markdown",
   "metadata": {},
   "source": [
    "The **Discriminant**: \n",
    "- $D=−4a^3c+a^2b^2+18abc−4b^3−27c^2$\n",
    "- If $a = 0 => D = -(4b^3 + 27c^2)$\n",
    "- Factoring over the complex numbers => $f(x)=(x−α_1)(x−α_2)(x−α_3) => D = (α_1−α_2)^2(α_1−α_3)^2(α_2−α_3)^2 => D \\neq 0 \\iff \\alpha_1 \\neq \\alpha_2 \\neq \\alpha_3 $ <= the roots are distinct"
   ]
  },
  {
   "cell_type": "markdown",
   "metadata": {},
   "source": [
    "## 2.4 The Nagell-Lutz Theorem"
   ]
  },
  {
   "cell_type": "markdown",
   "metadata": {},
   "source": [
    "**Theorem (Nagell–Lutz Theorem)**\n",
    "\n",
    "Let $y^2=f(x)=x^3+a^x2+bx+c$ be a non-singular cubic curve with integer coefficients $a, b, c$  \n",
    "Let $D$ bethe discriminant of the cubic polynomial, $D=−4a^3c+a^2b^2+18abc−4b^3−27c^2$.  \n",
    "Let $P=(x, y)$ be a rational point of **finite** order. Then \n",
    "- $x$ and $y$ are **integers**, and \n",
    "- either $y=0$ => $P$ has order 2, or else $y$ divides $D$\n",
    " \n",
    "\n",
    "https://en.wikipedia.org/wiki/Nagell%E2%80%93Lutz_theorem\n",
    "\n",
    "**Proof**: in the book\n",
    "\n",
    "**Remarks**:\n",
    "- Warning.  We are **not** asserting that every point $(x, y) $ with integer coordinates and $y|D$ must have finite order. The Nagell–Lutz theorem is not an “if and only if” statement.\n",
    "- This theorem can be used to prove a point has *infinite* order. The idea is to compute $P,2P,3P,...$ until  one  arrives  at  a  multiple $nP$ whose  coordinates  are  not  integers.  Then one  knows  that $nP$ ,  and also $P$,  cannot  have  finite  order."
   ]
  },
  {
   "cell_type": "markdown",
   "metadata": {},
   "source": [
    "**Theorem (Mazur’s Theorem)** \n",
    "\n",
    "Let $C$ be a non-singular rational cubic curve, and suppose that $C(\\mathbb{Q})$ contains a point of finite order $m$ . Then \n",
    "- either $1≤m≤10$ or $m=12$\n",
    "\n",
    "More precisely, the set of points of finite order in $C(\\mathbb{Q})$ forms a subgroup that has one of the following forms:\n",
    "- A cyclic group of order $N$ with $1≤N≤10$ or $N=12$.\n",
    "- The product of a cyclic group of order 2 and a cyclic group of order $2N$ with $1≤N≤4$."
   ]
  },
  {
   "cell_type": "code",
   "execution_count": 26,
   "metadata": {},
   "outputs": [],
   "source": [
    "A.<x, y>  = AffineSpace(QQ, 2)\n",
    "C = Curve(y^2 - x^3 - x^2 - x - 1)\n",
    "P.<X> = PolynomialRing(CC)\n",
    "f =  X^3 + X^2 + X + 1"
   ]
  },
  {
   "cell_type": "code",
   "execution_count": 44,
   "metadata": {},
   "outputs": [],
   "source": [
    "# Play around if you want"
   ]
  }
 ],
 "metadata": {
  "kernelspec": {
   "display_name": "SageMath 9.2",
   "language": "sage",
   "name": "sagemath"
  },
  "language_info": {
   "codemirror_mode": {
    "name": "ipython",
    "version": 3
   },
   "file_extension": ".py",
   "mimetype": "text/x-python",
   "name": "python",
   "nbconvert_exporter": "python",
   "pygments_lexer": "ipython3",
   "version": "3.7.7"
  }
 },
 "nbformat": 4,
 "nbformat_minor": 4
}
