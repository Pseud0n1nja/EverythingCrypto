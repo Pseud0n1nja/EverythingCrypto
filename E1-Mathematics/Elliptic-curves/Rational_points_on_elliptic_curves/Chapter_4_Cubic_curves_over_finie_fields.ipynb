{
 "cells": [
  {
   "cell_type": "markdown",
   "metadata": {},
   "source": [
    "# 4. Cubic Curves over FiniteFields"
   ]
  },
  {
   "cell_type": "markdown",
   "metadata": {},
   "source": [
    "## 4. 1 Rational Points over Finite fields"
   ]
  },
  {
   "cell_type": "markdown",
   "metadata": {},
   "source": [
    "We can look at polynomials $C: F(x,y) = 0$ with coefficients in $\\mathbb{F}_p$ and search for solutions$(x,y)$ with $x,y \\in \\mathbb{F}_p$.\n",
    "\n",
    "More generally we can search for solutions $x,y \\in \\mathbb{F}_q$ where $\\mathbb{F}_q$ is an extension field of $\\mathbb{F}_p$ with $q = p^e$ elements. A solution is a point on the curve C. If the coordinates $x$ and $y$ of a solution lie in $\\mathbb{F}_p$, we call it a *rational point*"
   ]
  },
  {
   "cell_type": "markdown",
   "metadata": {},
   "source": [
    "Consider the curve $y^2=x^3+ax^2+bx+c$ in $\\mathbb{F}_p$ with $D=−4a^3c+a^2b^2+18abc−4b^3−27c^2$ Except a few cases we can define the addition between two points $P_1, P_2$ using the line $y=λx+ν$\n",
    "\n",
    "- $\\lambda = \\begin{cases} \\cfrac {y_2 - y_1} {x_2 - x_1} \\text{ if } x_1 \\neq x_2\\\\\n",
    "\\cfrac {3x_1^2 + 2ax_1 + b} {2y_2} \\text{ if } P_1 = P_2\n",
    "\\end{cases}$\n",
    "\n",
    "- $ν=y_1−λx_1=y_2−λx_2$\n",
    "\n",
    "Then $P3=(x_3,y_3)=P_1+P_2$ is given by the formulas \n",
    "- $x_3=λ^2−a−x_1−x_2$\n",
    "- $y3=−λx_3−ν$\n",
    "\n",
    "The set of rational points $C(\\mathbb{F}_p)=\\{(x, y):x, y∈\\mathbb{F}_p \\text{ and }F(x, y)=0\\}$"
   ]
  },
  {
   "cell_type": "markdown",
   "metadata": {},
   "source": [
    "**The number of points on a curve**\n",
    "\n",
    "**Theorem (Hasse-Weil)**\n",
    "If $C$ is  a  non-singular  irreducible curve  of  genus $g$ defined  over  a  finite  field $\\mathbb{F}_p$,  then  the  number  of  points on $C$ with coordinates in $\\mathbb{F}_p$ is equal to $p+1 - \\epsilon$, where the “error term” $\\epsilon$ satisfies $|\\epsilon|≤2 g \\sqrt p$\n",
    "\n",
    "**Note**: \n",
    "- Genus: https://en.wikipedia.org/wiki/Genus_(mathematics)\n",
    "- any non-singular curve given by a cubic equation is a curve of genus $1$\n"
   ]
  },
  {
   "cell_type": "markdown",
   "metadata": {},
   "source": [
    "## 4.3 Points of Finite Order "
   ]
  },
  {
   "cell_type": "markdown",
   "metadata": {},
   "source": [
    "Let $C$ be a cubic curve, given as usual by a Weierstrass equation $C:y^2=x^3+ax^2+bx+c$ with integer coefficients $a,b,c$\n",
    "\n",
    "Consider the map **reduction modulo p**\n",
    "- $z\\longrightarrow \\tilde z$\n",
    "- $\\mathbb{Z} \\longrightarrow \\mathbb{Z} / p\\mathbb{Z} = \\mathbb{F}_p$\n",
    "\n",
    "We get a new curve $\\tilde C: y^2=x^3+ \\tilde a x^2 + \\tilde b x +\\tilde c$ which will be non-singular for $p > 2$ and the non-zero discriminant $\\tilde D=−4 \\tilde a^3\\tilde c+ \\tilde a^2 \\tilde b^2+18 \\tilde a \\tilde b \\tilde c−4 \\tilde b3−27 \\tilde c^2 = D \\ mod \\  p$ ( non-singular if $p$ doesnt divide $D$)\n",
    "\n",
    "Now we can take points $P = (x,y) \\in C(\\mathbb{Q})$ and reduce them modulo $p$ => $\\tilde P = (\\tilde x, \\tilde y) \\in \\tilde C(\\mathbb{F}_p)$\n",
    "\n",
    "Let $\\Phi=\\{P=(x, y)∈C(\\mathbb{Q}):P \\text { has finite order } \\}∪\\{\\mathcal{O}\\}$ = *the torsion subgroup* of $C(\\mathbb{Q})$ = the one from the Nagell-Lutz theorem\n",
    "\n",
    "For any prime $p$ we define the map \n",
    "- $\\Phi \\longrightarrow \\tilde C(\\mathbb{F}_p)$\n",
    "- $P \\longmapsto \\tilde P = \n",
    "\\begin{cases} \n",
    "(\\tilde x, \\tilde y) \\text{ if } P = (x,y) \\\\\n",
    " \\tilde {\\mathcal{O}} \\text{ if } P = \\mathcal{O}\n",
    "\\end{cases} $\n",
    "\n",
    "If $p$ does not divide $2D$ => the reduction mod $p$ map is an isomorphism of $\\Phi$  onto a subgroup of $\\tilde C(\\mathbb{F}_p)$\n",
    "\n"
   ]
  },
  {
   "cell_type": "markdown",
   "metadata": {},
   "source": [
    "**Pollard's p-1 and Lenstra's algorithm are described in the factorization directory**\n",
    "\n",
    "**ECDLP has his own folder**"
   ]
  },
  {
   "cell_type": "code",
   "execution_count": null,
   "metadata": {},
   "outputs": [],
   "source": []
  }
 ],
 "metadata": {
  "kernelspec": {
   "display_name": "SageMath 9.0",
   "language": "sage",
   "name": "sagemath"
  },
  "language_info": {
   "codemirror_mode": {
    "name": "ipython",
    "version": 3
   },
   "file_extension": ".py",
   "mimetype": "text/x-python",
   "name": "python",
   "nbconvert_exporter": "python",
   "pygments_lexer": "ipython3",
   "version": "3.7.3"
  }
 },
 "nbformat": 4,
 "nbformat_minor": 2
}
