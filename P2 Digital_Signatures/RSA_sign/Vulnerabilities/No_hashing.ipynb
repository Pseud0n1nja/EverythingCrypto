{
 "cells": [
  {
   "cell_type": "code",
   "execution_count": 2,
   "metadata": {
    "ExecuteTime": {
     "end_time": "2020-09-22T05:56:50.331638Z",
     "start_time": "2020-09-22T05:56:50.325634Z"
    }
   },
   "outputs": [],
   "source": [
    "from Crypto.Util.number import getPrime, inverse, bytes_to_long, long_to_bytes, GCD\n",
    "import random\n",
    "\n",
    "def rsa_ds_key_creation():\n",
    "    p = getPrime(256)\n",
    "    q = getPrime(256)\n",
    "    N = p * q\n",
    "    while True:\n",
    "        e = random.randint(N//4,N-1)\n",
    "        if(GCD(e, (p-1)*(q-1)) == 1):\n",
    "            break\n",
    "    return (p, q), (N, e)\n",
    "\n",
    "def rsa_ds_sign(D, p, q, N):\n",
    "    d = inverse(e, (p-1)*(q-1)) #compute private key\n",
    "    S = pow(D, d, N) #compute signature\n",
    "    return S\n",
    "\n",
    "def rsa_ds_verif(D, S,  e, N):\n",
    "    return pow(S, e, N) == D #verify using public key"
   ]
  },
  {
   "cell_type": "markdown",
   "metadata": {},
   "source": [
    "# Theory"
   ]
  },
  {
   "cell_type": "markdown",
   "metadata": {},
   "source": [
    "Let\n",
    "- $N = pq, \\ e $ be the public parameters\n",
    "- let $d$ be the private key s.t. $e\\cdot d \\equiv 1 \\ mod\\  (p-1)(q-1)$  \n",
    "\n",
    "Let $m$ be a message and $c = m^e \\ mod \\ N$ its encryption\n",
    "\n",
    "Then if you sign the message => $c^d \\equiv m^{ed} \\equiv m \\ mod \\ N$\n",
    "\n",
    "**Remark** \n",
    "- In real world applications we use hashing functions on messages (and we verify the digests) and padding on encryption therefore we will not encounter this vulnerability outside beginner ctfs"
   ]
  },
  {
   "cell_type": "markdown",
   "metadata": {},
   "source": [
    "# Code"
   ]
  },
  {
   "cell_type": "code",
   "execution_count": 5,
   "metadata": {
    "ExecuteTime": {
     "end_time": "2020-09-22T06:01:02.483590Z",
     "start_time": "2020-09-22T06:01:02.437556Z"
    }
   },
   "outputs": [
    {
     "data": {
      "text/plain": [
       "2475606886358795585208927056902413668319714169289735961720429880592442798887264656896318042234906683532476203464902475482671308266238422031120311362832828"
      ]
     },
     "execution_count": 5,
     "metadata": {},
     "output_type": "execute_result"
    }
   ],
   "source": [
    "(p,q), (N, e) = rsa_ds_key_creation()\n",
    "m = bytes_to_long(b'secret_message')\n",
    "c = pow(m, e, N)\n",
    "c"
   ]
  },
  {
   "cell_type": "code",
   "execution_count": 7,
   "metadata": {
    "ExecuteTime": {
     "end_time": "2020-09-22T06:01:25.434452Z",
     "start_time": "2020-09-22T06:01:25.429433Z"
    }
   },
   "outputs": [
    {
     "data": {
      "text/plain": [
       "b'secret_message'"
      ]
     },
     "execution_count": 7,
     "metadata": {},
     "output_type": "execute_result"
    }
   ],
   "source": [
    "m_decr = rsa_ds_sign(c, p, q, N)\n",
    "long_to_bytes(m_decr)"
   ]
  }
 ],
 "metadata": {
  "kernelspec": {
   "display_name": "Python 3",
   "language": "python",
   "name": "python3"
  },
  "language_info": {
   "codemirror_mode": {
    "name": "ipython",
    "version": 3
   },
   "file_extension": ".py",
   "mimetype": "text/x-python",
   "name": "python",
   "nbconvert_exporter": "python",
   "pygments_lexer": "ipython3",
   "version": "3.8.5"
  },
  "toc": {
   "base_numbering": 1,
   "nav_menu": {},
   "number_sections": true,
   "sideBar": true,
   "skip_h1_title": false,
   "title_cell": "Table of Contents",
   "title_sidebar": "Contents",
   "toc_cell": false,
   "toc_position": {},
   "toc_section_display": true,
   "toc_window_display": false
  }
 },
 "nbformat": 4,
 "nbformat_minor": 4
}
