{
 "cells": [
  {
   "cell_type": "markdown",
   "metadata": {},
   "source": [
    "# Prerequisites"
   ]
  },
  {
   "cell_type": "markdown",
   "metadata": {},
   "source": [
    "- RSA\n",
    "- Coppersmith attacks"
   ]
  },
  {
   "cell_type": "markdown",
   "metadata": {},
   "source": [
    "# Theory"
   ]
  },
  {
   "cell_type": "markdown",
   "metadata": {},
   "source": [
    "Explanation https://youtu.be/RgbrpmJ49r4?t=2321"
   ]
  },
  {
   "cell_type": "markdown",
   "metadata": {},
   "source": [
    "**Theorem** Howgrave-Graham  \n",
    "Given a polynomial $f$ of degree d and integer N, we can find in polynomial time roots $r$ modulo divisors $B$ of $N$ satisfying\n",
    "$$f(r) \\equiv 0 \\ mod \\ B$$ for $|B| > N^\\beta$ when $|r| < N^{\\beta^2 / d}$\n",
    "\n",
    "Same idea as Coppersmith but we find a vector in a lattice less than $N^\\beta < B$"
   ]
  },
  {
   "cell_type": "markdown",
   "metadata": {},
   "source": [
    "**Theorem**:\n",
    "    \n",
    "Given half of the MSB / LSB bits of a factor p, we can factor and RSA modulus N = pq in polynomial time\n",
    "\n",
    "**Proof**:\n",
    "\n",
    "Let $f(x) = x + a$ where $a$ are the MSB of $p$, and $r$ are theLSB of $p$, so $a+r = p$\n",
    "- $f(x) \\equiv 0 \\ mod \\ p > N^{1/2}$\n",
    "- Apply Howgrave-Graham for $d = 1$ and $\\beta = 1/2 => |r| < N^{\\beta^2/d} = N^{1/4}$\n"
   ]
  },
  {
   "cell_type": "markdown",
   "metadata": {},
   "source": [
    "We chose the polynomial basis:\n",
    "$(x+a)^2, x+a, N$ which corresponds to the lattice\n",
    "$\\begin{bmatrix}\n",
    "R^2 & 2Ra & a^2 \\\\\n",
    "0 &R &a \\\\\n",
    "0 &0 &N\n",
    "\\end{bmatrix}\n",
    "$\n",
    "With $\\dim L = 3, \\det L = R^3N$\n",
    "\n",
    "From LLL => $|v| \\approx \\det L^{1/\\dim L}$\n",
    "\n",
    "The algorithm will find the root $r$ when $|g(r)| \\leq |v| \\approx \\det L^{1/\\dim L} <p $"
   ]
  },
  {
   "cell_type": "markdown",
   "metadata": {},
   "source": [
    "# Code"
   ]
  },
  {
   "cell_type": "markdown",
   "metadata": {},
   "source": [
    "## Toy implementation"
   ]
  },
  {
   "cell_type": "code",
   "execution_count": 1,
   "metadata": {},
   "outputs": [],
   "source": [
    "p = random_prime(2^512)\n",
    "q = random_prime(2^512)\n",
    "N = p*q"
   ]
  },
  {
   "cell_type": "code",
   "execution_count": 3,
   "metadata": {},
   "outputs": [
    {
     "data": {
      "text/plain": [
       "'0x67edf50300cb19742236e645ccf36e5c723a1028b122942de22146d657538417e0dc0146836ea43c415fadd7a763c00efd9264e4bcc000000000000000000000'"
      ]
     },
     "execution_count": 3,
     "metadata": {},
     "output_type": "execute_result"
    }
   ],
   "source": [
    "#Delete 86 bits\n",
    "a = p - (p%2^86)\n",
    "hex(a)"
   ]
  },
  {
   "cell_type": "code",
   "execution_count": 4,
   "metadata": {},
   "outputs": [],
   "source": [
    "#Define the bound\n",
    "R = 2^86\n",
    "M = matrix([\n",
    "    [R^2, 2*R*a, a^2],\n",
    "    [0, R, a],\n",
    "    [0, 0, N]\n",
    "])"
   ]
  },
  {
   "cell_type": "code",
   "execution_count": 6,
   "metadata": {},
   "outputs": [],
   "source": [
    "B = M.LLL()"
   ]
  },
  {
   "cell_type": "code",
   "execution_count": 7,
   "metadata": {},
   "outputs": [],
   "source": [
    "Q = sum([B[0][i]* x^(2-i) / R^(2-i) for i in range(3)])"
   ]
  },
  {
   "cell_type": "code",
   "execution_count": 10,
   "metadata": {},
   "outputs": [
    {
     "data": {
      "text/plain": [
       "True"
      ]
     },
     "execution_count": 10,
     "metadata": {},
     "output_type": "execute_result"
    }
   ],
   "source": [
    "a + Q.roots(ring = ZZ)[0][0] == p"
   ]
  },
  {
   "cell_type": "markdown",
   "metadata": {},
   "source": [
    "## Sage implementation"
   ]
  },
  {
   "cell_type": "markdown",
   "metadata": {},
   "source": [
    "Sage has a function small_roots that applies coppersmith's theorem\n",
    "\n",
    "Source for code: https://github.com/ashutosh1206/Crypton/tree/master/RSA-encryption/Attack-Coppersmith"
   ]
  },
  {
   "cell_type": "code",
   "execution_count": 1,
   "metadata": {},
   "outputs": [
    {
     "data": {
      "text/plain": [
       "'0xabfe79e046d21865083e5370b6abb6f4430b09d9a381b5e623c2a86f187ff173b4699eed095ebb49ddcbf989cf42bbe688148601140000000000000000000000'"
      ]
     },
     "execution_count": 1,
     "metadata": {},
     "output_type": "execute_result"
    }
   ],
   "source": [
    "p = random_prime(2^512)\n",
    "q = random_prime(2^512)\n",
    "N = p*q\n",
    "#Delete 86 bits\n",
    "a = p - (p%2^86)\n",
    "hex(a)"
   ]
  },
  {
   "cell_type": "code",
   "execution_count": 2,
   "metadata": {},
   "outputs": [],
   "source": [
    "f = x + a"
   ]
  },
  {
   "cell_type": "code",
   "execution_count": 4,
   "metadata": {},
   "outputs": [],
   "source": [
    "def factorization_n(f, N):\n",
    "    P.<x> = PolynomialRing(Zmod(N))\n",
    "    f = P(f)\n",
    "    beta = .5\n",
    "    dd = f.degree() # Degree of the polynomial (e for the above polynomial)\n",
    "    epsilon = beta/7 #\n",
    "    R = ceil(N**((beta**2/dd) - epsilon)) #The bound\n",
    "    r = f.small_roots(R, beta, epsilon)\n",
    "    return r"
   ]
  },
  {
   "cell_type": "code",
   "execution_count": 7,
   "metadata": {},
   "outputs": [],
   "source": [
    "r = factorization_n(f, N)"
   ]
  },
  {
   "cell_type": "code",
   "execution_count": 10,
   "metadata": {},
   "outputs": [
    {
     "data": {
      "text/plain": [
       "True"
      ]
     },
     "execution_count": 10,
     "metadata": {},
     "output_type": "execute_result"
    }
   ],
   "source": [
    "a + r[0] == p"
   ]
  },
  {
   "cell_type": "markdown",
   "metadata": {},
   "source": [
    "# Resources:"
   ]
  },
  {
   "cell_type": "markdown",
   "metadata": {},
   "source": [
    "- Coppersmith paper: https://cr.yp.to/bib/2001/coppersmith.pdf\n",
    "- https://citeseerx.ist.psu.edu/viewdoc/download?doi=10.1.1.86.9408&rep=rep1&type=pdf"
   ]
  },
  {
   "cell_type": "code",
   "execution_count": null,
   "metadata": {},
   "outputs": [],
   "source": []
  }
 ],
 "metadata": {
  "kernelspec": {
   "display_name": "SageMath 9.3",
   "language": "sage",
   "name": "sagemath"
  },
  "language_info": {
   "codemirror_mode": {
    "name": "ipython",
    "version": 3
   },
   "file_extension": ".py",
   "mimetype": "text/x-python",
   "name": "python",
   "nbconvert_exporter": "python",
   "pygments_lexer": "ipython3",
   "version": "3.7.10"
  }
 },
 "nbformat": 4,
 "nbformat_minor": 4
}
