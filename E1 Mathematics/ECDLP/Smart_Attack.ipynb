{
 "cells": [
  {
   "cell_type": "markdown",
   "metadata": {},
   "source": [
    "# Prerequisites"
   ]
  },
  {
   "cell_type": "markdown",
   "metadata": {},
   "source": [
    "- ECDLP\n",
    "- Group theory\n",
    "- p-adic numbers"
   ]
  },
  {
   "cell_type": "markdown",
   "metadata": {},
   "source": [
    "# Theory"
   ]
  },
  {
   "cell_type": "markdown",
   "metadata": {},
   "source": [
    "- We inspect curves of trace $t = 1 => |E(\\mathbb{F}_p)| = p $\n",
    "- Let $Q = kP$ be the ECDLP we want to solve for some $k$\n",
    "\n",
    "*Idea*: Bring the curve into a group where we can solve the DLP. This time we use the p-adic numbers"
   ]
  },
  {
   "cell_type": "markdown",
   "metadata": {},
   "source": [
    "## Setup"
   ]
  },
  {
   "cell_type": "markdown",
   "metadata": {},
   "source": [
    "### P-adic numbers"
   ]
  },
  {
   "cell_type": "markdown",
   "metadata": {},
   "source": [
    "- https://www.youtube.com/watch?v=vdjYiU6skgE&ab_channel=Rokker815 - Must watch\n",
    "- https://en.wikipedia.org/wiki/P-adic_number\n",
    "\n",
    "The $\\mathbb{Q}_p$ = the p-adic field for some prime $p$ This field \"completes\" the rational numbers. \n",
    "\n",
    "*Intuition*: \n",
    "- For $\\mathbb{Q}$ with $|\\cdot|$ as absolute value we cannot reach the limits of some Cauchy sqeuences within $\\mathbb{Q}$ => We have to extend to $\\mathbb{R}$\n",
    "    Ex: $\\pi \\not \\in \\mathbb{Q}$\n",
    "\n",
    "For some prime $p$ every rational number can be expressed as:\n",
    "- $r = p^n\\frac a b$ where $n \\in \\mathbb{N} \\ a,b \\in \\mathbb{Z}$ and are not multiples of $p$\n",
    "\n",
    "The p-adic absolute value:\n",
    "- $|r| = p^{-n}$\n",
    "\n",
    "A p-adic number can be describe as an infinite series with the form:\n",
    "- $x_{-m}p^{-m} + ... + x_0 + x_1p + ... x_np^n + ...$ with a unique representation if $x_i \\in \\mathbb{Z}/\\mathbb{Z}_p$\n",
    "- $x_i$ = p-adic digit\n",
    "\n",
    "If $x_i =  0$ for $i < 0$ => we have the p-adic integers that can be represented as $\\mathbb{Z}_p$\n"
   ]
  },
  {
   "cell_type": "markdown",
   "metadata": {},
   "source": [
    "### Lifting"
   ]
  },
  {
   "attachments": {
    "image.png": {
     "image/png": "[encoded data removed]"
    }
   },
   "cell_type": "markdown",
   "metadata": {},
   "source": [
    "- https://en.wikipedia.org/wiki/Lift_(mathematics)\n",
    "- https://mathworld.wolfram.com/Lift.html - simple explanation\n",
    "- Given a morphism (map) $f: X → Y$ and a morphism $g: Z → Y$, a lift or lifting of $f$ to $Z$ is a morphism $h: X → Z$ such that $f = g∘h$. We say that f factors through $h$.\n",
    "![image.png](attachment:image.png)"
   ]
  },
  {
   "cell_type": "markdown",
   "metadata": {},
   "source": [
    "### Hensel's lemma"
   ]
  },
  {
   "cell_type": "markdown",
   "metadata": {},
   "source": [
    "- https://en.wikipedia.org/wiki/Hensel%27s_lemma -> go to hensel lift\n",
    "- https://brilliant.org/wiki/hensels-lemma/ \n",
    "- https://www.universiteitleiden.nl/binaries/content/assets/science/mi/scripties/bachwinter.pdf\n",
    "\n",
    "For $f(x) ∈ ℤ[X]$ Let $r$ be a root of $f$ modulo $p^e$ ($f(r) \\equiv 0 \\ mod \\ p^e$)and let $f'(r)$ be invertible modulo $p$ and let that inverse be $u$ such that $u(f'(r)) ≡ 1 \\ mod \\ p$.\n",
    "- Let $r'= r - u(f'(r))$\n",
    "- Then $r' \\equiv r \\ mod \\ p^e$ and $f(r') \\equiv 0 \\ mod \\ p^{e+1}$\n",
    "- $r'$ is a lift of $r$ modulo $p^{e+1}$\n",
    "\n",
    "*Intuition*: \n",
    "- Newton's method for p-adic numbers r' = r - \n",
    "- We can find a  root $r'$ in a higher modulo $p^{e+1}$ that is equivalent to the root $r$ mod $p$  \n",
    "\n",
    "We will use this to lift the elliptic curve points from E($\\mathbb{F}_p$) to E($\\mathbb{Q}_p$)"
   ]
  },
  {
   "cell_type": "markdown",
   "metadata": {},
   "source": [
    "## Smart attack"
   ]
  },
  {
   "cell_type": "markdown",
   "metadata": {},
   "source": [
    "- https://link.springer.com/content/pdf/10.1007/s001459900052.pdf\n",
    "\n",
    "Reduction modulo $p$ from $E(\\mathbb{Q}_p)$ to $E(\\mathbb{F}_p)$ is a group homomorphism => \n",
    "Let $E_1(\\mathbb{Q}_p)$ be the kernel of this homomorphism => $E_1(\\mathbb{Q}_p)$ contains all the points in$E_1(\\mathbb{Q}_p)$ that reduce to the point at infinity in $E_1(\\mathbb{F}_p)$.\n",
    "\n",
    "**P-adic logarithm** from $E(\\mathbb{Q}_p) \\rightarrow \\mathbb{Z}/p\\mathbb{Z}_p$\n",
    "- $\\varphi_p(S) = - \\cfrac {x(S)} {y(S)} \\ mod \\ p^2$\n",
    "\n",
    "We are trying to find $k$ such that $Q = kP$ with $Q, P \\in \\mathbb{F}_p$\n",
    "\n",
    "1. First we compute the lift of $P$ and $Q$ to $P'$ and $Q'$ on the same curve but over $\\mathbb{Q}_p$ \n",
    "    - Let $x(P') = x(P)$\n",
    "    - Use Hensel's lemma to compute $y \\in \\mathbb{Q}_p$\n",
    "2. $Q = kP$ in $E(\\mathbb{F}_p)$ => $Q' - kP'$ in $E(\\mathbb{Q}_p)$ goes to $\\mathcal{O}$ (point at infinity) => $Q' - kP' \\in E_1(\\mathbb{Q}_p)$ (in the kernel)\n",
    "3. Since the order of $E(\\mathbb{F}_p)$ is $p$ means that multiplying any element in $E(\\mathbb{Q}_p)$ by $p$ maps it into $E_1(\\mathbb{Q}_p)$\n",
    "    - $\\forall R \\in E(\\mathbb{Q}_p) => pR = \\mathcal{O} \\in E(\\mathbb{F}_p)$\n",
    "    - Multiplication by p maps $E(\\mathbb{Q}_p)$ to $E_1(\\mathbb{Q}_p)$ respectively the elements of $E_1(\\mathbb{Q}_p)$ to $E_2(\\mathbb{Q}_p)$.\n",
    "    - $pQ' - k(pP')  \\in E_2({\\mathbb{Q}_p})$ with $pQ', pP' \\in E_1(\\mathbb{Q}_p)$\n",
    "4. Apply our log \n",
    "    - $\\varphi_p(pQ') - k\\varphi_p(pP') \\in p\\mathbb{Z}_p$\n",
    "    \n",
    "5. $k = \\cfrac {\\varphi_p(pQ')} {\\varphi_p(pP')} \\ mod \\ p$\n",
    "    \n",
    "**Note**:\n",
    "- Randomize the lift to avoid the canonical case where $Q_p$ and $F_p$ are isomorhphic: $y^2=x^3+(p⋅a')x+(8856682+p⋅b')$, for some arbitrary $a'$ and $b'$\n",
    "    "
   ]
  },
  {
   "cell_type": "markdown",
   "metadata": {},
   "source": [
    "# Code"
   ]
  },
  {
   "cell_type": "markdown",
   "metadata": {},
   "source": [
    "https://crypto.stackexchange.com/questions/70454/why-smarts-attack-doesnt-work-on-this-ecdlp"
   ]
  },
  {
   "cell_type": "code",
   "execution_count": 1,
   "metadata": {},
   "outputs": [],
   "source": [
    "def smart_attack(P,Q,p):\n",
    "    E = P.curve()\n",
    "    #Randomize the lift to avoid the canonical case where Q_p and F_p are isomorphic\n",
    "    Eqp = EllipticCurve(Qp(p, 2), [ ZZ(t) + randint(0,p)*p for t in E.a_invariants() ]) #\n",
    "    \n",
    "    P_Qps = Eqp.lift_x(ZZ(P.xy()[0]), all=True) #gets all lifted points with coordinate x\n",
    "    \n",
    "    #search for the point with the same y modulo p\n",
    "    for P_Qp in P_Qps:\n",
    "        if GF(p)(P_Qp.xy()[1]) == P.xy()[1]:\n",
    "            break\n",
    "\n",
    "    Q_Qps = Eqp.lift_x(ZZ(Q.xy()[0]), all=True)\n",
    "    for Q_Qp in Q_Qps:\n",
    "        if GF(p)(Q_Qp.xy()[1]) == Q.xy()[1]:\n",
    "            break\n",
    "\n",
    "    p_times_P = p*P_Qp\n",
    "    p_times_Q = p*Q_Qp\n",
    "\n",
    "    x_P,y_P = p_times_P.xy()\n",
    "    x_Q,y_Q = p_times_Q.xy()\n",
    "\n",
    "    phi_P = -(x_P/y_P)\n",
    "    phi_Q = -(x_Q/y_Q)\n",
    "    k = phi_Q/phi_P\n",
    "    return ZZ(k)"
   ]
  },
  {
   "cell_type": "code",
   "execution_count": 2,
   "metadata": {},
   "outputs": [],
   "source": [
    "# Curve params\n",
    "p = 0xa15c4fb663a578d8b2496d3151a946119ee42695e18e13e90600192b1d0abdbb6f787f90c8d102ff88e284dd4526f5f6b6c980bf88f1d0490714b67e8a2a2b77\n",
    "a = 0x5e009506fcc7eff573bc960d88638fe25e76a9b6c7caeea072a27dcd1fa46abb15b7b6210cf90caba982893ee2779669bac06e267013486b22ff3e24abae2d42\n",
    "b = 0x2ce7d1ca4493b0977f088f6d30d9241f8048fdea112cc385b793bce953998caae680864a7d3aa437ea3ffd1441ca3fb352b0b710bb3f053e980e503be9a7fece\n",
    "\n",
    "# Define curve\n",
    "E = EllipticCurve(GF(p), [a, b])\n",
    "P = E(3034712809375537908102988750113382444008758539448972750581525810900634243392172703684905257490982543775233630011707375189041302436945106395617312498769005 , 4986645098582616415690074082237817624424333339074969364527548107042876175480894132576399611027847402879885574130125050842710052291870268101817275410204850)\n",
    "Q = E(4748198372895404866752111766626421927481971519483471383813044005699388317650395315193922226704604937454742608233124831870493636003725200307683939875286865 , 2421873309002279841021791369884483308051497215798017509805302041102468310636822060707350789776065212606890489706597369526562336256272258544226688832663757)"
   ]
  },
  {
   "cell_type": "code",
   "execution_count": 3,
   "metadata": {},
   "outputs": [
    {
     "data": {
      "text/plain": [
       "(0,\n",
       " 0,\n",
       " 0,\n",
       " 4923298572065486992549817192831990694521484100405815221208729152906589637309679506395496485479241352604070239922404839767350734501408775691888115823029570,\n",
       " 2351894222324277225740358531607638866809626162614242940067864245019071482791248171844982397521930582454173681491594668678670733042074255903768208195714766)"
      ]
     },
     "execution_count": 3,
     "metadata": {},
     "output_type": "execute_result"
    }
   ],
   "source": [
    "E.a_invariants()"
   ]
  },
  {
   "cell_type": "code",
   "execution_count": 4,
   "metadata": {},
   "outputs": [],
   "source": [
    "m = smart_attack(P, Q, p)"
   ]
  },
  {
   "cell_type": "code",
   "execution_count": 6,
   "metadata": {},
   "outputs": [
    {
     "data": {
      "text/plain": [
       "True"
      ]
     },
     "execution_count": 6,
     "metadata": {},
     "output_type": "execute_result"
    }
   ],
   "source": [
    "m * P == Q"
   ]
  },
  {
   "cell_type": "markdown",
   "metadata": {},
   "source": [
    "## Library (No sage required)"
   ]
  },
  {
   "cell_type": "markdown",
   "metadata": {},
   "source": [
    "https://github.com/elliptic-shiho/ecpy"
   ]
  },
  {
   "cell_type": "code",
   "execution_count": 11,
   "metadata": {
    "ExecuteTime": {
     "end_time": "2020-09-12T07:24:07.295411Z",
     "start_time": "2020-09-12T07:24:07.293410Z"
    }
   },
   "outputs": [],
   "source": [
    "# !pip install git+https://github.com/elliptic-shiho/ecpy"
   ]
  },
  {
   "cell_type": "code",
   "execution_count": 12,
   "metadata": {
    "ExecuteTime": {
     "end_time": "2020-09-12T07:24:55.919059Z",
     "start_time": "2020-09-12T07:24:55.916067Z"
    }
   },
   "outputs": [],
   "source": [
    "from ecpy import FiniteField, EllipticCurve, SSSA_Attack"
   ]
  },
  {
   "cell_type": "code",
   "execution_count": 13,
   "metadata": {
    "ExecuteTime": {
     "end_time": "2020-09-12T07:25:14.137993Z",
     "start_time": "2020-09-12T07:25:14.132990Z"
    }
   },
   "outputs": [],
   "source": [
    "# Curve params\n",
    "p = 0xa15c4fb663a578d8b2496d3151a946119ee42695e18e13e90600192b1d0abdbb6f787f90c8d102ff88e284dd4526f5f6b6c980bf88f1d0490714b67e8a2a2b77\n",
    "a = 0x5e009506fcc7eff573bc960d88638fe25e76a9b6c7caeea072a27dcd1fa46abb15b7b6210cf90caba982893ee2779669bac06e267013486b22ff3e24abae2d42\n",
    "b = 0x2ce7d1ca4493b0977f088f6d30d9241f8048fdea112cc385b793bce953998caae680864a7d3aa437ea3ffd1441ca3fb352b0b710bb3f053e980e503be9a7fece\n",
    "\n",
    "F = FiniteField(p)\n",
    "# Define curve\n",
    "E = EllipticCurve(F, a, b)\n",
    "P = E(3034712809375537908102988750113382444008758539448972750581525810900634243392172703684905257490982543775233630011707375189041302436945106395617312498769005 , 4986645098582616415690074082237817624424333339074969364527548107042876175480894132576399611027847402879885574130125050842710052291870268101817275410204850)\n",
    "Q = E(4748198372895404866752111766626421927481971519483471383813044005699388317650395315193922226704604937454742608233124831870493636003725200307683939875286865 , 2421873309002279841021791369884483308051497215798017509805302041102468310636822060707350789776065212606890489706597369526562336256272258544226688832663757)"
   ]
  },
  {
   "cell_type": "code",
   "execution_count": 14,
   "metadata": {
    "ExecuteTime": {
     "end_time": "2020-09-12T07:25:34.632983Z",
     "start_time": "2020-09-12T07:25:32.941770Z"
    }
   },
   "outputs": [],
   "source": [
    "m = SSSA_Attack(F, E, P, Q)"
   ]
  },
  {
   "cell_type": "code",
   "execution_count": 15,
   "metadata": {
    "ExecuteTime": {
     "end_time": "2020-09-12T07:25:43.049269Z",
     "start_time": "2020-09-12T07:25:42.572929Z"
    }
   },
   "outputs": [
    {
     "data": {
      "text/plain": [
       "True"
      ]
     },
     "execution_count": 15,
     "metadata": {},
     "output_type": "execute_result"
    }
   ],
   "source": [
    "P * m == Q"
   ]
  },
  {
   "cell_type": "markdown",
   "metadata": {},
   "source": [
    "# Resources"
   ]
  },
  {
   "cell_type": "markdown",
   "metadata": {},
   "source": [
    "- https://www.hpl.hp.com/techreports/97/HPL-97-128.pdf\n",
    "- https://wstein.org/edu/2010/414/projects/novotney.pdf\n",
    "- https://online.tugraz.at/tug_online/voe_main2.getvolltext?pCurrPk=51075\n",
    "- http://www.monnerat.info/publications/anomalous.pdf\n",
    "- https://www.math.brown.edu/~jhs/Presentations/WyomingEllipticCurve.pdf"
   ]
  },
  {
   "cell_type": "code",
   "execution_count": null,
   "metadata": {},
   "outputs": [],
   "source": []
  }
 ],
 "metadata": {
  "kernelspec": {
   "display_name": "SageMath 9.1",
   "language": "sage",
   "name": "sagemath"
  },
  "language_info": {
   "codemirror_mode": {
    "name": "ipython",
    "version": 3
   },
   "file_extension": ".py",
   "mimetype": "text/x-python",
   "name": "python",
   "nbconvert_exporter": "python",
   "pygments_lexer": "ipython3",
   "version": "3.7.3"
  },
  "toc": {
   "base_numbering": 1,
   "nav_menu": {},
   "number_sections": true,
   "sideBar": true,
   "skip_h1_title": false,
   "title_cell": "Table of Contents",
   "title_sidebar": "Contents",
   "toc_cell": false,
   "toc_position": {},
   "toc_section_display": true,
   "toc_window_display": false
  }
 },
 "nbformat": 4,
 "nbformat_minor": 2
}
