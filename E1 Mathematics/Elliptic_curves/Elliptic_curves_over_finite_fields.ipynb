{
 "cells": [
  {
   "cell_type": "code",
   "execution_count": 24,
   "metadata": {
    "ExecuteTime": {
     "end_time": "2020-09-06T09:50:48.416184Z",
     "start_time": "2020-09-06T09:50:48.370148Z"
    }
   },
   "outputs": [],
   "source": [
    "import numpy as np\n",
    "import matplotlib.pyplot as plt\n",
    "from matplotlib.animation import FuncAnimation\n",
    "from IPython import display\n",
    "from Crypto.Util.number import inverse\n",
    "def gcd(a, b):\n",
    "    if b == 0:\n",
    "        return a\n",
    "    else:\n",
    "        return gcd(b, a%b)"
   ]
  },
  {
   "cell_type": "markdown",
   "metadata": {},
   "source": [
    "# Theory"
   ]
  },
  {
   "cell_type": "markdown",
   "metadata": {
    "ExecuteTime": {
     "end_time": "2020-09-06T10:21:15.605910Z",
     "start_time": "2020-09-06T10:21:15.601910Z"
    }
   },
   "source": [
    "- Elliptic curves mod N: https://www.youtube.com/watch?v=4oCfeV_qylw&list=PLKXdxQAT3tCssgaWOy5vKXAR4WTPpRVYK&index=76&ab_channel=JeffSuzuki\n",
    "- Fast powering algorithm: https://www.youtube.com/watch?v=T6gOx_-hTKE&list=PLKXdxQAT3tCssgaWOy5vKXAR4WTPpRVYK&index=77&ab_channel=JeffSuzuki"
   ]
  },
  {
   "cell_type": "markdown",
   "metadata": {},
   "source": [
    "Let $p > 3 \\ $Then let $ E: \\ y^2 = x^3 + ax + b $ where $ a,b \\ \\in \\  \\mathbb{F}_p$ and $4a^3 + 27b^2 \\neq 0$ => The curve does not have double root"
   ]
  },
  {
   "cell_type": "markdown",
   "metadata": {},
   "source": [
    "## The elliptic curve group"
   ]
  },
  {
   "cell_type": "markdown",
   "metadata": {},
   "source": [
    "Let $E(\\mathbb{F}_p)$ be a curve over a finite field. A point (x,y) with $x, y \\in \\mathbb{F}_p$ that satisfies the equation is a **point on the curve** ($\\mathbb{F}_{p^e}$ with $e>1$  is an extension of the base field and can also be used as a group for coordinates)\n",
    "\n",
    "**The number of points on the curve**:\n",
    "- https://en.wikipedia.org/wiki/Hasse%27s_theorem_on_elliptic_curves\n",
    "\n",
    "Let $E$ be an elliptic curve over $\\mathbb{F}_p$ and let  \n",
    "$t = p + 1 − |E(\\mathbb{F}_p)|$  \n",
    "with $|t| ≤ 2\\sqrt{p}$. $t$ is named the trace of Frobenius"
   ]
  },
  {
   "cell_type": "markdown",
   "metadata": {},
   "source": [
    "# Code"
   ]
  },
  {
   "cell_type": "code",
   "execution_count": 8,
   "metadata": {
    "ExecuteTime": {
     "end_time": "2020-09-06T09:49:43.173602Z",
     "start_time": "2020-09-06T09:49:43.165596Z"
    }
   },
   "outputs": [],
   "source": [
    "def modular_sqrt(a, p): #tonelli shanks algorithm for square roots\n",
    "\n",
    "    def legendre_symbol(a, p):\n",
    "        \"\"\" Compute the Legendre symbol a|p using\n",
    "            Euler's criterion. p is a prime, a is\n",
    "            relatively prime to p (if p divides\n",
    "            a, then a|p = 0)\n",
    "            Returns 1 if a has a square root modulo\n",
    "            p, -1 otherwise.\n",
    "        \"\"\"\n",
    "        ls = pow(a, (p - 1) // 2, p)\n",
    "        return -1 if ls == p - 1 else ls\n",
    "\n",
    "    \"\"\" Find a quadratic residue (mod p) of 'a'. p\n",
    "        must be an odd prime.\n",
    "        Solve the congruence of the form:\n",
    "            x^2 = a (mod p)\n",
    "        And returns x. Note that p - x is also a root.\n",
    "        0 is returned is no square root exists for\n",
    "        these a and p.\n",
    "        The Tonelli-Shanks algorithm is used (except\n",
    "        for some simple cases in which the solution\n",
    "        is known from an identity). This algorithm\n",
    "        runs in polynomial time (unless the\n",
    "        generalized Riemann hypothesis is false).\n",
    "    \"\"\"\n",
    "    # Simple cases\n",
    "    #\n",
    "    if legendre_symbol(a, p) != 1:\n",
    "        return 0\n",
    "    elif a == 0:\n",
    "        return 0\n",
    "    elif p == 2:\n",
    "        return p\n",
    "    elif p % 4 == 3:\n",
    "        return pow(a, (p + 1) // 4, p)\n",
    "\n",
    "    # Partition p-1 to s * 2^e for an odd s (i.e.\n",
    "    # reduce all the powers of 2 from p-1)\n",
    "    #\n",
    "    s = p - 1\n",
    "    e = 0\n",
    "    while s % 2 == 0:\n",
    "        s //= 2\n",
    "        e += 1\n",
    "\n",
    "    # Find some 'n' with a legendre symbol n|p = -1.\n",
    "    # Shouldn't take long.\n",
    "    #\n",
    "    n = 2\n",
    "    while legendre_symbol(n, p) != -1:\n",
    "        n += 1\n",
    "\n",
    "    # Here be dragons!\n",
    "    # Read the paper \"Square roots from 1; 24, 51,\n",
    "    # 10 to Dan Shanks\" by Ezra Brown for more\n",
    "    # information\n",
    "    #\n",
    "\n",
    "    # x is a guess of the square root that gets better\n",
    "    # with each iteration.\n",
    "    # b is the \"fudge factor\" - by how much we're off\n",
    "    # with the guess. The invariant x^2 = ab (mod p)\n",
    "    # is maintained throughout the loop.\n",
    "    # g is used for successive powers of n to update\n",
    "    # both a and b\n",
    "    # r is the exponent - decreases with each update\n",
    "    #\n",
    "    x = pow(a, (s + 1) // 2, p)\n",
    "    b = pow(a, s, p)\n",
    "    g = pow(n, s, p)\n",
    "    r = e\n",
    "\n",
    "    while True:\n",
    "        t = b\n",
    "        m = 0\n",
    "        for m in range(r):\n",
    "            if t == 1:\n",
    "                break\n",
    "            t = pow(t, 2, p)\n",
    "\n",
    "        if m == 0:\n",
    "            return x\n",
    "\n",
    "        gs = pow(g, 2 ** (r - m - 1), p)\n",
    "        g = (gs * gs) % p\n",
    "        x = (x * gs) % p\n",
    "        b = (b * g) % p\n",
    "        r = m"
   ]
  },
  {
   "cell_type": "code",
   "execution_count": 19,
   "metadata": {
    "ExecuteTime": {
     "end_time": "2020-09-06T09:50:19.507986Z",
     "start_time": "2020-09-06T09:50:19.497979Z"
    }
   },
   "outputs": [],
   "source": [
    "class EllipticCurveFp(object):\n",
    "    def __init__(self, a, b, p):\n",
    "        '''\n",
    "        input a and b for the y^2 = x^3 + ax + b form\n",
    "       \n",
    "        '''\n",
    "        self.a = a % p\n",
    "        self.b = b % p \n",
    "        self.p = p\n",
    "        \n",
    "        self.discriminant = -16*(4 * pow(a, 3, p) + 27 * pow(b, 2, p)) % p\n",
    "        if not self.is_smooth():\n",
    "            raise Exception(\"the curve %s is not smooth!\" % self)\n",
    "        \n",
    "        \n",
    "    def is_smooth(self):\n",
    "        return self.discriminant!=0\n",
    "    \n",
    "    \n",
    "    def test_point(self, x, y):\n",
    "        return pow(y, 2, self.p) == ((pow(x, 3, self.p) + self.a * x + self.b ) % self.p)\n",
    "    \n",
    "    \n",
    "    def get_all_points(self):\n",
    "        '''gets points WITHOUT the ideal. The ideal is coded as (np.inf, np.inf)'''\n",
    "        all_points = list()\n",
    "        all_points.append(PointFp(self, 0, 1, 0))\n",
    "        for x in range(self.p):\n",
    "            y_sq =  (pow(x, 3, self.p) + self.a * x + self.b ) % self.p\n",
    "            y = modular_sqrt(y_sq, self.p)\n",
    "            if  y != 0: #0 is when no root exists\n",
    "                all_points.append(PointFp(self, x, y))\n",
    "                all_points.append(PointFp(self, x, self.p-y))\n",
    "        return all_points\n",
    "        \n",
    "        \n",
    "    def __str__(self):\n",
    "        return ('y^2 = x^3 + %Gx + %G mod %G' %(self.a, self.b, self.p))\n",
    "    \n",
    "    \n",
    "    def __eq__(self, other):\n",
    "        return (self.a, self.b, self.p) == (other.a, other.b, other.p)"
   ]
  },
  {
   "cell_type": "code",
   "execution_count": 20,
   "metadata": {
    "ExecuteTime": {
     "end_time": "2020-09-06T09:50:20.265595Z",
     "start_time": "2020-09-06T09:50:20.250585Z"
    }
   },
   "outputs": [],
   "source": [
    "class PointFp(object):\n",
    "    ''' \n",
    "    a point on a curve\n",
    "    for any point that is not the ideal z = 1\n",
    "    we consider the ideal to have x = 0, y = 1, z = 0\n",
    "    '''\n",
    "    def __init__(self, curve, x, y, z = 1):\n",
    "        if z == 1:\n",
    "            self.curve = curve #the elliptic curve containing the point\n",
    "            self.x, self.y = x % curve.p, y % curve.p\n",
    "            self.z = z\n",
    "            if not curve.test_point(self.x, self.y):\n",
    "                raise Exception(\"The point %s is not on the given curve %s\" %(self, curve))\n",
    "        else:\n",
    "            self.x, self.y, self.z = x, y, z\n",
    "            self.curve = curve\n",
    "\n",
    "\n",
    "    def __neg__(self):\n",
    "        return PointFp(self.curve, self.x, -self.y % self.curve.p)\n",
    "    \n",
    "    \n",
    "    def __eq__(self, other):\n",
    "        if(self.curve == other.curve and self.x == other.x and self.y == other.y):\n",
    "            return True\n",
    "        else:\n",
    "            return False\n",
    "        \n",
    "        \n",
    "    def __add__(self, other):\n",
    "        if(self.z!=1):\n",
    "            return other\n",
    "        elif(other.z!=1):\n",
    "            return self\n",
    "        elif(self.x == other.x and self.y == -other.y % self.curve.p):\n",
    "            return PointFp(self.curve, 0, 1, 0)\n",
    "        else:\n",
    "            #doubling\n",
    "            if self == other:\n",
    "                num = (3*pow(self.x, 2) + self.curve.a)\n",
    "                denom = (2*self.y)\n",
    "                gcd_temp = gcd(denom, self.curve.p)\n",
    "                if gcd_temp !=1:\n",
    "                    return PointFp(self.curve, 0, 0, denom)\n",
    "                else:\n",
    "                    lam = num * inverse(denom, self.curve.p)\n",
    "            else :\n",
    "                num = (self.y - other.y)\n",
    "                denom = (self.x - other.x)\n",
    "                gcd_temp = gcd(denom, self.curve.p)\n",
    "                if gcd_temp !=1:\n",
    "                    return PointFp(self.curve, 0, 0, denom)\n",
    "                else:\n",
    "                    lam =  num * inverse(denom, self.curve.p)\n",
    "            x_3 = (lam**2 - self.x - other.x) % self.curve.p\n",
    "            y_3 = (lam*(self.x - x_3) - self.y) % self.curve.p\n",
    "            return PointFp(self.curve, x_3, y_3)\n",
    "    \n",
    "    \n",
    "    def __sub__(self, other):\n",
    "        return self + - other\n",
    "            \n",
    "        \n",
    "    def __str__(self):\n",
    "        return (\"(%s, %s, %s)\" % (self.x, self.y, self.z))\n",
    "    \n",
    "    \n",
    "    def __mul__(self, n):\n",
    "        n = n % self.curve.p\n",
    "        if not isinstance(n, int):\n",
    "            raise Exception (\"can't scale if n isnt integer\")\n",
    "        else:\n",
    "            if n == 0:\n",
    "                return PointFp(self.curve, 0, 1, 0)\n",
    "            else:\n",
    "                Q = self\n",
    "                R = self if n & 1 == 1 else PointFp(self.curve, 0, 1, 0)\n",
    "                i = 2\n",
    "                while i<=n:\n",
    "                    Q = Q + Q\n",
    "                    if n & i == i:\n",
    "                        R = Q + R\n",
    "                    i = i << 1 \n",
    "        return R \n",
    "    \n",
    "    \n",
    "    def __rmul__(self, n):\n",
    "        return self * n \n",
    "    \n",
    "    \n",
    "    def __hash__(self):\n",
    "        return hash(str(self))\n"
   ]
  },
  {
   "cell_type": "code",
   "execution_count": 21,
   "metadata": {
    "ExecuteTime": {
     "end_time": "2020-09-06T09:50:20.605886Z",
     "start_time": "2020-09-06T09:50:20.603885Z"
    }
   },
   "outputs": [],
   "source": [
    "curve = EllipticCurveFp(3, 8, 13)"
   ]
  },
  {
   "cell_type": "code",
   "execution_count": 22,
   "metadata": {
    "ExecuteTime": {
     "end_time": "2020-09-06T09:50:20.957078Z",
     "start_time": "2020-09-06T09:50:20.954061Z"
    }
   },
   "outputs": [],
   "source": [
    "set_13  = curve.get_all_points()"
   ]
  },
  {
   "cell_type": "code",
   "execution_count": 25,
   "metadata": {
    "ExecuteTime": {
     "end_time": "2020-09-06T09:50:54.956880Z",
     "start_time": "2020-09-06T09:50:54.595426Z"
    }
   },
   "outputs": [
    {
     "data": {
      "image/png": "[encoded data removed]",
      "text/plain": [
       "<Figure size 432x288 with 1 Axes>"
      ]
     },
     "metadata": {
      "needs_background": "light"
     },
     "output_type": "display_data"
    }
   ],
   "source": [
    "x = [elem.x for elem in set_13 if elem.z == 1]\n",
    "y = [elem.y for elem in set_13 if elem.z == 1]\n",
    "P1 = set_13[1]\n",
    "P2 = set_13[3]\n",
    "P3 = P1 + P2\n",
    "P3_temp = -P3\n",
    "plt.grid()\n",
    "plt.scatter(x, y)\n",
    "\n",
    "#plt.plot(*P1, 'ro')\n",
    "plt.annotate('P1', xy=(P1.x, P1.y), xytext=(-5, 5), textcoords='offset points')\n",
    "#plt.plot(*P2, 'ro')\n",
    "plt.annotate('P2', xy=(P2.x, P2.y), xytext=(-5, 5), textcoords='offset points')\n",
    "#plt.plot(*P3, 'ro')\n",
    "plt.annotate('P1+P2', xy=(P3.x, P3.y), xytext=(-5, 5), textcoords='offset points')\n",
    "plt.show()\n",
    "\n"
   ]
  },
  {
   "cell_type": "markdown",
   "metadata": {},
   "source": [
    "check this notebook for plots, i'm way too lazy to do this  \n",
    "basically the line that goes through P1 and P2 wraps arround until it hits a point. Reflect that point to get P1 + P2\n",
    "https://github.com/fangpenlin/elliptic-curve-explained/blob/master/elliptic-curve-on-finite-field.ipynb"
   ]
  },
  {
   "cell_type": "code",
   "execution_count": 26,
   "metadata": {
    "ExecuteTime": {
     "end_time": "2020-09-06T09:50:57.021944Z",
     "start_time": "2020-09-06T09:50:57.017941Z"
    }
   },
   "outputs": [
    {
     "data": {
      "text/plain": [
       "[(1, 8), (1, 5), (2, 3), (2, 10), (9, 7), (9, 6), (12, 11), (12, 2)]"
      ]
     },
     "execution_count": 26,
     "metadata": {},
     "output_type": "execute_result"
    }
   ],
   "source": [
    "list(zip(x, y))"
   ]
  },
  {
   "cell_type": "code",
   "execution_count": 27,
   "metadata": {
    "ExecuteTime": {
     "end_time": "2020-09-06T09:50:57.477193Z",
     "start_time": "2020-09-06T09:50:57.469198Z"
    }
   },
   "outputs": [
    {
     "name": "stdout",
     "output_type": "stream",
     "text": [
      "(1, 8, 1)\n",
      "(1, 5, 1)\n"
     ]
    },
    {
     "data": {
      "text/plain": [
       "(None, None)"
      ]
     },
     "execution_count": 27,
     "metadata": {},
     "output_type": "execute_result"
    }
   ],
   "source": [
    "print(set_13[0] + set_13[1]), print(set_13[0] + set_13[2])"
   ]
  },
  {
   "cell_type": "code",
   "execution_count": 28,
   "metadata": {
    "ExecuteTime": {
     "end_time": "2020-09-06T09:50:57.925969Z",
     "start_time": "2020-09-06T09:50:57.922967Z"
    }
   },
   "outputs": [
    {
     "data": {
      "text/plain": [
       "9"
      ]
     },
     "execution_count": 28,
     "metadata": {},
     "output_type": "execute_result"
    }
   ],
   "source": [
    "len(set_13)"
   ]
  },
  {
   "cell_type": "code",
   "execution_count": 29,
   "metadata": {
    "ExecuteTime": {
     "end_time": "2020-09-06T09:50:58.371999Z",
     "start_time": "2020-09-06T09:50:58.366995Z"
    }
   },
   "outputs": [
    {
     "name": "stdout",
     "output_type": "stream",
     "text": [
      "0 (0, 1, 0)\n",
      "1 (1, 8, 1)\n",
      "2 (2, 3, 1)\n",
      "3 (9, 6, 1)\n",
      "4 (12, 11, 1)\n",
      "5 (12, 2, 1)\n",
      "6 (9, 7, 1)\n",
      "7 (2, 10, 1)\n",
      "8 (1, 5, 1)\n",
      "9 (0, 1, 0)\n",
      "10 (1, 8, 1)\n",
      "11 (2, 3, 1)\n",
      "12 (9, 6, 1)\n",
      "13 (0, 1, 0)\n",
      "14 (1, 8, 1)\n",
      "15 (2, 3, 1)\n",
      "16 (9, 6, 1)\n",
      "17 (12, 11, 1)\n",
      "18 (12, 2, 1)\n",
      "19 (9, 7, 1)\n",
      "20 (2, 10, 1)\n",
      "21 (1, 5, 1)\n",
      "22 (0, 1, 0)\n",
      "23 (1, 8, 1)\n",
      "24 (2, 3, 1)\n",
      "25 (9, 6, 1)\n"
     ]
    }
   ],
   "source": [
    "for i in range(26):\n",
    "    print(i, i * set_13[1])"
   ]
  }
 ],
 "metadata": {
  "kernelspec": {
   "display_name": "Python 3",
   "language": "python",
   "name": "python3"
  },
  "language_info": {
   "codemirror_mode": {
    "name": "ipython",
    "version": 3
   },
   "file_extension": ".py",
   "mimetype": "text/x-python",
   "name": "python",
   "nbconvert_exporter": "python",
   "pygments_lexer": "ipython3",
   "version": "3.8.5"
  },
  "toc": {
   "base_numbering": 1,
   "nav_menu": {},
   "number_sections": true,
   "sideBar": true,
   "skip_h1_title": false,
   "title_cell": "Table of Contents",
   "title_sidebar": "Contents",
   "toc_cell": false,
   "toc_position": {},
   "toc_section_display": true,
   "toc_window_display": true
  }
 },
 "nbformat": 4,
 "nbformat_minor": 4
}
