{
 "cells": [
  {
   "cell_type": "markdown",
   "metadata": {},
   "source": [
    "# 5. Integer Points on Cubic Curves"
   ]
  },
  {
   "cell_type": "markdown",
   "metadata": {},
   "source": [
    "## 5.1 How many integer points"
   ]
  },
  {
   "cell_type": "markdown",
   "metadata": {},
   "source": [
    "**Theorem (Siegel’s Theorem)**.\n",
    "\n",
    "Let $C$ be a non-singular cubic curve givenby an equation $F(x, y)=0$ with integer coefficients. Then $C$ has only **finitely** many points with integer coordinates.\n",
    "\n",
    "**Remark**:\n",
    "- The singular cubic curves $C_1:y^2=x^3$ and $C_2:y^2=x^3−x^2 $ have infinite many integer points (obvious from the isomorphisms)"
   ]
  },
  {
   "cell_type": "code",
   "execution_count": null,
   "metadata": {},
   "outputs": [],
   "source": []
  }
 ],
 "metadata": {
  "kernelspec": {
   "display_name": "Python 3",
   "language": "python",
   "name": "python3"
  },
  "language_info": {
   "codemirror_mode": {
    "name": "ipython",
    "version": 3
   },
   "file_extension": ".py",
   "mimetype": "text/x-python",
   "name": "python",
   "nbconvert_exporter": "python",
   "pygments_lexer": "ipython3",
   "version": "3.7.3"
  }
 },
 "nbformat": 4,
 "nbformat_minor": 2
}
