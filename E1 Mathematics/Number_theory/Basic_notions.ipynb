{
 "cells": [
  {
   "cell_type": "markdown",
   "metadata": {},
   "source": [
    "$\\DeclareMathOperator{\\lcm}{lcm}$\n",
    "$\\DeclareMathOperator{\\ord}{ord}$\n",
    "$\\lcm$"
   ]
  },
  {
   "cell_type": "code",
   "execution_count": 4,
   "metadata": {
    "ExecuteTime": {
     "end_time": "2021-04-18T10:35:19.613607Z",
     "start_time": "2021-04-18T10:35:19.591609Z"
    }
   },
   "outputs": [],
   "source": [
    "from Crypto.Util.number import sieve_base, GCD, isPrime, long_to_bytes, bytes_to_long, inverse, getPrime"
   ]
  },
  {
   "cell_type": "markdown",
   "metadata": {},
   "source": [
    "# Prerequisites"
   ]
  },
  {
   "cell_type": "markdown",
   "metadata": {},
   "source": [
    "- None. This is where you start"
   ]
  },
  {
   "cell_type": "markdown",
   "metadata": {},
   "source": [
    "# Theory"
   ]
  },
  {
   "cell_type": "markdown",
   "metadata": {},
   "source": [
    "**Target**:\n",
    "- Division\n",
    "- GCD + XGCD + LCM\n",
    "- Primes\n",
    "- Euler totient function\n",
    "- Integers modulo n\n",
    "- Multiplicative group $\\mathbb{Z}_n$\n",
    "- Quadratic residues\n",
    "- Legendre and Jacobi Symbols\n",
    "- Carmichael numbers"
   ]
  },
  {
   "cell_type": "markdown",
   "metadata": {},
   "source": [
    "## Setup"
   ]
  },
  {
   "cell_type": "markdown",
   "metadata": {},
   "source": [
    "Let $\\mathbb{Z} = \\{...,−3,−2,−1,0,1,2,3,...\\}$ denote the integers"
   ]
  },
  {
   "cell_type": "markdown",
   "metadata": {},
   "source": [
    "# Number theory"
   ]
  },
  {
   "cell_type": "markdown",
   "metadata": {},
   "source": [
    "## Division"
   ]
  },
  {
   "cell_type": "markdown",
   "metadata": {},
   "source": [
    "**Division**:\n",
    "- Let $a,b \\in \\mathbb{Z}$. Then $a$ divides $b$ (equivalently: $a$ is a divisor of $b$, or $a$ is a *factor* of $b$) if $\\exists$ an integer $c$ such that $b=ac$.\n",
    "- If $a$ divides $b$ => Notation: $a|b$\n",
    "\n",
    "**Proprieties**\n",
    "1. $a|a$.\n",
    "2. If $a|b$ and $b|c$, then $a|c$\n",
    "3. If $a|b$ and $a|c$, then $a|(bx+cy)\\ \\forall x,y∈\\mathbb{Z}$\n",
    "4. If $a|b$ and $b|a$, then $a=\\pm b$"
   ]
  },
  {
   "cell_type": "markdown",
   "metadata": {},
   "source": [
    "If $a$ and $b$ are integers with $b≥1$, then **ordinary long division** of $a$ by $b$ yields integers $q$ (**the quotient**) and $r$ (**the remainder**) such that \n",
    "- $\\boxed{a=qb+r}$ where $0≤r<b$\n",
    "\n",
    "Moreover,$q$ and $r$ are **unique**. \n",
    "\n",
    "The remainder of the division is denoted $a \\ mod \\ b$, and the quotient is denoted $a \\ div \\ b$\n",
    "\n",
    "**Remark**: \n",
    "- Let $a,b∈\\mathbb{Z}$ with $b \\neq 0$. Then $a div b =\\lfloor a/b \\rfloor$ and $a \\ \\bmod \\ b=a−b\\lfloor a/b\\rfloor$"
   ]
  },
  {
   "cell_type": "markdown",
   "metadata": {},
   "source": [
    "## GCD and LCM"
   ]
  },
  {
   "cell_type": "markdown",
   "metadata": {},
   "source": [
    "**Common divisors**\n",
    "- An integer $c$ is a common divisor of $a$ and $b$ if $c|a$ and $c|b$"
   ]
  },
  {
   "cell_type": "markdown",
   "metadata": {},
   "source": [
    "**Greatest common divisor**\n",
    "- A non-negative integer $d$ is the **greatest common divisor** (GCD) of integers $a$ and $b$,if:\n",
    "    - $d$ is a common divisor of $a$ and $b$\n",
    "    - whenever $c|a$ and $c|b$, then $c|d$.\n",
    "\n",
    "*Notation*: $\\gcd(a,b)$\n",
    "\n",
    "Equivalently, $\\gcd(a,b)$ is the **largest** positive integer that divides both $a$ and $b$, with the exception that $\\gcd(0,0)=0$\n",
    "\n",
    "**Remark**: \n",
    "- if $r = a \\ mod \\ b => \\boxed{\\gcd(a, b) = \\gcd(b, r)}$"
   ]
  },
  {
   "cell_type": "markdown",
   "metadata": {},
   "source": [
    "**Algorithms**: \n",
    "- https://en.wikipedia.org/wiki/Euclidean_algorithm\n",
    "- https://en.wikipedia.org/wiki/Extended_Euclidean_algorithm"
   ]
  },
  {
   "cell_type": "code",
   "execution_count": 40,
   "metadata": {
    "ExecuteTime": {
     "end_time": "2021-04-18T10:03:24.791392Z",
     "start_time": "2021-04-18T10:03:24.786382Z"
    }
   },
   "outputs": [],
   "source": [
    "a = 24\n",
    "b = 15"
   ]
  },
  {
   "cell_type": "code",
   "execution_count": 41,
   "metadata": {
    "ExecuteTime": {
     "end_time": "2021-04-18T10:03:35.119745Z",
     "start_time": "2021-04-18T10:03:35.107731Z"
    }
   },
   "outputs": [],
   "source": [
    "def my_gcd(a, b):\n",
    "    if a < b:\n",
    "        a, b = b, a\n",
    "    if b == 0:\n",
    "        return a\n",
    "    else:\n",
    "        return my_gcd(b, a%b)"
   ]
  },
  {
   "cell_type": "code",
   "execution_count": 42,
   "metadata": {
    "ExecuteTime": {
     "end_time": "2021-04-18T10:03:35.532732Z",
     "start_time": "2021-04-18T10:03:35.513731Z"
    }
   },
   "outputs": [
    {
     "data": {
      "text/plain": [
       "(3, 3)"
      ]
     },
     "execution_count": 42,
     "metadata": {},
     "output_type": "execute_result"
    }
   ],
   "source": [
    "my_gcd(a, b), GCD(a,b)"
   ]
  },
  {
   "cell_type": "code",
   "execution_count": 43,
   "metadata": {
    "ExecuteTime": {
     "end_time": "2021-04-18T10:03:54.143088Z",
     "start_time": "2021-04-18T10:03:54.131088Z"
    }
   },
   "outputs": [],
   "source": [
    "def my_xgcd(a, b):\n",
    "    if a == 0:\n",
    "        return (b, 0, 1)\n",
    "    else:\n",
    "        gcd, x, y = my_xgcd(b%a, a) #compute gcd first\n",
    "        return (gcd, y - b//a *x , x)"
   ]
  },
  {
   "cell_type": "code",
   "execution_count": 44,
   "metadata": {},
   "outputs": [
    {
     "name": "stdout",
     "output_type": "stream",
     "text": [
      "3 2 -3\n",
      "3\n"
     ]
    }
   ],
   "source": [
    "g, u, v = xgcd(a, b)\n",
    "print(g, u, v)\n",
    "print(u * a + v * b)"
   ]
  },
  {
   "cell_type": "code",
   "execution_count": 45,
   "metadata": {
    "ExecuteTime": {
     "end_time": "2021-04-18T10:03:54.618088Z",
     "start_time": "2021-04-18T10:03:54.611088Z"
    }
   },
   "outputs": [
    {
     "name": "stdout",
     "output_type": "stream",
     "text": [
      "3 2 -3\n",
      "3\n"
     ]
    }
   ],
   "source": [
    "g, u, v = my_xgcd(a, b)\n",
    "print(g, u, v)\n",
    "print(u * a + v * b)"
   ]
  },
  {
   "cell_type": "markdown",
   "metadata": {},
   "source": [
    "**Least common multiple**\n",
    "- A non-negative integer $d$ is the **Least common multiple** (LCM) of integers $a$ and $b$,if:\n",
    "    - $a|d$ and $b|d$\n",
    "    - whenever $a|d$ and $b|d$, then $d|c$.\n",
    "\n",
    "*Notation*: $\\text{lcm}(a,b)$\n",
    "\n",
    "Equivalently, $\\text{lcm}(a,b)$ is the **largest** positive integer that divides both $a$ and $b$, with the exception that $\\lcm(0,0)=0$\n",
    "\n"
   ]
  },
  {
   "cell_type": "markdown",
   "metadata": {},
   "source": [
    "**Remark**: If $a$ and $b$ are positive integers, then $\\lcm(a,b)=\\cfrac {a·b}  {\\gcd(a,b)}$"
   ]
  },
  {
   "cell_type": "markdown",
   "metadata": {},
   "source": [
    "## Primes"
   ]
  },
  {
   "cell_type": "markdown",
   "metadata": {},
   "source": [
    "**Coprimes**\n",
    "- Two integers $a$ and $b$ are said to be **relatively prime** or **coprime** if $\\gcd(a,b)=1$"
   ]
  },
  {
   "cell_type": "markdown",
   "metadata": {},
   "source": [
    " **Primes**\n",
    "- An integer $p≥2$ is said to be prime if its only positive divisors are $1$ and $p$.\n",
    "    - Ex: $2, 3, 5, 7, 11, 13, 17...$\n",
    "- Otherwise, $p$ is called composite\n",
    "\n",
    "**Remarks**:\n",
    "- If $p$ is prime and $p|ab$, then either $p|a$ or $p|b$ (or both)\n",
    "- There are an infinite number of prime numbers"
   ]
  },
  {
   "cell_type": "markdown",
   "metadata": {},
   "source": [
    "**Fundamental Theorem of Arithmetic**\n",
    "\n",
    "If $n \\geq 2$ then a can be factored as a product of prime number powers   \n",
    "$ n=p_{1}^{e_{1}} \\cdot p_{2}^{e_{2}} \\cdot p_{3}^{e_{3}} \\cdots p_{r}^{e_{r}} $  \n",
    "\n",
    "The factorization is **unique**\n",
    "\n",
    "https://en.wikipedia.org/wiki/Fundamental_theorem_of_arithmetic"
   ]
  },
  {
   "cell_type": "markdown",
   "metadata": {},
   "source": [
    "**Finding prime numbers**\n",
    "- https://en.wikipedia.org/wiki/Sieve_of_Eratosthenes"
   ]
  },
  {
   "cell_type": "markdown",
   "metadata": {},
   "source": [
    "**Prime number theorem**\n",
    "- Let $\\pi(x)$ denote the number of prime numbers $\\leq x$. Then\n",
    "$$\\lim_{x \\to \\infty} \\cfrac {\\pi(x)} {x / ln x} = 1$$\n",
    "\n",
    "*Intuition*: For large values of $x$, the number of primes is approximated by $\\cfrac x {ln x}$\n",
    "\n",
    "https://mathworld.wolfram.com/PrimeNumberTheorem.html"
   ]
  },
  {
   "cell_type": "code",
   "execution_count": 3,
   "metadata": {
    "ExecuteTime": {
     "end_time": "2021-04-18T10:35:33.078614Z",
     "start_time": "2021-04-18T10:35:33.071614Z"
    }
   },
   "outputs": [
    {
     "name": "stdout",
     "output_type": "stream",
     "text": [
      "Expected number of primes between 100000 and 1000000 is 63696.52401247693\n"
     ]
    }
   ],
   "source": [
    "import numpy as np\n",
    "n1 = 100000\n",
    "n2 = 1000000\n",
    "\n",
    "def expected_num_primes(x):\n",
    "    return x/np.log(x)\n",
    "\n",
    "print(f\"Expected number of primes between {n1} and {n2} is {expected_num_primes(n2) - expected_num_primes(n1)}\")"
   ]
  },
  {
   "cell_type": "markdown",
   "metadata": {},
   "source": [
    "## Euler totient function"
   ]
  },
  {
   "cell_type": "markdown",
   "metadata": {},
   "source": [
    "**Euler totient (phi) function**\n",
    "- In number theory, Euler's totient function $\\phi(n)$ counts the positive integers up to a given integer $n$ that are relatively prime to $n$.\n",
    "\n",
    "**Proprieties**\n",
    "- If $p$ is **prime** => $\\boxed{\\phi(p) = p-1}$\n",
    "- Multiplicative => if $\\gcd(m,n) = 1 => \\phi(mn) = \\phi(m)\\cdot \\phi(n)$ \n",
    "- If $ n=p_{1}^{e_{1}} \\cdot p_{2}^{e_{2}} \\cdot p_{3}^{e_{3}} \\cdots p_{k}^{e_{k}} $  is the prime factorization of $n$ => $φ(n)=n\\left( 1−\\cfrac 1 {p_1} \\right) \\left(1−\\cfrac 1{ p_2}\\right)···\\left(1−\\cfrac 1 {p_k}\\right)$\n",
    "\n",
    "https://en.wikipedia.org/wiki/Euler%27s_totient_function"
   ]
  },
  {
   "cell_type": "markdown",
   "metadata": {},
   "source": [
    "## Modular arithmetic"
   ]
  },
  {
   "cell_type": "markdown",
   "metadata": {},
   "source": [
    "https://brilliant.org/wiki/modular-arithmetic/"
   ]
  },
  {
   "cell_type": "markdown",
   "metadata": {},
   "source": [
    "**Def**\n",
    "- If $a$ and $b$ are integers, then $a$ is said to be **congruent** to $b$ modulo $n$, written $a≡b \\bmod \\ n$, if $n$ divides $(a−b)$. \n",
    "- The integer $n$ is called the modulus of the congruence\n",
    "\n",
    "**Def**\n",
    "- The **integers modulo $n$**, denoted $\\mathbb{Z}_n$, is the set of (equivalence classes of) integers ${0,1,2,...,n−1}$. Addition, subtraction, and multiplication in $\\mathbb{Z}_n$ are performed modulo $n$"
   ]
  },
  {
   "cell_type": "markdown",
   "metadata": {},
   "source": [
    "**Equivalence relations props**\n",
    "- $x \\equiv x \\bmod n$\n",
    "-$x \\equiv y \\bmod n$ and $y \\equiv z \\bmod n \\Rightarrow x \\equiv z \\bmod n$\n",
    "- $x\\equiv y \\bmod n \\Rightarrow y \\equiv x \\bmod n$"
   ]
  },
  {
   "cell_type": "markdown",
   "metadata": {},
   "source": [
    "**Addition props**:\n",
    "- If $a+b = c$, then $a\\pmod N+b\\pmod N \\equiv c \\pmod N$. \n",
    "- If $a\\equiv b\\pmod N$, then $a+k \\equiv b+k \\pmod N$ for any integer $k$.\n",
    "- If $a\\equiv b\\pmod N$ and $c\\equiv d\\pmod N$ , then $a+c \\equiv b+d \\pmod N$\n",
    "- If $a \\equiv b\\pmod N$, then $-a \\equiv -b\\pmod N$"
   ]
  },
  {
   "cell_type": "markdown",
   "metadata": {},
   "source": [
    "**Multiplication Props**:\n",
    "- If $a \\cdot b = c$, then $a\\pmod N\\cdot b\\pmod N \\equiv c \\pmod{N}$\n",
    "- If $a \\equiv b \\pmod{N}$, then $ka \\equiv kb \\pmod{N}$for any integer $k$.\n",
    "- If $a \\equiv b \\pmod{N}$ and $c \\equiv d \\pmod{N}$, then $ac \\equiv bd \\pmod{N}$"
   ]
  },
  {
   "cell_type": "markdown",
   "metadata": {},
   "source": [
    "**Exponentiation Props**:\n",
    "- If $a\\equiv b\\pmod{N}$, then $a^k \\equiv b^k \\pmod{N}$ for any positive integer $k$."
   ]
  },
  {
   "cell_type": "markdown",
   "metadata": {},
   "source": [
    "**Multiplicative inverses**:\n",
    "- The modular inverse of $a$ in the ring of integers modulo $N$ is an integer $x$ such that $ax \\equiv 1 \\pmod{N}$.\n",
    "- an element $x$ has an inverse $\\iff \\gcd(x, N) = 1$\n",
    "\n",
    "The extended Euclidean algorithm gives us an efficient computational method for computing $a^{-1} \\bmod p$  \n",
    "We simply solve the equation $a u+p v=1 \\quad$  \n",
    "in integers $u$ and $v$\n",
    "and then $u=a^{-1}$ mod $p .$\n",
    "\n",
    "    "
   ]
  },
  {
   "cell_type": "markdown",
   "metadata": {},
   "source": [
    "We want to find the inverse $u$ of an arbitrary number $a<m$ in the product modulo $m$, therefore\n",
    "\n",
    "$$a u=1 \\textrm{ (mod m)}$$\n",
    "\n",
    "Let's take the $gcd(a, m)=d$\n",
    "\n",
    "$$a u=1+m y$$\n",
    "\n",
    "for some $y$ to be found. Rearranging the previous equation.\n",
    "\n",
    "$$a u-m y=1$$\n",
    "\n",
    "We divide now $d$ to both sides of the previous equation. Since $d$ is a common factor for $a$ and $m$ we know that the left hand side is an integer, but the right hand side would be a real number, therefore $d$ has to be 1.\n",
    "\n",
    "Therefore, **$a$ moudulo $m$ has an inverse in multiplication if and only if $\\gcd(a,m)=1$**\n",
    "\n",
    "We can use the extended euclidean algorithm to find the inverse modulo $m$ for an integer $a$. Since we know that gcd($a$, $m$)=1, we can write\n",
    "\n",
    "$$au+mv=gcd(a,m)=1$$\n",
    "\n",
    "This means that\n",
    "\n",
    "$$au-1=-mv$$\n",
    "\n",
    "And if we apply the modulo $m$ to both sides we get\n",
    "\n",
    "$$au-1=0 \\textrm{ (mod m)}$$\n",
    "\n",
    "or\n",
    "\n",
    "$$au=1 \\textrm{ (mod m)}$$\n",
    "\n",
    "and therefore $u$ is the inverse of $a$ in modulo $m$."
   ]
  },
  {
   "cell_type": "markdown",
   "metadata": {},
   "source": [
    "### Chinese remainder theorem"
   ]
  },
  {
   "cell_type": "markdown",
   "metadata": {},
   "source": [
    "\"We have a number of things, but we do not know exactly how many.  \n",
    "If we count them by threes we have two left over.  \n",
    "If we count them by fives we have three left over.  \n",
    "If we count them by sevens we have two left over.  \n",
    "How many things are there?\"  \n",
    "- Sunzi"
   ]
  },
  {
   "cell_type": "markdown",
   "metadata": {},
   "source": [
    "Let $n∈N^∗$ be a positive integer, $a, b∈\\mathbb{Z}$ two integers and $d= \\gcd(a, n)$.  Show that if $d|b$, then the congruence $ax≡b \\bmod n$ has exactly $d$ solutions $x_1, x_2, . . . , x_d$ in the set $\\{0,1, . . . , n−1\\}$."
   ]
  },
  {
   "cell_type": "markdown",
   "metadata": {},
   "source": [
    "Let $m_{1}, m_{2}, \\ldots, m_{k}$ be a collection of pairwise relatively prime integers. This means that  \n",
    "$\n",
    "\\operatorname{gcd}\\left(m_{i}, m_{j}\\right)=1 \\quad \\text { for all } i \\neq j\n",
    "$  \n",
    "\n",
    "Let $a_{1}, a_{2}, \\ldots, a_{k}$ be arbitrary integers. \n",
    "\n",
    "Then the system of simultaneous congruences  \n",
    "$  \n",
    "x \\equiv a_{1}\\left(\\bmod m_{1}\\right), \\\\\n",
    "x \\equiv a_{2}\\left(\\bmod m_{2}\\right), \\\\\n",
    "\\ldots\\\\\n",
    "x \\equiv a_{k}\\left(\\bmod m_{k}\\right)\n",
    "$  \n",
    "has a solution $x=c .$  \n",
    "\n",
    "Further, if $x=c$ and $x=c^{\\prime}$ are both solutions, then\n",
    "$\n",
    "c \\equiv c^{\\prime} \\quad\\left(\\bmod m_{1} m_{2} \\cdots m_{k}\\right)\n",
    "$\n",
    "\n",
    "Explanation: \n",
    "- https://www.youtube.com/watch?v=aS57JCzJw_o\n",
    "- https://www.youtube.com/watch?v=oKMYNKbFHBE"
   ]
  },
  {
   "cell_type": "markdown",
   "metadata": {},
   "source": [
    "**Remark**: If $\\gcd(n_1,n_2)=1$, then the pair of congruences $x≡a\\bmod {n_1} ,x≡a\\bmod {n_2}$ has a unique solution $x≡a\\bmod {n_1\\cdot n_2}$"
   ]
  },
  {
   "cell_type": "code",
   "execution_count": 5,
   "metadata": {},
   "outputs": [],
   "source": [
    "def solve_simple_eq(a, b, c, p):\n",
    "    '''\n",
    "    a + bx = c mod p\n",
    "    x = (c - a) * b^{-1} mod p\n",
    "    '''\n",
    "    c = c-a\n",
    "    c = (c * inverse(b, p)) % p\n",
    "    return c%p\n",
    "\n",
    "def crt(a_list, m_list):\n",
    "    x = 0\n",
    "    #starting values\n",
    "    a = 0\n",
    "    m = 1\n",
    "    for i in range(len(m_list)):\n",
    "        #general solution for the first equations x = a + m * y \n",
    "        #plug it in into the next equation and solve\n",
    "        x = solve_simple_eq(a, m, a_list[i], m_list[i])\n",
    "        \n",
    "        a = a + m * x\n",
    "        m = m * m_list[i]\n",
    "        #print(a, m)        \n",
    "    return a, m\n",
    "        "
   ]
  },
  {
   "cell_type": "code",
   "execution_count": 14,
   "metadata": {},
   "outputs": [
    {
     "data": {
      "text/plain": [
       "(23, 105)"
      ]
     },
     "execution_count": 14,
     "metadata": {},
     "output_type": "execute_result"
    }
   ],
   "source": [
    "a_list = [2, 3, 2]\n",
    "m_list = [3, 5, 7]\n",
    "crt(a_list=a_list, m_list=m_list)"
   ]
  },
  {
   "cell_type": "code",
   "execution_count": 21,
   "metadata": {},
   "outputs": [
    {
     "data": {
      "text/plain": [
       "(5, 91)"
      ]
     },
     "execution_count": 21,
     "metadata": {},
     "output_type": "execute_result"
    }
   ],
   "source": [
    "a_list = [5, 5]\n",
    "m_list = [7, 13]\n",
    "crt(a_list=a_list, m_list=m_list)"
   ]
  },
  {
   "cell_type": "markdown",
   "metadata": {},
   "source": [
    "# Abstract algebra"
   ]
  },
  {
   "cell_type": "markdown",
   "metadata": {},
   "source": [
    "## Group"
   ]
  },
  {
   "cell_type": "markdown",
   "metadata": {},
   "source": [
    "Let $G$ be a set with the $\\cdot$ operation. Then $(G, \\cdot)$ is a group $\\iff$\n",
    "1. **Closure**:  $a, b \\in G \\Rightarrow ab \\in G$ \n",
    "2. **Assiociativity**: $a, b, c \\in G \\Rightarrow (ab)c = a(bc)$ \n",
    "3. **Identity**: $\\exists \\ e \\in G \\ s.t \\ ae = ea = e, \\ \\forall \\ a \\in G$ \n",
    "4. **Inverses**: $\\forall \\ a \\in G \\ \\exists a' \\in G \\ s.t. \\ aa' = a'a = e$ "
   ]
  },
  {
   "cell_type": "markdown",
   "metadata": {},
   "source": [
    "## Additive group $\\mathbb{Z}_n$"
   ]
  },
  {
   "cell_type": "markdown",
   "metadata": {},
   "source": [
    "Recall that for a fixed $m$ all the possible values are\n",
    "\n",
    "let $G = \\{0, 1, 2, ..., m-1\\} = \\mathbb{Z}_n$\n",
    "\n",
    "The elements with the modulo sum operation constitutes an **algebraic group** denoted as: ($G$, $+$). An algebraic group has the following properties:\n",
    "\n",
    "\n",
    "* **Closure**: for any $a$ and $b$ in the set, the operation $a + b$ must also be in the set.\n",
    "* **Associativity** for any $a$, $b$ and $c$ in the set, $(a + b)+ c = a + (b + c)$\n",
    "* **Existence of identity**: There exist an element $e$ in the set such that for any $a$ in the set $a + e = a$\n",
    "* **Inverse Element**: For any element in the group $a$ there must be another element $b$ such that $a + b = e$\n",
    "\n",
    "If additionally the operation is commutative ($a+b$=$b+a$) then we say that the group is commutative or abelian."
   ]
  },
  {
   "cell_type": "markdown",
   "metadata": {},
   "source": [
    "## Multiplicative group $\\mathbb{Z}_n$"
   ]
  },
  {
   "cell_type": "markdown",
   "metadata": {},
   "source": [
    "**Definition**\n",
    "- The multiplicative group of $\\mathbb{Z}_n$ is $\\mathbb{Z}^∗_n=\\{a∈\\mathbb{Z}n|\\gcd(a,n)=1\\}$.\n",
    "- Inparticular, if $n$ is a prime, then $\\mathbb{Z}^∗_n=\\{a|1≤a≤n−1\\}$\n",
    "\n",
    "**Def order**\n",
    "- The **order**of $\\mathbb{Z}^∗_n$ is defined to be the number of elements in $\\mathbb{Z}^∗_n$, namely $\\boxed{|\\mathbb{Z}^∗_n| = \\phi(n)}$"
   ]
  },
  {
   "cell_type": "markdown",
   "metadata": {},
   "source": [
    "### Euler's theorem\n",
    "https://en.wikipedia.org/wiki/Euler%27s_theorem\n",
    "Let $n≥2$ be an integer:\n",
    "- (Euler’s theorem) If $a∈\\mathbb{Z}^∗_n => φ(n)≡1 \\bmod n$.\n",
    "\n",
    "- If $n$ is a product of distinct primes, and if $r≡s \\bmod φ(n) => a^r≡a^s \\bmod n \\ \\forall a \\in \\mathbb{Z}$.  \n",
    "    - *Intuition*: when working modulo such an $n$, exponents can be reduced modulo $φ(n)$.\n",
    "    \n",
    "### Fermat's little theorem\n",
    "Let $p$ be a prime.\n",
    "- (Fermat’s theorem) If $\\boxed{\\gcd(a,p)=1 \\Rightarrow a^{p−1}≡1 \\bmod p}$.\n",
    "- If $r≡s \\bmod {p−1}, \\Rightarrow a^r≡a^s \\bmod p \\ \\forall a \\in \\mathbb{Z}$ \n",
    "    - *Intuition*: when working modulo a prime $p$, exponents can be reduced modulo $p−1$\n",
    "- In particular, $ap \\equiv a \\bmod p$ for all integers"
   ]
  },
  {
   "cell_type": "code",
   "execution_count": 4,
   "metadata": {
    "ExecuteTime": {
     "end_time": "2021-04-18T10:39:50.622302Z",
     "start_time": "2021-04-18T10:39:50.497301Z"
    }
   },
   "outputs": [
    {
     "name": "stdout",
     "output_type": "stream",
     "text": [
      "1\n",
      "True\n",
      "True\n"
     ]
    }
   ],
   "source": [
    "p = getPrime(512)\n",
    "a = 1234\n",
    "print(pow(a, p-1, p))\n",
    "\n",
    "r = pow(2, 16) + 1\n",
    "s = 20 * (p-1) + r\n",
    "# Check r = s mod (p - 1)\n",
    "print(s % (p-1) == r % (p-1))\n",
    "# a^s = a^r mod p\n",
    "print(pow(a, s, p) == pow(a, r, p))"
   ]
  },
  {
   "cell_type": "markdown",
   "metadata": {},
   "source": [
    "### Cyclic groups"
   ]
  },
  {
   "cell_type": "markdown",
   "metadata": {},
   "source": [
    "A special case of group is the cyclic group. We say that a group is cyclic if it is possible to generate all the elements of the group, by taking one element and sucessively apply the operation. We call such element the **generator** of the group and is commonly denoted by $g$.\n",
    "\n",
    "$$G = \\{g^0, g^1, ..., g^{m-1}\\}$$\n",
    "\n",
    "where $m$ is the number of elements of the group, also known as the **order** of the group."
   ]
  },
  {
   "cell_type": "markdown",
   "metadata": {},
   "source": [
    "### Generators and the order of elements\n",
    "- Let $a∈\\mathbb{Z}^∗_n$. The **order** of $a$, denoted $\\ord(a)$, is the least positive integer $t$ such that $a^t≡1 \\bmod n$\n",
    "- if $t = \\phi(n) \\Rightarrow a =$ generator\n",
    "\n",
    "**Proprieties**\n",
    "- $\\mathbb{Z}^∗_n$ has a generator if and only if $n=2,4,p^k, 2p^k$, where $p$ is an odd prime and $k≥1$\n",
    "    - In particular, if $p$ is a prime, then $\\mathbb{Z}^∗_p$ has a generator\n",
    "- If $g$ is a generator of $\\mathbb{Z}^∗_n => \\mathbb{Z}^∗_n =\\{ g^i \\bmod n|0≤i≤φ(n)−1\\}$\n",
    "- Suppose that $g$ is a generator of $\\mathbb{Z}^∗_n => b= g^i \\bmod n$ is also a generator of $\\mathbb{Z}^∗_n$ if and only if $\\gcd(i,φ(n)) = 1$\n",
    "    - It follows that if $\\mathbb{Z}^∗_n$ is cyclic, then the number ofgenerators is φ(φ(n)).\n",
    "- $g∈\\mathbb{Z}^∗_n$ is a generator of $\\mathbb{Z}^∗_n \\iff g^{φ(n)/p}\\not ≡ 1 \\bmod n$ for each prime divisor $p$ of $φ(n)$."
   ]
  },
  {
   "cell_type": "markdown",
   "metadata": {},
   "source": [
    "## Roots in $\\mathbb{Z}_p$"
   ]
  },
  {
   "cell_type": "markdown",
   "metadata": {},
   "source": [
    "Let \n",
    "- $p$ be a prime\n",
    "- $a \\in \\mathbb{Z}_p$\n",
    "> If $\\gcd(e, p-1) = 1 \\Rightarrow \\exists d \\equiv e^{-1} \\bmod {p-1} \\Rightarrow a^{e^{-1}} \\equiv a^d \\bmod p$\n",
    "\n",
    "**Proof**\n",
    "- $de\\equiv 1 \\bmod \\mathbb{Z}_{p-1} \\rightarrow \\exists k \\in \\mathbb{Z}\\  \\text{such that }   de = k(p-1) + 1 \\Rightarrow c^{de} \\equiv c^{k(p-1)+1}\\equiv \\underbrace{c^{k(p-1)}}_1 \\cdot c \\equiv 1 \\bmod p$"
   ]
  },
  {
   "cell_type": "markdown",
   "metadata": {},
   "source": [
    "### Computing square roots"
   ]
  },
  {
   "cell_type": "markdown",
   "metadata": {},
   "source": [
    "Let \n",
    "- $p$ be a prime\n",
    "\n",
    "> $\\text{If } p \\equiv 3 \\bmod 4 \\Rightarrow \\boxed{\\sqrt{a} \\equiv c^{\\frac {p+1} 4} \\bmod p}$\n",
    "\n",
    "**Proof**\n",
    "- $p+1 \\equiv 0 \\bmod 4$\n",
    "- $c^{\\left(\\frac {p+1} 4\\right)^2} \\equiv c^{\\frac {p+1} 2} \\equiv c^{\\frac {p-1} 2} \\cdot c \\equiv 1 \\cdot c \\equiv c \\bmod p$\n",
    "\n",
    "> $\\text{If }p\\equiv 1 \\bmod 4 \\Rightarrow$ we need a randomize algorithm => Tonelli shanks https://en.wikipedia.org/wiki/Tonelli%E2%80%93Shanks_algorithm"
   ]
  },
  {
   "cell_type": "markdown",
   "metadata": {},
   "source": [
    "## Quadratic residues"
   ]
  },
  {
   "cell_type": "markdown",
   "metadata": {},
   "source": [
    "- https://brilliant.org/wiki/quadratic-residues/\n",
    "- https://en.wikipedia.org/wiki/Quadratic_residue"
   ]
  },
  {
   "cell_type": "markdown",
   "metadata": {},
   "source": [
    "**Definition**\n",
    "\n",
    "Let $a∈\\mathbb{Z}^*_n$. \n",
    "- If $a$ and $n$ are coprime integers, then $a$ is called a **quadratic residue** modulo $n$ if the congruence $x^2\\equiv a\\bmod n$ has a solution.\n",
    "- Likewise, if it has no solution, then it is called a quadratic non-residue modulo $n$.\n",
    "- $x$ is called a **square root**\n",
    "\n",
    "**Remarks**\n",
    "- the set of all quadratic residues modulonis denotedby $Q_n$ and the set of all quadratic non-residues is denoted by $\\overline{Q}_n$. Note that by definition $0\\not ∈\\mathbb{Z}^*_n$, whence $0\\not ∈Q_n$ and $0\\not ∈\\overline{Q}_n$\n",
    "- let $p$ be a prime => $|Q_p|=\\dfrac{p−1} 2$ and $|\\overline{Q}_p|= \\dfrac {p−1} 2$ -> **Number of Q/NQ residues**\n",
    "- $n = p \\cdot q \\Rightarrow$\n",
    "    - $|Q_n|=|Q_p| \\cdot |Q_q| = \\dfrac {p−1} 4$ \n",
    "    - $|\\overline{Q}_n|= \\dfrac {3(p−1)} 4$\n",
    "- if $p$ is prime and $a \\in Q_p$ => $a$ has exactly 2 square roots\n",
    "    - More generally, let $n=p^{e_1}_1p^{e_2}_2···p^{e_k}_k$ where the $p_i$ are distinct odd primes and $e_i≥1$. If $a∈Q_n$, => $a$ has precisely $2^k$ distinct square roots modulo $n$."
   ]
  },
  {
   "cell_type": "markdown",
   "metadata": {},
   "source": [
    "**Prop**  \n",
    "Let $p$ be an odd prime number.\n",
    "* QR·QR=QR mod p\n",
    "* QR·NR=NR mod p\n",
    "* NR·NR=QR mod p"
   ]
  },
  {
   "cell_type": "markdown",
   "metadata": {},
   "source": [
    "## Legendre and jacobi symbols"
   ]
  },
  {
   "cell_type": "markdown",
   "metadata": {},
   "source": [
    "### Legendre symbol\n",
    "\n",
    "- https://brilliant.org/wiki/legendre-symbol/\n",
    "\n",
    "*Idea*\n",
    "- Check if a number is a QR or not\n",
    "\n",
    "Let $p$ be an odd prime and let $a$ be an integer. The **Legendre symbol** of $a$ with respect to $p$ is defined by\n",
    "\n",
    "$\\left(\\dfrac{a}{p}\\right)=\\begin{cases}1 & \\text{ if } a \\text{ is a quadratic residue modulo } p \\text{ and } a \\not\\equiv 0\\pmod{p}\\\\-1 & \\text{ if } a \\text{ is a quadratic non-residue modulo } p\\\\0 & \\text{ if } a \\equiv 0 \\pmod{p}.\\end{cases}$\n",
    "\n",
    "**Proprieties**\n",
    "\n",
    "- (Euler's criterion) If $p$ is an odd prime and $a$ is an integer not divisible by $p$, then\n",
    "$a^{\\frac{p-1}{2}}=\\left(\\dfrac{a}{p}\\right)\\pmod p$.\n",
    "- If $a\\equiv b \\pmod p =>  \\left(\\dfrac{a}{p}\\right)=\\left(\\dfrac{b}{p}\\right)$\n",
    "- $\\left(\\dfrac{ab}{p}\\right)=\\left(\\dfrac{a}{p}\\right)\\left(\\dfrac{b}{p}\\right)$ that is, the function $f(a) = \\left(\\dfrac{a}{p} \\right)$ is a completely multiplicative function.\n",
    "- $\\left(\\dfrac{-1}{p}\\right) = (-1)^{\\frac{p-1}{2}}$ so it is $1$ if and only if $p \\equiv 1 \\bmod 4$.\n",
    "\n",
    "\n",
    "- $\\left(\\dfrac{2}{p}\\right)= (-1)^{\\frac{p^2-1}{8}}$ for an odd prime $p$, so it is $1 \\iff p \\equiv \\pm 1 \\bmod 8$\n",
    "- (The law of quadratic reciprocity) If $p$ and $q$ are distinct odd primes, we have\n",
    "$\\left(\\dfrac{q}{p}\\right)\\left(\\dfrac{p}{q}\\right)=(-1)^{\\frac{p-1}{2} \\frac{q-1}{2}}$"
   ]
  },
  {
   "cell_type": "markdown",
   "metadata": {},
   "source": [
    "### Jacobi Symbol\n",
    "\n",
    "https://brilliant.org/wiki/jacobi-symbol/\n",
    "\n",
    "If $n = p_1^{a_1}p_2^{a_2} \\cdots p_k^{a_k}$\n",
    "$$\\left( \\frac{a}{n} \\right) = \\left( \\frac{a}{p_1} \\right)^{a_1} \\left( \\frac{a}{p_2} \\right)^{a_2} \\cdots \\left( \\frac{a}{p_k} \\right)^{a_k}$$\n",
    "\n",
    "- The Legendre symbol measures whether $a$ is a square mod $p$. Unfortunately, the Jacobi symbol does not retain this property. it is indeed true that if $a∈Q_n$,then $\\left(\\dfrac a n\\right)=1$. However,$\\left(\\dfrac a n\\right)=1$ **does not** imply that $a∈Q_n$\n",
    "- If $\\text{gcd}(a,n) = 1$ and $a$ is a square mod $n$, where $n$ is an odd positive integer, then $\\left( \\frac{a}{n} \\right) = 1$; but the converse is not true.\n",
    " \n",
    " **Proprieties**\n",
    " \n",
    "Let $m,n$ be positive odd integers and let $a,b$be integers.\n",
    "\n",
    "- If $a\\equiv b \\pmod n$, then $\\left(\\dfrac{a}{n}\\right)=\\left(\\dfrac{b}{n}\\right)$\n",
    "- $\\left(\\dfrac{ab}{n}\\right)=\\left(\\dfrac{a}{n}\\right)\\left(\\dfrac{b}{n}\\right)$ that is, the function $f(a) = \\left(\\dfrac{a}{n} \\right)$ is a completely multiplicative function.\n",
    "- $\\left(\\dfrac{a}{mn} \\right) = \\left(\\dfrac{a}{m}\\right) \\left(\\dfrac{a}{n}\\right)$.\n",
    "- $\\left(\\dfrac{-1}{n}\\right) = (-1)^{\\frac{n-1}{2}}$, so it is 11 if and only if $n \\equiv 1 \\bmod 4$.\n",
    "- $\\left(\\dfrac{2}{n}\\right)= (-1)^{\\frac{n^2-1}{8}}$, so it is $1$ if and only if $n \\equiv \\pm 1 \\bmod 8$.\n",
    "- (Extension of the law of quadratic reciprocity:) If $m$ and $n$ are coprime positive odd integers,\n",
    "$\\left(\\dfrac{m}{n}\\right)\\left(\\dfrac{n}{m}\\right)=(-1)^{\\frac{m-1}{2} \\frac{n-1}{2}}$"
   ]
  },
  {
   "attachments": {
    "image.png": {
     "image/png": "[encoded data removed]"
    }
   },
   "cell_type": "markdown",
   "metadata": {},
   "source": [
    "![image.png](attachment:image.png)"
   ]
  },
  {
   "cell_type": "code",
   "execution_count": 1,
   "metadata": {},
   "outputs": [],
   "source": [
    "def jacobi_symbol(a, n):\n",
    "    if a ==0:\n",
    "        return 0\n",
    "    if a ==1:\n",
    "        return 1\n",
    "    #write a = 2^e *s where a1 is odd\n",
    "    e =0\n",
    "    a1 = a\n",
    "    while a1 & 1==0: #while a1 is even\n",
    "        a1>>=1\n",
    "        e+=1\n",
    "        \n",
    "    #if e is even set s = 1\n",
    "    if e & 1 == 0:\n",
    "        s = 1\n",
    "    elif n % 8 == 7 or n % 8 == 1:\n",
    "        s = 1\n",
    "    elif n % 8 == 3 or n % 8 == 5:\n",
    "        s = -1\n",
    "    \n",
    "    if n % 4 == 3 and a1 % 4 == 3:\n",
    "        s = -s\n",
    "        \n",
    "    n1 = n % a1\n",
    "    if a1 ==1:\n",
    "        return s\n",
    "    else:\n",
    "        return s * jacobi_symbol(n1, a1)"
   ]
  },
  {
   "cell_type": "code",
   "execution_count": 2,
   "metadata": {},
   "outputs": [
    {
     "data": {
      "text/plain": [
       "-1"
      ]
     },
     "execution_count": 2,
     "metadata": {},
     "output_type": "execute_result"
    }
   ],
   "source": [
    "jacobi_symbol(158, 235)"
   ]
  },
  {
   "cell_type": "markdown",
   "metadata": {},
   "source": [
    "## Carmichael numbers"
   ]
  },
  {
   "cell_type": "markdown",
   "metadata": {},
   "source": [
    "- https://en.wikipedia.org/wiki/Carmichael_number"
   ]
  },
  {
   "cell_type": "markdown",
   "metadata": {},
   "source": [
    "**Definition**\n",
    "A Carmichael number $n$ is a composite integer such that $a^{n−1}≡1 \\bmod n$ for all integers $a$ which satisfy $\\gcd(a,n)=1$\n",
    "\n",
    "**Necessary and sufficient conditions for Carmichael numbers (Korselt's Criterion)**: A composite integer $n$ is a Carmichael number if and only if the following two conditions are satisfied:\n",
    "- $n$ is square-free, i.e., $n$ is not divisible by the square of any prime; \n",
    "- $p−1$ divides $n−1$ for every prime divisor $p$ of $n$\n",
    "\n",
    "**Remark**:\n",
    "- Every Carmichael number is the product of at least three distinct primes\n"
   ]
  },
  {
   "cell_type": "markdown",
   "metadata": {},
   "source": [
    "### Carmichael function\n",
    "\n",
    "- https://brilliant.org/wiki/carmichaels-lambda-function/\n",
    "\n",
    "**Definition**\n",
    "\n",
    "Let $n$ be a positive integer. Then  $\\lambda(n)$ is defined to be the smallest positive integer $k$ such that \n",
    "- $a^k \\equiv 1 \\pmod n$ for all $a$ such that $\\text{gcd}(a,n)=1$\n",
    "\n",
    "**Computing**\n",
    "\n",
    " We have\n",
    "\n",
    "$\\begin{aligned} \\lambda\\left(p^{\\alpha}\\right) &= \\begin{cases} \\phi\\left(p^{\\alpha}\\right) &\\text{ if } \\alpha \\leq 2 \\text{ or } p \\geq 3 \\\\ \\frac{1}{2} \\phi\\left(p^{\\alpha}\\right) &\\text{ if } \\alpha \\geq 3 \\text{ and } p = 2 \\end{cases} \\\\\\\\ \\lambda\\left( {p_1}^{\\alpha_1} \\cdots {p_k}^{\\alpha_k} \\right) &= \\text{lcm} \\, \\big(\\lambda\\left({p_1}^{\\alpha_1}\\right), \\cdots, \\lambda\\left({p_k}^{\\alpha_k}\\right)\\big), \\end{aligned}$\n",
    "\n",
    "where the pi p_i pi​ are distinct positive prime numbers. \n",
    "\n",
    "**Proprieties**\n",
    "- If $a|b$, then $\\lambda(a)|\\lambda(b)$\n",
    "- $\\lambda\\big(\\text{lcm}(a,b)\\big) = \\text{lcm}\\big(\\lambda(a),\\lambda(b)\\big)$\n",
    "\n"
   ]
  },
  {
   "cell_type": "markdown",
   "metadata": {},
   "source": [
    "# Where to go from here?\n",
    "\n",
    "Try one of these!\n",
    "- Abstract algebra\n",
    "- public key cryptography\n",
    "- Primality tests\n",
    "- Factorization\n"
   ]
  },
  {
   "cell_type": "code",
   "execution_count": null,
   "metadata": {},
   "outputs": [],
   "source": []
  }
 ],
 "metadata": {
  "kernelspec": {
   "display_name": "SageMath 9.2",
   "language": "sage",
   "name": "sagemath"
  },
  "language_info": {
   "codemirror_mode": {
    "name": "ipython",
    "version": 3
   },
   "file_extension": ".py",
   "mimetype": "text/x-python",
   "name": "python",
   "nbconvert_exporter": "python",
   "pygments_lexer": "ipython3",
   "version": "3.7.7"
  },
  "toc": {
   "base_numbering": 1,
   "nav_menu": {},
   "number_sections": true,
   "sideBar": true,
   "skip_h1_title": false,
   "title_cell": "Table of Contents",
   "title_sidebar": "Contents",
   "toc_cell": false,
   "toc_position": {},
   "toc_section_display": true,
   "toc_window_display": false
  }
 },
 "nbformat": 4,
 "nbformat_minor": 2
}
