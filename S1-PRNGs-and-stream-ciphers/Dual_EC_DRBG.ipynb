{
 "cells": [
  {
   "cell_type": "code",
   "execution_count": 52,
   "metadata": {},
   "outputs": [],
   "source": [
    "from fastecdsa.curve import P256\n",
    "from fastecdsa.point import Point\n",
    "from Crypto.Random import random\n",
    "from fastecdsa.util import mod_sqrt\n",
    "from tqdm.notebook import tqdm"
   ]
  },
  {
   "cell_type": "markdown",
   "metadata": {},
   "source": [
    "# Prerequisites"
   ]
  },
  {
   "cell_type": "markdown",
   "metadata": {},
   "source": [
    "- PRNG\n",
    "- Elliptic curves\n",
    "- ECDLP"
   ]
  },
  {
   "cell_type": "markdown",
   "metadata": {},
   "source": [
    "# Theory"
   ]
  },
  {
   "cell_type": "markdown",
   "metadata": {},
   "source": [
    "PRNG refresher\n",
    "\n",
    "$\n",
    "\\boxed{s_0} \\\\\n",
    "\\big \\downarrow \\ f\\\\\n",
    "\\boxed{s_1} \\overset{g}{\\longrightarrow} r_1 \\\\\n",
    "\\big\\downarrow \\ f\\\\\n",
    "\\boxed{s_2} \\overset{g}{\\longrightarrow} r_2 \\\\\n",
    "\\big\\downarrow \\ f\\\\\n",
    "\\boxed{s_3} \\overset{g}{\\longrightarrow} r_3 \\\\\n",
    "$\n",
    "\n",
    "where $f$ and $g$ are functions (problems) that are unfeasable to reverse"
   ]
  },
  {
   "cell_type": "markdown",
   "metadata": {},
   "source": [
    "Let \n",
    "- $E$ be an elliptic curve\n",
    "- $P, Q \\in E$ \n",
    "- $Q = kP$ with $k \\in \\mathbb{Z}$\n",
    "- $s_i$ will be our internal state at step $i$\n",
    "- $r_i$ will be our output at step $i$\n",
    "\n",
    "ECDLP\n",
    "> If you know $P$ and $Q$ it's unfeasable to find $k$\n",
    "\n",
    "- We will use ECDLP as our one way function to maintain our forward and backward secrecy"
   ]
  },
  {
   "cell_type": "markdown",
   "metadata": {},
   "source": [
    "DRBG = Dual Elliptic Curve Deterministic Random Bit Generator\n",
    "- Use the number curve P256 with some handpicked $P, Q$\n",
    "- https://www.youtube.com/watch?v=OkiVN6z60lg&t - MUST WATCH \n",
    "- https://rump2007.cr.yp.to/15-shumow.pdf\n"
   ]
  },
  {
   "cell_type": "markdown",
   "metadata": {},
   "source": [
    "**Forward secrecy**\n",
    "> If an internal state is compromised(known), the previous states cannot be compromised\n",
    "\n",
    "\n",
    "**Backward secrecy**\n",
    "> If an internal state is compromised(known), the future states cannot be compromised\n",
    "\n",
    "\n",
    "- https://www.youtube.com/watch?v=IkM3R-KDu44"
   ]
  },
  {
   "cell_type": "markdown",
   "metadata": {},
   "source": [
    "## Version 1\n",
    "\n",
    "- https://www.youtube.com/watch?v=ulg_AHBOIQU"
   ]
  },
  {
   "cell_type": "markdown",
   "metadata": {},
   "source": [
    "$\n",
    "\\boxed{s_0} \\\\\n",
    "\\Bigg \\downarrow  (s_0\\cdot P).x\\\\\n",
    "\\boxed{s_1} \\overset{(s_1\\cdot Q).x}{\\longrightarrow} r_1 \\longrightarrow r_1[:240]\\\\\n",
    "\\Bigg\\downarrow (s_1\\cdot P).x\\\\\n",
    "\\boxed{s_2} \\overset{(s_2\\cdot Q).x}{\\longrightarrow} r_2 \\longrightarrow r_2[:240]\\\\\n",
    "\\Bigg\\downarrow (s_2\\cdot P).x\\\\\n",
    "\\boxed{s_3} \\overset{(s_3\\cdot Q).x}{\\longrightarrow} r_3 \\longrightarrow r_3[:240]\\\\\n",
    "$\n"
   ]
  },
  {
   "cell_type": "markdown",
   "metadata": {},
   "source": [
    "## Security\n",
    "The strength of this PRNG is based on the ECDLP\n",
    "- $R = (r_x, r_y), Q, P$\n",
    "- $R = s_i \\cdot Q$\n",
    "- knowing $R$ you cannot compute $s_i$\n",
    "- $P = e \\cdot Q$\n",
    "\t- If $P$ and $Q$ are truly random then $e$ is random then the PRNG is fine"
   ]
  },
  {
   "cell_type": "markdown",
   "metadata": {},
   "source": [
    "\t\n",
    "## The backdoor\n",
    "But if $e$ is not random ($e$ is the backdoor) then \n",
    "- $s_i\\cdot P = s_i \\cdot (e \\cdot Q) = e \\cdot s_i \\cdot Q = e \\cdot R$ \n",
    "- So $s_{i+1} = (e \\cdot R).x$ => We get the next state\n",
    "\n",
    "### The attack plan\n",
    "If we can choose $P$ and $Q$ let's us choose $Q$ such that $Q = P$\n",
    "- If $P = Q =>$ \n",
    "\t- $r_1 = (s_1 \\cdot P).x = s_2$ \n",
    "\t- $r_2 = (s_2 \\cdot P).x = s_3$ \n",
    "- Find \n",
    "    - Find $r_1[:240]$\n",
    "    - Find $r_2[:240]$\n",
    "    - Find $s_2$ by brute forcing the first $2^{16}b$ of $r_1 (= s_2)$ and testing if $\\underbrace{(r_1 \\cdot P).x}_{s_3}[:240] == r_2[:240]$\n",
    "    - If I find $s_2$ I broke the PRNG"
   ]
  },
  {
   "cell_type": "markdown",
   "metadata": {},
   "source": [
    "## Version 2"
   ]
  },
  {
   "attachments": {
    "image.png": {
     "image/png": "[encoded data removed]"
    }
   },
   "cell_type": "markdown",
   "metadata": {},
   "source": [
    "![image.png](attachment:image.png)"
   ]
  },
  {
   "cell_type": "markdown",
   "metadata": {},
   "source": [
    "- https://www.youtube.com/watch?v=nybVFJVXbww&t\n",
    "\n",
    "$\n",
    "\\boxed{s_0} \\\\\n",
    "\\Bigg \\downarrow  (s_0\\cdot P).x\\\\\n",
    "r_0 \\overset{(r_0\\cdot Q).x}{\\longrightarrow} t_0  \\longrightarrow t_0[:240]\\\\\\\\\n",
    "\\Bigg \\downarrow  (r_0\\cdot P).x \\\\\n",
    "\\boxed{s_1} \\\\\n",
    "\\Bigg \\downarrow  (s_1\\cdot P).x\\\\\n",
    "r_1 \\overset{(r_1\\cdot Q).x}{\\longrightarrow} t_1 \\longrightarrow t_1[:240]\\\\\\\\\n",
    "\\Bigg \\downarrow  (r_1\\cdot P).x \\\\\n",
    "\\boxed{s_2}  \\\\\n",
    "\\Bigg \\downarrow  (s_2\\cdot P).x\\\\\n",
    "r_2 \\overset{(r_2\\cdot Q).x}{\\longrightarrow} t_2  \\longrightarrow t_2[:240]\\\\\\\\\n",
    "\\Bigg \\downarrow  (r_2\\cdot P).x \\\\\n",
    "\\boxed{s_3}\n",
    "$\n",
    "\n",
    "- Backdoor is similar"
   ]
  },
  {
   "cell_type": "markdown",
   "metadata": {},
   "source": [
    "# Code"
   ]
  },
  {
   "cell_type": "markdown",
   "metadata": {},
   "source": [
    "## Version 1"
   ]
  },
  {
   "cell_type": "code",
   "execution_count": 75,
   "metadata": {},
   "outputs": [],
   "source": [
    "class Dual_EC_DRBG1:\n",
    "    def __init__(self, seed, P, Q):\n",
    "        self.seed = seed\n",
    "        self.P = P\n",
    "        self.Q = Q\n",
    "\n",
    "        \n",
    "    def next_num(self):\n",
    "        s0 = self.seed\n",
    "        s1 = (s0 * self.P).x\n",
    "        r1 = (s1 * self.Q).x\n",
    "        \n",
    "        self.seed = s1\n",
    "        return r1 & (2**(240) - 1)\n",
    "        "
   ]
  },
  {
   "cell_type": "code",
   "execution_count": 76,
   "metadata": {},
   "outputs": [],
   "source": [
    "P = P256.G\n",
    "Q = random.getrandbits(256) * P\n",
    "seed = random.getrandbits(60)\n",
    "rng = Dual_EC_DRBG1(seed, P, Q)"
   ]
  },
  {
   "cell_type": "code",
   "execution_count": 77,
   "metadata": {},
   "outputs": [
    {
     "name": "stdout",
     "output_type": "stream",
     "text": [
      "[1231552060546413391318023453567188090058266792110274047592427562515379405, 1216758479565553634918843678377486776810471339166733586950286515033720989, 737040477072736357580008044487283109729120428264536331387468969326099282]\n"
     ]
    }
   ],
   "source": [
    "print([rng.next_num() for i in range(3)])"
   ]
  },
  {
   "cell_type": "markdown",
   "metadata": {},
   "source": [
    "### Breaking it"
   ]
  },
  {
   "cell_type": "code",
   "execution_count": 78,
   "metadata": {},
   "outputs": [
    {
     "data": {
      "text/plain": [
       "654943182701178462091613576910994236387368131806757211391255622607623880"
      ]
     },
     "execution_count": 78,
     "metadata": {},
     "output_type": "execute_result"
    }
   ],
   "source": [
    "P = P256.G\n",
    "seed = random.getrandbits(60)\n",
    "rng = Dual_EC_DRBG1(seed, P, P)\n",
    "rng.next_num()"
   ]
  },
  {
   "cell_type": "code",
   "execution_count": 79,
   "metadata": {},
   "outputs": [
    {
     "data": {
      "text/plain": [
       "(1120705333011838021085717443044728103621641585710624670403295934388955926,\n",
       " 874745977888782828975052128375260260196665258740514531363400575549275986)"
      ]
     },
     "execution_count": 79,
     "metadata": {},
     "output_type": "execute_result"
    }
   ],
   "source": [
    "n1 = rng.next_num() # r1[:240]\n",
    "n2 = rng.next_num() # r2[:240]\n",
    "n1, n2"
   ]
  },
  {
   "cell_type": "code",
   "execution_count": 80,
   "metadata": {},
   "outputs": [
    {
     "data": {
      "application/vnd.jupyter.widget-view+json": {
       "model_id": "885c84c1d40c4097b5e4fe1022557423",
       "version_major": 2,
       "version_minor": 0
      },
      "text/plain": [
       "HBox(children=(HTML(value=''), FloatProgress(value=0.0, max=65536.0), HTML(value='')))"
      ]
     },
     "metadata": {},
     "output_type": "display_data"
    },
    {
     "name": "stdout",
     "output_type": "stream",
     "text": [
      "102356338015009594435111093232981057268505591271487192487613172143017145199382 874745977888782828975052128375260260196665258740514531363400575549275986\n",
      "\n"
     ]
    }
   ],
   "source": [
    "nr_r = 0\n",
    "for i in tqdm(range(2**16)):\n",
    "    r1 = (i << 240) + n1\n",
    "    r1y = P256.evaluate(r1) # get y^2\n",
    "    r1y = mod_sqrt(r1y, P256.p)[0] #get y\n",
    "    if P256.is_point_on_curve((r1, r1y)): #test if the point is on curve\n",
    "        nr_r+=1\n",
    "        n2_pred = (r1 * P).x & (2**(240) - 1)\n",
    "    if n2 == n2_pred: #r2 = n2\n",
    "        print(r1, n2_pred)\n",
    "        break"
   ]
  },
  {
   "cell_type": "code",
   "execution_count": 82,
   "metadata": {},
   "outputs": [],
   "source": [
    "rng_break = Dual_EC_DRBG1(r1, P, P) #s2"
   ]
  },
  {
   "cell_type": "code",
   "execution_count": 83,
   "metadata": {},
   "outputs": [
    {
     "name": "stdout",
     "output_type": "stream",
     "text": [
      "[True, True, True, True, True, True, True, True, True, True]\n"
     ]
    }
   ],
   "source": [
    "print([rng_break.next_num() == rng.next_num() for _ in range(10)])"
   ]
  },
  {
   "cell_type": "markdown",
   "metadata": {},
   "source": [
    "## Version 2"
   ]
  },
  {
   "cell_type": "code",
   "execution_count": 29,
   "metadata": {},
   "outputs": [],
   "source": [
    "class Dual_EC_DRBG2:\n",
    "    def __init__(self, seed, P, Q):\n",
    "        self.seed = seed\n",
    "        self.P = P\n",
    "        self.Q = Q\n",
    "        \n",
    "    def next_num(self):\n",
    "        s0 = self.seed\n",
    "        r0 = (s0 * self.P).x\n",
    "        t0 = (r0 * self.Q).x\n",
    "        \n",
    "        s1 = (r0 * self.P).x\n",
    "        \n",
    "        self.seed = s1\n",
    "        return t0 & (2**(240) - 1)\n",
    "        "
   ]
  },
  {
   "cell_type": "code",
   "execution_count": 31,
   "metadata": {},
   "outputs": [
    {
     "name": "stdout",
     "output_type": "stream",
     "text": [
      "[1069532959224303786163799834010794437350263072425150773821397613645823802, 603462681539745415502546334573068308938505608392255087400055874004112681, 157969509482800121589969694767104179251406862511669414471499855861721492]\n"
     ]
    }
   ],
   "source": [
    "P = P256.G\n",
    "Q = random.getrandbits(256) * P\n",
    "seed = random.getrandbits(60)\n",
    "rng = Dual_EC_DRBG2(seed, P, Q)\n",
    "\n",
    "print([rng.next_num() for i in range(3)])"
   ]
  },
  {
   "cell_type": "markdown",
   "metadata": {},
   "source": [
    "# Resources"
   ]
  },
  {
   "cell_type": "markdown",
   "metadata": {},
   "source": [
    "- https://en.wikipedia.org/wiki/Dual_EC_DRBG\n",
    "- https://blog.cryptographyengineering.com/2015/01/14/hopefully-last-post-ill-ever-write-on/\n"
   ]
  },
  {
   "cell_type": "code",
   "execution_count": null,
   "metadata": {},
   "outputs": [],
   "source": []
  }
 ],
 "metadata": {
  "kernelspec": {
   "display_name": "Python 3",
   "language": "python",
   "name": "python3"
  },
  "language_info": {
   "codemirror_mode": {
    "name": "ipython",
    "version": 3
   },
   "file_extension": ".py",
   "mimetype": "text/x-python",
   "name": "python",
   "nbconvert_exporter": "python",
   "pygments_lexer": "ipython3",
   "version": "3.7.7"
  }
 },
 "nbformat": 4,
 "nbformat_minor": 4
}
