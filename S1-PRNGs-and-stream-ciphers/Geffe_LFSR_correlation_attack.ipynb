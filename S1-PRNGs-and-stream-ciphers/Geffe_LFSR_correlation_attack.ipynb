{
 "cells": [
  {
   "cell_type": "code",
   "execution_count": 2,
   "metadata": {},
   "outputs": [],
   "source": [
    "from Crypto.Random import random\n",
    "from tqdm.notebook import tqdm"
   ]
  },
  {
   "cell_type": "markdown",
   "metadata": {},
   "source": [
    "# Prerequisites"
   ]
  },
  {
   "cell_type": "markdown",
   "metadata": {},
   "source": [
    "- LFSR\n",
    "- PRNG"
   ]
  },
  {
   "cell_type": "markdown",
   "metadata": {},
   "source": [
    "# Theory"
   ]
  },
  {
   "cell_type": "markdown",
   "metadata": {},
   "source": [
    "Another way to generate PRNGs with some kind of weak security is constructing nonlinear relations from different outputs of LFSRs\n",
    "\n",
    "One such generator is the **Geffe LFSR**\n",
    "\n",
    "We'll look at how it's constructed and a way to break it"
   ]
  },
  {
   "cell_type": "markdown",
   "metadata": {},
   "source": [
    "## Construction"
   ]
  },
  {
   "attachments": {
    "image.png": {
     "image/png": "[encoded data removed]"
    }
   },
   "cell_type": "markdown",
   "metadata": {},
   "source": [
    "![image.png](attachment:image.png)"
   ]
  },
  {
   "cell_type": "markdown",
   "metadata": {},
   "source": [
    "We use 3 LFSRs\n",
    "- they clock simultaneously\n",
    "- One decides if the output which of the other 2 LFSRs should output"
   ]
  },
  {
   "cell_type": "markdown",
   "metadata": {},
   "source": [
    "|b_0|b_1|b_2|y|\n",
    "|- |- |-|-|\n",
    "0|0|0|0\n",
    "0|0|1|1\n",
    "0|1|0|0\n",
    "0|1|1|1\n",
    "1|0|0|0\n",
    "1|0|1|0\n",
    "1|1|0|1\n",
    "1|1|1|1\n",
    "\n",
    "$F(b_0, b_1, b_2) = b_0b_1 \\oplus \\ \\bar{b_0}b_2 =b_0b_1 \\oplus \\ (1\\oplus{b_0})b_2 =$\n",
    "\n",
    "*Intuition*:\n",
    "- $b_0$ chooses if Geffe will output from the 2st or 3nd LFSR\n",
    "\n",
    "**Details**\n",
    "- Linear complexity: $L_0L_1 + (1+L_0)L_2$\n",
    "- period: $(2^{L_1}-1)(2^{L_2}-1)(2^{L_3}-1)$"
   ]
  },
  {
   "cell_type": "markdown",
   "metadata": {},
   "source": [
    "## An attack"
   ]
  },
  {
   "cell_type": "markdown",
   "metadata": {},
   "source": [
    "https://en.wikipedia.org/wiki/Correlation_attack"
   ]
  },
  {
   "cell_type": "markdown",
   "metadata": {},
   "source": [
    "We observe that\n",
    "- $Pr(b_0 = y) = 1/2$\n",
    "- $Pr(b_1 = y) = 3/4$\n",
    "- $Pr(b_2 = y) = 3/4$\n",
    "\n",
    "Now it turns out we can abuse this:\n",
    "- For all keys $k$ generate a sequence $LFSR_1$\n",
    "- Compare with the Geffe output\n",
    "- If it sequence match 75% of the time we found one key\n",
    "- Repeat for $LFSR_2$\n",
    "- once we found the keys $k_1$ and $k_2$ brute force the $k_0$ of the $LFSR_0$ until it matches with the sequence\n",
    "\n",
    "It seems brute forcey, what have we achieved? Let's compare the brute forces:\n",
    "- If we brute force all keys we would need $\\approx 2^{L_0+L_1+L_2}$ keys $k$ to test\n",
    "- With the correlation attack we would need $\\approx 2^{L_0} + 2^{L_1}+2^{L_2} \\approx 2^{\\max(L_0,L_1,L_2)}$ keys $k$ to test which is significantly lower"
   ]
  },
  {
   "cell_type": "markdown",
   "metadata": {},
   "source": [
    "# Code"
   ]
  },
  {
   "cell_type": "code",
   "execution_count": 3,
   "metadata": {},
   "outputs": [],
   "source": [
    "def int_to_bitlist(n, length = None):\n",
    "    if length == None:\n",
    "        length = n.bit_length()\n",
    "    '''LSB is the last bit'''\n",
    "    l = [int(i) for i in bin(n)[2:].zfill(length)]\n",
    "    return l\n",
    "def bitlist_to_int(l):\n",
    "    '''LSB is the last bit'''\n",
    "    n = 0\n",
    "    for i, b in enumerate(reversed(l)):\n",
    "        n += b<<i   \n",
    "    return n"
   ]
  },
  {
   "cell_type": "code",
   "execution_count": 4,
   "metadata": {},
   "outputs": [],
   "source": [
    "class LFSR:\n",
    "    def __init__(self, p_list, s_list):\n",
    "        assert(len(p_list) == len(s_list)), 'polynomial and initial state must be same size'\n",
    "        assert(sum(s_list) != 0), '0 initial state not accepted'\n",
    "        '''LSB is on the 0 position'''\n",
    "        self.p_list = p_list # a list of 0 and 1 -> taps\n",
    "        self.s_list_init = s_list.copy()\n",
    "        self.s_list = s_list.copy()\n",
    "    \n",
    "    \n",
    "    def reset(self):\n",
    "        '''resets the lfsr to the initial seed'''\n",
    "        self.s_list = self.s_list_init.copy()\n",
    "        \n",
    "        \n",
    "    def next_bit(self):\n",
    "        '''gets the next bit'''\n",
    "        b_new = sum([s & p for s,p in zip(self.s_list, self.p_list)]) % 2\n",
    "        self.s_list.append(b_new) #insert b_new as msb\n",
    "        b_out = self.s_list.pop(0) #get out the last bit\n",
    "        return b_out\n",
    "    \n",
    "    \n",
    "    def get_n_bit_sequence(self, n):\n",
    "        '''gets a sequence of n bits'''\n",
    "        seq = []\n",
    "        for i in range(n):\n",
    "            b_out = self.next_bit() #get the next bit\n",
    "            seq.append(b_out)\n",
    "        return seq"
   ]
  },
  {
   "cell_type": "code",
   "execution_count": 5,
   "metadata": {},
   "outputs": [],
   "source": [
    "class Geffe:\n",
    "    def __init__(self, lfsr0, lfsr1, lfsr2):\n",
    "        self.lfsr0 = lfsr0\n",
    "        self.lfsr1 = lfsr1\n",
    "        self.lfsr2 = lfsr2\n",
    "        \n",
    "    def bit(self):\n",
    "        b0 = self.lfsr0.next_bit()\n",
    "        b1 = self.lfsr1.next_bit()\n",
    "        b2 = self.lfsr2.next_bit()\n",
    "        return (b0 & b1) ^ ((1 ^ b0) & b2)\n",
    "        "
   ]
  },
  {
   "cell_type": "code",
   "execution_count": 6,
   "metadata": {},
   "outputs": [],
   "source": [
    "key = random.getrandbits(15)\n",
    "key = int_to_bitlist(key, 15)\n",
    "lfsr0 = LFSR(p_list=[1, 1, 0], s_list=key[:3])\n",
    "lfsr1 = LFSR(p_list=[1, 1, 0, 1, 0, 1, 0], s_list=key[3:10])\n",
    "lfsr2 = LFSR(p_list=[1, 0, 1, 0, 0], s_list=key[10:15])"
   ]
  },
  {
   "cell_type": "code",
   "execution_count": 7,
   "metadata": {},
   "outputs": [],
   "source": [
    "geffe = Geffe(lfsr0, lfsr1, lfsr2)\n",
    "stream = [geffe.bit() for _ in range(128)]"
   ]
  },
  {
   "cell_type": "code",
   "execution_count": 8,
   "metadata": {},
   "outputs": [
    {
     "name": "stdout",
     "output_type": "stream",
     "text": [
      "[0, 0, 1, 0, 0, 0, 0, 0, 1, 1, 0, 0, 0, 1, 1, 0, 1, 1, 0, 0, 0, 0, 0, 1, 0, 0, 1, 0, 1, 1, 0, 0, 0, 1, 1, 1, 1, 0, 1, 0, 1, 1, 0, 0, 1, 0, 1, 0, 0, 1, 1, 0, 0, 1, 1, 0, 0, 1, 0, 1, 1, 0, 0, 1, 0, 1, 1, 1, 0, 0, 0, 1, 1, 1, 0, 0, 1, 0, 0, 0, 0, 1, 1, 0, 0, 0, 0, 0, 1, 0, 1, 1, 1, 0, 1, 0, 1, 1, 1, 0, 0, 1, 0, 0, 0, 1, 1, 1, 1, 1, 1, 1, 0, 0, 0, 1, 1, 1, 0, 1, 0, 1, 1, 0, 1, 1, 1, 0]\n"
     ]
    }
   ],
   "source": [
    "print(stream)"
   ]
  },
  {
   "cell_type": "markdown",
   "metadata": {},
   "source": [
    "## A correlation attack"
   ]
  },
  {
   "cell_type": "code",
   "execution_count": 10,
   "metadata": {},
   "outputs": [
    {
     "name": "stdout",
     "output_type": "stream",
     "text": [
      "0.796875\n",
      "0.7109375\n",
      "1.0\n",
      "True\n"
     ]
    }
   ],
   "source": [
    "key_decr = []\n",
    "#get first key\n",
    "for my_key in range(1, 2**7):\n",
    "    my_key = int_to_bitlist(my_key, 7)\n",
    "    my_lfsr = LFSR(p_list=[1, 1, 0, 1, 0, 1, 0], s_list=my_key)\n",
    "    my_stream = [my_lfsr.next_bit() for _ in range(128)]\n",
    "    \n",
    "    match_perc = sum(stream[i] == my_stream[i] for i in range(128)) / 128\n",
    "    if match_perc >= .70:\n",
    "        print(match_perc)\n",
    "        break\n",
    "        \n",
    "key_decr = my_key\n",
    "\n",
    "\n",
    "#Get 2nd key\n",
    "for my_key in range(1, 2**5):\n",
    "    my_key = int_to_bitlist(my_key, 5)\n",
    "    my_lfsr = LFSR(p_list=[1, 0, 1, 0, 0], s_list=my_key)\n",
    "    my_stream = [my_lfsr.next_bit() for _ in range(128)]\n",
    "    \n",
    "    match_perc = sum(stream[i] == my_stream[i] for i in range(128)) / 128\n",
    "    if match_perc >= .70:\n",
    "        print(match_perc)\n",
    "        break\n",
    "        \n",
    "key_decr = key_decr + my_key\n",
    "\n",
    "\n",
    "#get deciding lfsr key\n",
    "for my_key in range(1, 2**3):\n",
    "    my_key = int_to_bitlist(my_key, 3)\n",
    "    \n",
    "    my_lfsr0 = LFSR(p_list=[1, 1, 0], s_list=my_key)\n",
    "    #we already heve these 2\n",
    "    my_lfsr1 = LFSR(p_list=[1, 1, 0, 1, 0, 1, 0], s_list=key_decr[:7])\n",
    "    my_lfsr2 = LFSR(p_list=[1, 0, 1, 0, 0], s_list=key_decr[7:])\n",
    "    \n",
    "    my_geffe = Geffe(my_lfsr0, my_lfsr1, my_lfsr2)\n",
    "    my_stream = [my_geffe.bit() for _ in range(128)]\n",
    "    \n",
    "    \n",
    "    match_perc = sum(stream[i] == my_stream[i] for i in range(128)) / 128\n",
    "    if match_perc >= .99:\n",
    "        print(match_perc)\n",
    "        break\n",
    "        \n",
    "key_decr = my_key + key_decr\n",
    "\n",
    "print(key_decr == key)"
   ]
  }
 ],
 "metadata": {
  "kernelspec": {
   "display_name": "Python 3 (ipykernel)",
   "language": "python",
   "name": "python3"
  },
  "language_info": {
   "codemirror_mode": {
    "name": "ipython",
    "version": 3
   },
   "file_extension": ".py",
   "mimetype": "text/x-python",
   "name": "python",
   "nbconvert_exporter": "python",
   "pygments_lexer": "ipython3",
   "version": "3.10.4"
  }
 },
 "nbformat": 4,
 "nbformat_minor": 4
}
