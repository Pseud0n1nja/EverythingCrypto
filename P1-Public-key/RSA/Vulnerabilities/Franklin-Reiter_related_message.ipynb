{
 "cells": [
  {
   "cell_type": "code",
   "execution_count": 1,
   "metadata": {},
   "outputs": [],
   "source": [
    "from Crypto.Util.number import long_to_bytes, bytes_to_long, getPrime, inverse, GCD\n",
    "import random"
   ]
  },
  {
   "cell_type": "markdown",
   "metadata": {},
   "source": [
    "# Prerequisites"
   ]
  },
  {
   "cell_type": "markdown",
   "metadata": {},
   "source": [
    "- Coppersmith\n",
    "- GCD\n",
    "- RSA"
   ]
  },
  {
   "cell_type": "markdown",
   "metadata": {},
   "source": [
    "# Theory"
   ]
  },
  {
   "cell_type": "markdown",
   "metadata": {},
   "source": [
    "**Task**\n",
    "- The attack exploits the fact that two messages might be related by some polynomial"
   ]
  },
  {
   "cell_type": "markdown",
   "metadata": {},
   "source": [
    "**Theorem Franklin-Reiter**  \n",
    "Set $e = 3$ and let $⟨ N , e ⟩$ be an RSA public key. Let $M_1 ≠ M_2 ∈ \\mathbb{Z}^*$ satisfy $ M_{1}\\equiv f(M_{2}) \\bmod {N}$ for some linear polynomial $f = a x + b ∈ \\mathbb{Z}_N[ x ]$ with $b ≠ 0$. Then, given $⟨ N , e , C_1 , C_2 , f ⟩$, an attacker Eve, can recover $M_1 , M_2$ in time quadratic in $\\log_2 (N)$."
   ]
  },
  {
   "cell_type": "markdown",
   "metadata": {},
   "source": [
    "**Proof**\n",
    "- $M_1 \\equiv a*M_2 + b \\bmod N$\n",
    "- $C_1 \\equiv M_1^e \\equiv (a*M_2 + b)^e \\bmod N <=> 0 \\equiv (a*M_2 + b)^e - C_1 \\bmod N $\n",
    "- $C_2 \\equiv (M_2)^e \\bmod N <=> 0 \\equiv M_2^e - C_2 \\bmod N $\n",
    "- If we want to solve for $M_2$ construct the polynomials\n",
    "    - $g_1(x) = (a*x + b) ^e - C_1 \\in Z_N[x]$\n",
    "    - $g_2(x) = x^e - C_2 \\in Z_N[x]$\n",
    "- $M_2$ is a root to both polynomial => $x - M_2$ divides both polynomials => we can compute the GCD to both polynomials and if it's linear we found $M_2$\n"
   ]
  },
  {
   "cell_type": "markdown",
   "metadata": {},
   "source": [
    "# Code"
   ]
  },
  {
   "cell_type": "code",
   "execution_count": 2,
   "metadata": {},
   "outputs": [],
   "source": [
    "# Construct rsa keys\n",
    "def get_keys():\n",
    "    p = getPrime(1024)\n",
    "    q = getPrime(1024)\n",
    "    N = p * q\n",
    "    e = 3\n",
    "    assert GCD(N, e) == 1\n",
    "    phi = (p-1)*(q-1)\n",
    "    d = inverse(e, phi)\n",
    "    return (N, e), (p, q, d)"
   ]
  },
  {
   "cell_type": "code",
   "execution_count": 3,
   "metadata": {},
   "outputs": [],
   "source": [
    "#get keys\n",
    "(N, e), (p, q, d) = get_keys()"
   ]
  },
  {
   "cell_type": "code",
   "execution_count": 4,
   "metadata": {},
   "outputs": [],
   "source": [
    "#Construct polynomial\n",
    "R.<x> = PolynomialRing(Zmod(N))\n",
    "a = random.randint(2, N-2)\n",
    "b = random.randint(2, N-1)\n",
    "f = a*x + b\n"
   ]
  },
  {
   "cell_type": "code",
   "execution_count": 5,
   "metadata": {},
   "outputs": [],
   "source": [
    "def poly_gcd(f1, f2):\n",
    "    while f2:\n",
    "        f1, f2, = f2, f1 % f2\n",
    "    return f1.monic()\n",
    "def franklin_reiter(f1, f2, c1, c2, e, N):\n",
    "    #R = f1.parent()\n",
    "    g1 = f1**e - c1\n",
    "    g2 = f2**e - c2\n",
    "    g = poly_gcd(g1, g2)\n",
    "    print(g)\n",
    "    return -g.coefficients()[0]"
   ]
  },
  {
   "cell_type": "code",
   "execution_count": 6,
   "metadata": {},
   "outputs": [],
   "source": [
    "m2 = int(bytes_to_long(b'this_is_a_secret_messagethis_is_a_secret_messagethis_is_a_secret_messagethis_is_a_secret_messagethis_is_a_secret_message')) \n",
    "m1 = int(f(m2)) #overwrite Integer class in sage"
   ]
  },
  {
   "cell_type": "code",
   "execution_count": 7,
   "metadata": {},
   "outputs": [],
   "source": [
    "c2 = pow(m2, e, N)\n",
    "c1 = pow(m1, e, N)"
   ]
  },
  {
   "cell_type": "code",
   "execution_count": 11,
   "metadata": {},
   "outputs": [
    {
     "name": "stdout",
     "output_type": "stream",
     "text": [
      "x + 21203948306901267409690734889935566282659108778871678850540421071839030494727929669801476386512031853123849490159693445320002025068724545740890762962520393785396760795180105117560107985843716188291578481001836170553565564043720040842980538654474358765009340657862068466488908878538881547302021627565407737248266298492693382271432885042151752160052320890882999893108464403020979808735925803880704617073718450274977513402295476480271240345863198735818606252926319213543623487874482689527748200225173490003401561280539995256927759991161487361413669822488123898287181545677977749483333753357897709470657408575254391642272\n"
     ]
    }
   ],
   "source": [
    "f2 = x\n",
    "m2_decr = franklin_reiter(f, f2, c1, c2, e, N)\n",
    "m2_decr = int(m2_decr)"
   ]
  },
  {
   "cell_type": "code",
   "execution_count": 12,
   "metadata": {},
   "outputs": [
    {
     "data": {
      "text/plain": [
       "b'this_is_a_secret_messagethis_is_a_secret_messagethis_is_a_secret_messagethis_is_a_secret_messagethis_is_a_secret_message'"
      ]
     },
     "execution_count": 12,
     "metadata": {},
     "output_type": "execute_result"
    }
   ],
   "source": [
    "long_to_bytes(m2_decr)"
   ]
  },
  {
   "cell_type": "code",
   "execution_count": 13,
   "metadata": {},
   "outputs": [],
   "source": [
    "#Linear linked messages\n",
    "#get keys\n",
    "(N, e), (p, q, d) = get_keys()\n",
    "R.<x> = PolynomialRing(Zmod(N))\n",
    "\n",
    "a1 = random.randint(2, N-2)\n",
    "b1 = random.randint(2, N-1)\n",
    "a2 = random.randint(2, N-1)\n",
    "b2 = random.randint(2, N-1)\n",
    "f1 = a1*x + b2\n",
    "f2 = a2*x + b2\n",
    "\n",
    "m = int(bytes_to_long(b'this_is_a_secret_messagethis_is_a_secret_messagethis_is_a_secret_messagethis_is_a_secret_messagethis_is_a_secret_messagethis_is_a_secret_message')) \n",
    "\n",
    "c1 = pow(int(f1(m)), e, N)\n",
    "c2 = pow(int(f2(m)), e, N)"
   ]
  },
  {
   "cell_type": "code",
   "execution_count": 16,
   "metadata": {},
   "outputs": [
    {
     "name": "stdout",
     "output_type": "stream",
     "text": [
      "x + 21116652330039465980302856239322027310251817155196199544452626409535294311140590939570163149383212599236964200809202005450805701469083139918179697246401954978623125919181358309928632650358971722606970220709098735004380639383898484620714409219747511356848531606299565975288136622406184054996859805722375796322158883819836850185117473561772167249857813727725826314734562290614326294764396581720007564954121290554685681460688173243978421479656192683036631016875061198138953002811803252146943307178959751466404624589771902473529217866756401482175574666481501255378753985035478540357545646801008689185838486002482320873398\n"
     ]
    }
   ],
   "source": [
    "m_decr = franklin_reiter(f1, f2, c1, c2, e, N)\n",
    "m_decr = int(m_decr)"
   ]
  },
  {
   "cell_type": "code",
   "execution_count": 17,
   "metadata": {},
   "outputs": [
    {
     "data": {
      "text/plain": [
       "b'this_is_a_secret_messagethis_is_a_secret_messagethis_is_a_secret_messagethis_is_a_secret_messagethis_is_a_secret_messagethis_is_a_secret_message'"
      ]
     },
     "execution_count": 17,
     "metadata": {},
     "output_type": "execute_result"
    }
   ],
   "source": [
    "long_to_bytes(m_decr)"
   ]
  },
  {
   "cell_type": "markdown",
   "metadata": {},
   "source": [
    "# Resources"
   ]
  },
  {
   "cell_type": "markdown",
   "metadata": {},
   "source": [
    "- https://en.wikipedia.org/wiki/Coppersmith%27s_attack\n",
    "- https://eprint.iacr.org/2009/205.pdf\n",
    "- https://www.researchgate.net/publication/221010549_A_new_related_message_attack_on_RSA/link/0deec534c1081b034d000000/download\n",
    "- https://crypto.stackexchange.com/questions/30884/help-understanding-basic-franklin-reiter-related-message-attack\n",
    "- https://translate.google.com/translate?hl=en&sl=zh-CN&u=https://ctf-wiki.github.io/ctf-wiki/crypto/asymmetric/rsa/rsa_coppersmith_attack-zh/&prev=search&pto=aue"
   ]
  },
  {
   "cell_type": "code",
   "execution_count": null,
   "metadata": {},
   "outputs": [],
   "source": []
  }
 ],
 "metadata": {
  "kernelspec": {
   "display_name": "SageMath 9.5",
   "language": "sage",
   "name": "sagemath"
  },
  "language_info": {
   "codemirror_mode": {
    "name": "ipython",
    "version": 3
   },
   "file_extension": ".py",
   "mimetype": "text/x-python",
   "name": "python",
   "nbconvert_exporter": "python",
   "pygments_lexer": "ipython3",
   "version": "3.10.4"
  }
 },
 "nbformat": 4,
 "nbformat_minor": 4
}
