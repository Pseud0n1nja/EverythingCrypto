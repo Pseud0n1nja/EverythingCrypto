{
 "cells": [
  {
   "cell_type": "code",
   "execution_count": 5,
   "metadata": {
    "ExecuteTime": {
     "end_time": "2020-08-29T10:46:11.852790Z",
     "start_time": "2020-08-29T10:46:11.748094Z"
    }
   },
   "outputs": [],
   "source": [
    "import numpy as np\n",
    "import math\n",
    "from Crypto.Util.number import getPrime, inverse, bytes_to_long, long_to_bytes, GCD\n",
    "import random"
   ]
  },
  {
   "cell_type": "code",
   "execution_count": 6,
   "metadata": {
    "ExecuteTime": {
     "end_time": "2020-08-29T10:46:12.154171Z",
     "start_time": "2020-08-29T10:46:11.892819Z"
    }
   },
   "outputs": [],
   "source": [
    "def isqrt(n):\n",
    "    x = n\n",
    "    y = (x + 1) // 2\n",
    "    while y < x:\n",
    "        x = y\n",
    "        y = (x + n // x) // 2\n",
    "    return x"
   ]
  },
  {
   "cell_type": "code",
   "execution_count": 7,
   "metadata": {
    "ExecuteTime": {
     "end_time": "2020-08-29T10:46:12.177178Z",
     "start_time": "2020-08-29T10:46:12.156162Z"
    }
   },
   "outputs": [],
   "source": [
    "def encrypt_rsa(m, e, N):\n",
    "    assert m < N\n",
    "    c = pow(m, e, N)\n",
    "    return c"
   ]
  },
  {
   "cell_type": "markdown",
   "metadata": {},
   "source": [
    "# Prerequisites"
   ]
  },
  {
   "cell_type": "markdown",
   "metadata": {},
   "source": [
    "1. RSA + its prerequisites\n",
    "2. Continued Fractions https://en.wikipedia.org/wiki/Continued_fraction\n",
    "\n",
    "Variant:\n",
    "1. Diophantine equations\n",
    "* https://en.wikipedia.org/wiki/Diophantine_approximation\n",
    "2. meet-in-the-middle"
   ]
  },
  {
   "cell_type": "markdown",
   "metadata": {},
   "source": [
    "https://sagi.io/2016/04/crypto-classics-wieners-rsa-attack/"
   ]
  },
  {
   "cell_type": "markdown",
   "metadata": {},
   "source": [
    "# Theory"
   ]
  },
  {
   "cell_type": "markdown",
   "metadata": {},
   "source": [
    "**Task:** Break RSA if the decryption exponent $d$ is sufficiently small"
   ]
  },
  {
   "cell_type": "markdown",
   "metadata": {},
   "source": [
    "## Continued fractions"
   ]
  },
  {
   "cell_type": "markdown",
   "metadata": {},
   "source": [
    "Explanation: https://www.youtube.com/watch?v=hdozMSh9rOw&list=PLKXdxQAT3tCssgaWOy5vKXAR4WTPpRVYK&index=67"
   ]
  },
  {
   "cell_type": "markdown",
   "metadata": {},
   "source": [
    "Let $\\alpha_1 \\in \\mathbb{R}$ Then we have the sequence:  \n",
    "$\\alpha_1= a_1 + \\cfrac 1 \\alpha_2$ where $a_1 = \\lfloor\\alpha_1\\rfloor$ \n",
    "\n",
    "$\\alpha_2= a_2 + \\cfrac 1 \\alpha_3$ where $a_2 = \\lfloor\\alpha_2\\rfloor$ \n",
    "\n",
    "$\\alpha_3= a_3 + \\cfrac 1 \\alpha_4$ where $a_3 = \\lfloor\\alpha_3\\rfloor$ \n",
    "\n",
    "Then $[a_1, a_2 ...]$ = continued fraction expansion of $\\alpha_1$"
   ]
  },
  {
   "cell_type": "markdown",
   "metadata": {},
   "source": [
    "So for $x \\in \\mathbb{R}$:\n",
    "\n",
    "$$ x = a_0 + \\cfrac 1 {a_1 + \\cfrac 1 {a_2 + \\dots}} => x = [a_0, a_1, ...]$$\n",
    "\n",
    "*Intuition*: Get out the wholes in numbers"
   ]
  },
  {
   "cell_type": "markdown",
   "metadata": {},
   "source": [
    "**Definition**  \n",
    "Convergent = truncate the first $k$ terms => We get the sequence: $a_1, a_1 + \\cfrac 1 a_2, a_1 + \\cfrac 1 {a_2 + \\cfrac 1 a_3} ... $"
   ]
  },
  {
   "cell_type": "markdown",
   "metadata": {
    "ExecuteTime": {
     "end_time": "2020-08-28T20:19:38.855034Z",
     "start_time": "2020-08-28T20:19:38.852032Z"
    }
   },
   "source": [
    "**Proprieties**  \n",
    "1. They limit at the expanded number\n",
    "2. They alternate being bigger or smaller than our expanded number"
   ]
  },
  {
   "cell_type": "markdown",
   "metadata": {},
   "source": [
    "## How do you compute the continued fractions?"
   ]
  },
  {
   "cell_type": "markdown",
   "metadata": {},
   "source": [
    "It seems that we can use the Euclidean algorithm to get convergents\n",
    "https://math.stackexchange.com/questions/1469741/show-simple-continued-fraction-with-euclids-algorithm"
   ]
  },
  {
   "cell_type": "markdown",
   "metadata": {},
   "source": [
    "## What are we looking for?"
   ]
  },
  {
   "cell_type": "markdown",
   "metadata": {
    "ExecuteTime": {
     "end_time": "2020-08-28T18:43:05.660989Z",
     "start_time": "2020-08-28T18:43:05.655985Z"
    }
   },
   "source": [
    "Good explanation: https://www.youtube.com/watch?v=OpPrrndyYNU"
   ]
  },
  {
   "cell_type": "markdown",
   "metadata": {},
   "source": [
    "$N = pq \\\\\n",
    "\\varphi(N) = (p-1)(q-1) = pq - (p+q) + 1 = \\overset {N >> p+q} {N - (p+q) + 1} \\approx N  \\ \\ \\ (1) \\\\\n",
    "ed \\equiv 1 \\ mod \\ \\varphi(N) => ed = k \\cdot \\varphi(N) + 1; k\\in \\mathbb{Z} => \\cfrac e {\\varphi(N)} - \\cfrac k d =\\cfrac 1 {d\\cdot \\varphi(N)} {\\approx 0} \\overset{(1)} => \\cfrac e N \\approx \\cfrac k d\n",
    "$\n",
    "\n",
    "*Idea:*  If i approximate $\\frac e N$ with $\\frac k d$ then my denominator is the decryption exponent => We want to find $\\frac e N$"
   ]
  },
  {
   "cell_type": "markdown",
   "metadata": {},
   "source": [
    "*Red flags:*\n",
    "1. Since $ed \\equiv 1 \\ mod \\ \\varphi(N)$ and $\\varphi(N)$ is even  => $d$ **must be odd**\n",
    "2. $\\varphi(N)$ is a whole number => $\\cfrac {ed-1} k \\in \\mathbb{Z}$\n",
    "\n",
    "Other test:\n",
    "1. check $M^{ed} \\equiv M \\ mod \\ N $ for some random $M$"
   ]
  },
  {
   "cell_type": "markdown",
   "metadata": {},
   "source": [
    "## The quadratic equation"
   ]
  },
  {
   "cell_type": "markdown",
   "metadata": {},
   "source": [
    "https://www.youtube.com/watch?v=ak0b-12bths&list=PLKXdxQAT3tCssgaWOy5vKXAR4WTPpRVYK&index=68 => we can use convergents to get a better approximate of an equation"
   ]
  },
  {
   "cell_type": "markdown",
   "metadata": {},
   "source": [
    "$\\varphi(N) = N - (p+q) + 1 \\\\ \n",
    "p + q = N - \\varphi(N) + 1 $\n",
    "\n",
    "Let $(x-p)(x-q) = 0$ be a quadratic equation with roots $p,q$  We have\n",
    "* $(x-p)(x-q) = 0 <=> x^2 - (p+q)x + pq = 0 <=> x^2 - (N-\\varphi(N) + 1)x + N = 0$ => if we have $\\varphi(N)$ then we can find $p,q \\in \\mathbb{Z}$"
   ]
  },
  {
   "cell_type": "markdown",
   "metadata": {},
   "source": [
    "So we have the next steps\n",
    "1. We use the euclidean algorithm to get $\\cfrac k d$ \n",
    "2. Check for red flags\n",
    "3. Check quadratic equations to have whole solutions (find solutions with quadratic formula)"
   ]
  },
  {
   "cell_type": "code",
   "execution_count": null,
   "metadata": {},
   "outputs": [],
   "source": []
  },
  {
   "cell_type": "markdown",
   "metadata": {},
   "source": [
    "## Conditions for Wiener attack"
   ]
  },
  {
   "cell_type": "markdown",
   "metadata": {},
   "source": [
    "If:\n",
    "1. $q<p \\leq 2q$\n",
    "2. $d \\leq \\frac1 3 \\cdot N^{\\frac 1 4}$  \n",
    "\n",
    "Then the Wiener attack will succeed"
   ]
  },
  {
   "cell_type": "markdown",
   "metadata": {},
   "source": [
    "# Variant"
   ]
  },
  {
   "cell_type": "markdown",
   "metadata": {},
   "source": [
    "https://eprint.iacr.org/2008/459.pdf"
   ]
  },
  {
   "cell_type": "markdown",
   "metadata": {},
   "source": [
    "There is a variant of the Wiener attack that lets us find $d$ if it's a few bits longer than $N^{1/4}$"
   ]
  },
  {
   "cell_type": "markdown",
   "metadata": {},
   "source": [
    "All rationals $\\cfrac p q$ that satisfy:\n",
    "$\\left| \\alpha - \\cfrac p q \\right| < \\cfrac c q^2$ for a $c \\in \\mathbb{R}_+$ have the form $\\cfrac p q = \\cfrac {rp_{m+1} + s p_m } {rq_{m+1} + s q_m }$ for $0\\leq r,s < 2c$ \n",
    "\n",
    "*idea* : we search $\\cfrac k d$ between fractions of that form\n",
    "\n",
    "So we want to get \n",
    "$\\begin{align*}\n",
    "k &= rp_{m+1} + s p_m \\\\\n",
    "d &=  rq_{m+1} + s q_m\n",
    "\\end{align*}$\n",
    "=> $\\begin{align*}\n",
    "r &= dp_m - kq_m \\\\\n",
    "s &= dq_{m+1} - dqp_{m+1}\n",
    "\\end{align*}$\n",
    "\n",
    "So we want to find the pair $(r,s)$\n",
    "1. We can use exhaustive search if r and s are small\n",
    "2. We can test $2^{e(rq_{m+1} + sq_m)} \\equiv 2 \\ mod N$\n"
   ]
  },
  {
   "cell_type": "markdown",
   "metadata": {},
   "source": [
    "# Code"
   ]
  },
  {
   "cell_type": "markdown",
   "metadata": {},
   "source": [
    "## Toy implementation"
   ]
  },
  {
   "cell_type": "code",
   "execution_count": 28,
   "metadata": {
    "ExecuteTime": {
     "end_time": "2020-08-29T10:52:09.931125Z",
     "start_time": "2020-08-29T10:52:09.917130Z"
    }
   },
   "outputs": [],
   "source": [
    "class WienerAttack:\n",
    "    def __init__(self, e, N):\n",
    "        self.e = e\n",
    "        self.N = N\n",
    "    \n",
    "    \n",
    "    def attack(self):\n",
    "        e = self.e\n",
    "        N = self.N\n",
    "        a_list = []\n",
    "        while True:\n",
    "            quotient = e // N\n",
    "            remainder = e % N\n",
    "            e = N\n",
    "            N = remainder\n",
    "            a_list.append(quotient)\n",
    "            #get convergent\n",
    "            k, d = self.sequence_to_fraction(a_list)\n",
    "            #assume its not the trivial solution\n",
    "            if d == 1:\n",
    "                continue\n",
    "            #check red flags and conditions\n",
    "            if self.checks(d, k):\n",
    "                break          \n",
    "        return d\n",
    "            \n",
    "    def attack_variant(self, r_max = 30, s_max = 30):\n",
    "        e = self.e\n",
    "        N = self.N\n",
    "        a_list = []\n",
    "        q0 = 1\n",
    "        m_test = 2\n",
    "        c_test = pow(m_test, e, N)\n",
    "        while True:\n",
    "            quotient = e // N\n",
    "            remainder = e % N\n",
    "            e = N\n",
    "            N = remainder\n",
    "            a_list.append(quotient)\n",
    "            #get convergent\n",
    "            k, q1 = self.sequence_to_fraction(a_list)\n",
    "            if k == 0:\n",
    "                continue\n",
    "            #assume its not the trivial solution\n",
    "            for r in range(r_max):\n",
    "                for s in range(s_max):\n",
    "                    d = r*q1 + s*q0\n",
    "                    if d == 1:\n",
    "                        continue\n",
    "                    #check red flags and conditions\n",
    "                    if pow(c_test, d, self.N) == m_test:\n",
    "                        return d          \n",
    "            q0 = q1\n",
    "        return -1  \n",
    "        \n",
    "    def checks(self, d, k):\n",
    "        #check parity\n",
    "        if not d&1:\n",
    "            return False\n",
    "        #check if phi is whole\n",
    "        if (e*d-1) % k != 0:\n",
    "            return False\n",
    "        else:\n",
    "            phi = (e*d-1) // k\n",
    "            \n",
    "        #if doesnt pass the quadratic check return false\n",
    "        if not self.check_quadratic(phi):\n",
    "            return False\n",
    "        return True\n",
    "    \n",
    "    \n",
    "    def check_quadratic(self, phi):\n",
    "        '''check if x^2 - (N-phi(N) + 1)x + N = 0 has integer solutions'''\n",
    "        a = 1\n",
    "        b = -(self.N - phi + 1)\n",
    "        c = N\n",
    "        \n",
    "        delta = pow(b, 2) - 4 * a * c\n",
    "        if delta < 0: # no real solutions\n",
    "            return False\n",
    "        #check if solutions are whole\n",
    "        if not self.is_square(delta):\n",
    "            return False\n",
    "        else:\n",
    "            delta_sqr = isqrt(delta)\n",
    "        if  (-b + delta_sqr) % (2*a) != 0:\n",
    "            return False\n",
    "        else:\n",
    "            x1 = (-b + delta_sqr) // (2*a)\n",
    "        if  (-b - delta_sqr) % (2*a) != 0:\n",
    "            return False\n",
    "        else:\n",
    "            x2 = (-b - delta_sqr) // (2*a)\n",
    "\n",
    "        #check if solutions are good\n",
    "        if x1 * x2 != self.N:\n",
    "            return False\n",
    "        return True\n",
    "            \n",
    "    def sequence_to_fraction(self, a_list):\n",
    "        '''transform a continued fraction into a num/den fraction'''\n",
    "        num, dem = 1, 0\n",
    "        for a in reversed(a_list):\n",
    "            num, dem = dem + num*a, num\n",
    "        return num, dem\n",
    "    \n",
    "    def is_square(self, apositiveint):\n",
    "        x = apositiveint // 2\n",
    "        seen = set([x])\n",
    "        while x * x != apositiveint:\n",
    "            x = (x + (apositiveint // x)) // 2\n",
    "            if x in seen: return False\n",
    "            seen.add(x)\n",
    "        return True"
   ]
  },
  {
   "cell_type": "code",
   "execution_count": 29,
   "metadata": {
    "ExecuteTime": {
     "end_time": "2020-08-29T10:52:10.231171Z",
     "start_time": "2020-08-29T10:52:10.229170Z"
    }
   },
   "outputs": [],
   "source": [
    "N = 64741\n",
    "e = 42667\n",
    "wa = WienerAttack(e, N)"
   ]
  },
  {
   "cell_type": "code",
   "execution_count": 30,
   "metadata": {
    "ExecuteTime": {
     "end_time": "2020-08-29T10:52:10.584176Z",
     "start_time": "2020-08-29T10:52:10.582165Z"
    }
   },
   "outputs": [],
   "source": [
    "d = wa.attack_variant()"
   ]
  },
  {
   "cell_type": "code",
   "execution_count": 31,
   "metadata": {
    "ExecuteTime": {
     "end_time": "2020-08-29T10:52:11.152294Z",
     "start_time": "2020-08-29T10:52:11.149291Z"
    }
   },
   "outputs": [
    {
     "data": {
      "text/plain": [
       "3"
      ]
     },
     "execution_count": 31,
     "metadata": {},
     "output_type": "execute_result"
    }
   ],
   "source": [
    "d"
   ]
  },
  {
   "cell_type": "markdown",
   "metadata": {},
   "source": [
    "**Bigger ints**"
   ]
  },
  {
   "cell_type": "code",
   "execution_count": 42,
   "metadata": {
    "ExecuteTime": {
     "end_time": "2020-08-29T10:54:16.419115Z",
     "start_time": "2020-08-29T10:54:16.389092Z"
    }
   },
   "outputs": [],
   "source": [
    "N = 0x8da7d2ec7bf9b322a539afb9962d4d2ebeb3e3d449d709b80a51dc680a14c87ffa863edfc7b5a2a542a0fa610febe2d967b58ae714c46a6eccb44cd5c90d1cf5e271224aa3367e5a13305f2744e2e56059b17bf520c95d521d34fdad3b0c12e7821a3169aa900c711e6923ca1a26c71fc5ac8a9ff8c878164e2434c724b68b508a030f86211c1307b6f90c0cd489a27fdc5e6190f6193447e0441a49edde165cf6074994ea260a21ea1fc7e2dfb038df437f02b9ddb7b5244a9620c8eca858865e83bab3413135e76a54ee718f4e431c29d3cb6e353a75d74f831bed2cc7bdce553f25b617b3bdd9ef901e249e43545c91b0cd8798b27804d61926e317a2b745\n",
    "e = 0x86d357db4e1b60a2e9f9f25e2db15204c820b6e8d8d04d29db168c890bc8a6c1e31b9316c9680174e128515a00256b775a1a8ccca9c6936f1b4c2298c03032cda4dd8eca1145828d31466bf56bfcf0c6a8b4a1b2fb27de7a57fae7430048d7590734b2f05b6443ad60d89606802409d2fa4c6767ad42bffae01a8ef1364418362e133fa7b2770af64a68ad50ad8d2bd5cebb99ceb13368fb31a6e7503e753f8638e21a96af1b6498c18578ba89b98d70fa482ad137d28fe701b4b77baa25d5e84c81b26ee9bddf8cbb51a071c60dd57714de379cd4bc14932809ba18524a0a18e4133665cfc46e2c4fcfbc28e0a0957e5513a7307c422b87a6182d0b6a074b4d\n",
    "m = bytes_to_long(b'secret')\n",
    "c = encrypt_rsa(m, e, N)"
   ]
  },
  {
   "cell_type": "code",
   "execution_count": 43,
   "metadata": {
    "ExecuteTime": {
     "end_time": "2020-08-29T10:54:16.937176Z",
     "start_time": "2020-08-29T10:54:16.877134Z"
    }
   },
   "outputs": [],
   "source": [
    "wa = WienerAttack(e, N)\n",
    "d = wa.attack()"
   ]
  },
  {
   "cell_type": "code",
   "execution_count": 36,
   "metadata": {
    "ExecuteTime": {
     "end_time": "2020-08-29T10:53:28.368473Z",
     "start_time": "2020-08-29T10:52:55.781268Z"
    }
   },
   "outputs": [],
   "source": [
    "wa = WienerAttack(e, N)\n",
    "d = wa.attack_variant(r_max=5, s_max=5)"
   ]
  },
  {
   "cell_type": "code",
   "execution_count": 37,
   "metadata": {
    "ExecuteTime": {
     "end_time": "2020-08-29T10:53:30.025027Z",
     "start_time": "2020-08-29T10:53:30.013018Z"
    }
   },
   "outputs": [
    {
     "name": "stdout",
     "output_type": "stream",
     "text": [
      "b'secret'\n"
     ]
    }
   ],
   "source": [
    "m_decr = pow(c, d, N)\n",
    "print(long_to_bytes(m_decr))"
   ]
  },
  {
   "cell_type": "code",
   "execution_count": 45,
   "metadata": {
    "ExecuteTime": {
     "end_time": "2020-08-29T10:54:54.377138Z",
     "start_time": "2020-08-29T10:54:54.373132Z"
    }
   },
   "outputs": [],
   "source": [
    "#Parameters for the variant solution\n",
    "N = 0x665166804cd78e8197073f65f58bca14e019982245fcc7cad74535e948a4e0258b2e919bf3720968a00e5240c5e1d6b8831d8fec300d969fccec6cce11dde826d3fbe0837194f2dc64194c78379440671563c6c75267f0286d779e6d91d3e9037c642a860a894d8c45b7ed564d341501cedf260d3019234f2964ccc6c56b6de8a4f66667e9672a03f6c29d95100cdf5cb363d66f2131823a953621680300ab3a2eb51c12999b6d4249dde499055584925399f3a8c7a4a5a21f095878e80bbc772f785d2cbf70a87c6b854eb566e1e1beb7d4ac6eb46023b3dc7fdf34529a40f5fc5797f9c15c54ed4cb018c072168e9c30ca3602e00ea4047d2e5686c6eb37b9\n",
    "e = 0x2c998e57bc651fe4807443dbb3e794711ca22b473d7792a64b7a326538dc528a17c79c72e425bf29937e47b2d6f6330ee5c13bfd8564b50e49132d47befd0ee2e85f4bfe2c9452d62ef838d487c099b3d7c80f14e362b3d97ca4774f1e4e851d38a4a834b077ded3d40cd20ddc45d57581beaa7b4d299da9dec8a1f361c808637238fa368e07c7d08f5654c7b2f8a90d47857e9b9c0a81a46769f6307d5a4442707afb017959d9a681fa1dc8d97565e55f02df34b04a3d0a0bf98b7798d7084db4b3f6696fa139f83ada3dc70d0b4c57bf49f530dec938096071f9c4498fdef9641dfbfe516c985b27d1748cc6ce1a4beb1381fb165a3d14f61032e0f76f095d\n",
    "m = bytes_to_long(b'secret')"
   ]
  },
  {
   "cell_type": "code",
   "execution_count": 53,
   "metadata": {
    "ExecuteTime": {
     "end_time": "2020-08-29T11:13:29.398209Z",
     "start_time": "2020-08-29T11:13:29.368172Z"
    }
   },
   "outputs": [],
   "source": [
    "c = encrypt_rsa(m, e, N)"
   ]
  },
  {
   "cell_type": "code",
   "execution_count": 52,
   "metadata": {
    "ExecuteTime": {
     "end_time": "2020-08-29T11:13:18.586532Z",
     "start_time": "2020-08-29T11:12:47.432333Z"
    }
   },
   "outputs": [],
   "source": [
    "wa = WienerAttack(e, N)\n",
    "d = wa.attack_variant(r_max = 5, s_max=5)"
   ]
  },
  {
   "cell_type": "code",
   "execution_count": 54,
   "metadata": {
    "ExecuteTime": {
     "end_time": "2020-08-29T11:13:31.443123Z",
     "start_time": "2020-08-29T11:13:31.431129Z"
    }
   },
   "outputs": [
    {
     "data": {
      "text/plain": [
       "b'secret'"
      ]
     },
     "execution_count": 54,
     "metadata": {},
     "output_type": "execute_result"
    }
   ],
   "source": [
    "long_to_bytes(pow(c, d, N))"
   ]
  },
  {
   "cell_type": "markdown",
   "metadata": {},
   "source": [
    "## Library"
   ]
  },
  {
   "cell_type": "markdown",
   "metadata": {},
   "source": [
    "https://github.com/orisano/owiener"
   ]
  },
  {
   "cell_type": "code",
   "execution_count": 116,
   "metadata": {
    "ExecuteTime": {
     "end_time": "2020-08-28T21:59:03.333177Z",
     "start_time": "2020-08-28T21:59:03.316149Z"
    }
   },
   "outputs": [
    {
     "name": "stdout",
     "output_type": "stream",
     "text": [
      "b'secret'\n"
     ]
    }
   ],
   "source": [
    "import owiener\n",
    "d = owiener.attack(e, N)\n",
    "m_decr = pow(c, d, N)\n",
    "print(long_to_bytes(m_decr))"
   ]
  },
  {
   "cell_type": "markdown",
   "metadata": {},
   "source": [
    "# Resources"
   ]
  },
  {
   "cell_type": "markdown",
   "metadata": {},
   "source": [
    "* Wiki: https://en.wikipedia.org/wiki/Wiener%27s_attack\n",
    "* Paper: http://monge.univ-mlv.fr/~jyt/Crypto/4/10.1.1.92.5261.pdf"
   ]
  },
  {
   "cell_type": "code",
   "execution_count": null,
   "metadata": {},
   "outputs": [],
   "source": []
  }
 ],
 "metadata": {
  "kernelspec": {
   "display_name": "Python 3",
   "language": "python",
   "name": "python3"
  },
  "language_info": {
   "codemirror_mode": {
    "name": "ipython",
    "version": 3
   },
   "file_extension": ".py",
   "mimetype": "text/x-python",
   "name": "python",
   "nbconvert_exporter": "python",
   "pygments_lexer": "ipython3",
   "version": "3.7.3"
  },
  "toc": {
   "base_numbering": 1,
   "nav_menu": {},
   "number_sections": true,
   "sideBar": true,
   "skip_h1_title": false,
   "title_cell": "Table of Contents",
   "title_sidebar": "Contents",
   "toc_cell": false,
   "toc_position": {
    "height": "calc(100% - 180px)",
    "left": "10px",
    "top": "150px",
    "width": "384px"
   },
   "toc_section_display": true,
   "toc_window_display": true
  }
 },
 "nbformat": 4,
 "nbformat_minor": 4
}
