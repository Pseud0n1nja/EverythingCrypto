{
 "cells": [
  {
   "cell_type": "markdown",
   "metadata": {},
   "source": [
    "# Prerequisites"
   ]
  },
  {
   "cell_type": "markdown",
   "metadata": {},
   "source": [
    "- AE pdf\n",
    "- Fields"
   ]
  },
  {
   "cell_type": "markdown",
   "metadata": {},
   "source": [
    "# Theory"
   ]
  },
  {
   "cell_type": "markdown",
   "metadata": {},
   "source": [
    "- https://www.youtube.com/watch?v=g_eY7JXOc8U - Must watch"
   ]
  },
  {
   "cell_type": "markdown",
   "metadata": {},
   "source": [
    "## Algorithm"
   ]
  },
  {
   "cell_type": "markdown",
   "metadata": {},
   "source": [
    "**High level overview**\n",
    "- AES CTR mode for encryption\n",
    "- GHASH function for authentication "
   ]
  },
  {
   "cell_type": "markdown",
   "metadata": {},
   "source": [
    "Let \n",
    "- $(E, D)$ be the block cipher over $(\\mathcal{K}, \\mathcal{X})$ where $\\mathcal{X}= \\{0,1\\}^{128}$\n",
    "- $GHASH$ a keyed hash function \n",
    "\n",
    "\n",
    "**Algorithm**\n",
    "\n",
    "Input: key $k$, message $m$, associated data $d$ and nonce $n∈\\{0,1\\}^{96}$ (if $len(n) < 96$ there is a special algorithm performed)\n",
    "\n",
    "Generate key for GHASH\n",
    "- $H = E(k, 0^{128})$ = key for $GHASH$\n",
    "\n",
    "Initiate counter\n",
    "- $ctr = (n || 0^{31} || 1) \\in \\{0,1\\}^{128}$ = counter\n",
    "- $ctr' = ctr+1$ = counter starts from $ctr+1$\n",
    "\n",
    "\n",
    "Encryption\n",
    "- $c = m \\oplus E(k, ctr')$\n",
    "- $c_{pad} =  c || 0^{128-len(c)} \\in \\{0,1\\}^{128}$\n",
    "- $d_{pad} =  d || 0^{128-len(d)} \\in \\{0,1\\}^{128}$\n",
    "\n",
    "MAC\n",
    "- $h = GHASH(H, \\ (d'|| c' || len(d) || len(c)\\ ) \\in \\{0,1\\}^{128}$\n",
    "- $t = h \\oplus E(k, ctr) \\in \\{0,1\\}^{128}$\n",
    "\n",
    "Return $(c, t)$"
   ]
  },
  {
   "attachments": {
    "image.png": {
     "image/png": "[encoded data removed]"
    }
   },
   "cell_type": "markdown",
   "metadata": {},
   "source": [
    "For \n",
    "- $IV = n$\n",
    "- $j0 = ctr$\n",
    "- $P = m$\n",
    "- $A = d$\n",
    "![image.png](attachment:image.png)"
   ]
  },
  {
   "cell_type": "markdown",
   "metadata": {},
   "source": [
    "## GHASH"
   ]
  },
  {
   "cell_type": "markdown",
   "metadata": {},
   "source": [
    "GHASH works in the field $GF(2^{128}) \\bmod X^{128} + X^7 + X^2 + X + 1$\n",
    "- The field has coefficients in $\\{0,1\\}$\n",
    "- Strings of 128 bits can be converted into polynomials -> the bits are the coefficients\n",
    "\n",
    "For \n",
    "- a key $k∈GF(2^{128})$ \n",
    "- an input vector $z = (z_0, z_1, ... z_{v-1}) ∈(GF(2^{128}))^v$\n",
    "\n",
    "$$GHASH(k, z) = z_0k^v + z_1k^{v-1} + z_{v-1}k \\in GF(2^{128})$$\n",
    "\n",
    "for our case $z = d'|| c' || len(d) || len(c)$"
   ]
  },
  {
   "cell_type": "markdown",
   "metadata": {},
   "source": [
    "# Code"
   ]
  },
  {
   "cell_type": "markdown",
   "metadata": {},
   "source": [
    "https://nvlpubs.nist.gov/nistpubs/Legacy/SP/nistspecialpublication800-38d.pdf"
   ]
  },
  {
   "cell_type": "code",
   "execution_count": 1,
   "metadata": {},
   "outputs": [],
   "source": [
    "from Crypto.Cipher import AES\n",
    "from Crypto.Random import get_random_bytes\n",
    "from Crypto.Util.number import long_to_bytes, bytes_to_long\n",
    "from Crypto.Util import Counter"
   ]
  },
  {
   "cell_type": "code",
   "execution_count": 2,
   "metadata": {},
   "outputs": [],
   "source": [
    "#Utils\n",
    "# https://toadstyle.org/cryptopals/63.txt\n",
    "def poly_mul(a, b):\n",
    "    p = 0\n",
    "    while a > 0:\n",
    "        if a & 1:\n",
    "            p = p ^ b\n",
    "        a = a >> 1\n",
    "        b = b << 1\n",
    "\n",
    "    return p\n",
    "\n",
    "def deg(a):\n",
    "    d = 0\n",
    "    while (a!=0):\n",
    "        a = a >> 1\n",
    "        d+=1\n",
    "    return d\n",
    "    \n",
    "def poly_divmod(a, b):\n",
    "    q, r = 0, a\n",
    "\n",
    "    while deg(r) >= deg(b):\n",
    "        d = deg(r) - deg(b)\n",
    "        q = q ^ (1 << d)\n",
    "        r = r ^ (b << d)\n",
    "\n",
    "    return q, r\n",
    "\n",
    "\n",
    "def poly_modmul(a, b, m):\n",
    "    p = 0\n",
    "    while a > 0:\n",
    "        if a & 1:\n",
    "            p = p ^ b\n",
    "        a = a >> 1\n",
    "        b = b << 1\n",
    "        if deg(b) == deg(m):\n",
    "            b = b ^ m\n",
    "\n",
    "    return p\n",
    "\n",
    "#https://github.com/bozhu/AES-GCM-Python/blob/master/aes_gcm.py stolen from here\n",
    "def gf_2_128_mul(x, y):\n",
    "    assert x < (1 << 128)\n",
    "    assert y < (1 << 128)\n",
    "    res = 0\n",
    "    for i in range(127, -1, -1):\n",
    "        res ^= x * ((y >> i) & 1)  # branchless\n",
    "        x = (x >> 1) ^ ((x & 1) * 0xE1000000000000000000000000000000)\n",
    "    assert res < 1 << 128\n",
    "    return res\n"
   ]
  },
  {
   "cell_type": "code",
   "execution_count": 3,
   "metadata": {},
   "outputs": [],
   "source": [
    "def split_bytes(l, block_size):\n",
    "    return [l[i:i+block_size] for i in range(0, len(l), block_size)]\n",
    "def xor_bytes(a, b):\n",
    "    return bytes([aa^bb for (aa, bb) in zip(a,b)])"
   ]
  },
  {
   "cell_type": "code",
   "execution_count": 6,
   "metadata": {},
   "outputs": [
    {
     "data": {
      "text/plain": [
       "'0b100001110'"
      ]
     },
     "execution_count": 6,
     "metadata": {},
     "output_type": "execute_result"
    }
   ],
   "source": [
    "mod = (1<< 128) | (1<< 7) | (1<< 2) | (1<< 1) | 1\n",
    "bin(poly_modmul((1 << 129), 1, mod))"
   ]
  },
  {
   "cell_type": "code",
   "execution_count": 145,
   "metadata": {},
   "outputs": [],
   "source": [
    "class AESGCM():\n",
    "    def __init__(self):\n",
    "        self.mod = (1<< 128) | (1<< 7) | (1<< 2) | (1<< 1) | 1\n",
    "    \n",
    "    \n",
    "    def encrypt(self, k, m, d, n):\n",
    "        '''\n",
    "        Input: k = aes key; m = message; d = associated data; n = nonce\n",
    "        Output: c = ciphertext; t = tag\n",
    "        '''\n",
    "        #get ghash key\n",
    "        H = AES.new(k, AES.MODE_ECB).encrypt(b'\\x00' * 16) #bytes\n",
    "        H = bytes_to_long(H) #int\n",
    "        H = poly_modmul(H, 1, self.mod) #get it into the field\n",
    "        \n",
    "\n",
    "        ctr = self.check_iv(H, n)\n",
    "        ctr_= long_to_bytes((bytes_to_long(ctr) + 1) & 0xffffffff) #ctr_ = ctr + 1\n",
    "        #init ctr cipher\n",
    "        cipher = AES.new(k, AES.MODE_CTR, initial_value =ctr_, nonce = ctr[:12])\n",
    "        \n",
    "        # Encryption\n",
    "        # nonce_enc = cipher.encrypt(b'\\x00' * 16) #encrypting CTR with plaintext 0 is the same as encrypting the first IV\n",
    "        nonce_enc = AES.new(k, AES.MODE_ECB).encrypt(ctr)\n",
    "        if len(m) == 0:\n",
    "            c = cipher.encrypt(b'\\x00' * 16) #encrypting CTR with plaintext 0 is the same as encrypting the first IV\n",
    "        else:\n",
    "            c = cipher.encrypt(m) #we do this for the 0 case\n",
    "            \n",
    "        # Tag\n",
    "        # construct ghash input\n",
    "        c_ = c + b'\\x00' * (-len(c) % 16) # end pad with 0\n",
    "        d_ = d + b'\\x00' * (-len(d) % 16) # end pad with 0\n",
    "        \n",
    "        len_c = long_to_bytes(len(c) * 8)\n",
    "        len_c_ = b'\\x00' * (-len(len_c) % 8)  + len_c # front pad with 0\n",
    "        len_d = long_to_bytes(len(d) * 8)\n",
    "        len_d_ = b'\\x00' * (-len(len_d) % 8)  + len_d # frontpad with 0\n",
    "        lens = len_d_ + len_c_\n",
    "        \n",
    "        z = d_ + c_ + lens\n",
    "        assert(len(z) % 16 == 0), 'z len error'\n",
    "        zs = split_bytes(z, 16) #split into 128b blocks\n",
    "        \n",
    "        # ghash\n",
    "        h = self.ghash(H, zs)\n",
    "        t = xor_bytes(h, nonce_enc)\n",
    "        \n",
    "        return c, t\n",
    "        \n",
    "    def check_iv(self, H, n):\n",
    "        #check iv\n",
    "        assert (len(n) > 0), 'iv cannot be null'\n",
    "        assert(len(n) <= 12), 'iv too long'\n",
    "        if len(n) < 12:\n",
    "            fill = (16 - (len(n) % 16)) % 16 + 8\n",
    "            ghash_in = split_bytes(n + b'\\x00' * fill + long_to_bytes(8 * len(n), 8), 16)\n",
    "            j0 = self.ghash(H, ghash_in)\n",
    "            n = j0[:12]\n",
    "        else:\n",
    "            j0 = n + b'\\x00\\x00\\x00\\x01'\n",
    "        return j0\n",
    "        \n",
    "    def ghash(self, k, z):\n",
    "        p = 0\n",
    "        for zi in z:\n",
    "            zi = poly_modmul(bytes_to_long(zi), 1, self.mod) #transform block in elem in GF\n",
    "            #zi = bytes_to_long(zi)\n",
    "            p = p ^ zi\n",
    "            #p = poly_modmul(p, k, self.mod)\n",
    "            p = gf_2_128_mul(p, k)\n",
    "        return long_to_bytes(p)\n",
    "        \n",
    "    "
   ]
  },
  {
   "cell_type": "markdown",
   "metadata": {},
   "source": [
    "## Library"
   ]
  },
  {
   "cell_type": "code",
   "execution_count": 146,
   "metadata": {},
   "outputs": [],
   "source": [
    "msg = b'super_secret_msg'\n",
    "data = b'dataaa'\n",
    "key = get_random_bytes(16)\n",
    "nonce = b'12Byte_No'"
   ]
  },
  {
   "cell_type": "code",
   "execution_count": 147,
   "metadata": {},
   "outputs": [
    {
     "data": {
      "text/plain": [
       "(b'\\x01\\t\\x84\\x8eb\\xfc2+n\\x1c\\xb8I\\xdcO4\\r',\n",
       " b'<\\x10T\\x84\\xd6\\x03)\\xe6\\x19$.\\x15\\xbe\\x14\\xbap')"
      ]
     },
     "execution_count": 147,
     "metadata": {},
     "output_type": "execute_result"
    }
   ],
   "source": [
    "cipher = AES.new(key=key, mode=AES.MODE_GCM, nonce=nonce)\n",
    "cipher.update(data)\n",
    "c1, t1 = cipher.encrypt_and_digest(msg)\n",
    "c1, t1"
   ]
  },
  {
   "cell_type": "code",
   "execution_count": 148,
   "metadata": {},
   "outputs": [
    {
     "data": {
      "text/plain": [
       "(b'\\x01\\t\\x84\\x8eb\\xfc2+n\\x1c\\xb8I\\xdcO4\\r',\n",
       " b'<\\x10T\\x84\\xd6\\x03)\\xe6\\x19$.\\x15\\xbe\\x14\\xbap')"
      ]
     },
     "execution_count": 148,
     "metadata": {},
     "output_type": "execute_result"
    }
   ],
   "source": [
    "aesgcm = AESGCM()\n",
    "c2, t2 =aesgcm.encrypt(key, msg, data, nonce)\n",
    "c2 ,t2"
   ]
  },
  {
   "cell_type": "markdown",
   "metadata": {},
   "source": [
    "# Resources"
   ]
  },
  {
   "cell_type": "markdown",
   "metadata": {},
   "source": [
    "- https://en.wikipedia.org/wiki/Galois/Counter_Mode\n",
    "- https://www.youtube.com/watch?v=R2SodepLWLg\n",
    "- https://toadstyle.org/cryptopals/63.txt\n",
    "- https://nvlpubs.nist.gov/nistpubs/Legacy/SP/nistspecialpublication800-38d.pdf - nist spec"
   ]
  },
  {
   "cell_type": "code",
   "execution_count": null,
   "metadata": {},
   "outputs": [],
   "source": []
  }
 ],
 "metadata": {
  "kernelspec": {
   "display_name": "Python 3",
   "language": "python",
   "name": "python3"
  },
  "language_info": {
   "codemirror_mode": {
    "name": "ipython",
    "version": 3
   },
   "file_extension": ".py",
   "mimetype": "text/x-python",
   "name": "python",
   "nbconvert_exporter": "python",
   "pygments_lexer": "ipython3",
   "version": "3.7.7"
  }
 },
 "nbformat": 4,
 "nbformat_minor": 4
}
