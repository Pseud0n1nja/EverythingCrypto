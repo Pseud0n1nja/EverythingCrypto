{
 "cells": [
  {
   "cell_type": "markdown",
   "metadata": {},
   "source": [
    "# Prerequisites"
   ]
  },
  {
   "cell_type": "markdown",
   "metadata": {},
   "source": [
    "- Fields\n",
    "- GCM-AES"
   ]
  },
  {
   "cell_type": "markdown",
   "metadata": {},
   "source": [
    "# Theory"
   ]
  },
  {
   "cell_type": "markdown",
   "metadata": {},
   "source": [
    "- https://meowmeowxw.gitlab.io/ctf/utctf-2020-crypto/"
   ]
  },
  {
   "cell_type": "markdown",
   "metadata": {},
   "source": [
    "**Task**: \n",
    "- Given 2 signed pairs that are computed using the same nonce compute a valid tag for a 3rd ciphertext"
   ]
  },
  {
   "cell_type": "markdown",
   "metadata": {},
   "source": [
    "### GHASH reminder\n",
    "\n",
    "\n",
    "GHASH works in the field $GF(2^{128}) \\bmod  X^{128} + X^7 + X^2 + X + 1$\n",
    "- The field has coefficients in $\\{0,1\\}$\n",
    "- Strings of 128 bits can be converted into polynomials -> the bits are the coefficients\n",
    "\n",
    "For \n",
    "- a key $k∈GF(2^{128})$ \n",
    "- an input vector $z = (z_0, z_1, ... z_{v-1}) ∈(GF(2^{128}))^v$\n",
    "\n",
    "$$GHASH(k, z) = z_0k^v + z_1k^{v-1} + z_{v-1}k \\in GF(2^{128})$$\n",
    "\n",
    "for our case $z = d'|| c' || len(d) || len(c)$"
   ]
  },
  {
   "cell_type": "markdown",
   "metadata": {},
   "source": [
    "Consider the following variables\n",
    "- $c$ = ciphertext\n",
    "- $d$ = additional data\n",
    "- $m$ = plaintext\n",
    "- $t$ = tag\n",
    "- $l$ = the lenghts of $d$ and $c$\n",
    "- $s$ = the secret encryption of the $ctr$"
   ]
  },
  {
   "cell_type": "markdown",
   "metadata": {},
   "source": [
    "let $g(X)$ be our GHASH function \n",
    "- $g(X) =d_1X^{m+n+1}+\\dots+d_mX^{n+2}+c_1X^{n+1}+\\dots+C^nX_2+lX+s$\n",
    "\n",
    "To simplify we'll consider 2 messages that have 1 block of data and 1 block of ciphertext\n",
    "- $g_1(X) = d_1X^3 + c_1X^2 + l_1X + s$\n",
    "- $g_2(X) = d_2X^3 + c_2X^2 + l_2X + s$\n",
    "- Notice that $s$ is the same since they use the same nonce\n",
    "\n",
    "Inserting the key $H$\n",
    "- $g_1(H) = t_1$\n",
    "- $g_2(H) = t_2$\n"
   ]
  },
  {
   "cell_type": "markdown",
   "metadata": {},
   "source": [
    "**Note**\n",
    "- An attacker knows everything but $H, s$"
   ]
  },
  {
   "cell_type": "markdown",
   "metadata": {},
   "source": [
    "**Let's add the polynomials**\n",
    "\n",
    "- $g_1(H) + g_2(H) = t_1 + t_2 = (d_1+d_2)H^3 + (c_1+c_2)H^2 + (l_1+l_2)H + \\underbrace{s + s}_0$\n",
    "- $0 = (d_1+d_2)H^3 + (c_1+c_2)H^2 + (l_1+l_2)H + t_1 + t_2 = p(H)$ for some polynomial $p(X)$\n",
    "- We get the roots of this equation / $p(X)$ => $H$\n"
   ]
  },
  {
   "cell_type": "markdown",
   "metadata": {},
   "source": [
    "Having found $H$ we can compute $s$\n",
    "- $s = g_1(H) + t_1$"
   ]
  },
  {
   "cell_type": "markdown",
   "metadata": {},
   "source": [
    "# Code (Sage)"
   ]
  },
  {
   "cell_type": "code",
   "execution_count": 1,
   "metadata": {},
   "outputs": [],
   "source": [
    "from Crypto.Cipher import AES\n",
    "from Crypto.Random import get_random_bytes\n",
    "from Crypto.Util.number import long_to_bytes, bytes_to_long\n",
    "from Crypto.Util import Counter"
   ]
  },
  {
   "cell_type": "code",
   "execution_count": 2,
   "metadata": {},
   "outputs": [],
   "source": [
    "# Helper functions\n",
    "def bytes_to_poly(byte_string, poly_generator):\n",
    "    poly = 0\n",
    "    byte_string_padded = byte_string + b'\\x00' * (-len(byte_string) % 16) # front pad with 0\n",
    "    #print(byte_string_padded)\n",
    "    bit_string = bin(bytes_to_long(byte_string_padded))[2:].zfill(128)\n",
    "    #print(bit_string)\n",
    "    \n",
    "    for i, bit in enumerate(bit_string):\n",
    "        poly+= (poly_generator**i) * int(bit)\n",
    "    return poly\n",
    "\n",
    "def poly_to_bytes(poly):\n",
    "    return long_to_bytes(int(bin(poly.integer_representation())[2:].zfill(128)[::-1], 2))\n",
    "\n",
    "def get_length(c, d):\n",
    "    len_c = long_to_bytes(len(c) * 8)\n",
    "    len_c_ = b'\\x00' * (-len(len_c) % 8)  + len_c # front pad with 0\n",
    "    len_d = long_to_bytes(len(d) * 8)\n",
    "    len_d_ = b'\\x00' * (-len(len_d) % 8)  + len_d # frontpad with 0\n",
    "    lens = len_d_ + len_c_\n",
    "    return lens\n",
    "\n",
    "\n",
    "def _to_gf2e(n, F):\n",
    "    return F([(n >> i) & 1 for i in range(127, -1, -1)])"
   ]
  },
  {
   "cell_type": "code",
   "execution_count": 17,
   "metadata": {},
   "outputs": [],
   "source": [
    "#msg1 = b'msg1111111'\n",
    "#msg2 = b'msg24sad'\n",
    "#msg3 = b'msg3v4444'\n",
    "msg1 = get_random_bytes(15)\n",
    "msg2 = get_random_bytes(14)\n",
    "msg3 = get_random_bytes(13)\n",
    "\n",
    "#data1 = b'data1132'\n",
    "#data2 = b'data23213'\n",
    "#data3 = b'data333'\n",
    "\n",
    "data1 = get_random_bytes(12)\n",
    "data2 = get_random_bytes(11)\n",
    "data3 = get_random_bytes(10)\n",
    "\n",
    "nonce = b'12Byte_Nonce'\n",
    "key = get_random_bytes(16)\n",
    "key = b'random16-Bytekey'"
   ]
  },
  {
   "cell_type": "code",
   "execution_count": 18,
   "metadata": {},
   "outputs": [],
   "source": [
    "cipher = AES.new(key=key, mode=AES.MODE_GCM, nonce=nonce)\n",
    "cipher.update(data1)\n",
    "c1, t1 = cipher.encrypt_and_digest(msg1)\n",
    "l1 = get_length(c1, data1)\n",
    "\n",
    "cipher = AES.new(key=key, mode=AES.MODE_GCM, nonce=nonce)\n",
    "cipher.update(data2)\n",
    "c2, t2 = cipher.encrypt_and_digest(msg2)\n",
    "l2 = get_length(c2, data2)\n",
    "\n",
    "cipher = AES.new(key=key, mode=AES.MODE_GCM, nonce=nonce)\n",
    "cipher.update(data3)\n",
    "c3, _ = cipher.encrypt_and_digest(msg3)\n",
    "l3 = get_length(c3, data3)\n",
    "\n"
   ]
  },
  {
   "cell_type": "code",
   "execution_count": 19,
   "metadata": {},
   "outputs": [
    {
     "data": {
      "text/plain": [
       "(b'\\x00\\x00\\x00\\x00\\x00\\x00\\x00X\\x00\\x00\\x00\\x00\\x00\\x00\\x00p',\n",
       " b'\\x00\\x00\\x00\\x00\\x00\\x00\\x00`\\x00\\x00\\x00\\x00\\x00\\x00\\x00x')"
      ]
     },
     "execution_count": 19,
     "metadata": {},
     "output_type": "execute_result"
    }
   ],
   "source": [
    "l2, l1"
   ]
  },
  {
   "cell_type": "code",
   "execution_count": 20,
   "metadata": {},
   "outputs": [],
   "source": [
    "# The fields we work in\n",
    "PF.<x> = GF(2)[]\n",
    "F.<a>= GF(2**128, modulus = x**128 + x**7 + x**2 + x + 1) #d, c, t, l are here\n",
    "PR.<X> = PolynomialRing(F) #g(X), p(X) is here"
   ]
  },
  {
   "cell_type": "code",
   "execution_count": 21,
   "metadata": {},
   "outputs": [
    {
     "data": {
      "text/plain": [
       "a^119 + a^115 + a^113 + a^111 + a^110 + a^109 + a^108 + a^103 + a^99 + a^97 + a^95 + a^91 + a^90 + a^89 + a^88 + a^87 + a^81 + a^79 + a^78 + a^77 + a^75 + a^73 + a^71 + a^70 + a^67 + a^64 + a^60 + a^58 + a^57 + a^56 + a^55 + a^53 + a^52 + a^51 + a^49 + a^48 + a^46 + a^44 + a^42 + a^41 + a^35 + a^33 + a^32 + a^30 + a^29 + a^27 + a^26 + a^24 + a^23 + a^21 + a^19 + a^17 + a^16 + a^14 + a^13 + a^11 + a^10 + a^9 + a^7 + a^6 + a^5 + a^2 + 1"
      ]
     },
     "execution_count": 21,
     "metadata": {},
     "output_type": "execute_result"
    }
   ],
   "source": [
    "bytes_to_poly(c1, a)"
   ]
  },
  {
   "cell_type": "code",
   "execution_count": 22,
   "metadata": {},
   "outputs": [
    {
     "data": {
      "text/plain": [
       "a^127 + a^123 + a^121 + a^119 + a^118 + a^117 + a^116 + a^111 + a^107 + a^105 + a^103 + a^99 + a^98 + a^97 + a^96 + a^95 + a^89 + a^87 + a^86 + a^85 + a^83 + a^81 + a^79 + a^78 + a^75 + a^72 + a^68 + a^66 + a^65 + a^64 + a^63 + a^61 + a^60 + a^59 + a^57 + a^56 + a^54 + a^52 + a^50 + a^49 + a^43 + a^41 + a^40 + a^38 + a^37 + a^35 + a^34 + a^32 + a^31 + a^29 + a^27 + a^25 + a^24 + a^22 + a^21 + a^19 + a^18 + a^17 + a^15 + a^14 + a^13 + a^10 + a^8"
      ]
     },
     "execution_count": 22,
     "metadata": {},
     "output_type": "execute_result"
    }
   ],
   "source": [
    "_to_gf2e(bytes_to_long(c1), F)"
   ]
  },
  {
   "cell_type": "code",
   "execution_count": 23,
   "metadata": {},
   "outputs": [
    {
     "data": {
      "text/plain": [
       "b'{\\x08\\n5\\xdf\\xbc\\xbb\\x86]@\\x97\\x80ev\\xd7\\x00'"
      ]
     },
     "execution_count": 23,
     "metadata": {},
     "output_type": "execute_result"
    }
   ],
   "source": [
    "poly_to_bytes(bytes_to_poly(msg1, a))"
   ]
  },
  {
   "cell_type": "code",
   "execution_count": null,
   "metadata": {},
   "outputs": [],
   "source": []
  },
  {
   "cell_type": "code",
   "execution_count": 24,
   "metadata": {},
   "outputs": [],
   "source": [
    "#Transform the bytes into polynomials\n",
    "C1 = bytes_to_poly(c1, a)\n",
    "C2 = bytes_to_poly(c2, a)\n",
    "C3 = bytes_to_poly(c3, a)\n",
    "\n",
    "T1 = bytes_to_poly(t1, a)\n",
    "T2 = bytes_to_poly(t2, a)\n",
    "\n",
    "D1 = bytes_to_poly(data1, a)\n",
    "D2 = bytes_to_poly(data2, a)\n",
    "D3 = bytes_to_poly(data3, a)\n",
    "\n",
    "L1 = bytes_to_poly(l1, a)\n",
    "L2 = bytes_to_poly(l2, a)\n",
    "L3 = bytes_to_poly(l3, a)\n"
   ]
  },
  {
   "cell_type": "code",
   "execution_count": 25,
   "metadata": {},
   "outputs": [
    {
     "name": "stdout",
     "output_type": "stream",
     "text": [
      "(a^94 + a^93 + a^91 + a^90 + a^87 + a^84 + a^80 + a^73 + a^71 + a^70 + a^69 + a^66 + a^64 + a^57 + a^56 + a^54 + a^52 + a^45 + a^44 + a^41 + a^37 + a^32 + a^31 + a^29 + a^27 + a^26 + a^25 + a^23 + a^21 + a^20 + a^19 + a^14 + a^12 + a^11 + a^10 + a^9 + a^6 + a^3 + a^2 + 1)*X^3 + (a^119 + a^115 + a^113 + a^111 + a^110 + a^107 + a^106 + a^105 + a^102 + a^101 + a^100 + a^97 + a^96 + a^91 + a^90 + a^89 + a^88 + a^87 + a^86 + a^85 + a^83 + a^82 + a^80 + a^79 + a^77 + a^76 + a^75 + a^71 + a^70 + a^69 + a^64 + a^63 + a^62 + a^61 + a^60 + a^58 + a^57 + a^54 + a^53 + a^52 + a^49 + a^47 + a^45 + a^44 + a^43 + a^41 + a^40 + a^30 + a^29 + a^28 + a^27 + a^26 + a^25 + a^24 + a^23 + a^21 + a^19 + a^17 + a^15 + a^14 + a^12 + a^11 + a^10 + a^8 + a^7 + a^6 + a^5 + a^2)*X^2 + (a^124 + a^60 + a^59 + a^58)*X + a^127 + a^124 + a^123 + a^121 + a^120 + a^115 + a^112 + a^111 + a^110 + a^109 + a^108 + a^106 + a^105 + a^104 + a^103 + a^101 + a^100 + a^97 + a^96 + a^95 + a^94 + a^91 + a^90 + a^89 + a^88 + a^87 + a^86 + a^85 + a^84 + a^83 + a^82 + a^81 + a^78 + a^77 + a^76 + a^75 + a^73 + a^71 + a^70 + a^69 + a^68 + a^66 + a^64 + a^62 + a^61 + a^58 + a^57 + a^53 + a^51 + a^50 + a^48 + a^47 + a^45 + a^44 + a^43 + a^41 + a^40 + a^39 + a^37 + a^35 + a^34 + a^33 + a^32 + a^31 + a^27 + a^26 + a^25 + a^24 + a^20 + a^19 + a^18 + a^15 + a^10 + a^6 + a^2\n"
     ]
    }
   ],
   "source": [
    "#Add the polynomials and tags\n",
    "p = (D1 + D2)*X**3 + (C1 + C2)*X**2 + (L1 + L2)*X + (T1 + T2)\n",
    "print(p)"
   ]
  },
  {
   "cell_type": "code",
   "execution_count": 26,
   "metadata": {},
   "outputs": [
    {
     "data": {
      "text/plain": [
       "b'\\xa7v\\xd5\\xb6\\xd0j\\xdd\\xe8\\x93WA\\xf1Q\\x0fQ\\x00'"
      ]
     },
     "execution_count": 26,
     "metadata": {},
     "output_type": "execute_result"
    }
   ],
   "source": [
    "poly_to_bytes(C1)"
   ]
  },
  {
   "cell_type": "code",
   "execution_count": 27,
   "metadata": {},
   "outputs": [
    {
     "name": "stdout",
     "output_type": "stream",
     "text": [
      "The roots: [(a^126 + a^123 + a^120 + a^116 + a^114 + a^113 + a^109 + a^108 + a^107 + a^105 + a^103 + a^102 + a^100 + a^99 + a^97 + a^96 + a^94 + a^87 + a^86 + a^84 + a^83 + a^82 + a^81 + a^79 + a^78 + a^77 + a^75 + a^74 + a^72 + a^70 + a^69 + a^66 + a^65 + a^62 + a^60 + a^58 + a^57 + a^56 + a^55 + a^54 + a^51 + a^50 + a^49 + a^48 + a^47 + a^46 + a^44 + a^43 + a^42 + a^40 + a^37 + a^36 + a^34 + a^33 + a^30 + a^28 + a^27 + a^25 + a^24 + a^23 + a^21 + a^18 + a^17 + a^16 + a^14 + a^10 + a^9 + a^8 + a^7 + a^3 + a^2, 1), (a^126 + a^124 + a^122 + a^119 + a^118 + a^116 + a^114 + a^113 + a^112 + a^110 + a^109 + a^106 + a^104 + a^103 + a^100 + a^99 + a^97 + a^94 + a^92 + a^90 + a^89 + a^88 + a^87 + a^86 + a^80 + a^78 + a^76 + a^74 + a^73 + a^72 + a^69 + a^67 + a^66 + a^65 + a^63 + a^62 + a^61 + a^60 + a^58 + a^56 + a^55 + a^52 + a^49 + a^48 + a^47 + a^43 + a^41 + a^40 + a^36 + a^35 + a^34 + a^33 + a^26 + a^24 + a^21 + a^20 + a^16 + a^15 + a^13 + a^11 + a^9 + a^8 + a^4 + a^3 + a + 1, 1), (a^126 + a^125 + a^124 + a^123 + a^122 + a^121 + a^120 + a^117 + a^115 + a^107 + a^106 + a^105 + a^104 + a^101 + a^100 + a^99 + a^98 + a^97 + a^95 + a^93 + a^92 + a^90 + a^88 + a^85 + a^83 + a^82 + a^81 + a^75 + a^70 + a^69 + a^67 + a^66 + a^64 + a^63 + a^61 + a^60 + a^59 + a^58 + a^56 + a^53 + a^50 + a^49 + a^48 + a^47 + a^46 + a^44 + a^40 + a^39 + a^38 + a^37 + a^36 + a^35 + a^32 + a^27 + a^21 + a^19 + a^18 + a^17 + a^16 + a^15 + a^13 + a^12 + a^11 + a^9 + a^5 + a^3 + a + 1, 1)]\n",
      "\n",
      "Take a root H =  a^126 + a^123 + a^120 + a^116 + a^114 + a^113 + a^109 + a^108 + a^107 + a^105 + a^103 + a^102 + a^100 + a^99 + a^97 + a^96 + a^94 + a^87 + a^86 + a^84 + a^83 + a^82 + a^81 + a^79 + a^78 + a^77 + a^75 + a^74 + a^72 + a^70 + a^69 + a^66 + a^65 + a^62 + a^60 + a^58 + a^57 + a^56 + a^55 + a^54 + a^51 + a^50 + a^49 + a^48 + a^47 + a^46 + a^44 + a^43 + a^42 + a^40 + a^37 + a^36 + a^34 + a^33 + a^30 + a^28 + a^27 + a^25 + a^24 + a^23 + a^21 + a^18 + a^17 + a^16 + a^14 + a^10 + a^9 + a^8 + a^7 + a^3 + a^2\n"
     ]
    }
   ],
   "source": [
    "# Find the GHASH key\n",
    "Hs = p.roots()\n",
    "print(\"The roots:\", Hs)\n",
    "print()\n",
    "if Hs:\n",
    "    H = Hs[0][0]\n",
    "    print(\"Take a root H = \", H)"
   ]
  },
  {
   "cell_type": "code",
   "execution_count": 28,
   "metadata": {},
   "outputs": [
    {
     "name": "stdout",
     "output_type": "stream",
     "text": [
      "S =  a^126 + a^124 + a^123 + a^122 + a^121 + a^119 + a^113 + a^112 + a^109 + a^108 + a^105 + a^99 + a^96 + a^95 + a^93 + a^92 + a^90 + a^88 + a^86 + a^85 + a^84 + a^80 + a^79 + a^78 + a^75 + a^73 + a^72 + a^71 + a^70 + a^61 + a^60 + a^59 + a^58 + a^56 + a^54 + a^53 + a^50 + a^44 + a^43 + a^41 + a^39 + a^38 + a^37 + a^36 + a^35 + a^33 + a^31 + a^29 + a^28 + a^27 + a^26 + a^22 + a^21 + a^15 + a^14 + a^13 + a^12 + a^10 + a^8 + a^7 + a^6 + a^5 + a^4 + a^3 True\n"
     ]
    }
   ],
   "source": [
    "# Find the Nonce encryption\n",
    "S = D1*H**3 + C1*H**2 + L1*H + T1\n",
    "print('S = ', S, S == D2*H**3 + C2*H**2 + L2*H + T2)"
   ]
  },
  {
   "cell_type": "code",
   "execution_count": 29,
   "metadata": {},
   "outputs": [
    {
     "data": {
      "text/plain": [
       "(b'A\\xc4O\\xe0Ls\\xedY\\xeb\\xa7\\xd2\\xbei\\xaf33', 16)"
      ]
     },
     "execution_count": 29,
     "metadata": {},
     "output_type": "execute_result"
    }
   ],
   "source": [
    "# Compute a forgery\n",
    "T3 = D3*H**3 + C3*H**2 + L3*H + S\n",
    "t3_forged = poly_to_bytes(T3)\n",
    "t3_forged, len(t3_forged)"
   ]
  },
  {
   "cell_type": "code",
   "execution_count": 30,
   "metadata": {},
   "outputs": [
    {
     "data": {
      "text/plain": [
       "True"
      ]
     },
     "execution_count": 30,
     "metadata": {},
     "output_type": "execute_result"
    }
   ],
   "source": [
    "cipher = AES.new(key=key, mode=AES.MODE_GCM, nonce=nonce) #Nonce and key are unknown\n",
    "cipher.update(data3)\n",
    "#cipher.decrypt(c3)\n",
    "msg3_decr = cipher.decrypt_and_verify(c3, t3_forged)\n",
    "msg3_decr == msg3"
   ]
  },
  {
   "cell_type": "markdown",
   "metadata": {},
   "source": [
    "# Resources"
   ]
  },
  {
   "cell_type": "markdown",
   "metadata": {},
   "source": [
    "- https://toadstyle.org/cryptopals/63.txt\n",
    "- https://csrc.nist.gov/csrc/media/projects/block-cipher-techniques/documents/bcm/comments/800-38-series-drafts/gcm/joux_comments.pdf\n"
   ]
  }
 ],
 "metadata": {
  "kernelspec": {
   "display_name": "SageMath 9.2",
   "language": "sage",
   "name": "sagemath"
  },
  "language_info": {
   "codemirror_mode": {
    "name": "ipython",
    "version": 3
   },
   "file_extension": ".py",
   "mimetype": "text/x-python",
   "name": "python",
   "nbconvert_exporter": "python",
   "pygments_lexer": "ipython3",
   "version": "3.7.7"
  }
 },
 "nbformat": 4,
 "nbformat_minor": 4
}
