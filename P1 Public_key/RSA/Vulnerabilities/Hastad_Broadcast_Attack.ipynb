{
 "cells": [
  {
   "cell_type": "code",
   "execution_count": 1,
   "metadata": {
    "ExecuteTime": {
     "end_time": "2020-08-29T07:49:34.398737Z",
     "start_time": "2020-08-29T07:49:34.292646Z"
    }
   },
   "outputs": [],
   "source": [
    "import numpy as np\n",
    "import math\n",
    "from Crypto.Util.number import getPrime, inverse, bytes_to_long, long_to_bytes, GCD\n",
    "import random"
   ]
  },
  {
   "cell_type": "code",
   "execution_count": 17,
   "metadata": {
    "ExecuteTime": {
     "end_time": "2020-08-29T08:48:07.330289Z",
     "start_time": "2020-08-29T08:48:07.326287Z"
    }
   },
   "outputs": [],
   "source": [
    "def iroot(k, n):\n",
    "    u, s = n, n+1\n",
    "    while u < s:\n",
    "        s = u\n",
    "        t = (k-1) * s + n // pow(s, k-1)\n",
    "        u = t // k\n",
    "    return s"
   ]
  },
  {
   "cell_type": "code",
   "execution_count": 3,
   "metadata": {
    "ExecuteTime": {
     "end_time": "2020-08-29T07:49:34.573146Z",
     "start_time": "2020-08-29T07:49:34.568132Z"
    }
   },
   "outputs": [],
   "source": [
    "def encrypt_rsa(m, e, N):\n",
    "    assert m < N\n",
    "    c = pow(m, e, N)\n",
    "    return c"
   ]
  },
  {
   "cell_type": "markdown",
   "metadata": {},
   "source": [
    "# Prerequisites"
   ]
  },
  {
   "cell_type": "markdown",
   "metadata": {},
   "source": [
    "1. RSA + its prerequisites\n",
    "2. Chinese remainder theorem\n",
    "* https://en.wikipedia.org/wiki/Chinese_remainder_theorem\n",
    "* https://www.youtube.com/watch?v=oKMYNKbFHBE&list=PLKXdxQAT3tCssgaWOy5vKXAR4WTPpRVYK&index=58"
   ]
  },
  {
   "cell_type": "markdown",
   "metadata": {},
   "source": [
    "# Theory"
   ]
  },
  {
   "cell_type": "markdown",
   "metadata": {},
   "source": [
    "**Task**: \n",
    "\n",
    "Given k moduli:    \n",
    "$c_1 = m^e mod N_1 \\\\\n",
    "c_2 = m^e mod N_2 \\\\\n",
    "... \\\\\n",
    "$ with $\\gcd(N_i,N_j) = 1 \\forall i \\neq j$\n",
    "\n",
    "find $m$"
   ]
  },
  {
   "cell_type": "markdown",
   "metadata": {},
   "source": [
    "## CRT:"
   ]
  },
  {
   "cell_type": "markdown",
   "metadata": {
    "ExecuteTime": {
     "end_time": "2020-08-29T08:40:23.450208Z",
     "start_time": "2020-08-29T08:40:23.418161Z"
    }
   },
   "source": [
    "\n",
    "Let $m_{1}, m_{2}, \\ldots, m_{k}$ be a collection of pairwise relatively prime integers. This means that  \n",
    "$\n",
    "\\operatorname{gcd}\\left(m_{i}, m_{j}\\right)=1 \\quad \\text { for all } i \\neq j\n",
    "$  \n",
    "\n",
    "Let $a_{1}, a_{2}, \\ldots, a_{k}$ be arbitrary integers. \n",
    "\n",
    "Then the system of simultaneous congruences  \n",
    "$  \n",
    "x \\equiv a_{1}\\left(\\bmod m_{1}\\right), \\\\\n",
    "x \\equiv a_{2}\\left(\\bmod m_{2}\\right), \\\\\n",
    "\\ldots\\\\\n",
    "x \\equiv a_{k}\\left(\\bmod m_{k}\\right)\n",
    "$  \n",
    "has a solution $x=c .$  \n",
    "\n",
    "Further, if $x=c$ and $x=c^{\\prime}$ are both solutions, then\n",
    "$\n",
    "c \\equiv c^{\\prime} \\quad\\left(\\bmod m_{1} m_{2} \\cdots m_{k}\\right)\n",
    "$"
   ]
  },
  {
   "cell_type": "markdown",
   "metadata": {},
   "source": [
    "Explanation: https://www.youtube.com/watch?v=aS57JCzJw_o"
   ]
  },
  {
   "cell_type": "markdown",
   "metadata": {},
   "source": [
    "Condition to work: $k \\geq e$"
   ]
  },
  {
   "cell_type": "markdown",
   "metadata": {},
   "source": [
    "Since $m < N_i \\forall i \\in {1..k} => m^e < \\Pi_{i=1}^k N_i$\n",
    "\n",
    "Solve CRT for $m^e$\n",
    "\n",
    "Extract the e-root and voila\n",
    "\n"
   ]
  },
  {
   "cell_type": "markdown",
   "metadata": {},
   "source": [
    "## Hastad's findings:"
   ]
  },
  {
   "cell_type": "markdown",
   "metadata": {},
   "source": [
    "If $c \\equiv m^e \\ mod \\ N$ then we can find $m$ in polynomial time if $m < N^{1/e}$"
   ]
  },
  {
   "cell_type": "markdown",
   "metadata": {},
   "source": [
    "# Code"
   ]
  },
  {
   "cell_type": "markdown",
   "metadata": {},
   "source": [
    "## Crt"
   ]
  },
  {
   "cell_type": "code",
   "execution_count": 15,
   "metadata": {
    "ExecuteTime": {
     "end_time": "2020-08-29T08:47:29.283117Z",
     "start_time": "2020-08-29T08:47:29.278115Z"
    }
   },
   "outputs": [],
   "source": [
    "def solve_simple_eq(a, b, c, p):\n",
    "    '''a + bx = c mod p'''\n",
    "    c = c-a\n",
    "    c = (c * inverse(b, p))% p\n",
    "    return c%p\n",
    "\n",
    "def crt(a_list, m_list):\n",
    "    x = 0\n",
    "    #starting values\n",
    "    a = 0\n",
    "    m = 1\n",
    "    for i in range(len(m_list)):\n",
    "        #general solution for the first equations x = a + m * y \n",
    "        #plug it in into the next equation and solve\n",
    "        x = solve_simple_eq(a, m, a_list[i], m_list[i])\n",
    "        \n",
    "        a = a + m * x\n",
    "        m = m * m_list[i]\n",
    "        #print(a, m)        \n",
    "    return a, m\n",
    "        "
   ]
  },
  {
   "cell_type": "code",
   "execution_count": 10,
   "metadata": {
    "ExecuteTime": {
     "end_time": "2020-08-29T08:46:38.113883Z",
     "start_time": "2020-08-29T08:46:35.814216Z"
    }
   },
   "outputs": [],
   "source": [
    "N_list = []\n",
    "c_list = []\n",
    "e = 3\n",
    "m = bytes_to_long(b'verylongsecret' * 10)\n",
    "for _ in range(3):\n",
    "    p = getPrime(1024)\n",
    "    q = getPrime(1024)\n",
    "    #assert GCD(e, (p-1)*(q-1)) == 1\n",
    "    N = p * q\n",
    "    c = pow(m, e, N)\n",
    "    N_list.append(N)\n",
    "    c_list.append(c)\n",
    "    \n",
    "    "
   ]
  },
  {
   "cell_type": "code",
   "execution_count": 18,
   "metadata": {
    "ExecuteTime": {
     "end_time": "2020-08-29T08:48:12.763096Z",
     "start_time": "2020-08-29T08:48:12.758093Z"
    }
   },
   "outputs": [],
   "source": [
    "m_decr_e, _ = crt(c_list, N_list)"
   ]
  },
  {
   "cell_type": "code",
   "execution_count": 19,
   "metadata": {
    "ExecuteTime": {
     "end_time": "2020-08-29T08:48:32.786129Z",
     "start_time": "2020-08-29T08:48:32.750117Z"
    }
   },
   "outputs": [
    {
     "name": "stdout",
     "output_type": "stream",
     "text": [
      "b'verylongsecretverylongsecretverylongsecretverylongsecretverylongsecretverylongsecretverylongsecretverylongsecretverylongsecretverylongsecret'\n"
     ]
    }
   ],
   "source": [
    "m_decr = iroot(e, m_decr_e)\n",
    "print(long_to_bytes(m_decr))"
   ]
  },
  {
   "cell_type": "markdown",
   "metadata": {},
   "source": [
    "# Resources"
   ]
  },
  {
   "cell_type": "markdown",
   "metadata": {},
   "source": [
    "* https://en.wikipedia.org/wiki/Coppersmith%27s_attack#H%C3%A5stad's_broadcast_attack\n",
    "- https://koclab.cs.ucsb.edu/teaching/cren/project/2017/chennagiri.pdf"
   ]
  },
  {
   "cell_type": "code",
   "execution_count": null,
   "metadata": {},
   "outputs": [],
   "source": []
  }
 ],
 "metadata": {
  "kernelspec": {
   "display_name": "Python 3",
   "language": "python",
   "name": "python3"
  },
  "language_info": {
   "codemirror_mode": {
    "name": "ipython",
    "version": 3
   },
   "file_extension": ".py",
   "mimetype": "text/x-python",
   "name": "python",
   "nbconvert_exporter": "python",
   "pygments_lexer": "ipython3",
   "version": "3.7.3"
  },
  "toc": {
   "base_numbering": 1,
   "nav_menu": {},
   "number_sections": true,
   "sideBar": true,
   "skip_h1_title": false,
   "title_cell": "Table of Contents",
   "title_sidebar": "Contents",
   "toc_cell": false,
   "toc_position": {},
   "toc_section_display": true,
   "toc_window_display": false
  }
 },
 "nbformat": 4,
 "nbformat_minor": 4
}
