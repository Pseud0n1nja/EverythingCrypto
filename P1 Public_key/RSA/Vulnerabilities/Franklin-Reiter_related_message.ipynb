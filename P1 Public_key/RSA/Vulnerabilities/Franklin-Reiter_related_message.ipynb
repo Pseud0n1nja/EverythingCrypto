{
 "cells": [
  {
   "cell_type": "code",
   "execution_count": 1,
   "metadata": {},
   "outputs": [],
   "source": [
    "from Crypto.Util.number import long_to_bytes, bytes_to_long, getPrime, inverse, GCD\n",
    "import random"
   ]
  },
  {
   "cell_type": "markdown",
   "metadata": {},
   "source": [
    "# Prerequisites"
   ]
  },
  {
   "cell_type": "markdown",
   "metadata": {},
   "source": [
    "- Coppersmith\n",
    "- GCD\n",
    "- RSA"
   ]
  },
  {
   "cell_type": "markdown",
   "metadata": {},
   "source": [
    "# Theory"
   ]
  },
  {
   "cell_type": "markdown",
   "metadata": {},
   "source": [
    "**Task**\n",
    "- The attack exploits the fact that two messages might be related by some polynomial"
   ]
  },
  {
   "cell_type": "markdown",
   "metadata": {},
   "source": [
    "**Theorem Franklin-Reiter**\n",
    "Set $e = 3$ and let $⟨ N , e ⟩$ be an RSA public key. Let $M_1 ≠ M_2 ∈ \\mathbb{Z}^*$ satisfy $ M_{1}\\equiv f(M_{2}) \\bmod {N}$ for some linear polynomial $f = a x + b ∈ \\mathbb{Z}_N[ x ]$ with $b ≠ 0$. Then, given $⟨ N , e , C_1 , C_2 , f ⟩$, attacker, Eve, can recover $M_1 , M_2$ in time quadratic in $\\log_2 (N)$."
   ]
  },
  {
   "cell_type": "markdown",
   "metadata": {},
   "source": [
    "**Proof**\n",
    "- $M_1 \\equiv a*M_2 + b \\bmod N$\n",
    "- $C_1 \\equiv M_1^e \\equiv (a*M_2 + b)^e \\bmod N <=> 0 \\equiv (a*M_2 + b)^e - C_1 \\bmod N $\n",
    "- $C_2 \\equiv (M_2)^e \\bmod N <=> 0 \\equiv M_2^e - C_2 \\bmod N $\n",
    "- If we want to solve for $M_2$ construct the polynomials\n",
    "    - $g_1(x) = (a*x + b) ^e - C_1 \\in Z_N[x]$\n",
    "    - $g_2(x) = x^e - C_2 \\in Z_N[x]$\n",
    "- $M_2$ is a root to both polynomial => $x - M_2$ divides both polynomials => we can compute the GCD to both polynomials and if it's linear we found $M_2$\n"
   ]
  },
  {
   "cell_type": "code",
   "execution_count": null,
   "metadata": {},
   "outputs": [],
   "source": []
  },
  {
   "cell_type": "markdown",
   "metadata": {},
   "source": [
    "# Code"
   ]
  },
  {
   "cell_type": "code",
   "execution_count": 9,
   "metadata": {},
   "outputs": [],
   "source": [
    "# Construct rsa keys\n",
    "def get_keys():\n",
    "    p = getPrime(1024)\n",
    "    q = getPrime(1024)\n",
    "    N = p * q\n",
    "    e = 3\n",
    "    assert GCD(N, e) == 1\n",
    "    phi = (p-1)*(q-1)\n",
    "    d = inverse(e, phi)\n",
    "    return (N, e), (p, q, d)"
   ]
  },
  {
   "cell_type": "code",
   "execution_count": 10,
   "metadata": {},
   "outputs": [],
   "source": [
    "#get keys\n",
    "(N, e), (p, q, d) = get_keys()"
   ]
  },
  {
   "cell_type": "code",
   "execution_count": 11,
   "metadata": {},
   "outputs": [],
   "source": [
    "#Construct polynomial\n",
    "R.<x> = PolynomialRing(Zmod(N))\n",
    "a = random.randint(2, N-2)\n",
    "b = random.randint(2, N-1)\n",
    "f = a*x + b\n"
   ]
  },
  {
   "cell_type": "code",
   "execution_count": 61,
   "metadata": {},
   "outputs": [],
   "source": [
    "def poly_gcd(f1, f2):\n",
    "    while f2:\n",
    "        f1, f2, = f2, f1 % f2\n",
    "    return f1.monic()\n",
    "def franklin_reiter(f1, f2, c1, c2, e, N):\n",
    "    #R = f1.parent()\n",
    "    g1 = f1**e - c1\n",
    "    g2 = f2**e - c2\n",
    "    g = poly_gcd(g1, g2)\n",
    "    print(g)\n",
    "    return -g.coefficients()[0]"
   ]
  },
  {
   "cell_type": "code",
   "execution_count": 17,
   "metadata": {},
   "outputs": [],
   "source": [
    "m2 = int(bytes_to_long(b'this_is_a_secret_messagethis_is_a_secret_messagethis_is_a_secret_messagethis_is_a_secret_messagethis_is_a_secret_message')) \n",
    "m1 = int(f(m2)) #overwrite Integer class in sage"
   ]
  },
  {
   "cell_type": "code",
   "execution_count": 18,
   "metadata": {},
   "outputs": [],
   "source": [
    "c2 = pow(m2, e, N)\n",
    "c1 = pow(m1, e, N)"
   ]
  },
  {
   "cell_type": "code",
   "execution_count": 19,
   "metadata": {},
   "outputs": [],
   "source": [
    "f2 = x\n",
    "m2_decr = franklin_reiter(f, f2, c1, c2, e, N)"
   ]
  },
  {
   "cell_type": "code",
   "execution_count": 20,
   "metadata": {},
   "outputs": [
    {
     "data": {
      "text/plain": [
       "b'this_is_a_secret_messagethis_is_a_secret_messagethis_is_a_secret_messagethis_is_a_secret_messagethis_is_a_secret_message'"
      ]
     },
     "execution_count": 20,
     "metadata": {},
     "output_type": "execute_result"
    }
   ],
   "source": [
    "long_to_bytes(m2_decr)"
   ]
  },
  {
   "cell_type": "code",
   "execution_count": 22,
   "metadata": {},
   "outputs": [],
   "source": [
    "#Linear linked messages\n",
    "#get keys\n",
    "(N, e), (p, q, d) = get_keys()\n",
    "R.<x> = PolynomialRing(Zmod(N))\n",
    "\n",
    "a1 = random.randint(2, N-2)\n",
    "b1 = random.randint(2, N-1)\n",
    "a2 = random.randint(2, N-1)\n",
    "b2 = random.randint(2, N-1)\n",
    "f1 = a1*x + b2\n",
    "f2 = a2*x + b2\n",
    "\n",
    "m = int(bytes_to_long(b'this_is_a_secret_messagethis_is_a_secret_messagethis_is_a_secret_messagethis_is_a_secret_messagethis_is_a_secret_messagethis_is_a_secret_message')) \n",
    "\n",
    "c1 = pow(int(f1(m)), e, N)\n",
    "c2 = pow(int(f2(m)), e, N)"
   ]
  },
  {
   "cell_type": "code",
   "execution_count": 23,
   "metadata": {},
   "outputs": [],
   "source": [
    "m_decr = franklin_reiter(f1, f2, c1, c2, e, N)"
   ]
  },
  {
   "cell_type": "code",
   "execution_count": 24,
   "metadata": {},
   "outputs": [
    {
     "data": {
      "text/plain": [
       "b'this_is_a_secret_messagethis_is_a_secret_messagethis_is_a_secret_messagethis_is_a_secret_messagethis_is_a_secret_messagethis_is_a_secret_message'"
      ]
     },
     "execution_count": 24,
     "metadata": {},
     "output_type": "execute_result"
    }
   ],
   "source": [
    "long_to_bytes(m_decr)"
   ]
  },
  {
   "cell_type": "code",
   "execution_count": null,
   "metadata": {},
   "outputs": [],
   "source": []
  },
  {
   "cell_type": "markdown",
   "metadata": {},
   "source": [
    "# Resources"
   ]
  },
  {
   "cell_type": "markdown",
   "metadata": {},
   "source": [
    "- https://en.wikipedia.org/wiki/Coppersmith%27s_attack\n",
    "- https://eprint.iacr.org/2009/205.pdf\n",
    "- https://www.researchgate.net/publication/221010549_A_new_related_message_attack_on_RSA/link/0deec534c1081b034d000000/download\n",
    "- https://crypto.stackexchange.com/questions/30884/help-understanding-basic-franklin-reiter-related-message-attack\n",
    "- https://translate.google.com/translate?hl=en&sl=zh-CN&u=https://ctf-wiki.github.io/ctf-wiki/crypto/asymmetric/rsa/rsa_coppersmith_attack-zh/&prev=search&pto=aue"
   ]
  },
  {
   "cell_type": "code",
   "execution_count": null,
   "metadata": {},
   "outputs": [],
   "source": []
  }
 ],
 "metadata": {
  "kernelspec": {
   "display_name": "SageMath 9.1",
   "language": "sage",
   "name": "sagemath"
  },
  "language_info": {
   "codemirror_mode": {
    "name": "ipython",
    "version": 3
   },
   "file_extension": ".py",
   "mimetype": "text/x-python",
   "name": "python",
   "nbconvert_exporter": "python",
   "pygments_lexer": "ipython3",
   "version": "3.7.3"
  }
 },
 "nbformat": 4,
 "nbformat_minor": 2
}
