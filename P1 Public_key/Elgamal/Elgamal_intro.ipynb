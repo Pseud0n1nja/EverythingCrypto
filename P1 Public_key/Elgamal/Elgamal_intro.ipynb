{
 "cells": [
  {
   "cell_type": "code",
   "execution_count": 3,
   "metadata": {},
   "outputs": [],
   "source": [
    "from Crypto.Util.number import long_to_bytes, bytes_to_long, GCD, getPrime, inverse\n",
    "import random"
   ]
  },
  {
   "cell_type": "markdown",
   "metadata": {},
   "source": [
    "# Prerequisites"
   ]
  },
  {
   "cell_type": "markdown",
   "metadata": {},
   "source": [
    "- Diffie hellman\n",
    "- Discrete logarithm Problem \n",
    "- Cyclic groups"
   ]
  },
  {
   "cell_type": "markdown",
   "metadata": {},
   "source": [
    "# Theory"
   ]
  },
  {
   "cell_type": "markdown",
   "metadata": {},
   "source": [
    "https://www.youtube.com/watch?v=6ARDqCckjfs"
   ]
  },
  {
   "cell_type": "markdown",
   "metadata": {},
   "source": [
    "- Elgamal encryption is an public-key cryptosystem. It uses asymmetric key encryption for communicating between two parties and encrypting the message.\n",
    "- This cryptosystem is based on the difficulty of finding discrete logarithm in a cyclic group that is even if we know $g^a$ and $g^b$, it is extremely difficult to compute $g^{ab}$.\n",
    "- Elgamal is based on DLP. The same vulnerabilities apply here too"
   ]
  },
  {
   "cell_type": "markdown",
   "metadata": {},
   "source": [
    "Parameter creation\n",
    "- Choose large prime $p$. Choose $g$ with large prime order $q$ (generator of $\\mathbb{Z}_p^*$)\n",
    "\n",
    "Key generation(Alice):  \n",
    "- Choose private key $1 \\leq a \\leq p-1$ Compute $A=g^{a}(\\bmod p)$  \n",
    "- Publish the public key $(g, A, p)$\n",
    "\n",
    "Encryption(Bob):  \n",
    "-  Choose plaintext $m \\in \\{0, 1, \\dots, p-1\\}$ \n",
    "- Choose random element $1 \\leq k \\leq p-2$ \n",
    "- Use Alice's public key $A$ to compute \n",
    "    - $c_{1} \\equiv g^{k} \\bmod p $  = ephemeral key (random each time)\n",
    "    - $c_{2} \\equiv m A^{k} \\equiv m \\cdot g^{ak} \\bmod p$\n",
    "  \n",
    "- Send ciphertext $\\left(c_{1}, c_{2}\\right)$ to Alice.\n",
    "\n",
    "Decryption(Alice):  \n",
    "- Compute $\\left(c_{1}^{a}\\right)^{-1} \\cdot c_{2}(\\bmod p)$\n",
    "- This quantity is equal to $m$"
   ]
  },
  {
   "cell_type": "markdown",
   "metadata": {},
   "source": [
    "**Decryption Proof**:\n",
    "\n",
    "$x \\equiv\\left(c_{1}^{a}\\right)^{-1}(\\bmod p)$\n",
    "\n",
    "$\\begin{aligned} x \\cdot c_{2} & \\equiv\\left(c_{1}^{a}\\right)^{-1} \\cdot c_{2} &(\\bmod p), & \\text { since } x \\equiv\\left(c_{1}^{a}\\right)^{-1}(\\bmod p) \\\\ & \\equiv\\left(g^{a k}\\right)^{-1} \\cdot\\left(m A^{k}\\right) &(\\bmod p), & \\text { since } c_{1} \\equiv g^{k}, c_{2} \\equiv m A^{k}(\\bmod p) \\\\ & \\equiv\\left(g^{a k}\\right)^{-1} \\cdot\\left(m\\left(g^{a}\\right)^{k}\\right)(\\bmod p), & & \\text { since } A \\equiv g^{a}(\\bmod p) \\end{aligned}$\n",
    "$\\equiv m$\n",
    "$(\\bmod p)$\n",
    "since the $g^{a k}$ terms cancel out."
   ]
  },
  {
   "cell_type": "markdown",
   "metadata": {},
   "source": [
    "**Remark**:\n",
    "- $+$ since $k$ is random every time => encrypting the same message twice will output the different results\n",
    "- $-$ a general ElGamal encryption produces a 2:1 expansion in size from plaintext to ciphertext (we need c1 and c2).\n",
    "- $\\pm$ Encryption under ElGamal requires two exponentiations; however, these exponentiations are independent of the message (precomputed) and can be computed ahead of time if need be"
   ]
  },
  {
   "cell_type": "markdown",
   "metadata": {},
   "source": [
    "**Security**\n",
    "- DLP weaknesses (If we have an DLP algorithm)\n",
    "    - we can compute $a$ from $g^a \\equiv A \\bmod p$ => we can compute the shared key $g^{ak}$ (ephemeral key) => we can decrypt\n",
    "    - we can compute $k$"
   ]
  },
  {
   "cell_type": "markdown",
   "metadata": {},
   "source": [
    "# Code"
   ]
  },
  {
   "cell_type": "code",
   "execution_count": 9,
   "metadata": {},
   "outputs": [],
   "source": [
    "def gen_params():\n",
    "    p = getPrime(1024)\n",
    "    g = 2\n",
    "    return g, p\n",
    "\n",
    "\n",
    "def gen_keys(g, p):\n",
    "    a = random.randint(1, p-1)\n",
    "    return pow(g, a, p), a\n",
    "\n",
    "\n",
    "def elg_encryption(m, A, g, p):\n",
    "    k = random.randint(1, p-1)\n",
    "    c1 = pow(g, k, p)\n",
    "    c2 = (m * pow(A, k, p))% p\n",
    "    return c1, c2\n",
    "\n",
    "def elg_decryption(c1, c2, a, p):\n",
    "    x = inverse(pow(c1, a, p), p)\n",
    "    m_decr =(x * c2) % p\n",
    "    return m_decr"
   ]
  },
  {
   "cell_type": "code",
   "execution_count": 10,
   "metadata": {},
   "outputs": [],
   "source": [
    "g, p = gen_params()\n",
    "A, a = gen_keys(g, p)"
   ]
  },
  {
   "cell_type": "code",
   "execution_count": 11,
   "metadata": {},
   "outputs": [],
   "source": [
    "m = bytes_to_long(b'secret_message')\n",
    "c1, c2 = elg_encryption(m, A, g, p)\n",
    "m_decr = elg_decryption(c1, c2, a, p)"
   ]
  },
  {
   "cell_type": "code",
   "execution_count": 14,
   "metadata": {},
   "outputs": [
    {
     "name": "stdout",
     "output_type": "stream",
     "text": [
      "True\n",
      "b'secret_message'\n"
     ]
    }
   ],
   "source": [
    "print(m_decr == m)\n",
    "print(long_to_bytes(m_decr))"
   ]
  },
  {
   "cell_type": "markdown",
   "metadata": {},
   "source": [
    "# Resources"
   ]
  },
  {
   "cell_type": "markdown",
   "metadata": {},
   "source": [
    "- https://github.com/ashutosh1206/Crypton/tree/master/Elgamal-Encryption\n",
    "- https://en.wikipedia.org/wiki/ElGamal_encryption\n",
    "- https://mathstats.uncg.edu/sites/pauli/112/HTML/secelgamal.html\n",
    "- http://cryptowiki.net/index.php?title=El_Gamal_Scheme\n",
    "- https://www.youtube.com/watch?v=pyirxbHuvOw"
   ]
  },
  {
   "cell_type": "code",
   "execution_count": null,
   "metadata": {},
   "outputs": [],
   "source": []
  }
 ],
 "metadata": {
  "kernelspec": {
   "display_name": "Python 3",
   "language": "python",
   "name": "python3"
  },
  "language_info": {
   "codemirror_mode": {
    "name": "ipython",
    "version": 3
   },
   "file_extension": ".py",
   "mimetype": "text/x-python",
   "name": "python",
   "nbconvert_exporter": "python",
   "pygments_lexer": "ipython3",
   "version": "3.9.1"
  },
  "toc": {
   "base_numbering": 1,
   "nav_menu": {},
   "number_sections": true,
   "sideBar": true,
   "skip_h1_title": false,
   "title_cell": "Table of Contents",
   "title_sidebar": "Contents",
   "toc_cell": false,
   "toc_position": {},
   "toc_section_display": true,
   "toc_window_display": false
  }
 },
 "nbformat": 4,
 "nbformat_minor": 2
}
