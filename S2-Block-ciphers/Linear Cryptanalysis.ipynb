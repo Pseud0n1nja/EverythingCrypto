{
 "cells": [
  {
   "cell_type": "code",
   "execution_count": 1,
   "metadata": {},
   "outputs": [],
   "source": [
    "import pprint\n",
    "import numpy as np\n",
    "from Crypto.Random.random import getrandbits"
   ]
  },
  {
   "cell_type": "markdown",
   "metadata": {},
   "source": [
    "# Prerequisites\n",
    "-  Block ciphers design"
   ]
  },
  {
   "cell_type": "code",
   "execution_count": 2,
   "metadata": {},
   "outputs": [],
   "source": [
    "def get_bit(x, i, n):\n",
    "    '''\n",
    "    n = 5\n",
    "    x = 0 1 0 1 0 \n",
    "    i = 0 1 2 3 4\n",
    "    '''\n",
    "    return (x >> (n - 1 - i)) & 1\n",
    "\n",
    "def inverse_sbox(S):\n",
    "    \"\"\"\n",
    "    Input:\n",
    "    S: {list} -- sbox\n",
    "    Return\n",
    "    {list} -- the inverse of the sbox\n",
    "    \"\"\"\n",
    "    S_ = [-1] * len(S)\n",
    "    for i, entry in enumerate(S):\n",
    "        S_[entry] = i\n",
    "    return S_\n",
    "    "
   ]
  },
  {
   "cell_type": "markdown",
   "metadata": {},
   "source": [
    "# Theory"
   ]
  },
  {
   "cell_type": "markdown",
   "metadata": {},
   "source": [
    "- https://www.youtube.com/watch?v=RE6xu5THyJA&list=PLfX_2xRB__0OhOzA-rl6kvnLCCtrRoS7x&index=9 - very good explanation\n",
    "- http://www.cs.bc.edu/~straubin/crypto2017/heys.pdf"
   ]
  },
  {
   "cell_type": "markdown",
   "metadata": {},
   "source": [
    "For this page we denote the following\n",
    "- $M$ is a message\n",
    "- $C$ is a ciphertext\n",
    "- $K$ is a key\n",
    "- greek letters for masks\n",
    "\n",
    "Sometimes we will denote\n",
    "- $X$ - Sbox input\n",
    "- $Y$ - Sbox output\n",
    "\n",
    "Otherwise we will follow the notation from the drawings\n"
   ]
  },
  {
   "cell_type": "markdown",
   "metadata": {},
   "source": [
    "*Idea*\n",
    "- Find an approximate equation of the whole chipher - Link the bits $M_i, C_i$ and $K_i$ using a xor equation (linear equation)\n",
    "- We want to look after a propriety that \"degrades\" over the cipher\n",
    "- We want to take a subset of message bits (masked) and a subset of ciphertext bits(masked) and try to find a probabilistic linear relation between them\n",
    "- Since SBoxes are the only non-linear component we want to look at those\n",
    "- We want to find as much information about the key in form of equations\n",
    "\n",
    "We define the **masks** as follows: \n",
    "> if $X = (X_0, X_1, X_2, X_3)$ a mask $\\alpha = 1001$ selects the bits $X_0$ and $X_3$. \n",
    "> - We can do this with the `and` operation. \n",
    "> - Moreover since we want a linear relationship we care about the `xor` between the selected bits so we will encompass both both in the same notation.\n",
    "> \n",
    ">We will denote it with $\\alpha \\cdot X$ (think of it like a dot product)\n",
    "\n",
    "- For our example\n",
    "$$X_0 \\oplus X_3 = \\bigoplus_{i=0}^n(\\alpha_i X_i) = \\alpha \\cdot X$$\n",
    "\n",
    "\n"
   ]
  },
  {
   "cell_type": "code",
   "execution_count": 3,
   "metadata": {},
   "outputs": [],
   "source": [
    "def bit_parity(x):\n",
    "    '''\n",
    "    Xor of all bits\n",
    "    '''\n",
    "    t = 0\n",
    "    while(x != 0):\n",
    "        t  = t ^ (x & 1)\n",
    "        x >>= 1\n",
    "    return t\n",
    "\n",
    "def dot(x, mask):\n",
    "    # We mask\n",
    "    t = x & mask\n",
    "    # We calculate the parity because it's a xor of all bits\n",
    "    return bit_parity(t)"
   ]
  },
  {
   "attachments": {
    "158ddee7-a19e-4662-b333-4b2c099d9197.png": {
     "image/png": "[encoded data removed]"
    }
   },
   "cell_type": "markdown",
   "metadata": {},
   "source": [
    "Now if we want to link the specific input bits to some specific output we use 2 masks ($\\alpha$ for the input and $\\beta$ for the output ):\n",
    "$$\\alpha \\cdot X = \\beta \\cdot S(X) = \\beta \\cdot Y$$\n",
    "- where $S$ = our sbox\n",
    "\n",
    "![image.png](attachment:158ddee7-a19e-4662-b333-4b2c099d9197.png)"
   ]
  },
  {
   "cell_type": "markdown",
   "metadata": {},
   "source": [
    "## Approximating non-linear functions by linear functions"
   ]
  },
  {
   "cell_type": "markdown",
   "metadata": {},
   "source": [
    "**What is a linear function?**\n",
    ">$x_n + ... + x_0 + a = y_m + ... + y_0 + b \\bmod 2$  \n",
    ">We consider linear functions: 0, the input bits alone or any affine transformation between them\n",
    "\n",
    "**Reminder:** $\\oplus = + \\bmod 2$ \n",
    "\n",
    "Example: Consider the `and` gate\n",
    "\n",
    "|x|y| xy| \n",
    "|-|-|-|\n",
    "|0|0|0\n",
    "|0|1|0\n",
    "|1|0|0\n",
    "|1|1|1\n",
    "\n",
    "We have the following linear functions: $0, x, y, x\\oplus y$ and $x\\oplus y \\oplus 1$"
   ]
  },
  {
   "cell_type": "markdown",
   "metadata": {},
   "source": [
    "**How do we evaluate good approximations?** -- We will use different metrics\n",
    "- *Matches* = How many outputs match to the input?\n",
    "    - $s = |\\{x \\in \\mathbb{F}_2^n \\ : \\ \\alpha \\cdot X = \\beta \\cdot S(X)\\}|$\n",
    "    - Ex: $x$ mathces the `and` function $3$ times. $x\\oplus y$ matches once. (Write the tables)\n",
    "- *Probability* $p = P_X[\\alpha \\cdot X = \\beta \\cdot S(X) = \\dfrac s {2^b}$\n",
    "- *Bias* $\\epsilon = p - \\dfrac 1 2$\n",
    "    \n",
    "- *Correlation* $cor = 2 \\cdot \\epsilon$\n",
    "\n",
    "Interpretaion of the bias\n",
    "- How different is from random? Random is right $\\dfrac 1 2$ times so we subtract it\n",
    "- $\\epsilon = 0$ -- as good as random\n",
    "- $\\epsilon > 0$ -- good appr\n",
    "- $\\epsilon < 0$ -- bad appr but we can transform it into a good one if we `xor` by 1"
   ]
  },
  {
   "cell_type": "code",
   "execution_count": 4,
   "metadata": {},
   "outputs": [],
   "source": [
    "# Consider all possible masks and check the results\n",
    "def count_matches(alpha, beta, sbox, l):\n",
    "    \"\"\"\n",
    "    Counts mathches of input output given 2 masks\n",
    "    Input\n",
    "        alpha: {int} -- input mask\n",
    "        beta: {int} -- output mask\n",
    "        sbox: {list} -- sbox\n",
    "        l: {int} -- sbox intput size in bits\n",
    "    Returns\n",
    "        {int} -- number of matches\n",
    "    \"\"\"\n",
    "    s = 0\n",
    "    for x in range(1<<l):\n",
    "        if dot(x, alpha) == dot(sbox[x], beta):\n",
    "            s+=1\n",
    "    return s\n",
    "    \n",
    "def linear_approximation_table(sbox, l):\n",
    "    \"\"\"\n",
    "    Computes the linear approximation table\n",
    "    Input\n",
    "        sbox: {list} -- sbox\n",
    "        l: {int} -- sbox intput size in bits\n",
    "    Returns\n",
    "        {list of lists} -- table\n",
    "    \"\"\"\n",
    "    res = []\n",
    "    # Iterate through possible masks\n",
    "    for alpha in range(1<<l): \n",
    "        row = []\n",
    "        for beta in range(1<<l):\n",
    "            t = count_matches(alpha, beta, sbox, l) - 1/2 * (1<<l) # 1<<l is a normalization factor\n",
    "            row.append(t)\n",
    "        res.append(row)\n",
    "    return res\n",
    "    "
   ]
  },
  {
   "cell_type": "code",
   "execution_count": 9,
   "metadata": {},
   "outputs": [],
   "source": [
    "# An sbox\n",
    "S = [12, 5, 6, 11, 9, 0, 10, 13, 3, 14, 15, 8, 4, 7, 1, 2]\n"
   ]
  },
  {
   "cell_type": "code",
   "execution_count": 7,
   "metadata": {},
   "outputs": [
    {
     "name": "stdout",
     "output_type": "stream",
     "text": [
      "[[ 8.  0.  0.  0.  0.  0.  0.  0.  0.  0.  0.  0.  0.  0.  0.  0.]\n",
      " [ 0.  0.  0.  0.  0. -4.  0. -4.  0.  0.  0.  0.  0. -4.  0.  4.]\n",
      " [ 0.  0.  2.  2. -2. -2.  0.  0.  2. -2.  0.  4.  0.  4. -2.  2.]\n",
      " [ 0.  0.  2.  2.  2. -2. -4.  0. -2.  2. -4.  0.  0.  0. -2. -2.]\n",
      " [ 0.  0. -2.  2. -2. -2.  0.  4. -2. -2.  0. -4.  0.  0. -2.  2.]\n",
      " [ 0.  0. -2.  2. -2.  2.  0.  0.  2.  2. -4.  0.  4.  0.  2.  2.]\n",
      " [ 0.  0.  0. -4.  0.  0. -4.  0.  0. -4.  0.  0.  4.  0.  0.  0.]\n",
      " [ 0.  0.  0.  4.  4.  0.  0.  0.  0. -4.  0.  0.  0.  0.  4.  0.]\n",
      " [ 0.  0.  2. -2.  0.  0. -2.  2. -2.  2.  0.  0. -2.  2.  4.  4.]\n",
      " [ 0.  4. -2. -2.  0.  0.  2. -2. -2. -2. -4.  0. -2.  2.  0.  0.]\n",
      " [ 0.  0.  4.  0.  2.  2.  2. -2.  0.  0.  0. -4.  2.  2. -2.  2.]\n",
      " [ 0. -4.  0.  0. -2. -2.  2. -2. -4.  0.  0.  0.  2.  2.  2. -2.]\n",
      " [ 0.  0.  0.  0. -2. -2. -2. -2.  4.  0.  0. -4. -2.  2.  2. -2.]\n",
      " [ 0.  4.  4.  0. -2. -2.  2.  2.  0.  0.  0.  0.  2. -2.  2. -2.]\n",
      " [ 0.  0.  2.  2. -4.  4. -2. -2. -2. -2.  0.  0. -2. -2.  0.  0.]\n",
      " [ 0.  4. -2.  2.  0.  0. -2. -2. -2.  2.  4.  0.  2.  2.  0.  0.]]\n"
     ]
    }
   ],
   "source": [
    "lat = linear_approximation_table(S, 4)\n",
    "\n",
    "# Prettier print\n",
    "print(np.matrix(lat))"
   ]
  },
  {
   "cell_type": "code",
   "execution_count": 8,
   "metadata": {},
   "outputs": [
    {
     "name": "stdout",
     "output_type": "stream",
     "text": [
      "[[ 8.  0.  0.  0.  0.  0.  0.  0.  0.  0.  0.  0.  0.  0.  0.  0.]\n",
      " [ 0. -2.  0.  2.  0. -2.  4. -2.  2.  4.  2.  0. -2.  0.  2.  0.]\n",
      " [ 0.  2. -2.  0. -2.  0.  0.  2.  2.  4.  0.  2.  4. -2. -2.  0.]\n",
      " [ 0.  4.  2.  2. -2.  2.  0.  0.  0.  0.  2. -2. -2. -2.  0.  4.]\n",
      " [ 0.  0. -2.  2.  2. -2.  0.  0. -4.  0.  2.  2.  2.  2.  0.  4.]\n",
      " [ 0. -2.  2.  0.  2.  4.  0.  2. -2.  4.  0. -2.  0.  2. -2.  0.]\n",
      " [ 0. -2.  0.  2.  0.  2.  4.  2.  2. -4.  2.  0.  2.  0. -2.  0.]\n",
      " [ 0.  0.  0.  0.  0.  4.  0. -4.  0.  0.  0.  0.  4.  0.  4.  0.]\n",
      " [ 0.  0. -2.  2. -4.  0.  2.  2. -4.  0. -2. -2.  0.  0.  2. -2.]\n",
      " [ 0. -2. -6.  0.  0.  2. -2.  0.  2.  0.  0. -2. -2.  0.  0.  2.]\n",
      " [ 0. -2.  0. -6. -2.  0.  2.  0. -2.  0.  2.  0.  0. -2.  0.  2.]\n",
      " [ 0.  0.  0.  0.  2. -2.  2. -2.  0.  0. -4. -4.  2. -2. -2.  2.]\n",
      " [ 0.  0.  0.  0. -2. -2. -2. -2.  0.  0.  4. -4.  2.  2. -2. -2.]\n",
      " [ 0. -2.  0.  2.  2.  0. -2.  0. -2.  0.  2.  0.  0. -6.  0. -2.]\n",
      " [ 0.  2. -2.  0.  0.  2.  2. -4. -2.  0.  0.  2. -2.  0. -4. -2.]\n",
      " [ 0. -4.  2.  2. -4.  0. -2. -2.  0.  0. -2.  2.  0.  0. -2.  2.]]\n"
     ]
    }
   ],
   "source": [
    "# Let's look at another Sbox (Block cipher companion) \n",
    "S = [0xf, 0xe, 0xb, 0xc, 0x6, 0xd, 0x7, 0x8, 0x0, 0x3, 0x9, 0xa, 0x4, 0x2, 0x1, 0x5]\n",
    "lat = linear_approximation_table(S, 4)\n",
    "print(np.matrix(lat))"
   ]
  },
  {
   "cell_type": "markdown",
   "metadata": {},
   "source": [
    "## Adding the key"
   ]
  },
  {
   "cell_type": "markdown",
   "metadata": {},
   "source": [
    "Adding the key is simple. \n",
    "$$\\alpha X \\cdot \\oplus \\kappa \\cdot K = \\beta \\cdot  Y$$"
   ]
  },
  {
   "attachments": {
    "429e094d-c017-4d4b-bb16-16554bbb6097.png": {
     "image/png": "[encoded data removed]"
    }
   },
   "cell_type": "markdown",
   "metadata": {},
   "source": [
    "![image.png](attachment:429e094d-c017-4d4b-bb16-16554bbb6097.png)\n",
    "\n",
    "For the masks in the image we have the following equations:\n",
    "$X_1 \\oplus X_4 \\oplus K_1 \\oplus K_4 = Y_4 \\\\\n",
    "X_1 \\oplus X_4 \\oplus Y_4 = K_1 \\oplus K_4 $\n",
    "\n",
    "Given enough $(X, Y)$ pairs we get some information about the key."
   ]
  },
  {
   "cell_type": "code",
   "execution_count": 11,
   "metadata": {},
   "outputs": [],
   "source": [
    "S = [12, 5, 6, 11, 9, 0, 10, 13, 3, 14, 15, 8, 4, 7, 1, 2]\n",
    "lat = linear_approximation_table(S, 4)\n",
    "\n",
    "#Investigate the lat\n",
    "#print(np.matrix(lat))"
   ]
  },
  {
   "cell_type": "code",
   "execution_count": 12,
   "metadata": {},
   "outputs": [
    {
     "name": "stdout",
     "output_type": "stream",
     "text": [
      "LAT entry:  4.0\n",
      "X:  0000\n",
      "K:  0101\n",
      "False\n"
     ]
    }
   ],
   "source": [
    "# Pick an entry that is not 0 -> 9-1 => 4 in the LAT\n",
    "alpha = 0b1001 # 9\n",
    "beta = 0b0001 # 1\n",
    "kappa = alpha\n",
    "print(\"LAT entry: \", lat[alpha][beta])\n",
    "\n",
    "X = getrandbits(4)\n",
    "print(\"X: \", bin(X)[2:].zfill(4))\n",
    "K = getrandbits(4)\n",
    "print(\"K: \", bin(K)[2:].zfill(4))\n",
    "Y = S[X ^ K]\n",
    "K1K4 = dot(X, alpha) ^ dot(Y, beta)\n",
    "\n",
    "print(K1K4 == get_bit(K, 0, 4) ^ get_bit(K, 3, 4))"
   ]
  },
  {
   "cell_type": "code",
   "execution_count": 13,
   "metadata": {},
   "outputs": [
    {
     "name": "stdout",
     "output_type": "stream",
     "text": [
      "0.753\n"
     ]
    }
   ],
   "source": [
    "# Let's try more runs\n",
    "t = 0\n",
    "tries = 1000\n",
    "for _ in range(tries):\n",
    "    X = getrandbits(4)\n",
    "    K = getrandbits(4)\n",
    "    Y = S[X ^ K]\n",
    "    K1K4 = dot(X, alpha) ^ dot(Y, beta)\n",
    "    t += K1K4 == get_bit(K, 0, 4) ^ get_bit(K, 3, 4) # Increment if true\n",
    "    \n",
    "print(t / tries) # clearly a bias and not random"
   ]
  },
  {
   "cell_type": "code",
   "execution_count": 14,
   "metadata": {},
   "outputs": [
    {
     "name": "stdout",
     "output_type": "stream",
     "text": [
      "LAT entry:  0.0\n",
      "0.488\n"
     ]
    }
   ],
   "source": [
    "# Let's look at an entry equal to 0\n",
    "alpha = 1\n",
    "beta = 0\n",
    "print(\"LAT entry: \", lat[alpha][beta])\n",
    "\n",
    "t = 0\n",
    "tries = 1000\n",
    "for _ in range(tries):\n",
    "    X = getrandbits(4)\n",
    "    K = getrandbits(4)\n",
    "    Y = S[X ^ K]\n",
    "    K1K4 = dot(X, alpha) ^ dot(Y, beta)\n",
    "    t += K1K4 == get_bit(K, 0, 4) ^ get_bit(K, 3, 4) # Increment if true\n",
    "    \n",
    "print(t / tries) # close to .5 thus random"
   ]
  },
  {
   "attachments": {
    "2c3d0921-ed40-43db-bee1-26cb5e1e3536.png": {
     "image/png": "[encoded data removed]"
    }
   },
   "cell_type": "markdown",
   "metadata": {},
   "source": [
    "Let's walk through another example. This one is taken from \"Block cipher companion\":\n",
    "![image.png](attachment:2c3d0921-ed40-43db-bee1-26cb5e1e3536.png)"
   ]
  },
  {
   "cell_type": "markdown",
   "metadata": {},
   "source": [
    "Let \n",
    "- $\\alpha$ be the mask for $m$\n",
    "- $\\beta$ be the mask for $c$\n",
    "\n",
    "If we play with the equations we get\n",
    "- $\\alpha \\cdot m = \\alpha \\cdot k_0 \\oplus \\alpha \\cdot u$ - always  (1)  \n",
    "- $\\alpha \\cdot u = \\beta \\cdot v$ - with probability $p$  (2)  \n",
    "- $\\beta \\cdot v = \\beta \\cdot k_1 \\oplus \\beta \\cdot c$ - always  (3)  \n",
    "\n",
    "By equating (1) with (3) through (2)\n",
    "- $\\alpha \\cdot m \\oplus \\alpha \\cdot k_0 = \\beta \\cdot k_1 \\oplus \\beta \\cdot c \\iff \\\\ \n",
    "\\alpha \\cdot m \\oplus \\beta \\cdot c = \\alpha \\cdot k_0 \\oplus \\beta \\cdot k_1$\n",
    "- On the left we have $m, c$ and on the right $k_0, k_1$"
   ]
  },
  {
   "cell_type": "code",
   "execution_count": 15,
   "metadata": {},
   "outputs": [
    {
     "name": "stdout",
     "output_type": "stream",
     "text": [
      "LAT entry:  -6.0\n",
      "0.864\n"
     ]
    }
   ],
   "source": [
    "S = [0xf, 0xe, 0xb, 0xc, 0x6, 0xd, 0x7, 0x8, 0x0, 0x3, 0x9, 0xa, 0x4, 0x2, 0x1, 0x5]\n",
    "lat = linear_approximation_table(S, 4)\n",
    "\n",
    "alpha = 0b1001\n",
    "beta = 0b0010\n",
    "print(\"LAT entry: \", lat[alpha][beta])\n",
    "\n",
    "t = 0\n",
    "tries = 1000\n",
    "for _ in range(tries):\n",
    "    m = getrandbits(4)\n",
    "    k0 = getrandbits(4)\n",
    "    k1 = getrandbits(4)\n",
    "\n",
    "    u = m ^ k0\n",
    "    v = S[u]\n",
    "    c = v ^ k1\n",
    "    \n",
    "    # lat[alpha][beta] = -6 => we xor with 1\n",
    "    t += dot(m, alpha) ^ dot(c, beta) ^ 1 == dot(k0, alpha) ^ dot(k1, beta)\n",
    "    \n",
    "print(t / tries) # clearly biased"
   ]
  },
  {
   "cell_type": "markdown",
   "metadata": {},
   "source": [
    "## Adding more SBoxes"
   ]
  },
  {
   "attachments": {
    "0a5d302c-7ba9-4686-ada4-644f7915aaf3.png": {
     "image/png": "[encoded data removed]"
    }
   },
   "cell_type": "markdown",
   "metadata": {},
   "source": [
    "Consider the following scenario: \n",
    "![image.png](attachment:0a5d302c-7ba9-4686-ada4-644f7915aaf3.png)"
   ]
  },
  {
   "cell_type": "markdown",
   "metadata": {},
   "source": [
    "$\\alpha \\cdot X \\oplus \\kappa \\cdot K = \\beta \\cdot Y \\\\\n",
    "\\beta \\cdot y \\oplus \\kappa' \\cdot K' = \\gamma \\cdot z$\n",
    "\n",
    "For this to work we need $\\kappa' = \\beta$. Otherwise we use other bits that we don't know anything about. Rewriting:\n",
    "\n",
    "$\\alpha \\cdot X \\oplus \\kappa \\cdot K = \\beta \\cdot Y \\\\\n",
    "\\beta \\cdot y \\oplus \\beta \\cdot K' = \\gamma \\cdot z$\n",
    "\n",
    "Get some good masks from the table. Equating:\n",
    "\n",
    "$X_1 \\oplus X_4 \\oplus K_1 \\oplus K_4 \\oplus K'_4 = Z_2 \\oplus Z_4 \\iff \\\\\n",
    "X_1 \\oplus X_4 \\oplus Z_2 \\oplus Z_4 = K_1 \\oplus K_4 \\oplus K'_4$"
   ]
  },
  {
   "cell_type": "code",
   "execution_count": 16,
   "metadata": {},
   "outputs": [
    {
     "name": "stdout",
     "output_type": "stream",
     "text": [
      "LAT entry alpha beta:  4.0\n",
      "LAT entry beta gamma:  -4.0\n",
      "0.372\n"
     ]
    }
   ],
   "source": [
    "S = [12, 5, 6, 11, 9, 0, 10, 13, 3, 14, 15, 8, 4, 7, 1, 2]\n",
    "lat = linear_approximation_table(S, 4)\n",
    "\n",
    "alpha = 0b1001\n",
    "kappa = alpha\n",
    "beta = 0b0001\n",
    "gamma = 0b0101\n",
    "print(\"LAT entry alpha beta: \", lat[alpha][beta])\n",
    "print(\"LAT entry beta gamma: \", lat[beta][gamma])\n",
    "\n",
    "t = 0\n",
    "tries = 1000\n",
    "for _ in range(tries):\n",
    "    X = getrandbits(4)\n",
    "    K = getrandbits(4)\n",
    "    K_ = getrandbits(4)\n",
    "\n",
    "    Y = S[X ^ K]\n",
    "    Z = S[Y ^ K_]\n",
    "    \n",
    "    # lat[alpha][beta] = -6 => we xor with 1\n",
    "    t += dot(X, alpha) ^ dot(Z, gamma) == dot(K, alpha) ^ dot(K_, beta)\n",
    "    \n",
    "print(t / tries) # clearly biased"
   ]
  },
  {
   "cell_type": "markdown",
   "metadata": {},
   "source": [
    "### Pilling up lemma"
   ]
  },
  {
   "cell_type": "markdown",
   "metadata": {},
   "source": [
    "The next question arises: If we know the bias of each Sbox approximation, what is the bias of the whole picture? How can we find it?"
   ]
  },
  {
   "cell_type": "code",
   "execution_count": 17,
   "metadata": {},
   "outputs": [
    {
     "name": "stdout",
     "output_type": "stream",
     "text": [
      "0.75 0.25\n"
     ]
    }
   ],
   "source": [
    "# Consider the probabilities\n",
    "p1 = count_matches(alpha, beta, S, 4) / (1<<4)\n",
    "p2 = count_matches(beta, gamma, S, 4) / (1<<4)\n",
    "print(p1, p2)"
   ]
  },
  {
   "cell_type": "markdown",
   "metadata": {},
   "source": [
    "The approximation is correct if both are \"wrong\" or \"correct\". Assuming independence: \n",
    "$p = \\underbrace{p_1 \\cdot p_2}_{\\text{correct}} + \\underbrace{(1 - p_1) \\cdot (1 - p_2)}_{\\text{wrong}} \\iff \\\\\n",
    "p = \\dfrac 1 2 + 2 \\cdot \\epsilon_1 \\cdot \\epsilon_2$"
   ]
  },
  {
   "cell_type": "code",
   "execution_count": 18,
   "metadata": {},
   "outputs": [
    {
     "name": "stdout",
     "output_type": "stream",
     "text": [
      "0.375\n"
     ]
    }
   ],
   "source": [
    "p = p1 * p2 + (1 - p1) * (1 - p2)\n",
    "print(p) # Notice that is around what we calculated above\n"
   ]
  },
  {
   "cell_type": "markdown",
   "metadata": {},
   "source": [
    "**The pilling up lemma**\n",
    "> Let $X_i$  be **independent** boolean expressions with $p_i = P[X_i = 0] = \\dfrac 1 2 + \\epsilon_i$ we have the following probability:\n",
    "$$P[X_1 \\oplus \\dots \\oplus X_n = 0] = \\dfrac 1 2 + 2^{n-1}\\prod_{i=1}^n \\epsilon_i$$\n",
    "> Or in bias terms\n",
    "> $$\\epsilon_{1,...,n} = 2^{n-1}\\prod_{i=1}^n \\epsilon_i$$\n",
    "\n",
    "\n",
    "- https://en.wikipedia.org/wiki/Piling-up_lemma\n",
    "\n",
    "**Remark**\n",
    "- Lemma holds, in general, only when random variables are **independent**"
   ]
  },
  {
   "cell_type": "code",
   "execution_count": 19,
   "metadata": {},
   "outputs": [],
   "source": [
    "def pilling_up_lemma(eps_list):\n",
    "    n = len(eps_list)\n",
    "    return 2**(n-1) * np.prod(eps_list)"
   ]
  },
  {
   "cell_type": "code",
   "execution_count": 20,
   "metadata": {},
   "outputs": [
    {
     "name": "stdout",
     "output_type": "stream",
     "text": [
      "0.25 -0.25\n"
     ]
    },
    {
     "data": {
      "text/plain": [
       "0.375"
      ]
     },
     "execution_count": 20,
     "metadata": {},
     "output_type": "execute_result"
    }
   ],
   "source": [
    "eps1 = p1 - 1/2\n",
    "eps2 = p2 - 1/2\n",
    "print(eps1, eps2)\n",
    "\n",
    "p_ = 1 / 2 + 2**1 * np.prod([eps1, eps2])\n",
    "p_ # It's the same as above"
   ]
  },
  {
   "cell_type": "markdown",
   "metadata": {},
   "source": [
    "## Recovering the key"
   ]
  },
  {
   "cell_type": "markdown",
   "metadata": {},
   "source": [
    "### Matsui 1"
   ]
  },
  {
   "cell_type": "markdown",
   "metadata": {},
   "source": [
    "This algorithm will give 1 bit of information about the key per linear approximation. Assume we have $\\alpha \\cdot X \\oplus \\beta \\cdot Y \\oplus \\kappa \\cdot K = 0$ with a positive bias (this means the equation is correct most times)\n",
    "\n",
    "**Algorithm:**\n",
    "\n",
    "Input:\n",
    "- Many Ciphertext / Plaintext pairs\n",
    "\n",
    "Let\n",
    "- $T_0, T_1$ - 2 counters\n",
    "\n",
    "- For each pair $(M_i, C_i)$\n",
    "    - if $\\alpha \\cdot M_i \\oplus \\beta \\cdot C_i = 0$ then $T_0++$\n",
    "    - if $\\alpha \\cdot M_i \\oplus \\beta \\cdot C_i = 1$ then $T_1++$\n",
    "\n",
    "- We learn the following\n",
    "    - If $T_0 > T_1 \\Rightarrow \\kappa \\cdot K = 0$\n",
    "    - If $T_1 > T_0 \\Rightarrow \\kappa \\cdot K = 1$\n",
    "\n",
    "\n",
    "**Cons**\n",
    "- Needs approx of all rounds\n",
    "- Needs several approximations\n",
    "- Learns only 1 bit of information. We need more equations to get more bits\n",
    "\n",
    "\n",
    "**Remark**\n",
    "- We need around $\\dfrac 1 { \\epsilon^2}$ messages"
   ]
  },
  {
   "cell_type": "code",
   "execution_count": 21,
   "metadata": {},
   "outputs": [],
   "source": [
    "def matsui1(M_list, C_list, alpha, beta):\n",
    "    T0, T1 = 0, 0\n",
    "    for m, c in zip(M_list, C_list):\n",
    "        if dot(m, alpha) ^ dot(c, beta) == 0:\n",
    "            T0+=1\n",
    "        else:\n",
    "            T1+=1\n",
    "    if T0 > T1:\n",
    "        return 0\n",
    "    else:\n",
    "        return 1"
   ]
  },
  {
   "cell_type": "code",
   "execution_count": 22,
   "metadata": {},
   "outputs": [],
   "source": [
    "# Going back to our first example\n",
    "S = [12, 5, 6, 11, 9, 0, 10, 13, 3, 14, 15, 8, 4, 7, 1, 2]\n",
    "lat = linear_approximation_table(S, 4)\n",
    "\n",
    "K = getrandbits(4)\n",
    "N = 1000\n",
    "\n",
    "M_list = []\n",
    "C_list = []\n",
    "# Generate messages\n",
    "for _ in range(N):\n",
    "    M = getrandbits(4)\n",
    "    C = S[M ^ K]\n",
    "    M_list.append(M)\n",
    "    C_list.append(C)"
   ]
  },
  {
   "cell_type": "code",
   "execution_count": 23,
   "metadata": {},
   "outputs": [
    {
     "name": "stdout",
     "output_type": "stream",
     "text": [
      "LAT entry:  4.0\n"
     ]
    }
   ],
   "source": [
    "alpha = 0b1001 # 9\n",
    "beta = 0b0001 # 1\n",
    "print(\"LAT entry: \", lat[alpha][beta])"
   ]
  },
  {
   "cell_type": "code",
   "execution_count": 24,
   "metadata": {},
   "outputs": [],
   "source": [
    "K1K4 = dot(K, alpha)"
   ]
  },
  {
   "cell_type": "code",
   "execution_count": 25,
   "metadata": {},
   "outputs": [
    {
     "data": {
      "text/plain": [
       "True"
      ]
     },
     "execution_count": 25,
     "metadata": {},
     "output_type": "execute_result"
    }
   ],
   "source": [
    "matsui1(M_list, C_list, alpha, beta) == K1K4 # True"
   ]
  },
  {
   "attachments": {
    "63985984-7e2f-4cfd-b119-ff6ab5021f7c.png": {
     "image/png": "[encoded data removed]"
    }
   },
   "cell_type": "markdown",
   "metadata": {},
   "source": [
    "Let's look at this example from \"The block cipher companion\":\n",
    "![image.png](attachment:63985984-7e2f-4cfd-b119-ff6ab5021f7c.png)"
   ]
  },
  {
   "cell_type": "code",
   "execution_count": 26,
   "metadata": {},
   "outputs": [],
   "source": [
    "# Generate some ciphertext key pairs\n",
    "S = [0xf, 0xe, 0xb, 0xc, 0x6, 0xd, 0x7, 0x8, 0x0, 0x3, 0x9, 0xa, 0x4, 0x2, 0x1, 0x5]\n",
    "lat = linear_approximation_table(S, 4)\n",
    "\n",
    "M_list, C_list = [], []\n",
    "N = 100\n",
    "\n",
    "k0 = getrandbits(4)\n",
    "k1 = getrandbits(4)\n",
    "k2 = getrandbits(4)\n",
    "\n",
    "for _ in range(N):\n",
    "    m = getrandbits(4)\n",
    "    c = S[S[m ^ k0]^ k1]^ k2\n",
    "    M_list.append(m)\n",
    "    C_list.append(c)"
   ]
  },
  {
   "cell_type": "code",
   "execution_count": 27,
   "metadata": {},
   "outputs": [
    {
     "name": "stdout",
     "output_type": "stream",
     "text": [
      "-6.0\n",
      "True\n"
     ]
    }
   ],
   "source": [
    "# alpha1 -> S -> alpha2 -> S -> alpha3\n",
    "\n",
    "# looking at the LAT we see\n",
    "print(lat[0xd][0xd]) # -6\n",
    "# Therefore we can use \n",
    "alpha1 = alpha2 = alpha3 = 0xd\n",
    "\n",
    "# Attacking\n",
    "print(matsui1(M_list, C_list, alpha1, alpha3) == dot(k0, alpha1) ^ dot(k1, alpha2) ^ dot(k2, alpha3))"
   ]
  },
  {
   "cell_type": "markdown",
   "metadata": {},
   "source": [
    "### Matsui 2"
   ]
  },
  {
   "attachments": {
    "23996b9c-514b-4d56-ad65-a4468f5b53d9.png": {
     "image/png": "[encoded data removed]"
    }
   },
   "cell_type": "markdown",
   "metadata": {},
   "source": [
    "What the first algorithm didn't exploit was how strong the bias is (how different is from 0)\n",
    "\n",
    "Assume we have an approximation to the first few rounds => we have a bias $\\epsilon$ and a lot of message-ciphertext pairs. \n",
    "- We can brute force more key bits and decrypt to the bias-known round => $C'$\n",
    "- If $\\alpha \\cdot M =  \\beta \\cdot C'$ increase $T_0$ else increase $T_1$\n",
    "- The right key will behave similar to the bias. \n",
    "    - If we chose a large positive bias then $T_0 \\gg T_1$ or reverse\n",
    "    \n",
    "![image.png](attachment:23996b9c-514b-4d56-ad65-a4468f5b53d9.png)"
   ]
  },
  {
   "attachments": {
    "22d8ca02-3142-40b1-b047-c2586430a5e6.png": {
     "image/png": "[encoded data removed]"
    }
   },
   "cell_type": "markdown",
   "metadata": {},
   "source": [
    "Consider the following cipher from The block cipher companion:\n",
    "![image.png](attachment:22d8ca02-3142-40b1-b047-c2586430a5e6.png)"
   ]
  },
  {
   "cell_type": "code",
   "execution_count": 28,
   "metadata": {},
   "outputs": [],
   "source": [
    "# Generate some ciphertext key pairs\n",
    "S = [0xf, 0xe, 0xb, 0xc, 0x6, 0xd, 0x7, 0x8, 0x0, 0x3, 0x9, 0xa, 0x4, 0x2, 0x1, 0x5]\n",
    "lat = linear_approximation_table(S, 4)\n",
    "\n",
    "M_list, C_list = [], []\n",
    "N = 1000\n",
    "\n",
    "k0 = getrandbits(4)\n",
    "k1 = getrandbits(4)\n",
    "k2 = getrandbits(4)\n",
    "k3 = getrandbits(4)\n",
    "\n",
    "for _ in range(N):\n",
    "    m = getrandbits(4)\n",
    "    c = S[S[S[m ^ k0]^ k1]^ k2] ^ k3\n",
    "    M_list.append(m)\n",
    "    C_list.append(c)"
   ]
  },
  {
   "cell_type": "code",
   "execution_count": 29,
   "metadata": {},
   "outputs": [
    {
     "name": "stdout",
     "output_type": "stream",
     "text": [
      "[[ 8.  0.  0.  0.  0.  0.  0.  0.  0.  0.  0.  0.  0.  0.  0.  0.]\n",
      " [ 0. -2.  0.  2.  0. -2.  4. -2.  2.  4.  2.  0. -2.  0.  2.  0.]\n",
      " [ 0.  2. -2.  0. -2.  0.  0.  2.  2.  4.  0.  2.  4. -2. -2.  0.]\n",
      " [ 0.  4.  2.  2. -2.  2.  0.  0.  0.  0.  2. -2. -2. -2.  0.  4.]\n",
      " [ 0.  0. -2.  2.  2. -2.  0.  0. -4.  0.  2.  2.  2.  2.  0.  4.]\n",
      " [ 0. -2.  2.  0.  2.  4.  0.  2. -2.  4.  0. -2.  0.  2. -2.  0.]\n",
      " [ 0. -2.  0.  2.  0.  2.  4.  2.  2. -4.  2.  0.  2.  0. -2.  0.]\n",
      " [ 0.  0.  0.  0.  0.  4.  0. -4.  0.  0.  0.  0.  4.  0.  4.  0.]\n",
      " [ 0.  0. -2.  2. -4.  0.  2.  2. -4.  0. -2. -2.  0.  0.  2. -2.]\n",
      " [ 0. -2. -6.  0.  0.  2. -2.  0.  2.  0.  0. -2. -2.  0.  0.  2.]\n",
      " [ 0. -2.  0. -6. -2.  0.  2.  0. -2.  0.  2.  0.  0. -2.  0.  2.]\n",
      " [ 0.  0.  0.  0.  2. -2.  2. -2.  0.  0. -4. -4.  2. -2. -2.  2.]\n",
      " [ 0.  0.  0.  0. -2. -2. -2. -2.  0.  0.  4. -4.  2.  2. -2. -2.]\n",
      " [ 0. -2.  0.  2.  2.  0. -2.  0. -2.  0.  2.  0.  0. -6.  0. -2.]\n",
      " [ 0.  2. -2.  0.  0.  2.  2. -4. -2.  0.  0.  2. -2.  0. -4. -2.]\n",
      " [ 0. -4.  2.  2. -4.  0. -2. -2.  0.  0. -2.  2.  0.  0. -2.  2.]]\n"
     ]
    }
   ],
   "source": [
    "print(np.matrix(lat))"
   ]
  },
  {
   "cell_type": "code",
   "execution_count": 30,
   "metadata": {},
   "outputs": [],
   "source": [
    "# alpha1 - alpha 2 -> 1st Sbox\n",
    "# alpha2 - alpha3 -> 2nd Sbox\n",
    "# alpha3 - alpha4 - > 3rd Sbox\n",
    "\n",
    "alpha1 = 0b1001 # 9\n",
    "alpha2 = 0b0010 # 2\n",
    "alpha3 = 0b1001 # 9\n",
    "alpha4 = 0b0010 # 2\n",
    "\n",
    "# or\n",
    "\n",
    "alpha1 = alpha2 = alpha3 = alpha4 = 0xd"
   ]
  },
  {
   "cell_type": "code",
   "execution_count": 31,
   "metadata": {},
   "outputs": [
    {
     "name": "stdout",
     "output_type": "stream",
     "text": [
      "-0.375 -0.375 -0.375\n"
     ]
    }
   ],
   "source": [
    "eps1 = count_matches(alpha1, alpha2, S, 4) / (1<<4) - 1/2\n",
    "eps2 = count_matches(alpha2, alpha3, S, 4) / (1<<4) - 1/2\n",
    "eps3 = count_matches(alpha3, alpha4, S, 4) / (1<<4) - 1/2\n",
    "print(eps1, eps2, eps3)\n"
   ]
  },
  {
   "cell_type": "code",
   "execution_count": 32,
   "metadata": {},
   "outputs": [
    {
     "name": "stdout",
     "output_type": "stream",
     "text": [
      "0.28125\n",
      "0.78125\n"
     ]
    }
   ],
   "source": [
    "eps = pilling_up_lemma([eps1, eps2])\n",
    "print(eps)\n",
    "p = eps + 1/2\n",
    "print(p) # Therefore we expect `p` correct cases"
   ]
  },
  {
   "cell_type": "code",
   "execution_count": 33,
   "metadata": {},
   "outputs": [
    {
     "data": {
      "text/plain": [
       "12.641975308641975"
      ]
     },
     "execution_count": 33,
     "metadata": {},
     "output_type": "execute_result"
    }
   ],
   "source": [
    "1/eps**2"
   ]
  },
  {
   "cell_type": "code",
   "execution_count": 34,
   "metadata": {},
   "outputs": [],
   "source": [
    "def matsui2(M_list, C_list, alpha, beta, S_, key_bits = 4):\n",
    "    \"\"\"\n",
    "    Does R-1 key attack\n",
    "    Input:\n",
    "        M_list: {list} -- messages\n",
    "        C_list: {list} -- ciphertext\n",
    "        alpha: {int} -- input mask\n",
    "        beta: {int} -- penultimate round mask\n",
    "        S_: {list} -- Sbox INVERSE\n",
    "        key_bits: {int}, default=4 -- number of key bits to search through\n",
    "        \n",
    "    Return:\n",
    "    {list} -- list of differences. Take the max difference for the key\n",
    "    \"\"\"\n",
    "    t_diffs = []\n",
    "    for k in range(1<<key_bits): # Iterate through possible keys\n",
    "        t0, t1 = 0, 0\n",
    "        for m, c in zip(M_list, C_list):\n",
    "            # Reverse one round\n",
    "            c_ = c ^ k\n",
    "            c_ = S_[c_]\n",
    "            # Check if the statement is correct\n",
    "            if dot(m, alpha) == dot(c_, beta) :\n",
    "                t0+=1\n",
    "            else:\n",
    "                t1+=1\n",
    "        print(t0, t1)\n",
    "        t_diffs.append(t0 - t1)\n",
    "    return t_diffs"
   ]
  },
  {
   "cell_type": "code",
   "execution_count": 35,
   "metadata": {},
   "outputs": [
    {
     "data": {
      "text/plain": [
       "8"
      ]
     },
     "execution_count": 35,
     "metadata": {},
     "output_type": "execute_result"
    }
   ],
   "source": [
    "k3"
   ]
  },
  {
   "cell_type": "code",
   "execution_count": 36,
   "metadata": {},
   "outputs": [
    {
     "name": "stdout",
     "output_type": "stream",
     "text": [
      "123 877\n",
      "748 252\n",
      "249 751\n",
      "755 245\n",
      "773 227\n",
      "112 888\n",
      "769 231\n",
      "239 761\n",
      "888 112\n",
      "227 773\n",
      "761 239\n",
      "231 769\n",
      "252 748\n",
      "877 123\n",
      "245 755\n",
      "751 249\n"
     ]
    }
   ],
   "source": [
    "S_ = inverse_sbox(S)\n",
    "t_diffs = matsui2(M_list, C_list, alpha1, alpha3, S_)"
   ]
  },
  {
   "cell_type": "code",
   "execution_count": 37,
   "metadata": {},
   "outputs": [
    {
     "data": {
      "text/plain": [
       "8"
      ]
     },
     "execution_count": 37,
     "metadata": {},
     "output_type": "execute_result"
    }
   ],
   "source": [
    "np.argmax(t_diffs)"
   ]
  },
  {
   "cell_type": "code",
   "execution_count": 38,
   "metadata": {},
   "outputs": [
    {
     "data": {
      "text/plain": [
       "array([ 8,  5, 13,  0,  9,  4, 11,  6, 10,  7, 14,  3, 15,  2, 12,  1],\n",
       "      dtype=int64)"
      ]
     },
     "execution_count": 38,
     "metadata": {},
     "output_type": "execute_result"
    }
   ],
   "source": [
    "np.argsort(np.abs(t_diffs))[::-1]"
   ]
  },
  {
   "cell_type": "markdown",
   "metadata": {},
   "source": [
    "## Bigger block cipher"
   ]
  },
  {
   "cell_type": "markdown",
   "metadata": {},
   "source": [
    "Let's work on the SPN cipher we defined in the \"Design of block ciphers\" notebook\n"
   ]
  },
  {
   "cell_type": "code",
   "execution_count": null,
   "metadata": {},
   "outputs": [],
   "source": [
    "# Substitute and permute\n",
    "\n",
    "def substitute(x, sbox, l):\n",
    "    \"\"\"\n",
    "    Takes a 2**n bit number x and substitutes n-bit parts according to the n-bit sbox\n",
    "    Arguments\n",
    "        x: {int} --  input number of size 2**n bits\n",
    "        sbox: {Sbox} -- Sbox with input entries of size n bits\n",
    "        l: {int} -- Sbox input size in bits\n",
    "    Returns \n",
    "        {int} -- output sboxed\n",
    "    \"\"\"\n",
    "    word_size = 1 << l\n",
    "    mask = (1<<l) - 1\n",
    "    y = 0\n",
    "    for i in range(0, word_size, l): # Steps of n-bits\n",
    "        y  = y << l # Shift 'l' positions to make space for l-bit sbox number\n",
    "        idx = (x >> (word_size - i - l)) & mask # Get n-bit index in the sbox\n",
    "        y = y | sbox[idx] # \"append\" the bit from x\n",
    "    return y\n",
    "        \n",
    "        \n",
    "def permute(x, pbox, n):\n",
    "    \"\"\"\n",
    "    Takes a n-bit int x and permutes the bits from it according to the pbox\n",
    "    Arguments\n",
    "        x: {int}  -- n-bit int\n",
    "        pbox: {list} -- list of integers of length n\n",
    "    Return: \n",
    "        {int}\n",
    "    \"\"\"\n",
    "    y = 0\n",
    "    for p in pbox:\n",
    "        y = y << 1 # shift to make space for LSB \n",
    "        y = y ^ get_bit(x, p, n) # \"append\" the p'th bit from x\n",
    "    return y\n",
    "\n",
    "\n",
    "class SPN:\n",
    "    def __init__(self, sbox, pbox, block_size = 16, sbox_input_size = 4):\n",
    "        self.sbox = sbox\n",
    "        self.sbox_ = inverse_sbox(sbox)\n",
    "        self.pbox = pbox\n",
    "        self.block_size = block_size\n",
    "        self.l = sbox_input_size\n",
    "        \n",
    "    def key_schedule(self, k):\n",
    "        return [k >> i * 4 & 0xffff for i in range(4, -1, -1)]\n",
    "\n",
    "    def encrypt(self, m: int, k: int) -> int:\n",
    "        ks = self.key_schedule(k)\n",
    "        \n",
    "        w = m\n",
    "        for i in range(len(ks) - 2):\n",
    "            u = w ^ ks[i]\n",
    "            v = substitute(u, self.sbox, self.l)\n",
    "            w = permute(v, self.pbox, self.block_size)\n",
    "            \n",
    "        u = w ^ ks[-2] \n",
    "        v = substitute(u, S, self.l)\n",
    "        y = v ^ ks[-1]\n",
    "        \n",
    "        return y\n",
    "    \n",
    "    \n",
    "    def decrypt(self, c: int, k: int) -> int:\n",
    "        \n",
    "        ks = self.key_schedule(k)\n",
    "        \n",
    "        v = ks[-1] ^ c\n",
    "        u = substitute(v, self.sbox_, self.l)\n",
    "        w = ks[-2] ^ u\n",
    "        \n",
    "        for ki in ks[::-1][2:]:\n",
    "            v = permute(w, self.pbox, self.block_size)\n",
    "            u = substitute(v, self.sbox_, self.l)\n",
    "            w = u ^ ki\n",
    "        return w"
   ]
  },
  {
   "attachments": {
    "a6460389-beb4-4179-a5c3-05059c5f91b4.png": {
     "image/png": "[encoded data removed]"
    }
   },
   "cell_type": "markdown",
   "metadata": {},
   "source": [
    "We shall follow this path\n",
    "\n",
    "![image.png](attachment:a6460389-beb4-4179-a5c3-05059c5f91b4.png)"
   ]
  },
  {
   "cell_type": "code",
   "execution_count": 53,
   "metadata": {},
   "outputs": [],
   "source": [
    "#Sbox and Pbox\n",
    "S = [14, 4, 13, 1, 2, 15, 11, 8, 3, 10, 6, 12, 5, 9, 0, 7]\n",
    "S_ = inverse_sbox(S)\n",
    "P = [0, 4, 8, 12, 1, 5, 9, 13, 2, 6, 10, 14, 3, 7, 11, 15]"
   ]
  },
  {
   "cell_type": "code",
   "execution_count": 41,
   "metadata": {},
   "outputs": [],
   "source": [
    "lat = linear_approximation_table(S, 4)"
   ]
  },
  {
   "cell_type": "code",
   "execution_count": 42,
   "metadata": {},
   "outputs": [
    {
     "name": "stdout",
     "output_type": "stream",
     "text": [
      "[[ 8.  0.  0.  0.  0.  0.  0.  0.  0.  0.  0.  0.  0.  0.  0.  0.]\n",
      " [ 0.  0. -2. -2.  0.  0. -2.  6.  2.  2.  0.  0.  2.  2.  0.  0.]\n",
      " [ 0.  0. -2. -2.  0.  0. -2. -2.  0.  0.  2.  2.  0.  0. -6.  2.]\n",
      " [ 0.  0.  0.  0.  0.  0.  0.  0.  2. -6. -2. -2.  2.  2. -2. -2.]\n",
      " [ 0.  2.  0. -2. -2. -4. -2.  0.  0. -2.  0.  2.  2. -4.  2.  0.]\n",
      " [ 0. -2. -2.  0. -2.  0.  4.  2. -2.  0. -4.  2.  0. -2. -2.  0.]\n",
      " [ 0.  2. -2.  4.  2.  0.  0.  2.  0. -2.  2.  4. -2.  0.  0. -2.]\n",
      " [ 0. -2.  0.  2.  2. -4.  2.  0. -2.  0.  2.  0.  4.  2.  0.  2.]\n",
      " [ 0.  0.  0.  0.  0.  0.  0.  0. -2.  2.  2. -2.  2. -2. -2. -6.]\n",
      " [ 0.  0. -2. -2.  0.  0. -2. -2. -4.  0. -2.  2.  0.  4.  2. -2.]\n",
      " [ 0.  4. -2.  2. -4.  0.  2. -2.  2.  2.  0.  0.  2.  2.  0.  0.]\n",
      " [ 0.  4.  0. -4.  4.  0.  4.  0.  0.  0.  0.  0.  0.  0.  0.  0.]\n",
      " [ 0. -2.  4. -2. -2.  0.  2.  0.  2.  0.  2.  4.  0.  2.  0. -2.]\n",
      " [ 0.  2.  2.  0. -2.  4.  0.  2. -4. -2.  2.  0.  2.  0.  0.  2.]\n",
      " [ 0.  2.  2.  0. -2. -4.  0.  2. -2.  0.  0. -2. -4.  2. -2.  0.]\n",
      " [ 0. -2. -4. -2. -2.  0.  2.  0.  0. -2.  4. -2. -2.  0.  2.  0.]]\n"
     ]
    }
   ],
   "source": [
    "print(np.matrix(lat))"
   ]
  },
  {
   "cell_type": "code",
   "execution_count": 34,
   "metadata": {},
   "outputs": [],
   "source": [
    "alpha0 = 0b1011\n",
    "alpha1 = 0b0100\n",
    "alpha2 = 0b0101"
   ]
  },
  {
   "cell_type": "code",
   "execution_count": 38,
   "metadata": {},
   "outputs": [
    {
     "name": "stdout",
     "output_type": "stream",
     "text": [
      "0.25 -0.25 -0.25 -0.25\n"
     ]
    }
   ],
   "source": [
    "eps1 = count_matches(alpha0, alpha1, S, 4) / (1<<4) - 1/2\n",
    "eps2 = count_matches(alpha1, alpha2, S, 4) / (1<<4) - 1/2\n",
    "eps3 = count_matches(alpha1, alpha2, S, 4) / (1<<4) - 1/2\n",
    "eps4 = count_matches(alpha1, alpha2, S, 4) / (1<<4) - 1/2\n",
    "print(eps1, eps2, eps3, eps4)"
   ]
  },
  {
   "cell_type": "code",
   "execution_count": 115,
   "metadata": {},
   "outputs": [
    {
     "name": "stdout",
     "output_type": "stream",
     "text": [
      "-0.03125\n",
      "1024.0\n"
     ]
    }
   ],
   "source": [
    "eps = pilling_up_lemma([eps1, eps2, eps3, eps4])\n",
    "print(eps)\n",
    "print(1/eps**2)"
   ]
  },
  {
   "cell_type": "code",
   "execution_count": 132,
   "metadata": {},
   "outputs": [],
   "source": [
    "def matsui2_big(M_list, C_list, alpha, beta, S_, key_bits = 8):\n",
    "    \"\"\"\n",
    "    Does R-1 key attack\n",
    "    Input:\n",
    "        M_list: {list} -- messages\n",
    "        C_list: {list} -- ciphertext\n",
    "        alpha: {int} -- input mask\n",
    "        beta: {int} -- penultimate round mask\n",
    "        S_: {list} -- Sbox INVERSE\n",
    "        key_bits: {int}, default=4 -- number of key bits to search through\n",
    "        \n",
    "    Return:\n",
    "    {list} -- list of differences. Take the max difference for the key\n",
    "    \"\"\"\n",
    "    t_diffs = []\n",
    "    for k in range(1<<key_bits): # Iterate through possible keys\n",
    "        k1, k2 = (k>>4) & 0xf, k & 0xf \n",
    "        t0, t1 = 0, 0\n",
    "        for m, c in zip(M_list, C_list):\n",
    "            # Reverse one round\n",
    "            c_ = c ^ (k1 << 8) ^ k2\n",
    "            c_ = substitute(c_, S_, 4)\n",
    "            # Check if the statement is correct\n",
    "            if dot(m, alpha) == dot(c_, beta):\n",
    "                t0+=1\n",
    "            else:\n",
    "                t1+=1\n",
    "        #print(t0, t1)\n",
    "        t_diffs.append(t0 - t1)\n",
    "    return t_diffs"
   ]
  },
  {
   "cell_type": "code",
   "execution_count": 133,
   "metadata": {},
   "outputs": [],
   "source": [
    "# Generate (m, c) pairs\n",
    "\n",
    "spn = SPN(S, P)\n",
    "K = getrandbits(48)\n",
    "Ks = spn.key_schedule(K)\n",
    "\n",
    "N = 10000\n",
    "M_list = []\n",
    "C_list = []\n",
    "for _ in range(N):\n",
    "    m = getrandbits(16)\n",
    "    c = spn.encrypt(m, K)\n",
    "    M_list.append(m)\n",
    "    C_list.append(c)\n",
    "    \n"
   ]
  },
  {
   "cell_type": "code",
   "execution_count": 134,
   "metadata": {},
   "outputs": [],
   "source": [
    "t_diffs = matsui2_big(M_list, C_list, 0x0b00, 0x0505, S_)"
   ]
  },
  {
   "cell_type": "code",
   "execution_count": 135,
   "metadata": {},
   "outputs": [
    {
     "data": {
      "text/plain": [
       "(10, 1)"
      ]
     },
     "execution_count": 135,
     "metadata": {},
     "output_type": "execute_result"
    }
   ],
   "source": [
    "(Ks[-1] & 0xf00) >> 8, Ks[-1] & 0xf"
   ]
  },
  {
   "cell_type": "code",
   "execution_count": 137,
   "metadata": {},
   "outputs": [
    {
     "name": "stdout",
     "output_type": "stream",
     "text": [
      "161 10 1\n"
     ]
    }
   ],
   "source": [
    "kk = np.argsort(np.abs(t_diffs))[::-1]\n",
    "\n",
    "# Take first key\n",
    "for key in kk[:1]:\n",
    "    print(key, (key & 0xf0) >> 4, key & 0xf)"
   ]
  },
  {
   "cell_type": "markdown",
   "metadata": {},
   "source": [
    "## Defense against linear crypntalysis"
   ]
  },
  {
   "cell_type": "code",
   "execution_count": null,
   "metadata": {},
   "outputs": [],
   "source": []
  },
  {
   "cell_type": "markdown",
   "metadata": {},
   "source": [
    "# Resources\n",
    "- https://www.youtube.com/watch?v=RE6xu5THyJA&list=PLfX_2xRB__0OhOzA-rl6kvnLCCtrRoS7x&index=9 - very good explanation\n",
    "- https://www.youtube.com/watch?v=1BU_fG8j51w\n",
    "- http://www.cs.bc.edu/~straubin/crypto2017/heys.pdf\n",
    "- https://marc-stevens.nl/research/mastermath/2015/cryptanalysis_notes_ch8_v1.pdf\n",
    "- The block cipher companion\n",
    "- Cryptography Theory and practice"
   ]
  }
 ],
 "metadata": {
  "kernelspec": {
   "display_name": "Python 3",
   "language": "python",
   "name": "python3"
  },
  "language_info": {
   "codemirror_mode": {
    "name": "ipython",
    "version": 3
   },
   "file_extension": ".py",
   "mimetype": "text/x-python",
   "name": "python",
   "nbconvert_exporter": "python",
   "pygments_lexer": "ipython3",
   "version": "3.9.5"
  }
 },
 "nbformat": 4,
 "nbformat_minor": 4
}
