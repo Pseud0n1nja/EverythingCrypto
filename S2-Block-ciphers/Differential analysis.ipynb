{
 "cells": [
  {
   "cell_type": "code",
   "execution_count": 1,
   "id": "c76b885d-95b3-42ff-9b63-404499585b38",
   "metadata": {},
   "outputs": [],
   "source": [
    "import pprint\n",
    "\n",
    "import numpy as np\n",
    "from Crypto.Random.random import getrandbits"
   ]
  },
  {
   "cell_type": "markdown",
   "id": "08934629-e7e4-4352-9616-c2372dd18f4a",
   "metadata": {},
   "source": [
    "# Prerequisites\n",
    "-  Block ciphers design"
   ]
  },
  {
   "cell_type": "code",
   "execution_count": 2,
   "id": "3e48236c-5e19-44c6-9742-c39e12f3b27e",
   "metadata": {},
   "outputs": [],
   "source": [
    "def get_bit(x: int, i: int, n: int) -> int:\n",
    "    \"\"\"\n",
    "    Gets the ith bit of an n-bit number\n",
    "    n_bits = 5\n",
    "    x = 0 1 0 1 0\n",
    "    i = 0 1 2 3 4\n",
    "    \"\"\"\n",
    "    return (x >> (n - 1 - i)) & 1\n",
    "\n",
    "\n",
    "def set_bit(x: int, i: int, n: int, b: int) -> int:\n",
    "    \"\"\"\n",
    "    sets the `i`th bit to `b` of an n_bits-bit numebr\n",
    "    \"\"\"\n",
    "    if b == 1:\n",
    "        return x | (1 << (n - 1 - i))\n",
    "    else:\n",
    "        return x & ~int((1 << (n - 1 - i)))\n",
    "\n",
    "\n",
    "def inverse_sbox(S: list) -> list:\n",
    "    \"\"\"\n",
    "    Input:\n",
    "    S: {list} -- sbox\n",
    "    Return\n",
    "    {list} -- the inverse of the sbox\n",
    "    \"\"\"\n",
    "    S_ = [-1] * len(S)\n",
    "    for i, entry in enumerate(S):\n",
    "        S_[entry] = i\n",
    "    return S_"
   ]
  },
  {
   "cell_type": "markdown",
   "id": "2cb7acb1-59d2-4fb8-bbd0-383782a30d6b",
   "metadata": {},
   "source": [
    "# Theory"
   ]
  },
  {
   "cell_type": "markdown",
   "id": "c8bfbe73-cb6a-496e-b633-39a792d70a2a",
   "metadata": {},
   "source": [
    "For this page we denote the following\n",
    "\n",
    "- $M$ is a message\n",
    "- $C$ is a ciphertext\n",
    "- $K$ is a key\n",
    "- greek letters for masks\n",
    "\n",
    "Sometimes we will denote\n",
    "- $X$ - Sbox input\n",
    "- $Y$ - Sbox output"
   ]
  },
  {
   "cell_type": "markdown",
   "id": "85bdc1c8-4fdf-4b83-bda5-5a9e5c0d08cf",
   "metadata": {},
   "source": [
    "*Idea*\n",
    "- We have a message $M$. We change some bits in it. We try to predict the change in ciphertext\n",
    "- The idea is that for each possible input difference of 2 inputs $(M, M')$the output difference of $(C, C')$ should be equally likely. Differential cryptanalysis exploits the fact that it isn't\n",
    "\n",
    "Attack goals\n",
    "- Key recovery\n",
    "- Collision"
   ]
  },
  {
   "cell_type": "markdown",
   "id": "8a8eecaf-e2fc-4155-91a1-c27a6f71a7dc",
   "metadata": {},
   "source": [
    "## Differences"
   ]
  },
  {
   "cell_type": "markdown",
   "id": "1b8966ad-4da4-43b3-9208-599fd44669f5",
   "metadata": {},
   "source": [
    "**Difference - Definition**  \n",
    "Given the bit strings $X$ and $X'$ the difference between them will be denoted with $\\Delta X = X \\oplus X'$. \n",
    "\n",
    "Notation: We denote the input difference with $\\Delta in$ and the output with $\\Delta out$\n",
    "\n",
    "*Main idea*:\n",
    "- We will want to look at the relation between some $\\Delta in$ and some $\\Delta out$. Therefore we want to track the differences.  \n",
    "\n",
    "Therefore differential cryptanalysis is a *chosen plaintext attack* because we will choose some input $X$ and some difference $\\Delta X$ and compute our second input $X' = X \\oplus \\Delta X$"
   ]
  },
  {
   "attachments": {
    "73bf7a62-8ea3-4b12-a9d2-29a7ccd00698.png": {
     "image/png": "[encoded data removed]"
    }
   },
   "cell_type": "markdown",
   "id": "2165e7c4-21ad-4efb-b1f6-111f616fd3d7",
   "metadata": {},
   "source": [
    "![image.png](attachment:73bf7a62-8ea3-4b12-a9d2-29a7ccd00698.png)"
   ]
  },
  {
   "cell_type": "markdown",
   "id": "b37e0fe4-be05-4b0b-becd-4a75a505ad5a",
   "metadata": {},
   "source": [
    "Now let's look at some possible cases\n",
    "\n",
    "**An Sbox $S \\Rightarrow Y = S[X]$**\n",
    "\n",
    "Let $X, X', \\Delta X$ be 2 inputs and the difference between them. Then $$\\Delta Y = Y \\oplus Y' = S[X] \\oplus S[X'] = S[X] \\oplus S[X \\oplus \\Delta X]$$\n",
    "\n",
    "**The difference distribution table - Definition**  \n",
    "For all input differences $\\Delta X$ and all output differences $\\Delta Y$ we can make a table which counts the frequency of an output difference for all inputs pairs $(X, X' = X \\oplus \\Delta X)$\n",
    "- An entry $(\\Delta X, \\Delta Y)$ counts the number of input pairs $(X, X' = X \\oplus \\Delta X)$ that give $\\Delta Y$\n",
    "- The entry is also called a **characteristic** across an sbox $S$\n",
    "\n",
    "**Remark**\n",
    "- Knowing the differences $(\\Delta X, \\Delta Y)$ tells us something about the value\n",
    "    - Not all values can produce these differences\n",
    "    - Only a subset of *solutions*: $\\{X \\ : \\ S(X \\oplus \\Delta X) \\oplus S(X) = \\delta Y\\}$\n",
    "    \n",
    "    "
   ]
  },
  {
   "cell_type": "markdown",
   "id": "56f95949-cb6f-4a4f-91bc-89c8715555b9",
   "metadata": {},
   "source": [
    "**The propagation ratio - Definition**  \n",
    "If we divide by the possible outputs we can represent the **propagation ratio** (probability):\n",
    "$$Pr[\\Delta out = \\Delta Y | \\Delta in = \\Delta X] = \\dfrac {DDT(\\Delta X, \\Delta Y)} {2^l}$$\n",
    "- where $l$ = output size"
   ]
  },
  {
   "cell_type": "markdown",
   "id": "1b2454ec-0570-468c-bfd7-0e26bbfe0ceb",
   "metadata": {},
   "source": [
    "**Properties**\n",
    "- Sum of elements in a row is the number of possible inputs\n",
    "- Sum of elements in a column is the number of possible outputs\n",
    "- All elements are even\n",
    "- $\\Delta X = 0 \\Rightarrow \\Delta Y = 0$ for one-to-one S-boxes\n",
    "\n",
    "**The ideal S-box** => all elements in DDT = 1"
   ]
  },
  {
   "cell_type": "code",
   "execution_count": 26,
   "id": "a2c1bafc-1ef2-485f-b171-1214d110920f",
   "metadata": {},
   "outputs": [],
   "source": [
    "S = [0x2, 0x0, 0x4, 0x3, 0x9, 0x5, 0x6, 0x7, 0x1, 0xD, 0xE, 0xF, 0xA, 0x8, 0xC, 0xB]"
   ]
  },
  {
   "cell_type": "code",
   "execution_count": 27,
   "id": "16b0d3c8-9cb3-42c9-afc6-102841799638",
   "metadata": {},
   "outputs": [],
   "source": [
    "def difference_distribution_table(S: list, l: int = 4) -> list[list[int]]:\n",
    "    \"\"\"\n",
    "    Calculate the difference distribution table of an Sbox S with an input / output size of l\n",
    "    \"\"\"\n",
    "\n",
    "    # A l**2 x l**2 table filled with 0\n",
    "    res = [[0] * l**2 for _ in range(l**2)]\n",
    "\n",
    "    # for each possible difference\n",
    "    for delta_x in range(l**2):\n",
    "        # for each possible input x\n",
    "        for x in range(l**2):\n",
    "            x_ = x ^ delta_x  # compute a possible x\n",
    "            delta_y = S[x] ^ S[x_]  # compute a possible delta_y\n",
    "            res[delta_x][delta_y] += 1  # increment that possibility\n",
    "    return res"
   ]
  },
  {
   "cell_type": "code",
   "execution_count": 28,
   "id": "7aa9ede1-597b-40ef-983e-86f7190dd099",
   "metadata": {},
   "outputs": [
    {
     "name": "stdout",
     "output_type": "stream",
     "text": [
      "[[16  0  0  0  0  0  0  0  0  0  0  0  0  0  0  0]\n",
      " [ 0  4  4  0  0  0  0  4  0  0  0  0  4  0  0  0]\n",
      " [ 0  0  4  4  0  0  4  0  0  0  0  0  0  0  0  4]\n",
      " [ 0  4  0  4  4  0  0  0  0  0  0  0  0  0  4  0]\n",
      " [ 0  0  4  0  4  4  0  0  0  0  0  4  0  0  0  0]\n",
      " [ 0  0  0  4  0  4  0  4  0  4  0  0  0  0  0  0]\n",
      " [ 0  0  0  0  4  0  4  4  0  0  0  0  0  4  0  0]\n",
      " [ 0  4  0  0  0  4  4  0  0  0  4  0  0  0  0  0]\n",
      " [ 0  0  0  4  0  0  0  0  0  0  4  0  4  4  0  0]\n",
      " [ 0  4  0  0  0  0  0  0  0  0  0  4  0  4  0  4]\n",
      " [ 0  0  0  0  0  4  0  0  0  0  0  0  4  0  4  4]\n",
      " [ 0  0  4  0  0  0  0  0  0  4  0  0  0  4  4  0]\n",
      " [ 0  0  0  0  0  0  0  0 16  0  0  0  0  0  0  0]\n",
      " [ 0  0  0  0  4  0  0  0  0  4  4  0  0  0  0  4]\n",
      " [ 0  0  0  0  0  0  0  4  0  0  4  4  0  0  4  0]\n",
      " [ 0  0  0  0  0  0  4  0  0  4  0  4  4  0  0  0]]\n"
     ]
    }
   ],
   "source": [
    "ddt = difference_distribution_table(S)\n",
    "print(np.matrix(ddt))"
   ]
  },
  {
   "cell_type": "code",
   "execution_count": 6,
   "id": "20324d45-a522-416d-a1a4-7cdb846dca5d",
   "metadata": {},
   "outputs": [
    {
     "name": "stdout",
     "output_type": "stream",
     "text": [
      "16\n",
      "True\n"
     ]
    }
   ],
   "source": [
    "# An interesting value  is ddt[c][8] = 16\n",
    "print(ddt[0xC][8])\n",
    "\n",
    "# All diff = 8\n",
    "print(all([S[x] ^ S[x ^ 0xC] == 8 for x in range(1 << 4)]))"
   ]
  },
  {
   "cell_type": "markdown",
   "id": "759c7517-584b-4d94-99e7-e450fc89bca1",
   "metadata": {},
   "source": [
    "## Adding the key"
   ]
  },
  {
   "cell_type": "markdown",
   "id": "fd33b107-1dcf-4fc2-9a09-d3ee2a2b6498",
   "metadata": {},
   "source": [
    "**Influence of the key**\n",
    "- Adding the key does **not** change the difference. This is because the `xor` cancels the key out\n",
    "$$X \\oplus K \\oplus X' \\oplus K = X \\oplus X' = \\Delta X$$"
   ]
  },
  {
   "cell_type": "markdown",
   "id": "6e35bb29-d22b-4d88-98d8-84e43461f7d4",
   "metadata": {},
   "source": [
    "**Linear functions**  \n",
    "If $f:\\mathbb{F}_2 \\to \\mathbb{F}_2$ is an affine function $f(x) = \\underbrace{l(x)}_{\\text{linear part}} \\oplus c$ where $c =$ constant then \n",
    "$$\\Delta Y = \\Delta f(\\Delta X) = l(\\Delta X)$$"
   ]
  },
  {
   "attachments": {
    "f1835a35-1f63-45c6-9919-c97e3931f9b4.png": {
     "image/png": "[encoded data removed]"
    }
   },
   "cell_type": "markdown",
   "id": "acb94939-f4a4-43ae-ade3-36dbb25cd493",
   "metadata": {},
   "source": [
    "Let's work through this example from \"The block cipher companion\"\n",
    "\n",
    "![image.png](attachment:f1835a35-1f63-45c6-9919-c97e3931f9b4.png)"
   ]
  },
  {
   "cell_type": "markdown",
   "id": "230d06ad-2efa-495c-9569-d6b8f3b8a7e7",
   "metadata": {},
   "source": [
    "Consider a pair $(m_0, m_1)$:\n",
    "$\n",
    "u_0 = m_0 \\oplus k_0 \\\\\n",
    "v_0 = S[u_0] \\\\\n",
    "c_0 = v_0 \\oplus k_1 \\\\\n",
    "$\n",
    "\n",
    "$\n",
    "u_1 = m_1 \\oplus k_0 \\\\\n",
    "v_1 = S[u_1] \\\\\n",
    "c_1 = v_1 \\oplus k_1 \\\\\n",
    "$\n",
    "Then we have\n",
    "$$u_0 \\oplus u_1 =  m_0 \\oplus k_0 \\oplus m_1 \\oplus k_0 = m_0 \\oplus m_1 = \\Delta m$$\n",
    "\n",
    "And\n",
    "$$u_0 \\oplus u_1 = S^{-1}[v_0] \\oplus S^{-1}[v_1]$$"
   ]
  },
  {
   "cell_type": "code",
   "execution_count": 23,
   "id": "88700fdf-3485-4bb6-974d-ebdaf0fdf543",
   "metadata": {},
   "outputs": [],
   "source": [
    "def cipher_one(m: int, k0: int, k1: int, S: list) -> int:\n",
    "    u = m ^ k0\n",
    "    v = S[u]\n",
    "    c = v ^ k1\n",
    "    return c"
   ]
  },
  {
   "cell_type": "code",
   "execution_count": 14,
   "id": "d85114ca-9e06-4948-b4f7-477381a232e0",
   "metadata": {},
   "outputs": [
    {
     "name": "stdout",
     "output_type": "stream",
     "text": [
      "[[16  0  0  0  0  0  0  0  0  0  0  0  0  0  0  0]\n",
      " [ 0  0  6  0  0  0  0  2  0  2  0  0  2  0  4  0]\n",
      " [ 0  6  6  0  0  0  0  0  0  2  2  0  0  0  0  0]\n",
      " [ 0  0  0  6  0  2  0  0  2  0  0  0  4  0  2  0]\n",
      " [ 0  0  0  2  0  2  4  0  0  2  2  2  0  0  2  0]\n",
      " [ 0  2  2  0  4  0  0  4  2  0  0  2  0  0  0  0]\n",
      " [ 0  0  2  0  4  0  0  2  2  0  2  2  2  0  0  0]\n",
      " [ 0  0  0  0  0  4  4  0  2  2  2  2  0  0  0  0]\n",
      " [ 0  0  0  0  0  2  0  2  4  0  0  4  0  2  0  2]\n",
      " [ 0  2  0  0  0  2  2  2  0  4  2  0  0  0  0  2]\n",
      " [ 0  0  0  0  2  2  0  0  0  4  4  0  2  2  0  0]\n",
      " [ 0  0  0  2  2  0  2  2  2  0  0  4  0  0  2  0]\n",
      " [ 0  4  0  2  0  2  0  0  2  0  0  0  0  0  6  0]\n",
      " [ 0  0  0  0  0  0  2  2  0  0  0  0  6  2  0  4]\n",
      " [ 0  2  0  4  2  0  0  0  0  0  2  0  0  0  0  6]\n",
      " [ 0  0  0  0  2  0  2  0  0  0  0  0  0 10  0  2]]\n"
     ]
    }
   ],
   "source": [
    "S = [6, 4, 0xC, 5, 0, 7, 2, 0xE, 1, 0xF, 3, 0xD, 8, 0xA, 9, 0xB]\n",
    "S_ = inverse_sbox(S)\n",
    "\n",
    "ddt = difference_distribution_table(S)\n",
    "print(np.matrix(ddt))"
   ]
  },
  {
   "cell_type": "code",
   "execution_count": 17,
   "id": "2ae17a1d-93ec-452c-8ba5-f561aa73c670",
   "metadata": {},
   "outputs": [
    {
     "data": {
      "text/plain": [
       "0.625"
      ]
     },
     "execution_count": 17,
     "metadata": {},
     "output_type": "execute_result"
    }
   ],
   "source": []
  },
  {
   "cell_type": "code",
   "execution_count": 20,
   "id": "abb3ef5a-57eb-4f47-84b5-4921dc2c2a0d",
   "metadata": {},
   "outputs": [
    {
     "name": "stdout",
     "output_type": "stream",
     "text": [
      "0.625\n",
      "0.6211 0.625\n"
     ]
    }
   ],
   "source": [
    "k0 = getrandbits(4)\n",
    "k1 = getrandbits(4)\n",
    "\n",
    "# Let's spawn some messages and see if the characteristic holds\n",
    "N = 10000  # number of tries\n",
    "t = 0  # number of hits\n",
    "delta_in = 0xF  # input difference\n",
    "delta_out = 0xD  # output difference\n",
    "print(ddt[0xF][0xD] / 16)\n",
    "\n",
    "for _ in range(N):\n",
    "    m = getrandbits(4)\n",
    "    m_ = m ^ delta_in\n",
    "    c = cipher_one(m, k0, k1, S)\n",
    "    c_ = cipher_one(m_, k0, k1, S)\n",
    "    if c ^ c_ == delta_out:\n",
    "        t += 1\n",
    "\n",
    "print(t / N, 10 / 16)"
   ]
  },
  {
   "cell_type": "markdown",
   "id": "5c0f43ca-467d-417d-b44f-0605ebbf9fbd",
   "metadata": {},
   "source": [
    "## Adding more Sboxes"
   ]
  },
  {
   "cell_type": "markdown",
   "id": "9afa19b9-0990-4a42-a233-735317d93e35",
   "metadata": {},
   "source": [
    "The probabilities multiply over the Sboxes. You can think of it as a Markov chain\n",
    "\n",
    "Let $\\Delta c_i$ be differential characteristic on the round $i$ where $\\Delta c_0 = \\Delta in$. Let $\\Delta Y_i$ be a specific value of $\\Delta c_i$. Then the probability is:\n",
    "$$ Pr[\\Delta c_i = \\Delta Y_i, ..., \\Delta c_1 = \\Delta Y_1 \\ |\\  \\Delta c_0 = \\Delta in]$$\n",
    "\n",
    "[**Markov chain property**](https://en.wikipedia.org/wiki/Markov_chain)\n",
    "$$P(X_n=i_n \\ ∣\\ X_{n−1} =i_{n−1})=P(X_n=i_n \\ ∣ \\ X_0=i_0,X_1=i_1,…,X_{n−1}=i_{n−1})$$ where $X_i$ are random variables and $i_i$ are values\n",
    "\n",
    "Therefore the probability of a chain to happen is the product of the probabilities of all the one round characteristics involved\n",
    "$$ Pr[\\Delta c_i = \\Delta Y_i, ..., \\Delta c_1 = \\Delta Y_1 \\ |\\  \\Delta c_0 = \\Delta in] = \\underbrace{\\prod_{i=1}^{s}}_{\\text{for each sbox}} \\underbrace{Pr[\\Delta c_1 = \\Delta Y_i \\ | \\ \\Delta c_0 = \\Delta in]}_{\\text{Probability of $\\Delta Y$ to happen}}$$\n",
    "\n",
    "**Note**\n",
    "- In a cipher with many rounds there might be multiple ways to get from a configuration to another one (many paths). We must take all into account when computing the probability"
   ]
  },
  {
   "attachments": {
    "43e92cdb-1217-4875-9745-588cf0474aff.png": {
     "image/png": "[encoded data removed]"
    }
   },
   "cell_type": "markdown",
   "id": "64cf962d-4f5f-4e58-ac5e-7d0c4b4b2cc5",
   "metadata": {},
   "source": [
    "Continuing with an example from \"The block cipher companion\"\n",
    "\n",
    "![image.png](attachment:43e92cdb-1217-4875-9745-588cf0474aff.png)"
   ]
  },
  {
   "cell_type": "code",
   "execution_count": 22,
   "id": "840a89e2-6d7c-48ca-88ff-573cf7ce7fef",
   "metadata": {},
   "outputs": [],
   "source": [
    "def cipher_two(m: int, k0: int, k1: int, k2: int, S: list) -> int:\n",
    "    c = S[S[m ^ k0] ^ k1] ^ k2\n",
    "    return c"
   ]
  },
  {
   "cell_type": "code",
   "execution_count": 32,
   "id": "adc32ad7-550e-4844-88db-da5c3b0896dd",
   "metadata": {},
   "outputs": [],
   "source": [
    "S = [6, 4, 0xC, 5, 0, 7, 2, 0xE, 1, 0xF, 3, 0xD, 8, 0xA, 9, 0xB]\n",
    "S_ = inverse_sbox(S)\n",
    "\n",
    "ddt = difference_distribution_table(S)"
   ]
  },
  {
   "cell_type": "code",
   "execution_count": 33,
   "id": "dffa4dc1-5d65-4115-bd8c-9e0b7d154b5f",
   "metadata": {},
   "outputs": [
    {
     "name": "stdout",
     "output_type": "stream",
     "text": [
      "0.25\n"
     ]
    }
   ],
   "source": [
    "# Looking at our ddt table let's take the following path:\n",
    "alpha0 = 0xF\n",
    "alpha1 = 0xD\n",
    "alpha2 = 0xC\n",
    "\n",
    "ddt2 = np.matrix(ddt) @ np.matrix(ddt)\n",
    "p = ddt2[alpha0, alpha2] / 16**2\n",
    "print(p)"
   ]
  },
  {
   "cell_type": "code",
   "execution_count": 34,
   "id": "10b0e40a-5d29-4519-b6e7-b82099f99226",
   "metadata": {},
   "outputs": [
    {
     "name": "stdout",
     "output_type": "stream",
     "text": [
      "0.2507 0.25\n"
     ]
    }
   ],
   "source": [
    "k0 = getrandbits(4)\n",
    "k1 = getrandbits(4)\n",
    "k2 = getrandbits(4)\n",
    "# Let's spawn some messages and see if the characteristic holds\n",
    "N = 50000\n",
    "t = 0\n",
    "delta_in = alpha0  # input difference\n",
    "delta_out = alpha2  # output difference\n",
    "\n",
    "for _ in range(N):\n",
    "    m = getrandbits(4)\n",
    "    m_ = m ^ delta_in\n",
    "    c = cipher_two(m, k0, k1, k2, S)\n",
    "    c_ = cipher_two(m_, k0, k1, k2, S)\n",
    "    if c ^ c_ == delta_out:\n",
    "        t += 1\n",
    "\n",
    "print(t / N, p)"
   ]
  },
  {
   "cell_type": "markdown",
   "id": "576aa89f-eb80-4790-bd20-62e9a60b2b03",
   "metadata": {},
   "source": [
    "## Recovering the key"
   ]
  },
  {
   "attachments": {
    "28f99574-2984-4bb4-827a-1b84af8e4a06.png": {
     "image/png": "[encoded data removed]"
    }
   },
   "cell_type": "markdown",
   "id": "aafffd12-5e93-441d-a40f-90095797473f",
   "metadata": {},
   "source": [
    "Recovering the key is a guessing process\n",
    "\n",
    "1. Find a good characteristic with a probability $p \\gg \\dfrac 1 {2^{\\text{block size}}}$\n",
    "2. Query around $\\dfrac 1 p$ chosen pairs $(m, m') \\to (c, c')$\n",
    "3. Decrypt 1 round with every key\n",
    "4. Set a counter for each key. If we get $\\Delta out$ then increment the counter\n",
    "\n",
    "\n",
    "![image.png](attachment:28f99574-2984-4bb4-827a-1b84af8e4a06.png)"
   ]
  },
  {
   "cell_type": "markdown",
   "id": "d574c0c1-05f4-4024-a2e4-e44198b74542",
   "metadata": {},
   "source": [
    "Let's break cipher two"
   ]
  },
  {
   "cell_type": "code",
   "execution_count": 41,
   "id": "568a775d-6395-47be-b17e-14184f834255",
   "metadata": {},
   "outputs": [],
   "source": [
    "S = [6, 4, 0xC, 5, 0, 7, 2, 0xE, 1, 0xF, 3, 0xD, 8, 0xA, 9, 0xB]\n",
    "S_ = inverse_sbox(S)\n",
    "\n",
    "delta_in = 0xF\n",
    "delta_out = 0xD"
   ]
  },
  {
   "cell_type": "code",
   "execution_count": 45,
   "id": "cb314282-96f3-48db-887f-6bdea580262b",
   "metadata": {},
   "outputs": [],
   "source": [
    "def diff_attack(M_list: list, C_list: list, delta_out: list, S_: list, key_bits: int = 4) -> list:\n",
    "    ts = [0] * (2**key_bits) # count for each possible key\n",
    "    for k in range(2**key_bits):\n",
    "        for (m, m_), (c, c_) in zip(M_list, C_list):\n",
    "            if S_[c ^ k] ^ S_[c_ ^ k] == delta_out:\n",
    "                ts[k] += 1\n",
    "    return ts"
   ]
  },
  {
   "cell_type": "code",
   "execution_count": 46,
   "id": "c51dada6-b117-4e5e-8d94-f85f7518c6d1",
   "metadata": {},
   "outputs": [],
   "source": [
    "k0 = getrandbits(4)\n",
    "k1 = getrandbits(4)\n",
    "k2 = getrandbits(4)\n",
    "\n",
    "# Generate message pairs\n",
    "M_list = []  # List of tuples\n",
    "C_list = []  # list of tuples\n",
    "\n",
    "t = 0\n",
    "N = 100000\n",
    "for _ in range(N):\n",
    "    m = getrandbits(4)\n",
    "    m_ = m ^ delta_in\n",
    "    c = cipher_two(m, k0, k1, k2, S)\n",
    "    c_ = cipher_two(m_, k0, k1, k2, S)\n",
    "\n",
    "    M_list.append((m, m_))\n",
    "    C_list.append((c, c_))"
   ]
  },
  {
   "cell_type": "code",
   "execution_count": 47,
   "id": "5e8858e9-ab26-41bd-9675-85adb81de343",
   "metadata": {},
   "outputs": [
    {
     "name": "stdout",
     "output_type": "stream",
     "text": [
      "0 0\n"
     ]
    }
   ],
   "source": [
    "ts = diff_attack(M_list, C_list, 0xD, S_)\n",
    "print(k2, np.argmax(ts))"
   ]
  },
  {
   "attachments": {
    "733c9ebe-96dc-44a9-acfe-9a7e102e77ad.png": {
     "image/png": "[encoded data removed]"
    }
   },
   "cell_type": "markdown",
   "id": "729f2540-e59f-4622-85c7-1ce0c44dbc33",
   "metadata": {},
   "source": [
    "Let's look at the next example:\n",
    "\n",
    "\n",
    "![image.png](attachment:733c9ebe-96dc-44a9-acfe-9a7e102e77ad.png)"
   ]
  },
  {
   "cell_type": "code",
   "execution_count": 48,
   "id": "357527da-1e67-4465-9768-b258015b4f73",
   "metadata": {},
   "outputs": [],
   "source": [
    "def cipher_three(m, k0, k1, k2, k3, S):\n",
    "    c = S[S[S[m ^ k0] ^ k1] ^ k2] ^ k3\n",
    "    return c"
   ]
  },
  {
   "cell_type": "code",
   "execution_count": 49,
   "id": "728827c6-5089-491c-9dea-6bf0673e0349",
   "metadata": {},
   "outputs": [],
   "source": [
    "S = [6, 4, 0xC, 5, 0, 7, 2, 0xE, 1, 0xF, 3, 0xD, 8, 0xA, 9, 0xB]\n",
    "S_ = inverse_sbox(S)\n",
    "\n",
    "ddt = difference_distribution_table(S)\n",
    "\n",
    "p = np.matrix(ddt) @ np.matrix(ddt) / 16**2"
   ]
  },
  {
   "cell_type": "code",
   "execution_count": 50,
   "id": "d832c44b-e934-42b9-9cc2-bd0f3e0ffd99",
   "metadata": {},
   "outputs": [
    {
     "data": {
      "text/plain": [
       "0.28125"
      ]
     },
     "execution_count": 50,
     "metadata": {},
     "output_type": "execute_result"
    }
   ],
   "source": [
    "p[2, 2]  # seems like a good entry"
   ]
  },
  {
   "cell_type": "code",
   "execution_count": 51,
   "id": "981607d2-f94e-448f-a537-42c8c372264d",
   "metadata": {},
   "outputs": [],
   "source": [
    "delta_in = 0xF\n",
    "delta_out = 0xC"
   ]
  },
  {
   "cell_type": "code",
   "execution_count": 54,
   "id": "60adefd4-5092-4f54-bfe4-4b8a020afa56",
   "metadata": {},
   "outputs": [],
   "source": [
    "k0 = getrandbits(4)\n",
    "k1 = getrandbits(4)\n",
    "k2 = getrandbits(4)\n",
    "k3 = getrandbits(4)\n",
    "# Generate message pairs\n",
    "M_list = []  # List of tuples\n",
    "C_list = []  # list of tuples\n",
    "\n",
    "t = 0\n",
    "N = 100000\n",
    "for _ in range(N):\n",
    "    m = getrandbits(4)\n",
    "    m_ = m ^ delta_in\n",
    "    c = cipher_three(m, k0, k1, k2, k3, S)\n",
    "    c_ = cipher_three(m_, k0, k1, k2, k3, S)\n",
    "\n",
    "    M_list.append((m, m_))\n",
    "    C_list.append((c, c_))"
   ]
  },
  {
   "cell_type": "code",
   "execution_count": 55,
   "id": "ae8c642e-8444-4b2e-b167-47417aeee0f3",
   "metadata": {},
   "outputs": [
    {
     "name": "stdout",
     "output_type": "stream",
     "text": [
      "3 3\n"
     ]
    }
   ],
   "source": [
    "ts = diff_attack(M_list, C_list, 0xC, S_)\n",
    "print(k3, np.argmax(ts))"
   ]
  },
  {
   "cell_type": "markdown",
   "id": "cb6a76d0-f787-47dd-987d-8fe99324aab6",
   "metadata": {},
   "source": [
    "## Defense against differential cryptanalysis"
   ]
  },
  {
   "cell_type": "markdown",
   "id": "da0c8122-e392-45c6-81ee-8dd5932ad7b3",
   "metadata": {},
   "source": [
    "**The branch number**\n",
    "> $\\mathcal{B}$ is the minimum number of active S-boxes in 2 consecutive rounds\n",
    "\n",
    "- We want a bigger number $\\mathcal{B} = 1 + \\text{num of sboxes per round}$\n",
    "- The more branches we have the lower the probability of a differential to propagate"
   ]
  },
  {
   "cell_type": "markdown",
   "id": "72ec721f-1fd9-4de4-bbd4-b7503bf9c7ba",
   "metadata": {},
   "source": [
    "# Resources\n",
    "\n",
    "- https://www.iaik.tugraz.at/course/cryptanalysis-705068-sommersemester-2021/\n",
    "- Block cipher companion\n",
    "- http://www.cs.bc.edu/~straubin/crypto2017/heys.pdf\n",
    "- https://www.youtube.com/watch?v=ONhPfIABxFs&t=1s\n",
    "- https://www.youtube.com/watch?v=Epb5h13S6-Q - FEAL"
   ]
  },
  {
   "cell_type": "code",
   "execution_count": null,
   "id": "589705c3-29a3-4ae8-9b66-4ccf6af0e156",
   "metadata": {},
   "outputs": [],
   "source": []
  }
 ],
 "metadata": {
  "kernelspec": {
   "display_name": "Python 3 (ipykernel)",
   "language": "python",
   "name": "python3"
  },
  "language_info": {
   "codemirror_mode": {
    "name": "ipython",
    "version": 3
   },
   "file_extension": ".py",
   "mimetype": "text/x-python",
   "name": "python",
   "nbconvert_exporter": "python",
   "pygments_lexer": "ipython3",
   "version": "3.10.4"
  }
 },
 "nbformat": 4,
 "nbformat_minor": 5
}
