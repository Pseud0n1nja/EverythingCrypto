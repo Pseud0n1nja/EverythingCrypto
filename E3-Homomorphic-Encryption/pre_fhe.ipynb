{
 "cells": [
  {
   "cell_type": "markdown",
   "id": "37cc73c5-aa60-4646-886a-6eeb11cda5fa",
   "metadata": {},
   "source": [
    "## Prerequisites\n",
    "- Homomorphic encryption pdf\n",
    "- Modular addition"
   ]
  },
  {
   "cell_type": "markdown",
   "id": "d8b7082a-7eb8-4762-8dc1-2f1e4539c35c",
   "metadata": {},
   "source": [
    "# Background\n",
    "\n",
    "Before Gentry's thesis in 2009 there were a few **partially homomorphic** encryption systems\n",
    "\n",
    "A FHE scheme lets you use functions that can be combinations of as many additions and multiplications as you want.\n",
    "\n",
    "Partially HE schemes only let you use addition or multiplication."
   ]
  },
  {
   "cell_type": "markdown",
   "id": "345c52c2-34da-49fa-989a-b1d5750490fc",
   "metadata": {},
   "source": [
    "# Unpadded RSA \n",
    "\n",
    "- Check RSA notebook for background\n",
    "\n",
    "Unpadded RSA is multiplicatively homomorphic.  \n",
    "Let $(n, e)$ be the public key (modulus and encryption exponent) and $E(m) = m^e$ be the encryption function.\n",
    "\n",
    "$$E(m_1) \\cdot E(m_2) = m_1^e m_2^e = (m_1m_2)^e = E(m_1m_2)$$"
   ]
  },
  {
   "cell_type": "code",
   "execution_count": 4,
   "id": "7f4549e4-00a1-4b0e-b7fb-f4ae23a2e92b",
   "metadata": {},
   "outputs": [],
   "source": [
    "from Crypto.Util.number import GCD as gcd\n",
    "from Crypto.Util.number import getPrime, getRandomInteger, inverse"
   ]
  },
  {
   "cell_type": "code",
   "execution_count": 8,
   "id": "fe9cb1c7-76de-4764-bb2b-0fb539aae56d",
   "metadata": {
    "ExecuteTime": {
     "end_time": "2020-08-28T13:49:26.381553Z",
     "start_time": "2020-08-28T13:49:26.377535Z"
    }
   },
   "outputs": [],
   "source": [
    "def create_key_rsa(nbits: int, e=None):\n",
    "    p = getPrime(nbits // 2)\n",
    "    q = getPrime(nbits // 2)\n",
    "\n",
    "    if e is None:\n",
    "        e = 65567\n",
    "\n",
    "    assert gcd(e, (p - 1) * (q - 1)) == 1\n",
    "    N = p * q\n",
    "    return (N, e), (p, q)\n",
    "\n",
    "\n",
    "def encrypt_rsa(m, e, N):\n",
    "    assert m < N\n",
    "    c = pow(m, e, N)\n",
    "    return c\n",
    "\n",
    "\n",
    "def decrypt_rsa(c, p, q, e, N):\n",
    "    # d = inverse(e, (p - 1) * (q - 1))\n",
    "    d = pow(e, -1, (p - 1) * (q - 1))\n",
    "    assert (d * e) % ((p - 1) * (q - 1)) == 1\n",
    "    m = pow(c, d, N)\n",
    "    return m"
   ]
  },
  {
   "cell_type": "code",
   "execution_count": 9,
   "id": "803b1860-15f7-4784-8e1f-8f5f5893c428",
   "metadata": {},
   "outputs": [],
   "source": [
    "(N, e), (p, q) = create_key_rsa(2048)"
   ]
  },
  {
   "cell_type": "code",
   "execution_count": 11,
   "id": "2b01eb3e-2d57-4c36-a9b2-b996ed099e26",
   "metadata": {
    "ExecuteTime": {
     "end_time": "2020-08-28T13:49:27.229964Z",
     "start_time": "2020-08-28T13:49:27.225961Z"
    }
   },
   "outputs": [
    {
     "data": {
      "text/plain": [
       "True"
      ]
     },
     "execution_count": 11,
     "metadata": {},
     "output_type": "execute_result"
    }
   ],
   "source": [
    "m1 = 1000\n",
    "m2 = 2000\n",
    "c1 = encrypt_rsa(m1, e, N)\n",
    "c2 = encrypt_rsa(m2, e, N)\n",
    "\n",
    "decrypt_rsa(c1 * c2, p, q, e, N) == m1 * m2"
   ]
  },
  {
   "cell_type": "code",
   "execution_count": 13,
   "id": "18aed826-efa3-4d91-aabe-4b8d92f66897",
   "metadata": {},
   "outputs": [
    {
     "data": {
      "text/plain": [
       "False"
      ]
     },
     "execution_count": 13,
     "metadata": {},
     "output_type": "execute_result"
    }
   ],
   "source": [
    "# Not aditively\n",
    "decrypt_rsa(c1 + c2, p, q, e, N) == m1 + m2"
   ]
  },
  {
   "cell_type": "markdown",
   "id": "665faf03-eb2f-4d35-8015-10516fecaf67",
   "metadata": {},
   "source": [
    "# Paillier "
   ]
  },
  {
   "cell_type": "markdown",
   "id": "f70fb7e1-3855-4590-afd6-0733e1147a64",
   "metadata": {},
   "source": [
    "**Key generation**\n",
    "1. Choose large primes $p, q$ such that $\\gcd(p\\cdot q, (p-1)(q-1)) = 1$\n",
    "2. Let \n",
    "    - $n = pq$\n",
    "    - $\\lambda = \\text{lcm}(p-1, q-1)$\n",
    "    \n",
    "2. Select random $g \\in \\mathbb{Z}_{n^2}^* = \\{1, 2, ... ,n^2 - 1\\}$ \n",
    "3. ensure $n$ divides $|g|$ by checking if the modular multiplicative inverse $\\mu = (L(g^\\lambda \\bmod n^2))^{-1} \\bmod n$ exists, where $L(x) = \\dfrac {x-1} n$ (division represents the quotient)\n",
    "- *Public (encryption) key:* $(n,g)$\n",
    "- *Private(decryption) key:* $(\\lambda,\\mu)$\n",
    "\n",
    "**Encryption**\n",
    "- Let $m \\in \\mathbb{Z}_n$ be a message\n",
    "- Let $r \\in \\mathbb{Z}_n^*$ be a random number with $\\gcd(r, n) = 1$\n",
    "- Return $c = g^m \\cdot r^n \\bmod n^2$\n",
    "\n",
    "**Decryption**\n",
    "- $m = L(c^\\lambda \\bmod n^2) \\cdot \\mu \\bmod n$"
   ]
  },
  {
   "cell_type": "markdown",
   "id": "7c5213ab-fa35-4df0-a121-aebc8ec195c5",
   "metadata": {},
   "source": [
    "**Security**  \n",
    "Semantic security is based on the [decitional composite residuosity assumption](https://en.wikipedia.org/wiki/Decisional_composite_residuosity_assumption). Given a composite $n$ and an integer $z$ it is hard to decide whether $z$ is an $n$ residue modulo $n^2$. I.e find $y$ s.t.\n",
    "$$z \\equiv y^n \\bmod n^2$$"
   ]
  },
  {
   "cell_type": "markdown",
   "id": "59e5b1da-b656-4b8b-8a11-eafb24653bb2",
   "metadata": {},
   "source": [
    "## Homomorphic properties"
   ]
  },
  {
   "cell_type": "markdown",
   "id": "68e5d673-e4ef-458c-910f-72e478244223",
   "metadata": {},
   "source": [
    "odq)\n",
    "Learning With Error & Ring Learniodq)\n",
    "Learning With Error & Ring LearniLet there be 2 encrypted messages\n",
    "- $c_1 = E(m_1,pk) = g^{m_1} \\cdot r^{n}_1 \\bmod n^2$\n",
    "- $c_2 = E(m_2,pk) = g^{m_2} \\cdot r^{n}_2 \\bmod n^2$"
   ]
  },
  {
   "cell_type": "markdown",
   "id": "dfdf1921-9680-415d-8426-ce3c3550f855",
   "metadata": {},
   "source": [
    "### Addition\n",
    "The *product* of the ciphertext decrypts to the *sum* of the plaintexts\n",
    "$$D(c_1 \\cdot c_2 \\bmod n^2) = m_1 + m_2 \\bmod n$$\n",
    "\n",
    "**Proof**\n",
    "\n",
    "$$\n",
    "\\begin{align*}\n",
    "c_1 \\cdot c_2  &= (g^{m_1} \\cdot r_1^n)(g^{m_2} \\cdot r^n_2) \\bmod n^2 \\\\\n",
    "&= g^{m_1 + m_2} (r_1r_2)^n \\bmod n^2 \\\\\n",
    "&= E(m_1 + m_2, pk) \n",
    "\\end{align*}\n",
    "$$"
   ]
  },
  {
   "cell_type": "markdown",
   "id": "a228fef9-643c-4047-b4de-8c5baf068288",
   "metadata": {},
   "source": [
    "### Multiplication\n",
    "\n",
    "An encrypted plaintext raised to the power of another plaintext will decrypt to the product of the two plaintexts,\n",
    "$$D(c_1^{m_2} \\bmod n^2) = m_1\\ m_2 \\bmod n \\\\ D(c_2^{m_1} \\bmod n^2) = m_1\\ m_2 \\bmod n$$\n",
    "\n",
    "**Proof**\n",
    "\n",
    "$\\begin{equation}\n",
    "\\begin{split}\n",
    "c_1 \\cdot c_2  & = (g^{m_1} \\cdot r^{n}_1)^{m_2} \\bmod n^2 \\\\\n",
    "& = g^{m_1m_2}(r_1^{m_2})^n \\bmod n^2 \\\\\n",
    "& = E(m_1m_2, pk) \n",
    "\\end{split}\n",
    "\\end{equation}$"
   ]
  },
  {
   "cell_type": "markdown",
   "id": "f13b0622-ee6c-4d39-b097-b62e9e349a77",
   "metadata": {},
   "source": [
    "# Code\n",
    "\n",
    "- [Paillier python implementation](https://github.com/data61/python-paillier)"
   ]
  },
  {
   "cell_type": "code",
   "execution_count": 1,
   "id": "d716e9eb-779e-414b-b97e-dd95a6c22a2e",
   "metadata": {},
   "outputs": [],
   "source": [
    "import random\n",
    "\n",
    "from Crypto.Util.number import GCD, bytes_to_long, getPrime, inverse, long_to_bytes"
   ]
  },
  {
   "cell_type": "code",
   "execution_count": 2,
   "id": "9a7de479-af1d-4950-b4a2-603ce829a220",
   "metadata": {},
   "outputs": [],
   "source": [
    "def keygen():\n",
    "    p = getPrime(1024)\n",
    "    q = getPrime(1024)\n",
    "    assert GCD(p * q, (p - 1) * (q - 1)) == 1, \"GCD != 1\"\n",
    "\n",
    "    n = p * q\n",
    "    phi = (p - 1) * (q - 1)\n",
    "    lambdaa = phi\n",
    "    g = n + 1\n",
    "    mu = inverse(phi, n)\n",
    "\n",
    "    return (n, g), (lambdaa, mu)\n",
    "\n",
    "\n",
    "def encrypt(m, n, g):\n",
    "    while True:\n",
    "        r = random.randint(1, n - 1)\n",
    "        if GCD(n, r) == 1:\n",
    "            break\n",
    "    c = (pow(g, m, n**2) * pow(r, n, n**2)) % (n**2)\n",
    "\n",
    "    return c\n",
    "\n",
    "\n",
    "def decrypt(c, n, g, lambdaa, mu):\n",
    "    temp = pow(c, lambdaa, n**2)\n",
    "    temp = (temp - 1) // n\n",
    "    m = (temp * mu) % n\n",
    "\n",
    "    return m"
   ]
  },
  {
   "cell_type": "code",
   "execution_count": 3,
   "id": "5558134a-a936-4df0-be4b-d448c5c9bab6",
   "metadata": {},
   "outputs": [],
   "source": [
    "(n, g), (lambdaa, mu) = keygen()\n",
    "# (n, g), (lambdaa, mu)"
   ]
  },
  {
   "cell_type": "code",
   "execution_count": 4,
   "id": "1aebad0d-b046-4ceb-b978-4f0382c61113",
   "metadata": {},
   "outputs": [
    {
     "name": "stdout",
     "output_type": "stream",
     "text": [
      "b'secret_message'\n"
     ]
    }
   ],
   "source": [
    "# Encryption\n",
    "\n",
    "m = bytes_to_long(b\"secret_message\")\n",
    "c = encrypt(m, n, g)\n",
    "m_decr = decrypt(c, n, g, lambdaa, mu)\n",
    "\n",
    "print(long_to_bytes(m_decr))"
   ]
  },
  {
   "cell_type": "code",
   "execution_count": 5,
   "id": "459528fb-6a62-49cf-a1d3-cf9eefc46204",
   "metadata": {},
   "outputs": [
    {
     "data": {
      "text/plain": [
       "(3000, 3000)"
      ]
     },
     "execution_count": 5,
     "metadata": {},
     "output_type": "execute_result"
    }
   ],
   "source": [
    "# Addition\n",
    "(n, g), (lambdaa, mu) = keygen()\n",
    "\n",
    "m1 = 1000\n",
    "m2 = 2000\n",
    "\n",
    "c1 = encrypt(m1, n, g)\n",
    "c2 = encrypt(m2, n, g)\n",
    "\n",
    "c3 = c1 * c2\n",
    "m3 = decrypt(c3, n, g, lambdaa, mu)\n",
    "\n",
    "m1 + m2, m3"
   ]
  },
  {
   "cell_type": "code",
   "execution_count": 6,
   "id": "46ad2d00-e4fe-42a5-b6b7-b0fa5e92f97d",
   "metadata": {},
   "outputs": [
    {
     "data": {
      "text/plain": [
       "(2000000, 2000000)"
      ]
     },
     "execution_count": 6,
     "metadata": {},
     "output_type": "execute_result"
    }
   ],
   "source": [
    "# Multiplication\n",
    "\n",
    "(n, g), (lambdaa, mu) = keygen()\n",
    "\n",
    "m1 = 1000\n",
    "m2 = 2000\n",
    "\n",
    "c1 = encrypt(m1, n, g)\n",
    "\n",
    "c3 = pow(c1, m2, n**2)\n",
    "m3 = decrypt(c3, n, g, lambdaa, mu)\n",
    "\n",
    "m1 * m2, m3"
   ]
  },
  {
   "cell_type": "markdown",
   "id": "25cd7fe3-4151-424e-8f20-0c624ba1e255",
   "metadata": {},
   "source": [
    "# Resources"
   ]
  },
  {
   "cell_type": "markdown",
   "id": "9de26536-167a-4cc3-bb1d-753a637ff49b",
   "metadata": {},
   "source": [
    "\n",
    "- [Wikipedia entry](https://en.wikipedia.org/wiki/Homomorphic_encryption)\n",
    "- [Openmined paillier blog](https://blog.openmined.org/the-paillier-cryptosystem/)\n",
    "- [Paillier paper](https://www.cs.tau.ac.il/~fiat/crypt07/papers/Pai99pai.pdf )\n"
   ]
  },
  {
   "cell_type": "code",
   "execution_count": null,
   "id": "743dea31-067c-41a8-9e8e-f68bb3a3ee3f",
   "metadata": {},
   "outputs": [],
   "source": []
  }
 ],
 "metadata": {
  "kernelspec": {
   "display_name": "Python 3 (ipykernel)",
   "language": "python",
   "name": "python3"
  },
  "language_info": {
   "codemirror_mode": {
    "name": "ipython",
    "version": 3
   },
   "file_extension": ".py",
   "mimetype": "text/x-python",
   "name": "python",
   "nbconvert_exporter": "python",
   "pygments_lexer": "ipython3",
   "version": "3.10.4"
  }
 },
 "nbformat": 4,
 "nbformat_minor": 5
}
