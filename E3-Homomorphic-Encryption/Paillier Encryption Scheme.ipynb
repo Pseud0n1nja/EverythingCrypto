{
 "cells": [
  {
   "cell_type": "markdown",
   "metadata": {},
   "source": [
    "# Prerequisites\n",
    "- Homomorphic encryption pdf\n",
    "- Modular arithmetic"
   ]
  },
  {
   "cell_type": "markdown",
   "metadata": {},
   "source": [
    "# Theory"
   ]
  },
  {
   "cell_type": "markdown",
   "metadata": {},
   "source": [
    "**Key generation**\n",
    "- Choose large primes $p, q$ s.t $\\gcd(p\\cdot q, (p-1)(q-1)) = 1$\n",
    "- Let \n",
    "    - $n = pq$\n",
    "    - $\\lambda = \\text{lcm}(p-1, q-1)$\n",
    "    \n",
    "- Select random $g \\in \\mathbb{Z}^*_{n^2}$ \n",
    "- ensure $n$ divides $|g|$ by checking if $\\mu = (L(g^\\lambda \\bmod n^2))^{-1} \\bmod n$ exists where $L = \\dfrac {x-1} n$ where division represents the quotient \n",
    "- *Public (encryption) key:* $(n,g)$\n",
    "- *Private(decryption) key:* $(\\lambda,\\mu)$\n",
    "\n",
    "**Encryption**\n",
    "- Let $m \\in \\mathbb{Z}_n$ be a message\n",
    "- Let $r \\in \\mathbb{Z}_n^*$ be a random number with $\\gcd(r, n) = 1$\n",
    "- Return $c = g^m \\cdot r^n \\bmod n^2$\n",
    "\n",
    "**Decryption**\n",
    "- $m = L(c^\\lambda \\bmod n^2) \\cdot \\mu \\bmod n$"
   ]
  },
  {
   "cell_type": "markdown",
   "metadata": {},
   "source": [
    "## Homomorphic properties"
   ]
  },
  {
   "cell_type": "markdown",
   "metadata": {},
   "source": [
    "Let there be 2 encrypted messages\n",
    "- $c_1 = E(m_1,pk) = g^{m_1} \\cdot r^{n}_1 \\bmod n^2$\n",
    "- $c_2 = E(m_2,pk) = g^{m_2} \\cdot r^{n}_2 \\bmod n^2$"
   ]
  },
  {
   "cell_type": "markdown",
   "metadata": {},
   "source": [
    "### Addition\n",
    "> The *product* of the ciphertext decrypts to the *sum* of the plaintexts\n",
    "> $$D(c_1 \\cdot c_2 \\bmod n^2) = m_1 + m_2 \\bmod n$$\n",
    "\n",
    "**Proof**\n",
    "\n",
    "$\\begin{equation}\n",
    "\\begin{split}\n",
    "c_1 \\cdot c_2  & = (g^{m_1} \\cdot r^{n}_1)(g^{m_2} \\cdot r^{n}_2) \\bmod n^2 \\\\\n",
    "& = g^{m_1 + m_2}(r_1r_2)^n \\bmod n^2 \\\\\n",
    "& = E(m_1 + m_2, pk) \n",
    "\\end{split}\n",
    "\\end{equation}$"
   ]
  },
  {
   "cell_type": "markdown",
   "metadata": {},
   "source": [
    "### Multiplication\n",
    "\n",
    "> An encrypted plaintext raised to the power of another plaintext will decrypt to the product of the two plaintexts,\n",
    "> $$D(c_1^{m_2} \\bmod n^2) = m_1\\ m_2 \\bmod n \\\\ D(c_2^{m_1} \\bmod n^2) = m_1\\ m_2 \\bmod n$$\n",
    "\n",
    "**Proof**\n",
    "\n",
    "$\\begin{equation}\n",
    "\\begin{split}\n",
    "c_1 \\cdot c_2  & = (g^{m_1} \\cdot r^{n}_1)^{m_2} \\bmod n^2 \\\\\n",
    "& = g^{m_1m_2}(r_1^{m_2})^n \\bmod n^2 \\\\\n",
    "& = E(m_1m_2, pk) \n",
    "\\end{split}\n",
    "\\end{equation}$"
   ]
  },
  {
   "cell_type": "markdown",
   "metadata": {},
   "source": [
    "# Code"
   ]
  },
  {
   "cell_type": "code",
   "execution_count": 1,
   "metadata": {},
   "outputs": [],
   "source": [
    "import random\n",
    "from Crypto.Util.number import GCD, bytes_to_long, getPrime, inverse, long_to_bytes"
   ]
  },
  {
   "cell_type": "code",
   "execution_count": 2,
   "metadata": {},
   "outputs": [],
   "source": [
    "def keygen():\n",
    "    p = getPrime(1024)\n",
    "    q = getPrime(1024)\n",
    "    assert GCD(p * q, (p - 1) * (q - 1)) == 1, \"GCD != 1\"\n",
    "\n",
    "    n = p * q\n",
    "    phi = (p - 1) * (q - 1)\n",
    "    lambdaa = phi\n",
    "    g = n + 1\n",
    "    mu = inverse(phi, n)\n",
    "\n",
    "    return (n, g), (lambdaa, mu)\n",
    "\n",
    "\n",
    "def encrypt(m, n, g):\n",
    "    while True:\n",
    "        r = random.randint(1, n - 1)\n",
    "        if GCD(n, r) == 1:\n",
    "            break\n",
    "    c = (pow(g, m, n**2) * pow(r, n, n**2)) % (n**2)\n",
    "\n",
    "    return c\n",
    "\n",
    "\n",
    "def decrypt(c, n, g, lambdaa, mu):\n",
    "    temp = pow(c, lambdaa, n**2)\n",
    "    temp = (temp - 1) // n\n",
    "    m = (temp * mu) % n\n",
    "\n",
    "    return m"
   ]
  },
  {
   "cell_type": "code",
   "execution_count": 3,
   "metadata": {},
   "outputs": [],
   "source": [
    "(n, g), (lambdaa, mu) = keygen()\n",
    "# (n, g), (lambdaa, mu)"
   ]
  },
  {
   "cell_type": "code",
   "execution_count": 4,
   "metadata": {},
   "outputs": [
    {
     "name": "stdout",
     "output_type": "stream",
     "text": [
      "b'secret_message'\n"
     ]
    }
   ],
   "source": [
    "# Encryption\n",
    "\n",
    "m = bytes_to_long(b\"secret_message\")\n",
    "c = encrypt(m, n, g)\n",
    "m_decr = decrypt(c, n, g, lambdaa, mu)\n",
    "\n",
    "print(long_to_bytes(m_decr))"
   ]
  },
  {
   "cell_type": "code",
   "execution_count": 5,
   "metadata": {},
   "outputs": [
    {
     "data": {
      "text/plain": [
       "(3000, 3000)"
      ]
     },
     "execution_count": 5,
     "metadata": {},
     "output_type": "execute_result"
    }
   ],
   "source": [
    "# Addition\n",
    "(n, g), (lambdaa, mu) = keygen()\n",
    "\n",
    "m1 = 1000\n",
    "m2 = 2000\n",
    "\n",
    "c1 = encrypt(m1, n, g)\n",
    "c2 = encrypt(m2, n, g)\n",
    "\n",
    "c3 = c1 * c2\n",
    "m3 = decrypt(c3, n, g, lambdaa, mu)\n",
    "\n",
    "m1 + m2, m3"
   ]
  },
  {
   "cell_type": "code",
   "execution_count": 6,
   "metadata": {},
   "outputs": [
    {
     "data": {
      "text/plain": [
       "(2000000, 2000000)"
      ]
     },
     "execution_count": 6,
     "metadata": {},
     "output_type": "execute_result"
    }
   ],
   "source": [
    "# Multiplication\n",
    "\n",
    "(n, g), (lambdaa, mu) = keygen()\n",
    "\n",
    "m1 = 1000\n",
    "m2 = 2000\n",
    "\n",
    "c1 = encrypt(m1, n, g)\n",
    "\n",
    "c3 = pow(c1, m2, n**2)\n",
    "m3 = decrypt(c3, n, g, lambdaa, mu)\n",
    "\n",
    "m1 * m2, m3"
   ]
  },
  {
   "cell_type": "markdown",
   "metadata": {},
   "source": [
    "# Resources"
   ]
  },
  {
   "cell_type": "markdown",
   "metadata": {},
   "source": [
    "- [Wikipedia](https://en.wikipedia.org/wiki/Paillier_cryptosystem)\n",
    "- [Opendmined blog](https://blog.openmined.org/the-paillier-cryptosystem/)\n",
    "- [original paper](https://www.cs.tau.ac.il/~fiat/crypt07/papers/Pai99pai.pdf )\n",
    "- Paillier_cryptosystemhttp://cryptowiki.net/index.php?title=Partially_homomorphic_encryption_schemes"
   ]
  },
  {
   "cell_type": "code",
   "execution_count": null,
   "metadata": {},
   "outputs": [],
   "source": []
  }
 ],
 "metadata": {
  "kernelspec": {
   "display_name": "Python 3 (ipykernel)",
   "language": "python",
   "name": "python3"
  },
  "language_info": {
   "codemirror_mode": {
    "name": "ipython",
    "version": 3
   },
   "file_extension": ".py",
   "mimetype": "text/x-python",
   "name": "python",
   "nbconvert_exporter": "python",
   "pygments_lexer": "ipython3",
   "version": "3.10.4"
  }
 },
 "nbformat": 4,
 "nbformat_minor": 4
}
