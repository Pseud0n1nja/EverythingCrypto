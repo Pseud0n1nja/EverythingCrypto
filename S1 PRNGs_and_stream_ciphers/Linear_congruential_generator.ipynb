{
 "cells": [
  {
   "cell_type": "code",
   "execution_count": 1,
   "metadata": {},
   "outputs": [],
   "source": [
    "from Crypto.Util.number import inverse, getPrime, long_to_bytes, bytes_to_long"
   ]
  },
  {
   "cell_type": "markdown",
   "metadata": {},
   "source": [
    "# Prerequisites"
   ]
  },
  {
   "cell_type": "markdown",
   "metadata": {},
   "source": [
    "- PRG\n",
    "- modular arithmetic"
   ]
  },
  {
   "cell_type": "markdown",
   "metadata": {},
   "source": [
    "# Theory"
   ]
  },
  {
   "cell_type": "markdown",
   "metadata": {},
   "source": [
    "- https://en.wikipedia.org/wiki/Linear_congruential_generator\n",
    "- https://brilliant.org/problems/breaking-linear-congruential-generators/\n",
    "- https://math.stackexchange.com/questions/2724959/how-to-crack-a-linear-congruential-generator-lcg"
   ]
  },
  {
   "cell_type": "markdown",
   "metadata": {},
   "source": [
    "A linear congruential generator (LCG) is an algorithm that yields a sequence of pseudo-randomized numbers calculated with a discontinuous piecewise linear equation.\n",
    "\n",
    "It is defined by the following recurrence relation:\n",
    "- $S_{m+1} = (aS_m + c) \\bmod n$\n",
    "\n",
    "where\n",
    "- $n$ = the modulus\n",
    "- $a$ = the multiplier\n",
    "- $c$ = the increment\n",
    "- $S_0$ = the seed (start value)\n"
   ]
  },
  {
   "cell_type": "markdown",
   "metadata": {},
   "source": [
    "## An attack"
   ]
  },
  {
   "cell_type": "markdown",
   "metadata": {},
   "source": [
    "Let Eve know 3 plaintexts $m_1, m_2, m_3$ for 3 ciphertexts $c_1, c_2, c_3$\n",
    "- first she computes $S_1, S_2, S_3$\n",
    "- Then she has\n",
    "    - $S_2 \\equiv a\\cdot S_1 + c \\bmod n$\n",
    "    - $S_3 \\equiv a\\cdot S_3 + c \\bmod n$\n",
    "- Which is a system of equations => \n",
    "    - $a = (S_2 - S_3) (S_1 - S_2)^{-1} \\bmod n$\n",
    "    - $c = S_2 - S_1 (S_2 - S_3)(S_1 - S_2)^{-1} \\bmod n$\n",
    "- From now on we can compute everything"
   ]
  },
  {
   "cell_type": "code",
   "execution_count": null,
   "metadata": {},
   "outputs": [],
   "source": []
  },
  {
   "cell_type": "markdown",
   "metadata": {},
   "source": [
    "# Code"
   ]
  },
  {
   "cell_type": "code",
   "execution_count": 8,
   "metadata": {},
   "outputs": [],
   "source": [
    "def lcg(modulus, a, c, seed):\n",
    "    \"\"\"Linear congruential generator.\"\"\"\n",
    "    while True:\n",
    "        seed = (a * seed + c) % modulus\n",
    "        yield seed"
   ]
  },
  {
   "cell_type": "code",
   "execution_count": 9,
   "metadata": {},
   "outputs": [
    {
     "name": "stdout",
     "output_type": "stream",
     "text": [
      "110924620051623968447266268873007437161656047175321232942762078096800785291629 78330055002505665395054081034167722403903079478840676381279591427631187922487 7554986015269310430292520786725319659626669517486107306231817531558561772180102176996548849487708798671234713961543501834980727440531691912787827507581477\n"
     ]
    }
   ],
   "source": [
    "n = getPrime(512)\n",
    "a = getPrime(256)\n",
    "c = getPrime(256)\n",
    "s0 = getPrime(256)\n",
    "print(a, c, n)"
   ]
  },
  {
   "cell_type": "code",
   "execution_count": 21,
   "metadata": {},
   "outputs": [
    {
     "name": "stdout",
     "output_type": "stream",
     "text": [
      "\n"
     ]
    }
   ],
   "source": [
    "s_list = []\n",
    "for i, s in enumerate(lcg(n, a, c, s0)):\n",
    "    if i == 100:\n",
    "        break\n",
    "    s_list.append(s)\n",
    "s_list = s_list[-3:]\n",
    "print()"
   ]
  },
  {
   "cell_type": "code",
   "execution_count": 22,
   "metadata": {},
   "outputs": [
    {
     "data": {
      "text/plain": [
       "[7069843410600921750773216882817131747030272542317631706718102992809185998190651209087209896703063661290035343302422897997519948973036744711053617418084672,\n",
       " 6381658174375721988221849622225151332002647602829904206260936732096794761994834683367137126578371140647084566044901718545192610854134126214359859505195708,\n",
       " 1164514516946568060322739436593388053704035783550399779338228888731094291364275001726254939824356384434223109829070637246326191067862562083514228611484436]"
      ]
     },
     "execution_count": 22,
     "metadata": {},
     "output_type": "execute_result"
    }
   ],
   "source": [
    "s_list"
   ]
  },
  {
   "cell_type": "code",
   "execution_count": 23,
   "metadata": {},
   "outputs": [],
   "source": [
    "a_decr = ((s_list[1] - s_list[2]) * inverse((s_list[0] - s_list[1]), n)) % n\n",
    "c_decr = (s_list[1] - s_list[0] * (s_list[1] - s_list[2]) * inverse(s_list[0] - s_list[1], n)) % n"
   ]
  },
  {
   "cell_type": "code",
   "execution_count": 24,
   "metadata": {},
   "outputs": [
    {
     "data": {
      "text/plain": [
       "(110924620051623968447266268873007437161656047175321232942762078096800785291629,\n",
       " 78330055002505665395054081034167722403903079478840676381279591427631187922487)"
      ]
     },
     "execution_count": 24,
     "metadata": {},
     "output_type": "execute_result"
    }
   ],
   "source": [
    "a_decr, c_decr"
   ]
  },
  {
   "cell_type": "code",
   "execution_count": 25,
   "metadata": {},
   "outputs": [
    {
     "data": {
      "text/plain": [
       "(True, True)"
      ]
     },
     "execution_count": 25,
     "metadata": {},
     "output_type": "execute_result"
    }
   ],
   "source": [
    "a_decr == a, c_decr == c"
   ]
  },
  {
   "cell_type": "markdown",
   "metadata": {},
   "source": [
    "# Resources"
   ]
  },
  {
   "cell_type": "markdown",
   "metadata": {},
   "source": [
    "https://www.youtube.com/watch?v=PtEivGPxwAI"
   ]
  },
  {
   "cell_type": "code",
   "execution_count": null,
   "metadata": {},
   "outputs": [],
   "source": []
  }
 ],
 "metadata": {
  "kernelspec": {
   "display_name": "Python 3",
   "language": "python",
   "name": "python3"
  },
  "language_info": {
   "codemirror_mode": {
    "name": "ipython",
    "version": 3
   },
   "file_extension": ".py",
   "mimetype": "text/x-python",
   "name": "python",
   "nbconvert_exporter": "python",
   "pygments_lexer": "ipython3",
   "version": "3.7.3"
  }
 },
 "nbformat": 4,
 "nbformat_minor": 2
}
