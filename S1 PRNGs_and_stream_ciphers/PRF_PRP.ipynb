{
 "cells": [
  {
   "cell_type": "markdown",
   "metadata": {},
   "source": [
    "# Prerequisites"
   ]
  },
  {
   "cell_type": "markdown",
   "metadata": {},
   "source": [
    "- PRG\n",
    "- Stream ciphers intro"
   ]
  },
  {
   "cell_type": "markdown",
   "metadata": {},
   "source": [
    "# Theory"
   ]
  },
  {
   "cell_type": "markdown",
   "metadata": {},
   "source": [
    "## Pseudo-random functions"
   ]
  },
  {
   "cell_type": "markdown",
   "metadata": {},
   "source": [
    "A pseudo-random function (PRF) $F:\\mathcal{K}\\times\\mathcal{X} \\longrightarrow \\mathcal{Y}$ is a deterministic algorithm that has two inputs:\n",
    "- a key $k \\in \\mathcal{K}$\n",
    "- an input data block $x \\in \\mathcal{X}$\n",
    "\n",
    "Its output $y:=F(k,x)$\n",
    "\n",
    "*Idea*: for a randomly chosen key $k$ $F$ must look like a random function from $\\mathcal{X}$  to $\\mathcal{Y}$\n",
    "\n"
   ]
  },
  {
   "cell_type": "markdown",
   "metadata": {},
   "source": [
    "**Security**\n",
    "> A PRF $F$ is secure if it's indistinguishable from a random function (The advantage for all efficient adversaries is negligible)\n",
    "\n",
    "**Weak security**\n",
    "> A PRF $F$ is secure if it's indistinguishable from a random function when the queries are limited(The advantage for all efficient adversaries is negligible)"
   ]
  },
  {
   "cell_type": "markdown",
   "metadata": {},
   "source": [
    "#### When is a secure block cipher a PRF?\n",
    "Let \n",
    "- $(E, D)$ be a block cipher defined over $(\\mathcal{K}, \\mathcal{X}))$\n",
    "- $N = |\\mathcal{X}|$ \n",
    "- $E$ be a PRF over $(\\mathcal{K}, \\mathcal{X}, \\mathcal{X})$\n",
    "\n",
    "> If $N$ is super-poly then $(E, D)$ is secure $\\iff$ $E$ is a secure PRF"
   ]
  },
  {
   "cell_type": "code",
   "execution_count": null,
   "metadata": {},
   "outputs": [],
   "source": []
  }
 ],
 "metadata": {
  "kernelspec": {
   "display_name": "Python 3",
   "language": "python",
   "name": "python3"
  },
  "language_info": {
   "codemirror_mode": {
    "name": "ipython",
    "version": 3
   },
   "file_extension": ".py",
   "mimetype": "text/x-python",
   "name": "python",
   "nbconvert_exporter": "python",
   "pygments_lexer": "ipython3",
   "version": "3.7.7"
  }
 },
 "nbformat": 4,
 "nbformat_minor": 2
}
